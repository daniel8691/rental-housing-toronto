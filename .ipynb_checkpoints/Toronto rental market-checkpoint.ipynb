{
 "cells": [
  {
   "cell_type": "code",
   "execution_count": 1,
   "metadata": {},
   "outputs": [],
   "source": [
    "import pandas as pd\n",
    "import numpy as np\n",
    "import matplotlib.pyplot as plt\n",
    "%matplotlib inline\n",
    "import seaborn as sns"
   ]
  },
  {
   "cell_type": "markdown",
   "metadata": {},
   "source": []
  },
  {
   "cell_type": "code",
   "execution_count": 2,
   "metadata": {},
   "outputs": [],
   "source": [
    "from geopy.geocoders import Nominatim\n",
    "import json\n",
    "import requests\n",
    "from pandas.io.json import json_normalize\n",
    "\n",
    "# import kmeans from clustering stage\n",
    "from sklearn.cluster import KMeans\n",
    "import folium"
   ]
  },
  {
   "cell_type": "code",
   "execution_count": null,
   "metadata": {},
   "outputs": [],
   "source": []
  },
  {
   "cell_type": "code",
   "execution_count": null,
   "metadata": {},
   "outputs": [],
   "source": []
  },
  {
   "cell_type": "code",
   "execution_count": 3,
   "metadata": {},
   "outputs": [],
   "source": [
    "rent_df = pd.read_csv(\"toronto_rent_data.csv\")\n",
    "geo_coords = pd.read_csv(\"Geospatial_Coordinates.csv\")"
   ]
  },
  {
   "cell_type": "code",
   "execution_count": 4,
   "metadata": {},
   "outputs": [],
   "source": [
    "# make a copy of the df for testing codes\n",
    "scraped_df = rent_df"
   ]
  },
  {
   "cell_type": "code",
   "execution_count": 5,
   "metadata": {},
   "outputs": [
    {
     "data": {
      "text/html": [
       "<div>\n",
       "<style scoped>\n",
       "    .dataframe tbody tr th:only-of-type {\n",
       "        vertical-align: middle;\n",
       "    }\n",
       "\n",
       "    .dataframe tbody tr th {\n",
       "        vertical-align: top;\n",
       "    }\n",
       "\n",
       "    .dataframe thead th {\n",
       "        text-align: right;\n",
       "    }\n",
       "</style>\n",
       "<table border=\"1\" class=\"dataframe\">\n",
       "  <thead>\n",
       "    <tr style=\"text-align: right;\">\n",
       "      <th></th>\n",
       "      <th>Rent</th>\n",
       "      <th>Address</th>\n",
       "      <th>Zip</th>\n",
       "      <th>num_bedrooms</th>\n",
       "      <th>num_bathrooms</th>\n",
       "      <th>num_sqft</th>\n",
       "    </tr>\n",
       "  </thead>\n",
       "  <tbody>\n",
       "    <tr>\n",
       "      <th>0</th>\n",
       "      <td>$3,300</td>\n",
       "      <td>85 Wood Street</td>\n",
       "      <td>M4Y</td>\n",
       "      <td>3</td>\n",
       "      <td>2</td>\n",
       "      <td>810</td>\n",
       "    </tr>\n",
       "    <tr>\n",
       "      <th>1</th>\n",
       "      <td>$2,295</td>\n",
       "      <td>300 Balliol Street</td>\n",
       "      <td>M4S</td>\n",
       "      <td>1</td>\n",
       "      <td>1</td>\n",
       "      <td>600</td>\n",
       "    </tr>\n",
       "    <tr>\n",
       "      <th>2</th>\n",
       "      <td>$2,300</td>\n",
       "      <td>8 Fieldway Road</td>\n",
       "      <td>M8Z</td>\n",
       "      <td>1</td>\n",
       "      <td>1</td>\n",
       "      <td>NaN</td>\n",
       "    </tr>\n",
       "    <tr>\n",
       "      <th>3</th>\n",
       "      <td>$1,950</td>\n",
       "      <td>160 Flemington Road</td>\n",
       "      <td>M6A</td>\n",
       "      <td>2</td>\n",
       "      <td>2</td>\n",
       "      <td>630</td>\n",
       "    </tr>\n",
       "    <tr>\n",
       "      <th>4</th>\n",
       "      <td>$2,045</td>\n",
       "      <td>117 Gerrard Street East</td>\n",
       "      <td>M5B</td>\n",
       "      <td>1</td>\n",
       "      <td>1</td>\n",
       "      <td>NaN</td>\n",
       "    </tr>\n",
       "  </tbody>\n",
       "</table>\n",
       "</div>"
      ],
      "text/plain": [
       "     Rent                  Address  Zip num_bedrooms num_bathrooms num_sqft\n",
       "0  $3,300           85 Wood Street  M4Y            3             2      810\n",
       "1  $2,295       300 Balliol Street  M4S            1             1      600\n",
       "2  $2,300          8 Fieldway Road  M8Z            1             1      NaN\n",
       "3  $1,950      160 Flemington Road  M6A            2             2      630\n",
       "4  $2,045  117 Gerrard Street East  M5B            1             1      NaN"
      ]
     },
     "execution_count": 5,
     "metadata": {},
     "output_type": "execute_result"
    }
   ],
   "source": [
    "rent_df.head()"
   ]
  },
  {
   "cell_type": "code",
   "execution_count": 6,
   "metadata": {},
   "outputs": [
    {
     "data": {
      "text/html": [
       "<div>\n",
       "<style scoped>\n",
       "    .dataframe tbody tr th:only-of-type {\n",
       "        vertical-align: middle;\n",
       "    }\n",
       "\n",
       "    .dataframe tbody tr th {\n",
       "        vertical-align: top;\n",
       "    }\n",
       "\n",
       "    .dataframe thead th {\n",
       "        text-align: right;\n",
       "    }\n",
       "</style>\n",
       "<table border=\"1\" class=\"dataframe\">\n",
       "  <thead>\n",
       "    <tr style=\"text-align: right;\">\n",
       "      <th></th>\n",
       "      <th>Postal Code</th>\n",
       "      <th>Latitude</th>\n",
       "      <th>Longitude</th>\n",
       "    </tr>\n",
       "  </thead>\n",
       "  <tbody>\n",
       "    <tr>\n",
       "      <th>0</th>\n",
       "      <td>M1B</td>\n",
       "      <td>43.806686</td>\n",
       "      <td>-79.194353</td>\n",
       "    </tr>\n",
       "    <tr>\n",
       "      <th>1</th>\n",
       "      <td>M1C</td>\n",
       "      <td>43.784535</td>\n",
       "      <td>-79.160497</td>\n",
       "    </tr>\n",
       "    <tr>\n",
       "      <th>2</th>\n",
       "      <td>M1E</td>\n",
       "      <td>43.763573</td>\n",
       "      <td>-79.188711</td>\n",
       "    </tr>\n",
       "    <tr>\n",
       "      <th>3</th>\n",
       "      <td>M1G</td>\n",
       "      <td>43.770992</td>\n",
       "      <td>-79.216917</td>\n",
       "    </tr>\n",
       "    <tr>\n",
       "      <th>4</th>\n",
       "      <td>M1H</td>\n",
       "      <td>43.773136</td>\n",
       "      <td>-79.239476</td>\n",
       "    </tr>\n",
       "  </tbody>\n",
       "</table>\n",
       "</div>"
      ],
      "text/plain": [
       "  Postal Code   Latitude  Longitude\n",
       "0         M1B  43.806686 -79.194353\n",
       "1         M1C  43.784535 -79.160497\n",
       "2         M1E  43.763573 -79.188711\n",
       "3         M1G  43.770992 -79.216917\n",
       "4         M1H  43.773136 -79.239476"
      ]
     },
     "execution_count": 6,
     "metadata": {},
     "output_type": "execute_result"
    }
   ],
   "source": [
    "geo_coords.head()"
   ]
  },
  {
   "cell_type": "code",
   "execution_count": 7,
   "metadata": {},
   "outputs": [
    {
     "data": {
      "text/plain": [
       "Rent               0\n",
       "Address            0\n",
       "Zip                5\n",
       "num_bedrooms       0\n",
       "num_bathrooms      0\n",
       "num_sqft         945\n",
       "dtype: int64"
      ]
     },
     "execution_count": 7,
     "metadata": {},
     "output_type": "execute_result"
    }
   ],
   "source": [
    "# check for null values \n",
    "rent_df.isnull().sum()\n",
    "# missing 5 zip codes and 945 sqft of units"
   ]
  },
  {
   "cell_type": "code",
   "execution_count": 8,
   "metadata": {},
   "outputs": [
    {
     "name": "stdout",
     "output_type": "stream",
     "text": [
      "<class 'pandas.core.frame.DataFrame'>\n",
      "RangeIndex: 2450 entries, 0 to 2449\n",
      "Data columns (total 6 columns):\n",
      " #   Column         Non-Null Count  Dtype \n",
      "---  ------         --------------  ----- \n",
      " 0   Rent           2450 non-null   object\n",
      " 1   Address        2450 non-null   object\n",
      " 2   Zip            2445 non-null   object\n",
      " 3   num_bedrooms   2450 non-null   object\n",
      " 4   num_bathrooms  2450 non-null   object\n",
      " 5   num_sqft       1505 non-null   object\n",
      "dtypes: object(6)\n",
      "memory usage: 115.0+ KB\n"
     ]
    }
   ],
   "source": [
    "# check data type for each features\n",
    "rent_df.info()"
   ]
  },
  {
   "cell_type": "markdown",
   "metadata": {},
   "source": [
    "### Convert Datatypes (Data Cleaning)"
   ]
  },
  {
   "cell_type": "code",
   "execution_count": 9,
   "metadata": {},
   "outputs": [
    {
     "data": {
      "text/plain": [
       "'3300'"
      ]
     },
     "execution_count": 9,
     "metadata": {},
     "output_type": "execute_result"
    }
   ],
   "source": [
    "scraped_df['Rent'][0].replace(\"$\",\"\").replace(\",\",\"\")\n",
    "# scraped_df['Rent'][0].replace(\",\",\"\")"
   ]
  },
  {
   "cell_type": "code",
   "execution_count": 10,
   "metadata": {},
   "outputs": [],
   "source": [
    "# delete the dollar sign and comma before turning to float\n",
    "for i in range(len(rent_df['Rent'])):\n",
    "    rent_df[\"Rent\"][i] = rent_df[\"Rent\"][i].replace(\"$\", \"\").replace(\",\", \"\")\n"
   ]
  },
  {
   "cell_type": "code",
   "execution_count": 11,
   "metadata": {},
   "outputs": [
    {
     "data": {
      "text/html": [
       "<div>\n",
       "<style scoped>\n",
       "    .dataframe tbody tr th:only-of-type {\n",
       "        vertical-align: middle;\n",
       "    }\n",
       "\n",
       "    .dataframe tbody tr th {\n",
       "        vertical-align: top;\n",
       "    }\n",
       "\n",
       "    .dataframe thead th {\n",
       "        text-align: right;\n",
       "    }\n",
       "</style>\n",
       "<table border=\"1\" class=\"dataframe\">\n",
       "  <thead>\n",
       "    <tr style=\"text-align: right;\">\n",
       "      <th></th>\n",
       "      <th>Rent</th>\n",
       "      <th>Address</th>\n",
       "      <th>Zip</th>\n",
       "      <th>num_bedrooms</th>\n",
       "      <th>num_bathrooms</th>\n",
       "      <th>num_sqft</th>\n",
       "    </tr>\n",
       "  </thead>\n",
       "  <tbody>\n",
       "    <tr>\n",
       "      <th>0</th>\n",
       "      <td>3300</td>\n",
       "      <td>85 Wood Street</td>\n",
       "      <td>M4Y</td>\n",
       "      <td>3</td>\n",
       "      <td>2</td>\n",
       "      <td>810</td>\n",
       "    </tr>\n",
       "    <tr>\n",
       "      <th>1</th>\n",
       "      <td>2295</td>\n",
       "      <td>300 Balliol Street</td>\n",
       "      <td>M4S</td>\n",
       "      <td>1</td>\n",
       "      <td>1</td>\n",
       "      <td>600</td>\n",
       "    </tr>\n",
       "    <tr>\n",
       "      <th>2</th>\n",
       "      <td>2300</td>\n",
       "      <td>8 Fieldway Road</td>\n",
       "      <td>M8Z</td>\n",
       "      <td>1</td>\n",
       "      <td>1</td>\n",
       "      <td>NaN</td>\n",
       "    </tr>\n",
       "    <tr>\n",
       "      <th>3</th>\n",
       "      <td>1950</td>\n",
       "      <td>160 Flemington Road</td>\n",
       "      <td>M6A</td>\n",
       "      <td>2</td>\n",
       "      <td>2</td>\n",
       "      <td>630</td>\n",
       "    </tr>\n",
       "    <tr>\n",
       "      <th>4</th>\n",
       "      <td>2045</td>\n",
       "      <td>117 Gerrard Street East</td>\n",
       "      <td>M5B</td>\n",
       "      <td>1</td>\n",
       "      <td>1</td>\n",
       "      <td>NaN</td>\n",
       "    </tr>\n",
       "  </tbody>\n",
       "</table>\n",
       "</div>"
      ],
      "text/plain": [
       "   Rent                  Address  Zip num_bedrooms num_bathrooms num_sqft\n",
       "0  3300           85 Wood Street  M4Y            3             2      810\n",
       "1  2295       300 Balliol Street  M4S            1             1      600\n",
       "2  2300          8 Fieldway Road  M8Z            1             1      NaN\n",
       "3  1950      160 Flemington Road  M6A            2             2      630\n",
       "4  2045  117 Gerrard Street East  M5B            1             1      NaN"
      ]
     },
     "execution_count": 11,
     "metadata": {},
     "output_type": "execute_result"
    }
   ],
   "source": [
    "rent_df.head()"
   ]
  },
  {
   "cell_type": "code",
   "execution_count": 12,
   "metadata": {},
   "outputs": [
    {
     "data": {
      "text/plain": [
       "Rent                       3300\n",
       "Address          85 Wood Street\n",
       "Zip                         M4Y\n",
       "num_bedrooms                  3\n",
       "num_bathrooms                 2\n",
       "num_sqft                    810\n",
       "Name: 0, dtype: object"
      ]
     },
     "execution_count": 12,
     "metadata": {},
     "output_type": "execute_result"
    }
   ],
   "source": [
    "rent_df.iloc[0,:]"
   ]
  },
  {
   "cell_type": "code",
   "execution_count": 13,
   "metadata": {},
   "outputs": [],
   "source": [
    "# create empty dataframe to store ranged data\n",
    "empty_ranged_df = pd.DataFrame(columns = rent_df.columns)\n",
    "\n",
    "# append all values in the dataset that have the \"-\" in cells\n",
    "for features in rent_df.columns:\n",
    "#     print(features)\n",
    "    empty_ranged_df = pd.concat([empty_ranged_df, (rent_df[rent_df[features].astype(str).str.contains(\"-\")])])"
   ]
  },
  {
   "cell_type": "code",
   "execution_count": 14,
   "metadata": {},
   "outputs": [],
   "source": [
    "# dislay all data\n",
    "# pd.set_option(\"display.max_rows\",None)"
   ]
  },
  {
   "cell_type": "code",
   "execution_count": 15,
   "metadata": {},
   "outputs": [
    {
     "data": {
      "text/html": [
       "<div>\n",
       "<style scoped>\n",
       "    .dataframe tbody tr th:only-of-type {\n",
       "        vertical-align: middle;\n",
       "    }\n",
       "\n",
       "    .dataframe tbody tr th {\n",
       "        vertical-align: top;\n",
       "    }\n",
       "\n",
       "    .dataframe thead th {\n",
       "        text-align: right;\n",
       "    }\n",
       "</style>\n",
       "<table border=\"1\" class=\"dataframe\">\n",
       "  <thead>\n",
       "    <tr style=\"text-align: right;\">\n",
       "      <th></th>\n",
       "      <th>Rent</th>\n",
       "      <th>Address</th>\n",
       "      <th>Zip</th>\n",
       "      <th>num_bedrooms</th>\n",
       "      <th>num_bathrooms</th>\n",
       "      <th>num_sqft</th>\n",
       "    </tr>\n",
       "  </thead>\n",
       "  <tbody>\n",
       "    <tr>\n",
       "      <th>191</th>\n",
       "      <td>1750 - 2000</td>\n",
       "      <td>7895 Jane Street</td>\n",
       "      <td>L4K</td>\n",
       "      <td>1 - 2</td>\n",
       "      <td>1 - 2</td>\n",
       "      <td>500-800</td>\n",
       "    </tr>\n",
       "    <tr>\n",
       "      <th>438</th>\n",
       "      <td>2200 - 2300</td>\n",
       "      <td>77 Shuter Street</td>\n",
       "      <td>M5B</td>\n",
       "      <td>1</td>\n",
       "      <td>1 ½</td>\n",
       "      <td>550-650</td>\n",
       "    </tr>\n",
       "    <tr>\n",
       "      <th>476</th>\n",
       "      <td>1750 - 2050</td>\n",
       "      <td>38 Cameron Street</td>\n",
       "      <td>M5T</td>\n",
       "      <td>1</td>\n",
       "      <td>1 - 1 ½</td>\n",
       "      <td>521-654</td>\n",
       "    </tr>\n",
       "    <tr>\n",
       "      <th>480</th>\n",
       "      <td>1895 - 3875</td>\n",
       "      <td>1 Edgewater Drive</td>\n",
       "      <td>M5A</td>\n",
       "      <td>1 - 2</td>\n",
       "      <td>1 - 2 ½</td>\n",
       "      <td>466-1119</td>\n",
       "    </tr>\n",
       "    <tr>\n",
       "      <th>563</th>\n",
       "      <td>1950 - 2850</td>\n",
       "      <td>16 Yonge Street</td>\n",
       "      <td>M5E</td>\n",
       "      <td>1 - 2</td>\n",
       "      <td>1 - 2</td>\n",
       "      <td>478-815</td>\n",
       "    </tr>\n",
       "    <tr>\n",
       "      <th>...</th>\n",
       "      <td>...</td>\n",
       "      <td>...</td>\n",
       "      <td>...</td>\n",
       "      <td>...</td>\n",
       "      <td>...</td>\n",
       "      <td>...</td>\n",
       "    </tr>\n",
       "    <tr>\n",
       "      <th>1535</th>\n",
       "      <td>1680 - 2000</td>\n",
       "      <td>1030 King Street West</td>\n",
       "      <td>M6K</td>\n",
       "      <td>0 - 1</td>\n",
       "      <td>1</td>\n",
       "      <td>370-450</td>\n",
       "    </tr>\n",
       "    <tr>\n",
       "      <th>1704</th>\n",
       "      <td>1700 - 4200</td>\n",
       "      <td>50 John Street</td>\n",
       "      <td>M5V</td>\n",
       "      <td>0 - 2</td>\n",
       "      <td>1 - 2</td>\n",
       "      <td>365-1230</td>\n",
       "    </tr>\n",
       "    <tr>\n",
       "      <th>2167</th>\n",
       "      <td>1850 - 2250</td>\n",
       "      <td>60 Ann OReilly Road</td>\n",
       "      <td>M2J</td>\n",
       "      <td>1 - 2</td>\n",
       "      <td>1 - 2</td>\n",
       "      <td>580-828</td>\n",
       "    </tr>\n",
       "    <tr>\n",
       "      <th>2372</th>\n",
       "      <td>1850 - 2400</td>\n",
       "      <td>7 Mabelle Avenue</td>\n",
       "      <td>M9A</td>\n",
       "      <td>1 - 2</td>\n",
       "      <td>1 - 2</td>\n",
       "      <td>488-779</td>\n",
       "    </tr>\n",
       "    <tr>\n",
       "      <th>2398</th>\n",
       "      <td>2000 - 2050</td>\n",
       "      <td>15 Viking Lane</td>\n",
       "      <td>M9B</td>\n",
       "      <td>1</td>\n",
       "      <td>1</td>\n",
       "      <td>580-641</td>\n",
       "    </tr>\n",
       "  </tbody>\n",
       "</table>\n",
       "<p>106 rows × 6 columns</p>\n",
       "</div>"
      ],
      "text/plain": [
       "             Rent                Address  Zip num_bedrooms num_bathrooms  \\\n",
       "191   1750 - 2000       7895 Jane Street  L4K        1 - 2         1 - 2   \n",
       "438   2200 - 2300       77 Shuter Street  M5B            1           1 ½   \n",
       "476   1750 - 2050      38 Cameron Street  M5T            1       1 - 1 ½   \n",
       "480   1895 - 3875      1 Edgewater Drive  M5A        1 - 2       1 - 2 ½   \n",
       "563   1950 - 2850        16 Yonge Street  M5E        1 - 2         1 - 2   \n",
       "...           ...                    ...  ...          ...           ...   \n",
       "1535  1680 - 2000  1030 King Street West  M6K        0 - 1             1   \n",
       "1704  1700 - 4200         50 John Street  M5V        0 - 2         1 - 2   \n",
       "2167  1850 - 2250    60 Ann OReilly Road  M2J        1 - 2         1 - 2   \n",
       "2372  1850 - 2400       7 Mabelle Avenue  M9A        1 - 2         1 - 2   \n",
       "2398  2000 - 2050         15 Viking Lane  M9B            1             1   \n",
       "\n",
       "      num_sqft  \n",
       "191    500-800  \n",
       "438    550-650  \n",
       "476    521-654  \n",
       "480   466-1119  \n",
       "563    478-815  \n",
       "...        ...  \n",
       "1535   370-450  \n",
       "1704  365-1230  \n",
       "2167   580-828  \n",
       "2372   488-779  \n",
       "2398   580-641  \n",
       "\n",
       "[106 rows x 6 columns]"
      ]
     },
     "execution_count": 15,
     "metadata": {},
     "output_type": "execute_result"
    }
   ],
   "source": [
    "empty_ranged_df"
   ]
  },
  {
   "cell_type": "code",
   "execution_count": 16,
   "metadata": {},
   "outputs": [
    {
     "data": {
      "text/plain": [
       "(106, 6)"
      ]
     },
     "execution_count": 16,
     "metadata": {},
     "output_type": "execute_result"
    }
   ],
   "source": [
    "empty_ranged_df.shape"
   ]
  },
  {
   "cell_type": "code",
   "execution_count": 17,
   "metadata": {},
   "outputs": [
    {
     "data": {
      "text/plain": [
       "Int64Index([ 191,  438,  476,  480,  563,  566,  589,  608,  732,  773,\n",
       "            ...\n",
       "            1105, 1138, 1196, 1418, 1480, 1535, 1704, 2167, 2372, 2398],\n",
       "           dtype='int64', length=106)"
      ]
     },
     "execution_count": 17,
     "metadata": {},
     "output_type": "execute_result"
    }
   ],
   "source": [
    "empty_ranged_df.index"
   ]
  },
  {
   "cell_type": "code",
   "execution_count": 18,
   "metadata": {},
   "outputs": [
    {
     "data": {
      "text/plain": [
       "Int64Index([ 191,  438,  476,  480,  563,  566,  589,  608,  732,  773,  825,\n",
       "             830,  836,  890,  962, 1041, 1043, 1071, 1090, 1105, 1138, 1196,\n",
       "            1418, 1480, 1535, 1635, 1642, 1704, 2167, 2321, 2365, 2372, 2398,\n",
       "             186, 1045,  692],\n",
       "           dtype='int64')"
      ]
     },
     "execution_count": 18,
     "metadata": {},
     "output_type": "execute_result"
    }
   ],
   "source": [
    "# delete duplicate indexes\n",
    "empty_ranged_df.index.drop_duplicates(keep='first')"
   ]
  },
  {
   "cell_type": "code",
   "execution_count": 19,
   "metadata": {},
   "outputs": [],
   "source": [
    "empty_ranged_df = empty_ranged_df.loc[~empty_ranged_df.index.duplicated(keep=\"first\")]"
   ]
  },
  {
   "cell_type": "code",
   "execution_count": 20,
   "metadata": {},
   "outputs": [
    {
     "data": {
      "text/plain": [
       "(36, 6)"
      ]
     },
     "execution_count": 20,
     "metadata": {},
     "output_type": "execute_result"
    }
   ],
   "source": [
    "# check if changes are made\n",
    "empty_ranged_df.shape"
   ]
  },
  {
   "cell_type": "code",
   "execution_count": 21,
   "metadata": {},
   "outputs": [
    {
     "data": {
      "text/html": [
       "<div>\n",
       "<style scoped>\n",
       "    .dataframe tbody tr th:only-of-type {\n",
       "        vertical-align: middle;\n",
       "    }\n",
       "\n",
       "    .dataframe tbody tr th {\n",
       "        vertical-align: top;\n",
       "    }\n",
       "\n",
       "    .dataframe thead th {\n",
       "        text-align: right;\n",
       "    }\n",
       "</style>\n",
       "<table border=\"1\" class=\"dataframe\">\n",
       "  <thead>\n",
       "    <tr style=\"text-align: right;\">\n",
       "      <th></th>\n",
       "      <th>Rent</th>\n",
       "      <th>Address</th>\n",
       "      <th>Zip</th>\n",
       "      <th>num_bedrooms</th>\n",
       "      <th>num_bathrooms</th>\n",
       "      <th>num_sqft</th>\n",
       "    </tr>\n",
       "  </thead>\n",
       "  <tbody>\n",
       "    <tr>\n",
       "      <th>191</th>\n",
       "      <td>1750 - 2000</td>\n",
       "      <td>7895 Jane Street</td>\n",
       "      <td>L4K</td>\n",
       "      <td>1 - 2</td>\n",
       "      <td>1 - 2</td>\n",
       "      <td>500-800</td>\n",
       "    </tr>\n",
       "    <tr>\n",
       "      <th>438</th>\n",
       "      <td>2200 - 2300</td>\n",
       "      <td>77 Shuter Street</td>\n",
       "      <td>M5B</td>\n",
       "      <td>1</td>\n",
       "      <td>1 ½</td>\n",
       "      <td>550-650</td>\n",
       "    </tr>\n",
       "    <tr>\n",
       "      <th>476</th>\n",
       "      <td>1750 - 2050</td>\n",
       "      <td>38 Cameron Street</td>\n",
       "      <td>M5T</td>\n",
       "      <td>1</td>\n",
       "      <td>1 - 1 ½</td>\n",
       "      <td>521-654</td>\n",
       "    </tr>\n",
       "    <tr>\n",
       "      <th>480</th>\n",
       "      <td>1895 - 3875</td>\n",
       "      <td>1 Edgewater Drive</td>\n",
       "      <td>M5A</td>\n",
       "      <td>1 - 2</td>\n",
       "      <td>1 - 2 ½</td>\n",
       "      <td>466-1119</td>\n",
       "    </tr>\n",
       "    <tr>\n",
       "      <th>563</th>\n",
       "      <td>1950 - 2850</td>\n",
       "      <td>16 Yonge Street</td>\n",
       "      <td>M5E</td>\n",
       "      <td>1 - 2</td>\n",
       "      <td>1 - 2</td>\n",
       "      <td>478-815</td>\n",
       "    </tr>\n",
       "  </tbody>\n",
       "</table>\n",
       "</div>"
      ],
      "text/plain": [
       "            Rent            Address  Zip num_bedrooms num_bathrooms  num_sqft\n",
       "191  1750 - 2000   7895 Jane Street  L4K        1 - 2         1 - 2   500-800\n",
       "438  2200 - 2300   77 Shuter Street  M5B            1           1 ½   550-650\n",
       "476  1750 - 2050  38 Cameron Street  M5T            1       1 - 1 ½   521-654\n",
       "480  1895 - 3875  1 Edgewater Drive  M5A        1 - 2       1 - 2 ½  466-1119\n",
       "563  1950 - 2850    16 Yonge Street  M5E        1 - 2         1 - 2   478-815"
      ]
     },
     "execution_count": 21,
     "metadata": {},
     "output_type": "execute_result"
    }
   ],
   "source": [
    "empty_ranged_df.head()"
   ]
  },
  {
   "cell_type": "code",
   "execution_count": 22,
   "metadata": {},
   "outputs": [],
   "source": [
    "# select only data that don't contain range of values\n",
    "rent_norange_df = rent_df[rent_df.index.isin(empty_ranged_df.index) == False]"
   ]
  },
  {
   "cell_type": "code",
   "execution_count": 23,
   "metadata": {},
   "outputs": [
    {
     "data": {
      "text/plain": [
       "(2414, 6)"
      ]
     },
     "execution_count": 23,
     "metadata": {},
     "output_type": "execute_result"
    }
   ],
   "source": [
    "# rent_norange_df should have 2414 rows because 2450 - 36 = 2414\n",
    "rent_norange_df.shape"
   ]
  },
  {
   "cell_type": "code",
   "execution_count": 24,
   "metadata": {},
   "outputs": [
    {
     "data": {
      "text/plain": [
       "(2450, 6)"
      ]
     },
     "execution_count": 24,
     "metadata": {},
     "output_type": "execute_result"
    }
   ],
   "source": [
    "rent_df.shape"
   ]
  },
  {
   "cell_type": "code",
   "execution_count": 25,
   "metadata": {},
   "outputs": [
    {
     "data": {
      "text/plain": [
       "array(['2', '1', '1 ½', '3', '0 ½', '0', '2 ½'], dtype=object)"
      ]
     },
     "execution_count": 25,
     "metadata": {},
     "output_type": "execute_result"
    }
   ],
   "source": [
    "rent_norange_df['num_bedrooms'].unique()\n",
    "rent_norange_df['num_bathrooms'].unique()\n"
   ]
  },
  {
   "cell_type": "code",
   "execution_count": 26,
   "metadata": {},
   "outputs": [
    {
     "data": {
      "text/plain": [
       "'2'"
      ]
     },
     "execution_count": 26,
     "metadata": {},
     "output_type": "execute_result"
    }
   ],
   "source": [
    "rent_norange_df['num_bathrooms'][0].replace(\"½\",\".5\").replace(\" \",\"\")"
   ]
  },
  {
   "cell_type": "code",
   "execution_count": 27,
   "metadata": {},
   "outputs": [
    {
     "data": {
      "text/html": [
       "<div>\n",
       "<style scoped>\n",
       "    .dataframe tbody tr th:only-of-type {\n",
       "        vertical-align: middle;\n",
       "    }\n",
       "\n",
       "    .dataframe tbody tr th {\n",
       "        vertical-align: top;\n",
       "    }\n",
       "\n",
       "    .dataframe thead th {\n",
       "        text-align: right;\n",
       "    }\n",
       "</style>\n",
       "<table border=\"1\" class=\"dataframe\">\n",
       "  <thead>\n",
       "    <tr style=\"text-align: right;\">\n",
       "      <th></th>\n",
       "      <th>Rent</th>\n",
       "      <th>Address</th>\n",
       "      <th>Zip</th>\n",
       "      <th>num_bedrooms</th>\n",
       "      <th>num_bathrooms</th>\n",
       "      <th>num_sqft</th>\n",
       "    </tr>\n",
       "  </thead>\n",
       "  <tbody>\n",
       "    <tr>\n",
       "      <th>0</th>\n",
       "      <td>3300</td>\n",
       "      <td>85 Wood Street</td>\n",
       "      <td>M4Y</td>\n",
       "      <td>3</td>\n",
       "      <td>2</td>\n",
       "      <td>810</td>\n",
       "    </tr>\n",
       "    <tr>\n",
       "      <th>1</th>\n",
       "      <td>2295</td>\n",
       "      <td>300 Balliol Street</td>\n",
       "      <td>M4S</td>\n",
       "      <td>1</td>\n",
       "      <td>1</td>\n",
       "      <td>600</td>\n",
       "    </tr>\n",
       "    <tr>\n",
       "      <th>2</th>\n",
       "      <td>2300</td>\n",
       "      <td>8 Fieldway Road</td>\n",
       "      <td>M8Z</td>\n",
       "      <td>1</td>\n",
       "      <td>1</td>\n",
       "      <td>NaN</td>\n",
       "    </tr>\n",
       "  </tbody>\n",
       "</table>\n",
       "</div>"
      ],
      "text/plain": [
       "   Rent             Address  Zip num_bedrooms num_bathrooms num_sqft\n",
       "0  3300      85 Wood Street  M4Y            3             2      810\n",
       "1  2295  300 Balliol Street  M4S            1             1      600\n",
       "2  2300     8 Fieldway Road  M8Z            1             1      NaN"
      ]
     },
     "execution_count": 27,
     "metadata": {},
     "output_type": "execute_result"
    }
   ],
   "source": [
    "rent_norange_df.head(3)"
   ]
  },
  {
   "cell_type": "code",
   "execution_count": 28,
   "metadata": {},
   "outputs": [],
   "source": [
    "# reset index before looping through the changes\n",
    "rent_norange_df = rent_norange_df.reset_index(drop=True)"
   ]
  },
  {
   "cell_type": "code",
   "execution_count": 29,
   "metadata": {},
   "outputs": [
    {
     "data": {
      "text/html": [
       "<div>\n",
       "<style scoped>\n",
       "    .dataframe tbody tr th:only-of-type {\n",
       "        vertical-align: middle;\n",
       "    }\n",
       "\n",
       "    .dataframe tbody tr th {\n",
       "        vertical-align: top;\n",
       "    }\n",
       "\n",
       "    .dataframe thead th {\n",
       "        text-align: right;\n",
       "    }\n",
       "</style>\n",
       "<table border=\"1\" class=\"dataframe\">\n",
       "  <thead>\n",
       "    <tr style=\"text-align: right;\">\n",
       "      <th></th>\n",
       "      <th>Rent</th>\n",
       "      <th>Address</th>\n",
       "      <th>Zip</th>\n",
       "      <th>num_bedrooms</th>\n",
       "      <th>num_bathrooms</th>\n",
       "      <th>num_sqft</th>\n",
       "    </tr>\n",
       "  </thead>\n",
       "  <tbody>\n",
       "    <tr>\n",
       "      <th>185</th>\n",
       "      <td>1900</td>\n",
       "      <td>2916 Highway 7</td>\n",
       "      <td>L4K</td>\n",
       "      <td>1</td>\n",
       "      <td>0 ½</td>\n",
       "      <td>550</td>\n",
       "    </tr>\n",
       "    <tr>\n",
       "      <th>186</th>\n",
       "      <td>2300</td>\n",
       "      <td>2908 Highway 7</td>\n",
       "      <td>L4K</td>\n",
       "      <td>2</td>\n",
       "      <td>2</td>\n",
       "      <td>800899</td>\n",
       "    </tr>\n",
       "    <tr>\n",
       "      <th>187</th>\n",
       "      <td>2000</td>\n",
       "      <td>2916 Highway 7</td>\n",
       "      <td>L4K</td>\n",
       "      <td>1</td>\n",
       "      <td>1 ½</td>\n",
       "      <td>630</td>\n",
       "    </tr>\n",
       "    <tr>\n",
       "      <th>188</th>\n",
       "      <td>2000</td>\n",
       "      <td>7895 Jane Street</td>\n",
       "      <td>L4K</td>\n",
       "      <td>1</td>\n",
       "      <td>2</td>\n",
       "      <td>611</td>\n",
       "    </tr>\n",
       "    <tr>\n",
       "      <th>189</th>\n",
       "      <td>2200</td>\n",
       "      <td>7895 Jane Street</td>\n",
       "      <td>L4K</td>\n",
       "      <td>2</td>\n",
       "      <td>2</td>\n",
       "      <td>750</td>\n",
       "    </tr>\n",
       "    <tr>\n",
       "      <th>190</th>\n",
       "      <td>2250</td>\n",
       "      <td>7895 Jane Street</td>\n",
       "      <td>L4K</td>\n",
       "      <td>2</td>\n",
       "      <td>2</td>\n",
       "      <td>649</td>\n",
       "    </tr>\n",
       "  </tbody>\n",
       "</table>\n",
       "</div>"
      ],
      "text/plain": [
       "     Rent           Address  Zip num_bedrooms num_bathrooms num_sqft\n",
       "185  1900    2916 Highway 7  L4K            1           0 ½      550\n",
       "186  2300    2908 Highway 7  L4K            2             2   800899\n",
       "187  2000    2916 Highway 7  L4K            1           1 ½      630\n",
       "188  2000  7895 Jane Street  L4K            1             2      611\n",
       "189  2200  7895 Jane Street  L4K            2             2      750\n",
       "190  2250  7895 Jane Street  L4K            2             2      649"
      ]
     },
     "execution_count": 29,
     "metadata": {},
     "output_type": "execute_result"
    }
   ],
   "source": [
    "rent_norange_df.loc[[185,186,187,188,189,190]]"
   ]
  },
  {
   "cell_type": "code",
   "execution_count": 30,
   "metadata": {},
   "outputs": [],
   "source": [
    "# change \"1/2\" into 0.5\n",
    "for bath in range(rent_norange_df.shape[0]):\n",
    "    rent_norange_df['num_bathrooms'][bath] = rent_norange_df['num_bathrooms'][bath].replace(\"½\",\".5\").replace(\" \",\"\")"
   ]
  },
  {
   "cell_type": "code",
   "execution_count": 31,
   "metadata": {},
   "outputs": [
    {
     "data": {
      "text/plain": [
       "array(['2', '1', '1.5', '3', '0.5', '0', '2.5'], dtype=object)"
      ]
     },
     "execution_count": 31,
     "metadata": {},
     "output_type": "execute_result"
    }
   ],
   "source": [
    "# check if changes are made\n",
    "rent_norange_df['num_bathrooms'].unique()"
   ]
  },
  {
   "cell_type": "code",
   "execution_count": 32,
   "metadata": {},
   "outputs": [
    {
     "data": {
      "text/plain": [
       "Rent             object\n",
       "Address          object\n",
       "Zip              object\n",
       "num_bedrooms     object\n",
       "num_bathrooms    object\n",
       "num_sqft         object\n",
       "dtype: object"
      ]
     },
     "execution_count": 32,
     "metadata": {},
     "output_type": "execute_result"
    }
   ],
   "source": [
    "rent_norange_df.dtypes"
   ]
  },
  {
   "cell_type": "code",
   "execution_count": 33,
   "metadata": {},
   "outputs": [],
   "source": [
    "# convert datatypes\n",
    "rent_norange_df[\"Rent\"] = rent_norange_df[\"Rent\"].astype(float)\n",
    "rent_norange_df[\"num_bedrooms\"] = rent_norange_df[\"num_bedrooms\"].astype(float)\n",
    "rent_norange_df[\"num_bathrooms\"] = rent_norange_df[\"num_bathrooms\"].astype(float)\n",
    "rent_norange_df[\"num_sqft\"] = rent_norange_df[\"num_sqft\"].astype(float)\n"
   ]
  },
  {
   "cell_type": "code",
   "execution_count": 34,
   "metadata": {},
   "outputs": [
    {
     "name": "stdout",
     "output_type": "stream",
     "text": [
      "<class 'pandas.core.frame.DataFrame'>\n",
      "RangeIndex: 2414 entries, 0 to 2413\n",
      "Data columns (total 6 columns):\n",
      " #   Column         Non-Null Count  Dtype  \n",
      "---  ------         --------------  -----  \n",
      " 0   Rent           2414 non-null   float64\n",
      " 1   Address        2414 non-null   object \n",
      " 2   Zip            2410 non-null   object \n",
      " 3   num_bedrooms   2414 non-null   float64\n",
      " 4   num_bathrooms  2414 non-null   float64\n",
      " 5   num_sqft       1472 non-null   float64\n",
      "dtypes: float64(4), object(2)\n",
      "memory usage: 113.3+ KB\n"
     ]
    }
   ],
   "source": [
    "rent_norange_df.info()"
   ]
  },
  {
   "cell_type": "code",
   "execution_count": 35,
   "metadata": {},
   "outputs": [
    {
     "data": {
      "text/plain": [
       "(2300, 6)"
      ]
     },
     "execution_count": 35,
     "metadata": {},
     "output_type": "execute_result"
    }
   ],
   "source": [
    "# match the postal codes\n",
    "# check the number of postal codes that match\n",
    "rent_df.loc[rent_df['Zip'].isin(geo_coords['Postal Code']), :].shape"
   ]
  },
  {
   "cell_type": "code",
   "execution_count": 36,
   "metadata": {},
   "outputs": [
    {
     "data": {
      "text/plain": [
       "Rent               0\n",
       "Address            0\n",
       "Zip                4\n",
       "num_bedrooms       0\n",
       "num_bathrooms      0\n",
       "num_sqft         942\n",
       "dtype: int64"
      ]
     },
     "execution_count": 36,
     "metadata": {},
     "output_type": "execute_result"
    }
   ],
   "source": [
    "# check for null values\n",
    "rent_norange_df.isnull().sum()"
   ]
  },
  {
   "cell_type": "markdown",
   "metadata": {},
   "source": [
    "Just going to drop all the null values because 942 null values is too much for this dataset (represents 1/3 of the data for num_sqft) and there's not point in keeping data that doesn't have a zip code because the whole point of this analysis is plot all the data on a map."
   ]
  },
  {
   "cell_type": "code",
   "execution_count": 37,
   "metadata": {},
   "outputs": [
    {
     "data": {
      "text/plain": [
       "(2414, 6)"
      ]
     },
     "execution_count": 37,
     "metadata": {},
     "output_type": "execute_result"
    }
   ],
   "source": [
    "rent_norange_df.shape"
   ]
  },
  {
   "cell_type": "code",
   "execution_count": 38,
   "metadata": {},
   "outputs": [
    {
     "data": {
      "text/html": [
       "<div>\n",
       "<style scoped>\n",
       "    .dataframe tbody tr th:only-of-type {\n",
       "        vertical-align: middle;\n",
       "    }\n",
       "\n",
       "    .dataframe tbody tr th {\n",
       "        vertical-align: top;\n",
       "    }\n",
       "\n",
       "    .dataframe thead th {\n",
       "        text-align: right;\n",
       "    }\n",
       "</style>\n",
       "<table border=\"1\" class=\"dataframe\">\n",
       "  <thead>\n",
       "    <tr style=\"text-align: right;\">\n",
       "      <th></th>\n",
       "      <th>Rent</th>\n",
       "      <th>Address</th>\n",
       "      <th>Zip</th>\n",
       "      <th>num_bedrooms</th>\n",
       "      <th>num_bathrooms</th>\n",
       "      <th>num_sqft</th>\n",
       "    </tr>\n",
       "  </thead>\n",
       "  <tbody>\n",
       "    <tr>\n",
       "      <th>13</th>\n",
       "      <td>2080.0</td>\n",
       "      <td>35 Balmuto Street</td>\n",
       "      <td>NaN</td>\n",
       "      <td>1.0</td>\n",
       "      <td>1.0</td>\n",
       "      <td>610.0</td>\n",
       "    </tr>\n",
       "    <tr>\n",
       "      <th>93</th>\n",
       "      <td>1900.0</td>\n",
       "      <td>3560 St Clair Ave E | Unit: 418</td>\n",
       "      <td>NaN</td>\n",
       "      <td>1.0</td>\n",
       "      <td>1.0</td>\n",
       "      <td>700.0</td>\n",
       "    </tr>\n",
       "    <tr>\n",
       "      <th>1990</th>\n",
       "      <td>2500.0</td>\n",
       "      <td>50 Ann O'Reilly Road | Unit: 2</td>\n",
       "      <td>NaN</td>\n",
       "      <td>2.0</td>\n",
       "      <td>2.0</td>\n",
       "      <td>1075.0</td>\n",
       "    </tr>\n",
       "    <tr>\n",
       "      <th>2014</th>\n",
       "      <td>2950.0</td>\n",
       "      <td>85 The Donway W</td>\n",
       "      <td>NaN</td>\n",
       "      <td>2.0</td>\n",
       "      <td>2.0</td>\n",
       "      <td>1450.0</td>\n",
       "    </tr>\n",
       "  </tbody>\n",
       "</table>\n",
       "</div>"
      ],
      "text/plain": [
       "        Rent                          Address  Zip  num_bedrooms  \\\n",
       "13    2080.0                35 Balmuto Street  NaN           1.0   \n",
       "93    1900.0  3560 St Clair Ave E | Unit: 418  NaN           1.0   \n",
       "1990  2500.0   50 Ann O'Reilly Road | Unit: 2  NaN           2.0   \n",
       "2014  2950.0                  85 The Donway W  NaN           2.0   \n",
       "\n",
       "      num_bathrooms  num_sqft  \n",
       "13              1.0     610.0  \n",
       "93              1.0     700.0  \n",
       "1990            2.0    1075.0  \n",
       "2014            2.0    1450.0  "
      ]
     },
     "execution_count": 38,
     "metadata": {},
     "output_type": "execute_result"
    }
   ],
   "source": [
    "# find the rows that contain null values for \"Zip\"\n",
    "rent_norange_df.loc[rent_norange_df['Zip'].isnull()]"
   ]
  },
  {
   "cell_type": "code",
   "execution_count": 39,
   "metadata": {},
   "outputs": [],
   "source": [
    "# remove null values\n",
    "dropped_nulls_df = rent_norange_df.dropna()\n",
    "one_bedroom_df = rent_norange_df.loc[rent_norange_df['num_bedrooms'] == 1].dropna()"
   ]
  },
  {
   "cell_type": "code",
   "execution_count": 40,
   "metadata": {},
   "outputs": [
    {
     "data": {
      "text/plain": [
       "(934, 6)"
      ]
     },
     "execution_count": 40,
     "metadata": {},
     "output_type": "execute_result"
    }
   ],
   "source": [
    "dropped_nulls_df.shape\n",
    "one_bedroom_df.shape"
   ]
  },
  {
   "cell_type": "code",
   "execution_count": 41,
   "metadata": {},
   "outputs": [
    {
     "data": {
      "text/plain": [
       "(1342, 6)"
      ]
     },
     "execution_count": 41,
     "metadata": {},
     "output_type": "execute_result"
    }
   ],
   "source": [
    "dropped_nulls_df.loc[dropped_nulls_df['Zip'].isin(geo_coords[\"Postal Code\"])].shape"
   ]
  },
  {
   "cell_type": "code",
   "execution_count": 42,
   "metadata": {},
   "outputs": [],
   "source": [
    "dropped_nulls_df = dropped_nulls_df.reset_index(drop=True)\n",
    "one_bedroom_df = one_bedroom_df.reset_index(drop=True)\n"
   ]
  },
  {
   "cell_type": "markdown",
   "metadata": {},
   "source": [
    "#### Store Data into a database"
   ]
  },
  {
   "cell_type": "code",
   "execution_count": 43,
   "metadata": {},
   "outputs": [],
   "source": [
    "from sqlalchemy import create_engine"
   ]
  },
  {
   "cell_type": "code",
   "execution_count": 44,
   "metadata": {},
   "outputs": [],
   "source": [
    "connection_string = \"postgres:postgres@localhost:5432/toronto-rental-properties\"\n",
    "engine = create_engine(f'postgresql://{connection_string}')"
   ]
  },
  {
   "cell_type": "code",
   "execution_count": 45,
   "metadata": {},
   "outputs": [],
   "source": [
    "connection = engine.connect()"
   ]
  },
  {
   "cell_type": "code",
   "execution_count": 46,
   "metadata": {},
   "outputs": [],
   "source": [
    "dropped_nulls_df.to_sql(name=\"all_data\", con = engine, if_exists=\"replace\",index = False)"
   ]
  },
  {
   "cell_type": "code",
   "execution_count": 47,
   "metadata": {},
   "outputs": [],
   "source": [
    "# change column names for geo_coords before storing in pgadmin\n",
    "geo_coords.rename(columns = ({\"Postal Code\": \"postal_code\"}), inplace = True)"
   ]
  },
  {
   "cell_type": "code",
   "execution_count": 48,
   "metadata": {},
   "outputs": [],
   "source": [
    "geo_coords_columnNames = ['postal_code', \"latitude\", \"longitude\"]"
   ]
  },
  {
   "cell_type": "code",
   "execution_count": 49,
   "metadata": {},
   "outputs": [],
   "source": [
    "geo_coords.columns = geo_coords_columnNames"
   ]
  },
  {
   "cell_type": "code",
   "execution_count": 50,
   "metadata": {},
   "outputs": [],
   "source": [
    "one_bedroom_columnNames = ['rent', 'address', 'zip', 'num_bedrooms', 'num_bathrooms', 'num_sqft']"
   ]
  },
  {
   "cell_type": "code",
   "execution_count": 51,
   "metadata": {},
   "outputs": [],
   "source": [
    "one_bedroom_df.columns = one_bedroom_columnNames"
   ]
  },
  {
   "cell_type": "code",
   "execution_count": 52,
   "metadata": {},
   "outputs": [
    {
     "data": {
      "text/html": [
       "<div>\n",
       "<style scoped>\n",
       "    .dataframe tbody tr th:only-of-type {\n",
       "        vertical-align: middle;\n",
       "    }\n",
       "\n",
       "    .dataframe tbody tr th {\n",
       "        vertical-align: top;\n",
       "    }\n",
       "\n",
       "    .dataframe thead th {\n",
       "        text-align: right;\n",
       "    }\n",
       "</style>\n",
       "<table border=\"1\" class=\"dataframe\">\n",
       "  <thead>\n",
       "    <tr style=\"text-align: right;\">\n",
       "      <th></th>\n",
       "      <th>rent</th>\n",
       "      <th>address</th>\n",
       "      <th>zip</th>\n",
       "      <th>num_bedrooms</th>\n",
       "      <th>num_bathrooms</th>\n",
       "      <th>num_sqft</th>\n",
       "    </tr>\n",
       "  </thead>\n",
       "  <tbody>\n",
       "    <tr>\n",
       "      <th>0</th>\n",
       "      <td>2295.0</td>\n",
       "      <td>300 Balliol Street</td>\n",
       "      <td>M4S</td>\n",
       "      <td>1.0</td>\n",
       "      <td>1.0</td>\n",
       "      <td>600.0</td>\n",
       "    </tr>\n",
       "    <tr>\n",
       "      <th>1</th>\n",
       "      <td>2050.0</td>\n",
       "      <td>83 Redpath Avenue</td>\n",
       "      <td>M4S</td>\n",
       "      <td>1.0</td>\n",
       "      <td>1.0</td>\n",
       "      <td>562.0</td>\n",
       "    </tr>\n",
       "    <tr>\n",
       "      <th>2</th>\n",
       "      <td>2350.0</td>\n",
       "      <td>633 Bay Street</td>\n",
       "      <td>M5G</td>\n",
       "      <td>1.0</td>\n",
       "      <td>1.5</td>\n",
       "      <td>833.0</td>\n",
       "    </tr>\n",
       "    <tr>\n",
       "      <th>3</th>\n",
       "      <td>2250.0</td>\n",
       "      <td>88 Harbour Street</td>\n",
       "      <td>M5J</td>\n",
       "      <td>1.0</td>\n",
       "      <td>1.0</td>\n",
       "      <td>581.0</td>\n",
       "    </tr>\n",
       "  </tbody>\n",
       "</table>\n",
       "</div>"
      ],
      "text/plain": [
       "     rent             address  zip  num_bedrooms  num_bathrooms  num_sqft\n",
       "0  2295.0  300 Balliol Street  M4S           1.0            1.0     600.0\n",
       "1  2050.0   83 Redpath Avenue  M4S           1.0            1.0     562.0\n",
       "2  2350.0      633 Bay Street  M5G           1.0            1.5     833.0\n",
       "3  2250.0   88 Harbour Street  M5J           1.0            1.0     581.0"
      ]
     },
     "execution_count": 52,
     "metadata": {},
     "output_type": "execute_result"
    }
   ],
   "source": [
    "one_bedroom_df.head(4)"
   ]
  },
  {
   "cell_type": "code",
   "execution_count": 53,
   "metadata": {},
   "outputs": [],
   "source": [
    "one_bedroom_df.to_sql(name=\"one_bedroom_data\", con = engine, if_exists = \"replace\", index=False)\n"
   ]
  },
  {
   "cell_type": "code",
   "execution_count": 54,
   "metadata": {},
   "outputs": [],
   "source": [
    "geo_coords.to_sql(name=\"geo_data\", con = engine, if_exists = \"replace\", index = False)"
   ]
  },
  {
   "cell_type": "code",
   "execution_count": 74,
   "metadata": {},
   "outputs": [
    {
     "data": {
      "text/html": [
       "<div>\n",
       "<style scoped>\n",
       "    .dataframe tbody tr th:only-of-type {\n",
       "        vertical-align: middle;\n",
       "    }\n",
       "\n",
       "    .dataframe tbody tr th {\n",
       "        vertical-align: top;\n",
       "    }\n",
       "\n",
       "    .dataframe thead th {\n",
       "        text-align: right;\n",
       "    }\n",
       "</style>\n",
       "<table border=\"1\" class=\"dataframe\">\n",
       "  <thead>\n",
       "    <tr style=\"text-align: right;\">\n",
       "      <th></th>\n",
       "      <th>rent</th>\n",
       "      <th>address</th>\n",
       "      <th>zip</th>\n",
       "      <th>num_bedrooms</th>\n",
       "      <th>num_bathrooms</th>\n",
       "      <th>num_sqft</th>\n",
       "    </tr>\n",
       "  </thead>\n",
       "  <tbody>\n",
       "    <tr>\n",
       "      <th>0</th>\n",
       "      <td>2295.0</td>\n",
       "      <td>300 Balliol Street</td>\n",
       "      <td>M4S</td>\n",
       "      <td>1.0</td>\n",
       "      <td>1.0</td>\n",
       "      <td>600.0</td>\n",
       "    </tr>\n",
       "    <tr>\n",
       "      <th>1</th>\n",
       "      <td>2050.0</td>\n",
       "      <td>83 Redpath Avenue</td>\n",
       "      <td>M4S</td>\n",
       "      <td>1.0</td>\n",
       "      <td>1.0</td>\n",
       "      <td>562.0</td>\n",
       "    </tr>\n",
       "    <tr>\n",
       "      <th>2</th>\n",
       "      <td>2350.0</td>\n",
       "      <td>633 Bay Street</td>\n",
       "      <td>M5G</td>\n",
       "      <td>1.0</td>\n",
       "      <td>1.5</td>\n",
       "      <td>833.0</td>\n",
       "    </tr>\n",
       "    <tr>\n",
       "      <th>3</th>\n",
       "      <td>2250.0</td>\n",
       "      <td>88 Harbour Street</td>\n",
       "      <td>M5J</td>\n",
       "      <td>1.0</td>\n",
       "      <td>1.0</td>\n",
       "      <td>581.0</td>\n",
       "    </tr>\n",
       "    <tr>\n",
       "      <th>4</th>\n",
       "      <td>1950.0</td>\n",
       "      <td>66 Portland Street</td>\n",
       "      <td>M5V</td>\n",
       "      <td>1.0</td>\n",
       "      <td>1.0</td>\n",
       "      <td>570.0</td>\n",
       "    </tr>\n",
       "  </tbody>\n",
       "</table>\n",
       "</div>"
      ],
      "text/plain": [
       "     rent             address  zip  num_bedrooms  num_bathrooms  num_sqft\n",
       "0  2295.0  300 Balliol Street  M4S           1.0            1.0     600.0\n",
       "1  2050.0   83 Redpath Avenue  M4S           1.0            1.0     562.0\n",
       "2  2350.0      633 Bay Street  M5G           1.0            1.5     833.0\n",
       "3  2250.0   88 Harbour Street  M5J           1.0            1.0     581.0\n",
       "4  1950.0  66 Portland Street  M5V           1.0            1.0     570.0"
      ]
     },
     "execution_count": 74,
     "metadata": {},
     "output_type": "execute_result"
    }
   ],
   "source": [
    "pd.read_sql_query(\"SELECT * \\\n",
    "                    FROM one_bedroom_data \\\n",
    "                    LIMIT 5\", connection)"
   ]
  },
  {
   "cell_type": "code",
   "execution_count": 129,
   "metadata": {},
   "outputs": [],
   "source": [
    "# join datasets with sql to flex my sql skills\n",
    "sql_merged = pd.read_sql_query(\"SELECT g.postal_code,\\\n",
    "                               g.latitude,\\\n",
    "                               g.longitude,\\\n",
    "                               ob.rent,\\\n",
    "                               ob.address,\\\n",
    "                               ob.num_bedrooms,\\\n",
    "                               ob.num_bathrooms,\\\n",
    "                               ob.num_sqft\\\n",
    "                               FROM geo_data g\\\n",
    "                               JOIN one_bedroom_data ob\\\n",
    "                               ON ob.zip = g.postal_code\", connection)"
   ]
  },
  {
   "cell_type": "code",
   "execution_count": 130,
   "metadata": {},
   "outputs": [
    {
     "data": {
      "text/html": [
       "<div>\n",
       "<style scoped>\n",
       "    .dataframe tbody tr th:only-of-type {\n",
       "        vertical-align: middle;\n",
       "    }\n",
       "\n",
       "    .dataframe tbody tr th {\n",
       "        vertical-align: top;\n",
       "    }\n",
       "\n",
       "    .dataframe thead th {\n",
       "        text-align: right;\n",
       "    }\n",
       "</style>\n",
       "<table border=\"1\" class=\"dataframe\">\n",
       "  <thead>\n",
       "    <tr style=\"text-align: right;\">\n",
       "      <th></th>\n",
       "      <th>postal_code</th>\n",
       "      <th>latitude</th>\n",
       "      <th>longitude</th>\n",
       "      <th>rent</th>\n",
       "      <th>address</th>\n",
       "      <th>num_bedrooms</th>\n",
       "      <th>num_bathrooms</th>\n",
       "      <th>num_sqft</th>\n",
       "    </tr>\n",
       "  </thead>\n",
       "  <tbody>\n",
       "    <tr>\n",
       "      <th>591</th>\n",
       "      <td>M5V</td>\n",
       "      <td>43.628947</td>\n",
       "      <td>-79.39442</td>\n",
       "      <td>1850.0</td>\n",
       "      <td>215 Queen Street West</td>\n",
       "      <td>1.0</td>\n",
       "      <td>1.0</td>\n",
       "      <td>400.0</td>\n",
       "    </tr>\n",
       "    <tr>\n",
       "      <th>548</th>\n",
       "      <td>M5V</td>\n",
       "      <td>43.628947</td>\n",
       "      <td>-79.39442</td>\n",
       "      <td>2200.0</td>\n",
       "      <td>290 Adelaide Street West</td>\n",
       "      <td>1.0</td>\n",
       "      <td>1.0</td>\n",
       "      <td>400.0</td>\n",
       "    </tr>\n",
       "    <tr>\n",
       "      <th>675</th>\n",
       "      <td>M5V</td>\n",
       "      <td>43.628947</td>\n",
       "      <td>-79.39442</td>\n",
       "      <td>2000.0</td>\n",
       "      <td>Stewart Street</td>\n",
       "      <td>1.0</td>\n",
       "      <td>1.0</td>\n",
       "      <td>420.0</td>\n",
       "    </tr>\n",
       "    <tr>\n",
       "      <th>579</th>\n",
       "      <td>M5V</td>\n",
       "      <td>43.628947</td>\n",
       "      <td>-79.39442</td>\n",
       "      <td>2090.0</td>\n",
       "      <td>629 King Street West</td>\n",
       "      <td>1.0</td>\n",
       "      <td>1.0</td>\n",
       "      <td>450.0</td>\n",
       "    </tr>\n",
       "    <tr>\n",
       "      <th>718</th>\n",
       "      <td>M5V</td>\n",
       "      <td>43.628947</td>\n",
       "      <td>-79.39442</td>\n",
       "      <td>2200.0</td>\n",
       "      <td>88 Blue Jays Way</td>\n",
       "      <td>1.0</td>\n",
       "      <td>1.0</td>\n",
       "      <td>450.0</td>\n",
       "    </tr>\n",
       "    <tr>\n",
       "      <th>...</th>\n",
       "      <td>...</td>\n",
       "      <td>...</td>\n",
       "      <td>...</td>\n",
       "      <td>...</td>\n",
       "      <td>...</td>\n",
       "      <td>...</td>\n",
       "      <td>...</td>\n",
       "      <td>...</td>\n",
       "    </tr>\n",
       "    <tr>\n",
       "      <th>706</th>\n",
       "      <td>M5V</td>\n",
       "      <td>43.628947</td>\n",
       "      <td>-79.39442</td>\n",
       "      <td>3000.0</td>\n",
       "      <td>156 Portland Street</td>\n",
       "      <td>1.0</td>\n",
       "      <td>1.0</td>\n",
       "      <td>780.0</td>\n",
       "    </tr>\n",
       "    <tr>\n",
       "      <th>549</th>\n",
       "      <td>M5V</td>\n",
       "      <td>43.628947</td>\n",
       "      <td>-79.39442</td>\n",
       "      <td>2500.0</td>\n",
       "      <td>19 Brant Street</td>\n",
       "      <td>1.0</td>\n",
       "      <td>1.0</td>\n",
       "      <td>806.0</td>\n",
       "    </tr>\n",
       "    <tr>\n",
       "      <th>619</th>\n",
       "      <td>M5V</td>\n",
       "      <td>43.628947</td>\n",
       "      <td>-79.39442</td>\n",
       "      <td>2600.0</td>\n",
       "      <td>833 King Street West</td>\n",
       "      <td>1.0</td>\n",
       "      <td>1.0</td>\n",
       "      <td>820.0</td>\n",
       "    </tr>\n",
       "    <tr>\n",
       "      <th>716</th>\n",
       "      <td>M5V</td>\n",
       "      <td>43.628947</td>\n",
       "      <td>-79.39442</td>\n",
       "      <td>2600.0</td>\n",
       "      <td>550 Queens Quay West</td>\n",
       "      <td>1.0</td>\n",
       "      <td>1.5</td>\n",
       "      <td>830.0</td>\n",
       "    </tr>\n",
       "    <tr>\n",
       "      <th>685</th>\n",
       "      <td>M5V</td>\n",
       "      <td>43.628947</td>\n",
       "      <td>-79.39442</td>\n",
       "      <td>2900.0</td>\n",
       "      <td>36 Charlotte Street</td>\n",
       "      <td>1.0</td>\n",
       "      <td>2.0</td>\n",
       "      <td>906.0</td>\n",
       "    </tr>\n",
       "  </tbody>\n",
       "</table>\n",
       "<p>196 rows × 8 columns</p>\n",
       "</div>"
      ],
      "text/plain": [
       "    postal_code   latitude  longitude    rent                   address  \\\n",
       "591         M5V  43.628947  -79.39442  1850.0     215 Queen Street West   \n",
       "548         M5V  43.628947  -79.39442  2200.0  290 Adelaide Street West   \n",
       "675         M5V  43.628947  -79.39442  2000.0            Stewart Street   \n",
       "579         M5V  43.628947  -79.39442  2090.0      629 King Street West   \n",
       "718         M5V  43.628947  -79.39442  2200.0          88 Blue Jays Way   \n",
       "..          ...        ...        ...     ...                       ...   \n",
       "706         M5V  43.628947  -79.39442  3000.0       156 Portland Street   \n",
       "549         M5V  43.628947  -79.39442  2500.0           19 Brant Street   \n",
       "619         M5V  43.628947  -79.39442  2600.0      833 King Street West   \n",
       "716         M5V  43.628947  -79.39442  2600.0      550 Queens Quay West   \n",
       "685         M5V  43.628947  -79.39442  2900.0       36 Charlotte Street   \n",
       "\n",
       "     num_bedrooms  num_bathrooms  num_sqft  \n",
       "591           1.0            1.0     400.0  \n",
       "548           1.0            1.0     400.0  \n",
       "675           1.0            1.0     420.0  \n",
       "579           1.0            1.0     450.0  \n",
       "718           1.0            1.0     450.0  \n",
       "..            ...            ...       ...  \n",
       "706           1.0            1.0     780.0  \n",
       "549           1.0            1.0     806.0  \n",
       "619           1.0            1.0     820.0  \n",
       "716           1.0            1.5     830.0  \n",
       "685           1.0            2.0     906.0  \n",
       "\n",
       "[196 rows x 8 columns]"
      ]
     },
     "execution_count": 130,
     "metadata": {},
     "output_type": "execute_result"
    }
   ],
   "source": [
    "sql_merged.loc[sql_merged['postal_code'] == \"M5V\"].sort_values(by='num_sqft')"
   ]
  },
  {
   "cell_type": "code",
   "execution_count": 83,
   "metadata": {},
   "outputs": [
    {
     "data": {
      "text/plain": [
       "(861, 6)"
      ]
     },
     "execution_count": 83,
     "metadata": {},
     "output_type": "execute_result"
    }
   ],
   "source": [
    "# the rows should match sql_merged\n",
    "one_bedroom_df.loc[one_bedroom_df['zip'].isin(geo_coords['postal_code'])].shape"
   ]
  },
  {
   "cell_type": "code",
   "execution_count": 131,
   "metadata": {},
   "outputs": [],
   "source": [
    "# group datasets with sql to flex my sql skills\n",
    "sql_group_postal_code = pd.read_sql_query(\"SELECT g.postal_code,\\\n",
    "                                                  g.latitude,\\\n",
    "                                                  g.longitude,\\\n",
    "                                                  AVG(ob.rent) as average_rent,\\\n",
    "                                                  AVG(ob.num_bathrooms) as average_bathrooms,\\\n",
    "                                                  AVG(ob.num_sqft) as average_sqft \\\n",
    "                                            FROM geo_data g \\\n",
    "                                              JOIN one_bedroom_data ob \\\n",
    "                                                  ON ob.zip = g.postal_code \\\n",
    "                                            GROUP BY g.postal_code, \\\n",
    "                                                     g.latitude, \\\n",
    "                                                     g.longitude \\\n",
    "                                            ORDER BY g.postal_code;\", connection)"
   ]
  },
  {
   "cell_type": "code",
   "execution_count": 132,
   "metadata": {},
   "outputs": [
    {
     "data": {
      "text/html": [
       "<div>\n",
       "<style scoped>\n",
       "    .dataframe tbody tr th:only-of-type {\n",
       "        vertical-align: middle;\n",
       "    }\n",
       "\n",
       "    .dataframe tbody tr th {\n",
       "        vertical-align: top;\n",
       "    }\n",
       "\n",
       "    .dataframe thead th {\n",
       "        text-align: right;\n",
       "    }\n",
       "</style>\n",
       "<table border=\"1\" class=\"dataframe\">\n",
       "  <thead>\n",
       "    <tr style=\"text-align: right;\">\n",
       "      <th></th>\n",
       "      <th>postal_code</th>\n",
       "      <th>latitude</th>\n",
       "      <th>longitude</th>\n",
       "      <th>average_rent</th>\n",
       "      <th>average_bathrooms</th>\n",
       "      <th>average_sqft</th>\n",
       "    </tr>\n",
       "  </thead>\n",
       "  <tbody>\n",
       "    <tr>\n",
       "      <th>0</th>\n",
       "      <td>M1H</td>\n",
       "      <td>43.773136</td>\n",
       "      <td>-79.239476</td>\n",
       "      <td>1902.272727</td>\n",
       "      <td>1.000000</td>\n",
       "      <td>618.727273</td>\n",
       "    </tr>\n",
       "    <tr>\n",
       "      <th>1</th>\n",
       "      <td>M1N</td>\n",
       "      <td>43.692657</td>\n",
       "      <td>-79.264848</td>\n",
       "      <td>2050.000000</td>\n",
       "      <td>1.000000</td>\n",
       "      <td>735.000000</td>\n",
       "    </tr>\n",
       "    <tr>\n",
       "      <th>2</th>\n",
       "      <td>M1P</td>\n",
       "      <td>43.757410</td>\n",
       "      <td>-79.273304</td>\n",
       "      <td>1936.580645</td>\n",
       "      <td>0.983871</td>\n",
       "      <td>624.129032</td>\n",
       "    </tr>\n",
       "    <tr>\n",
       "      <th>3</th>\n",
       "      <td>M1S</td>\n",
       "      <td>43.794200</td>\n",
       "      <td>-79.262029</td>\n",
       "      <td>1852.500000</td>\n",
       "      <td>1.100000</td>\n",
       "      <td>592.000000</td>\n",
       "    </tr>\n",
       "  </tbody>\n",
       "</table>\n",
       "</div>"
      ],
      "text/plain": [
       "  postal_code   latitude  longitude  average_rent  average_bathrooms  \\\n",
       "0         M1H  43.773136 -79.239476   1902.272727           1.000000   \n",
       "1         M1N  43.692657 -79.264848   2050.000000           1.000000   \n",
       "2         M1P  43.757410 -79.273304   1936.580645           0.983871   \n",
       "3         M1S  43.794200 -79.262029   1852.500000           1.100000   \n",
       "\n",
       "   average_sqft  \n",
       "0    618.727273  \n",
       "1    735.000000  \n",
       "2    624.129032  \n",
       "3    592.000000  "
      ]
     },
     "execution_count": 132,
     "metadata": {},
     "output_type": "execute_result"
    }
   ],
   "source": [
    "sql_group_postal_code.head(4)"
   ]
  },
  {
   "cell_type": "code",
   "execution_count": 98,
   "metadata": {},
   "outputs": [],
   "source": [
    "# graph the coordinates\n",
    "map_toronto = folium.Map(location = [sql_group_postal_code['latitude'][0], \\\n",
    "                                    sql_group_postal_code['longitude'][0]], zoom_start=10)\n",
    "\n",
    "# add markers to map\n",
    "for lat,lng,rent,bathrooms,sqft in zip(sql_group_postal_code['latitude'], sql_group_postal_code['longitude'],\\\n",
    "                                       sql_group_postal_code['average_rent'],sql_group_postal_code['average_bathrooms'],\\\n",
    "                                       sql_group_postal_code['average_sqft']):\n",
    "    label = f\"Price: {round(rent,2)} \\n Bathrooms: {round(bathrooms,2)} \\n sqft: {round(sqft,2)}\"\n",
    "    label = folium.Popup(label,parse_html = True)\n",
    "    folium.CircleMarker(\n",
    "    [lat,lng],\n",
    "    radius=5,\n",
    "    popup=label,\n",
    "    color='blue',\n",
    "    fill=True,\n",
    "    fill_color = \"#3186cc\",\n",
    "    fill_opacity=0.7,\n",
    "    parse_html=False).add_to(map_toronto)"
   ]
  },
  {
   "cell_type": "code",
   "execution_count": 99,
   "metadata": {},
   "outputs": [
    {
     "data": {
      "text/html": [
       "<div style=\"width:100%;\"><div style=\"position:relative;width:100%;height:0;padding-bottom:60%;\"><span style=\"color:#565656\">Make this Notebook Trusted to load map: File -> Trust Notebook</span><iframe src=\"about:blank\" style=\"position:absolute;width:100%;height:100%;left:0;top:0;border:none !important;\" data-html=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 onload=\"this.contentDocument.open();this.contentDocument.write(atob(this.getAttribute('data-html')));this.contentDocument.close();\" allowfullscreen webkitallowfullscreen mozallowfullscreen></iframe></div></div>"
      ],
      "text/plain": [
       "<folium.folium.Map at 0x12af4a30a08>"
      ]
     },
     "execution_count": 99,
     "metadata": {},
     "output_type": "execute_result"
    }
   ],
   "source": [
    "map_toronto"
   ]
  },
  {
   "cell_type": "markdown",
   "metadata": {},
   "source": [
    "### Segment with the Foursquare API"
   ]
  },
  {
   "cell_type": "code",
   "execution_count": 133,
   "metadata": {},
   "outputs": [],
   "source": [
    "# make a copy and change to a shorter name\n",
    "toronto_df = sql_group_postal_code"
   ]
  },
  {
   "cell_type": "code",
   "execution_count": 134,
   "metadata": {},
   "outputs": [
    {
     "data": {
      "text/html": [
       "<div>\n",
       "<style scoped>\n",
       "    .dataframe tbody tr th:only-of-type {\n",
       "        vertical-align: middle;\n",
       "    }\n",
       "\n",
       "    .dataframe tbody tr th {\n",
       "        vertical-align: top;\n",
       "    }\n",
       "\n",
       "    .dataframe thead th {\n",
       "        text-align: right;\n",
       "    }\n",
       "</style>\n",
       "<table border=\"1\" class=\"dataframe\">\n",
       "  <thead>\n",
       "    <tr style=\"text-align: right;\">\n",
       "      <th></th>\n",
       "      <th>postal_code</th>\n",
       "      <th>latitude</th>\n",
       "      <th>longitude</th>\n",
       "      <th>average_rent</th>\n",
       "      <th>average_bathrooms</th>\n",
       "      <th>average_sqft</th>\n",
       "    </tr>\n",
       "  </thead>\n",
       "  <tbody>\n",
       "    <tr>\n",
       "      <th>0</th>\n",
       "      <td>M1H</td>\n",
       "      <td>43.773136</td>\n",
       "      <td>-79.239476</td>\n",
       "      <td>1902.272727</td>\n",
       "      <td>1.000000</td>\n",
       "      <td>618.727273</td>\n",
       "    </tr>\n",
       "    <tr>\n",
       "      <th>1</th>\n",
       "      <td>M1N</td>\n",
       "      <td>43.692657</td>\n",
       "      <td>-79.264848</td>\n",
       "      <td>2050.000000</td>\n",
       "      <td>1.000000</td>\n",
       "      <td>735.000000</td>\n",
       "    </tr>\n",
       "    <tr>\n",
       "      <th>2</th>\n",
       "      <td>M1P</td>\n",
       "      <td>43.757410</td>\n",
       "      <td>-79.273304</td>\n",
       "      <td>1936.580645</td>\n",
       "      <td>0.983871</td>\n",
       "      <td>624.129032</td>\n",
       "    </tr>\n",
       "    <tr>\n",
       "      <th>3</th>\n",
       "      <td>M1S</td>\n",
       "      <td>43.794200</td>\n",
       "      <td>-79.262029</td>\n",
       "      <td>1852.500000</td>\n",
       "      <td>1.100000</td>\n",
       "      <td>592.000000</td>\n",
       "    </tr>\n",
       "    <tr>\n",
       "      <th>4</th>\n",
       "      <td>M1T</td>\n",
       "      <td>43.781638</td>\n",
       "      <td>-79.304302</td>\n",
       "      <td>1950.000000</td>\n",
       "      <td>1.000000</td>\n",
       "      <td>649.000000</td>\n",
       "    </tr>\n",
       "    <tr>\n",
       "      <th>5</th>\n",
       "      <td>M1V</td>\n",
       "      <td>43.815252</td>\n",
       "      <td>-79.284577</td>\n",
       "      <td>1795.000000</td>\n",
       "      <td>1.000000</td>\n",
       "      <td>725.000000</td>\n",
       "    </tr>\n",
       "    <tr>\n",
       "      <th>6</th>\n",
       "      <td>M2J</td>\n",
       "      <td>43.778517</td>\n",
       "      <td>-79.346556</td>\n",
       "      <td>1966.000000</td>\n",
       "      <td>1.000000</td>\n",
       "      <td>573.000000</td>\n",
       "    </tr>\n",
       "    <tr>\n",
       "      <th>7</th>\n",
       "      <td>M2K</td>\n",
       "      <td>43.786947</td>\n",
       "      <td>-79.385975</td>\n",
       "      <td>2048.076923</td>\n",
       "      <td>1.173077</td>\n",
       "      <td>629.423077</td>\n",
       "    </tr>\n",
       "    <tr>\n",
       "      <th>8</th>\n",
       "      <td>M2M</td>\n",
       "      <td>43.789053</td>\n",
       "      <td>-79.408493</td>\n",
       "      <td>1975.000000</td>\n",
       "      <td>1.000000</td>\n",
       "      <td>675.000000</td>\n",
       "    </tr>\n",
       "    <tr>\n",
       "      <th>9</th>\n",
       "      <td>M2N</td>\n",
       "      <td>43.770120</td>\n",
       "      <td>-79.408493</td>\n",
       "      <td>2061.250000</td>\n",
       "      <td>1.000000</td>\n",
       "      <td>590.500000</td>\n",
       "    </tr>\n",
       "    <tr>\n",
       "      <th>10</th>\n",
       "      <td>M3A</td>\n",
       "      <td>43.753259</td>\n",
       "      <td>-79.329656</td>\n",
       "      <td>1850.000000</td>\n",
       "      <td>1.000000</td>\n",
       "      <td>550.000000</td>\n",
       "    </tr>\n",
       "    <tr>\n",
       "      <th>11</th>\n",
       "      <td>M3B</td>\n",
       "      <td>43.745906</td>\n",
       "      <td>-79.352188</td>\n",
       "      <td>1950.000000</td>\n",
       "      <td>1.000000</td>\n",
       "      <td>580.000000</td>\n",
       "    </tr>\n",
       "    <tr>\n",
       "      <th>12</th>\n",
       "      <td>M3C</td>\n",
       "      <td>43.725900</td>\n",
       "      <td>-79.340923</td>\n",
       "      <td>1859.750000</td>\n",
       "      <td>1.275000</td>\n",
       "      <td>601.900000</td>\n",
       "    </tr>\n",
       "    <tr>\n",
       "      <th>13</th>\n",
       "      <td>M3H</td>\n",
       "      <td>43.754328</td>\n",
       "      <td>-79.442259</td>\n",
       "      <td>1850.000000</td>\n",
       "      <td>1.000000</td>\n",
       "      <td>575.000000</td>\n",
       "    </tr>\n",
       "    <tr>\n",
       "      <th>14</th>\n",
       "      <td>M3J</td>\n",
       "      <td>43.767980</td>\n",
       "      <td>-79.487262</td>\n",
       "      <td>1950.000000</td>\n",
       "      <td>1.500000</td>\n",
       "      <td>650.000000</td>\n",
       "    </tr>\n",
       "    <tr>\n",
       "      <th>15</th>\n",
       "      <td>M3M</td>\n",
       "      <td>43.728496</td>\n",
       "      <td>-79.495697</td>\n",
       "      <td>1959.000000</td>\n",
       "      <td>1.000000</td>\n",
       "      <td>599.000000</td>\n",
       "    </tr>\n",
       "    <tr>\n",
       "      <th>16</th>\n",
       "      <td>M4A</td>\n",
       "      <td>43.725882</td>\n",
       "      <td>-79.315572</td>\n",
       "      <td>2050.000000</td>\n",
       "      <td>1.000000</td>\n",
       "      <td>650.000000</td>\n",
       "    </tr>\n",
       "    <tr>\n",
       "      <th>17</th>\n",
       "      <td>M4E</td>\n",
       "      <td>43.676357</td>\n",
       "      <td>-79.293031</td>\n",
       "      <td>3000.000000</td>\n",
       "      <td>1.000000</td>\n",
       "      <td>800.000000</td>\n",
       "    </tr>\n",
       "    <tr>\n",
       "      <th>18</th>\n",
       "      <td>M4L</td>\n",
       "      <td>43.668999</td>\n",
       "      <td>-79.315572</td>\n",
       "      <td>2300.000000</td>\n",
       "      <td>1.000000</td>\n",
       "      <td>672.000000</td>\n",
       "    </tr>\n",
       "    <tr>\n",
       "      <th>19</th>\n",
       "      <td>M4M</td>\n",
       "      <td>43.659526</td>\n",
       "      <td>-79.340923</td>\n",
       "      <td>2200.000000</td>\n",
       "      <td>1.000000</td>\n",
       "      <td>680.000000</td>\n",
       "    </tr>\n",
       "    <tr>\n",
       "      <th>20</th>\n",
       "      <td>M4P</td>\n",
       "      <td>43.712751</td>\n",
       "      <td>-79.390197</td>\n",
       "      <td>2086.521739</td>\n",
       "      <td>1.282609</td>\n",
       "      <td>576.913043</td>\n",
       "    </tr>\n",
       "    <tr>\n",
       "      <th>21</th>\n",
       "      <td>M4R</td>\n",
       "      <td>43.715383</td>\n",
       "      <td>-79.405678</td>\n",
       "      <td>2100.000000</td>\n",
       "      <td>1.000000</td>\n",
       "      <td>580.000000</td>\n",
       "    </tr>\n",
       "    <tr>\n",
       "      <th>22</th>\n",
       "      <td>M4S</td>\n",
       "      <td>43.704324</td>\n",
       "      <td>-79.388790</td>\n",
       "      <td>2011.111111</td>\n",
       "      <td>1.092593</td>\n",
       "      <td>595.666667</td>\n",
       "    </tr>\n",
       "    <tr>\n",
       "      <th>23</th>\n",
       "      <td>M4V</td>\n",
       "      <td>43.686412</td>\n",
       "      <td>-79.400049</td>\n",
       "      <td>2225.000000</td>\n",
       "      <td>1.000000</td>\n",
       "      <td>650.000000</td>\n",
       "    </tr>\n",
       "    <tr>\n",
       "      <th>24</th>\n",
       "      <td>M4W</td>\n",
       "      <td>43.679563</td>\n",
       "      <td>-79.377529</td>\n",
       "      <td>2420.000000</td>\n",
       "      <td>1.111111</td>\n",
       "      <td>642.111111</td>\n",
       "    </tr>\n",
       "    <tr>\n",
       "      <th>25</th>\n",
       "      <td>M4X</td>\n",
       "      <td>43.667967</td>\n",
       "      <td>-79.367675</td>\n",
       "      <td>1785.000000</td>\n",
       "      <td>1.000000</td>\n",
       "      <td>600.000000</td>\n",
       "    </tr>\n",
       "    <tr>\n",
       "      <th>26</th>\n",
       "      <td>M4Y</td>\n",
       "      <td>43.665860</td>\n",
       "      <td>-79.383160</td>\n",
       "      <td>2262.868421</td>\n",
       "      <td>1.092105</td>\n",
       "      <td>620.447368</td>\n",
       "    </tr>\n",
       "    <tr>\n",
       "      <th>27</th>\n",
       "      <td>M5A</td>\n",
       "      <td>43.654260</td>\n",
       "      <td>-79.360636</td>\n",
       "      <td>2139.281250</td>\n",
       "      <td>1.062500</td>\n",
       "      <td>590.531250</td>\n",
       "    </tr>\n",
       "    <tr>\n",
       "      <th>28</th>\n",
       "      <td>M5B</td>\n",
       "      <td>43.657162</td>\n",
       "      <td>-79.378937</td>\n",
       "      <td>2050.560976</td>\n",
       "      <td>1.085366</td>\n",
       "      <td>564.512195</td>\n",
       "    </tr>\n",
       "    <tr>\n",
       "      <th>29</th>\n",
       "      <td>M5C</td>\n",
       "      <td>43.651494</td>\n",
       "      <td>-79.375418</td>\n",
       "      <td>2400.000000</td>\n",
       "      <td>1.000000</td>\n",
       "      <td>687.500000</td>\n",
       "    </tr>\n",
       "    <tr>\n",
       "      <th>30</th>\n",
       "      <td>M5E</td>\n",
       "      <td>43.644771</td>\n",
       "      <td>-79.373306</td>\n",
       "      <td>2363.454545</td>\n",
       "      <td>1.151515</td>\n",
       "      <td>643.363636</td>\n",
       "    </tr>\n",
       "    <tr>\n",
       "      <th>31</th>\n",
       "      <td>M5G</td>\n",
       "      <td>43.657952</td>\n",
       "      <td>-79.387383</td>\n",
       "      <td>2177.454545</td>\n",
       "      <td>1.090909</td>\n",
       "      <td>650.409091</td>\n",
       "    </tr>\n",
       "    <tr>\n",
       "      <th>32</th>\n",
       "      <td>M5H</td>\n",
       "      <td>43.650571</td>\n",
       "      <td>-79.384568</td>\n",
       "      <td>2238.066667</td>\n",
       "      <td>0.933333</td>\n",
       "      <td>570.600000</td>\n",
       "    </tr>\n",
       "    <tr>\n",
       "      <th>33</th>\n",
       "      <td>M5J</td>\n",
       "      <td>43.640816</td>\n",
       "      <td>-79.381752</td>\n",
       "      <td>2314.469388</td>\n",
       "      <td>1.020408</td>\n",
       "      <td>617.510204</td>\n",
       "    </tr>\n",
       "    <tr>\n",
       "      <th>34</th>\n",
       "      <td>M5P</td>\n",
       "      <td>43.696948</td>\n",
       "      <td>-79.411307</td>\n",
       "      <td>2000.000000</td>\n",
       "      <td>1.000000</td>\n",
       "      <td>568.000000</td>\n",
       "    </tr>\n",
       "    <tr>\n",
       "      <th>35</th>\n",
       "      <td>M5R</td>\n",
       "      <td>43.672710</td>\n",
       "      <td>-79.405678</td>\n",
       "      <td>2236.538462</td>\n",
       "      <td>1.076923</td>\n",
       "      <td>566.461538</td>\n",
       "    </tr>\n",
       "    <tr>\n",
       "      <th>36</th>\n",
       "      <td>M5S</td>\n",
       "      <td>43.662696</td>\n",
       "      <td>-79.400049</td>\n",
       "      <td>2208.333333</td>\n",
       "      <td>1.000000</td>\n",
       "      <td>595.200000</td>\n",
       "    </tr>\n",
       "    <tr>\n",
       "      <th>37</th>\n",
       "      <td>M5T</td>\n",
       "      <td>43.653206</td>\n",
       "      <td>-79.400049</td>\n",
       "      <td>1954.166667</td>\n",
       "      <td>1.666667</td>\n",
       "      <td>608.000000</td>\n",
       "    </tr>\n",
       "    <tr>\n",
       "      <th>38</th>\n",
       "      <td>M5V</td>\n",
       "      <td>43.628947</td>\n",
       "      <td>-79.394420</td>\n",
       "      <td>2118.627551</td>\n",
       "      <td>1.007653</td>\n",
       "      <td>593.321429</td>\n",
       "    </tr>\n",
       "    <tr>\n",
       "      <th>39</th>\n",
       "      <td>M6A</td>\n",
       "      <td>43.718518</td>\n",
       "      <td>-79.464763</td>\n",
       "      <td>1928.571429</td>\n",
       "      <td>1.000000</td>\n",
       "      <td>570.000000</td>\n",
       "    </tr>\n",
       "    <tr>\n",
       "      <th>40</th>\n",
       "      <td>M6H</td>\n",
       "      <td>43.669005</td>\n",
       "      <td>-79.442259</td>\n",
       "      <td>1785.000000</td>\n",
       "      <td>1.000000</td>\n",
       "      <td>562.200000</td>\n",
       "    </tr>\n",
       "    <tr>\n",
       "      <th>41</th>\n",
       "      <td>M6J</td>\n",
       "      <td>43.647927</td>\n",
       "      <td>-79.419750</td>\n",
       "      <td>2638.333333</td>\n",
       "      <td>1.083333</td>\n",
       "      <td>672.166667</td>\n",
       "    </tr>\n",
       "    <tr>\n",
       "      <th>42</th>\n",
       "      <td>M6K</td>\n",
       "      <td>43.636847</td>\n",
       "      <td>-79.428191</td>\n",
       "      <td>2124.953488</td>\n",
       "      <td>1.162791</td>\n",
       "      <td>599.093023</td>\n",
       "    </tr>\n",
       "    <tr>\n",
       "      <th>43</th>\n",
       "      <td>M6R</td>\n",
       "      <td>43.648960</td>\n",
       "      <td>-79.456325</td>\n",
       "      <td>2646.250000</td>\n",
       "      <td>1.125000</td>\n",
       "      <td>747.500000</td>\n",
       "    </tr>\n",
       "    <tr>\n",
       "      <th>44</th>\n",
       "      <td>M6S</td>\n",
       "      <td>43.651571</td>\n",
       "      <td>-79.484450</td>\n",
       "      <td>2041.666667</td>\n",
       "      <td>1.000000</td>\n",
       "      <td>589.333333</td>\n",
       "    </tr>\n",
       "    <tr>\n",
       "      <th>45</th>\n",
       "      <td>M8V</td>\n",
       "      <td>43.605647</td>\n",
       "      <td>-79.501321</td>\n",
       "      <td>2194.076923</td>\n",
       "      <td>1.076923</td>\n",
       "      <td>637.153846</td>\n",
       "    </tr>\n",
       "    <tr>\n",
       "      <th>46</th>\n",
       "      <td>M8X</td>\n",
       "      <td>43.653654</td>\n",
       "      <td>-79.506944</td>\n",
       "      <td>2260.000000</td>\n",
       "      <td>1.300000</td>\n",
       "      <td>694.200000</td>\n",
       "    </tr>\n",
       "    <tr>\n",
       "      <th>47</th>\n",
       "      <td>M8Y</td>\n",
       "      <td>43.636258</td>\n",
       "      <td>-79.498509</td>\n",
       "      <td>2050.000000</td>\n",
       "      <td>1.192308</td>\n",
       "      <td>691.461538</td>\n",
       "    </tr>\n",
       "    <tr>\n",
       "      <th>48</th>\n",
       "      <td>M8Z</td>\n",
       "      <td>43.628841</td>\n",
       "      <td>-79.520999</td>\n",
       "      <td>2093.750000</td>\n",
       "      <td>1.250000</td>\n",
       "      <td>710.000000</td>\n",
       "    </tr>\n",
       "    <tr>\n",
       "      <th>49</th>\n",
       "      <td>M9A</td>\n",
       "      <td>43.667856</td>\n",
       "      <td>-79.532242</td>\n",
       "      <td>2085.000000</td>\n",
       "      <td>1.000000</td>\n",
       "      <td>673.000000</td>\n",
       "    </tr>\n",
       "    <tr>\n",
       "      <th>50</th>\n",
       "      <td>M9B</td>\n",
       "      <td>43.650943</td>\n",
       "      <td>-79.554724</td>\n",
       "      <td>1975.000000</td>\n",
       "      <td>1.000000</td>\n",
       "      <td>635.000000</td>\n",
       "    </tr>\n",
       "    <tr>\n",
       "      <th>51</th>\n",
       "      <td>M9C</td>\n",
       "      <td>43.643515</td>\n",
       "      <td>-79.577201</td>\n",
       "      <td>2095.000000</td>\n",
       "      <td>1.250000</td>\n",
       "      <td>682.750000</td>\n",
       "    </tr>\n",
       "    <tr>\n",
       "      <th>52</th>\n",
       "      <td>M9M</td>\n",
       "      <td>43.724766</td>\n",
       "      <td>-79.532242</td>\n",
       "      <td>1475.000000</td>\n",
       "      <td>1.000000</td>\n",
       "      <td>685.000000</td>\n",
       "    </tr>\n",
       "  </tbody>\n",
       "</table>\n",
       "</div>"
      ],
      "text/plain": [
       "   postal_code   latitude  longitude  average_rent  average_bathrooms  \\\n",
       "0          M1H  43.773136 -79.239476   1902.272727           1.000000   \n",
       "1          M1N  43.692657 -79.264848   2050.000000           1.000000   \n",
       "2          M1P  43.757410 -79.273304   1936.580645           0.983871   \n",
       "3          M1S  43.794200 -79.262029   1852.500000           1.100000   \n",
       "4          M1T  43.781638 -79.304302   1950.000000           1.000000   \n",
       "5          M1V  43.815252 -79.284577   1795.000000           1.000000   \n",
       "6          M2J  43.778517 -79.346556   1966.000000           1.000000   \n",
       "7          M2K  43.786947 -79.385975   2048.076923           1.173077   \n",
       "8          M2M  43.789053 -79.408493   1975.000000           1.000000   \n",
       "9          M2N  43.770120 -79.408493   2061.250000           1.000000   \n",
       "10         M3A  43.753259 -79.329656   1850.000000           1.000000   \n",
       "11         M3B  43.745906 -79.352188   1950.000000           1.000000   \n",
       "12         M3C  43.725900 -79.340923   1859.750000           1.275000   \n",
       "13         M3H  43.754328 -79.442259   1850.000000           1.000000   \n",
       "14         M3J  43.767980 -79.487262   1950.000000           1.500000   \n",
       "15         M3M  43.728496 -79.495697   1959.000000           1.000000   \n",
       "16         M4A  43.725882 -79.315572   2050.000000           1.000000   \n",
       "17         M4E  43.676357 -79.293031   3000.000000           1.000000   \n",
       "18         M4L  43.668999 -79.315572   2300.000000           1.000000   \n",
       "19         M4M  43.659526 -79.340923   2200.000000           1.000000   \n",
       "20         M4P  43.712751 -79.390197   2086.521739           1.282609   \n",
       "21         M4R  43.715383 -79.405678   2100.000000           1.000000   \n",
       "22         M4S  43.704324 -79.388790   2011.111111           1.092593   \n",
       "23         M4V  43.686412 -79.400049   2225.000000           1.000000   \n",
       "24         M4W  43.679563 -79.377529   2420.000000           1.111111   \n",
       "25         M4X  43.667967 -79.367675   1785.000000           1.000000   \n",
       "26         M4Y  43.665860 -79.383160   2262.868421           1.092105   \n",
       "27         M5A  43.654260 -79.360636   2139.281250           1.062500   \n",
       "28         M5B  43.657162 -79.378937   2050.560976           1.085366   \n",
       "29         M5C  43.651494 -79.375418   2400.000000           1.000000   \n",
       "30         M5E  43.644771 -79.373306   2363.454545           1.151515   \n",
       "31         M5G  43.657952 -79.387383   2177.454545           1.090909   \n",
       "32         M5H  43.650571 -79.384568   2238.066667           0.933333   \n",
       "33         M5J  43.640816 -79.381752   2314.469388           1.020408   \n",
       "34         M5P  43.696948 -79.411307   2000.000000           1.000000   \n",
       "35         M5R  43.672710 -79.405678   2236.538462           1.076923   \n",
       "36         M5S  43.662696 -79.400049   2208.333333           1.000000   \n",
       "37         M5T  43.653206 -79.400049   1954.166667           1.666667   \n",
       "38         M5V  43.628947 -79.394420   2118.627551           1.007653   \n",
       "39         M6A  43.718518 -79.464763   1928.571429           1.000000   \n",
       "40         M6H  43.669005 -79.442259   1785.000000           1.000000   \n",
       "41         M6J  43.647927 -79.419750   2638.333333           1.083333   \n",
       "42         M6K  43.636847 -79.428191   2124.953488           1.162791   \n",
       "43         M6R  43.648960 -79.456325   2646.250000           1.125000   \n",
       "44         M6S  43.651571 -79.484450   2041.666667           1.000000   \n",
       "45         M8V  43.605647 -79.501321   2194.076923           1.076923   \n",
       "46         M8X  43.653654 -79.506944   2260.000000           1.300000   \n",
       "47         M8Y  43.636258 -79.498509   2050.000000           1.192308   \n",
       "48         M8Z  43.628841 -79.520999   2093.750000           1.250000   \n",
       "49         M9A  43.667856 -79.532242   2085.000000           1.000000   \n",
       "50         M9B  43.650943 -79.554724   1975.000000           1.000000   \n",
       "51         M9C  43.643515 -79.577201   2095.000000           1.250000   \n",
       "52         M9M  43.724766 -79.532242   1475.000000           1.000000   \n",
       "\n",
       "    average_sqft  \n",
       "0     618.727273  \n",
       "1     735.000000  \n",
       "2     624.129032  \n",
       "3     592.000000  \n",
       "4     649.000000  \n",
       "5     725.000000  \n",
       "6     573.000000  \n",
       "7     629.423077  \n",
       "8     675.000000  \n",
       "9     590.500000  \n",
       "10    550.000000  \n",
       "11    580.000000  \n",
       "12    601.900000  \n",
       "13    575.000000  \n",
       "14    650.000000  \n",
       "15    599.000000  \n",
       "16    650.000000  \n",
       "17    800.000000  \n",
       "18    672.000000  \n",
       "19    680.000000  \n",
       "20    576.913043  \n",
       "21    580.000000  \n",
       "22    595.666667  \n",
       "23    650.000000  \n",
       "24    642.111111  \n",
       "25    600.000000  \n",
       "26    620.447368  \n",
       "27    590.531250  \n",
       "28    564.512195  \n",
       "29    687.500000  \n",
       "30    643.363636  \n",
       "31    650.409091  \n",
       "32    570.600000  \n",
       "33    617.510204  \n",
       "34    568.000000  \n",
       "35    566.461538  \n",
       "36    595.200000  \n",
       "37    608.000000  \n",
       "38    593.321429  \n",
       "39    570.000000  \n",
       "40    562.200000  \n",
       "41    672.166667  \n",
       "42    599.093023  \n",
       "43    747.500000  \n",
       "44    589.333333  \n",
       "45    637.153846  \n",
       "46    694.200000  \n",
       "47    691.461538  \n",
       "48    710.000000  \n",
       "49    673.000000  \n",
       "50    635.000000  \n",
       "51    682.750000  \n",
       "52    685.000000  "
      ]
     },
     "execution_count": 134,
     "metadata": {},
     "output_type": "execute_result"
    }
   ],
   "source": [
    "toronto_df"
   ]
  },
  {
   "cell_type": "code",
   "execution_count": 135,
   "metadata": {},
   "outputs": [
    {
     "data": {
      "text/html": [
       "<div>\n",
       "<style scoped>\n",
       "    .dataframe tbody tr th:only-of-type {\n",
       "        vertical-align: middle;\n",
       "    }\n",
       "\n",
       "    .dataframe tbody tr th {\n",
       "        vertical-align: top;\n",
       "    }\n",
       "\n",
       "    .dataframe thead th {\n",
       "        text-align: right;\n",
       "    }\n",
       "</style>\n",
       "<table border=\"1\" class=\"dataframe\">\n",
       "  <thead>\n",
       "    <tr style=\"text-align: right;\">\n",
       "      <th></th>\n",
       "      <th>latitude</th>\n",
       "      <th>longitude</th>\n",
       "      <th>average_rent</th>\n",
       "      <th>average_bathrooms</th>\n",
       "      <th>average_sqft</th>\n",
       "    </tr>\n",
       "  </thead>\n",
       "  <tbody>\n",
       "    <tr>\n",
       "      <th>count</th>\n",
       "      <td>53.000000</td>\n",
       "      <td>53.000000</td>\n",
       "      <td>53.000000</td>\n",
       "      <td>53.000000</td>\n",
       "      <td>53.000000</td>\n",
       "    </tr>\n",
       "    <tr>\n",
       "      <th>mean</th>\n",
       "      <td>43.694975</td>\n",
       "      <td>-79.399578</td>\n",
       "      <td>2094.141260</td>\n",
       "      <td>1.078226</td>\n",
       "      <td>630.926138</td>\n",
       "    </tr>\n",
       "    <tr>\n",
       "      <th>std</th>\n",
       "      <td>0.053815</td>\n",
       "      <td>0.078864</td>\n",
       "      <td>244.311029</td>\n",
       "      <td>0.135551</td>\n",
       "      <td>54.992289</td>\n",
       "    </tr>\n",
       "    <tr>\n",
       "      <th>min</th>\n",
       "      <td>43.605647</td>\n",
       "      <td>-79.577201</td>\n",
       "      <td>1475.000000</td>\n",
       "      <td>0.933333</td>\n",
       "      <td>550.000000</td>\n",
       "    </tr>\n",
       "    <tr>\n",
       "      <th>25%</th>\n",
       "      <td>43.651571</td>\n",
       "      <td>-79.442259</td>\n",
       "      <td>1950.000000</td>\n",
       "      <td>1.000000</td>\n",
       "      <td>590.500000</td>\n",
       "    </tr>\n",
       "    <tr>\n",
       "      <th>50%</th>\n",
       "      <td>43.672710</td>\n",
       "      <td>-79.390197</td>\n",
       "      <td>2050.560976</td>\n",
       "      <td>1.000000</td>\n",
       "      <td>620.447368</td>\n",
       "    </tr>\n",
       "    <tr>\n",
       "      <th>75%</th>\n",
       "      <td>43.728496</td>\n",
       "      <td>-79.352188</td>\n",
       "      <td>2208.333333</td>\n",
       "      <td>1.100000</td>\n",
       "      <td>672.166667</td>\n",
       "    </tr>\n",
       "    <tr>\n",
       "      <th>max</th>\n",
       "      <td>43.815252</td>\n",
       "      <td>-79.239476</td>\n",
       "      <td>3000.000000</td>\n",
       "      <td>1.666667</td>\n",
       "      <td>800.000000</td>\n",
       "    </tr>\n",
       "  </tbody>\n",
       "</table>\n",
       "</div>"
      ],
      "text/plain": [
       "        latitude  longitude  average_rent  average_bathrooms  average_sqft\n",
       "count  53.000000  53.000000     53.000000          53.000000     53.000000\n",
       "mean   43.694975 -79.399578   2094.141260           1.078226    630.926138\n",
       "std     0.053815   0.078864    244.311029           0.135551     54.992289\n",
       "min    43.605647 -79.577201   1475.000000           0.933333    550.000000\n",
       "25%    43.651571 -79.442259   1950.000000           1.000000    590.500000\n",
       "50%    43.672710 -79.390197   2050.560976           1.000000    620.447368\n",
       "75%    43.728496 -79.352188   2208.333333           1.100000    672.166667\n",
       "max    43.815252 -79.239476   3000.000000           1.666667    800.000000"
      ]
     },
     "execution_count": 135,
     "metadata": {},
     "output_type": "execute_result"
    }
   ],
   "source": [
    "# check data\n",
    "toronto_df.describe()"
   ]
  },
  {
   "cell_type": "code",
   "execution_count": 121,
   "metadata": {},
   "outputs": [
    {
     "name": "stdout",
     "output_type": "stream",
     "text": [
      "<class 'pandas.core.frame.DataFrame'>\n",
      "RangeIndex: 53 entries, 0 to 52\n",
      "Data columns (total 6 columns):\n",
      " #   Column             Non-Null Count  Dtype  \n",
      "---  ------             --------------  -----  \n",
      " 0   postal_code        53 non-null     object \n",
      " 1   latitude           53 non-null     float64\n",
      " 2   longitude          53 non-null     float64\n",
      " 3   average_rent       53 non-null     float64\n",
      " 4   average_bathrooms  53 non-null     float64\n",
      " 5   average_sqft       53 non-null     float64\n",
      "dtypes: float64(5), object(1)\n",
      "memory usage: 2.6+ KB\n"
     ]
    }
   ],
   "source": [
    "# check data types\n",
    "toronto_df.info()"
   ]
  },
  {
   "cell_type": "code",
   "execution_count": 137,
   "metadata": {},
   "outputs": [],
   "source": [
    "# import foursquare client_id and secret\n",
    "from config import client_id, client_secret"
   ]
  },
  {
   "cell_type": "code",
   "execution_count": 141,
   "metadata": {},
   "outputs": [],
   "source": [
    "# double check if the values are correct:\n",
    "client_secret\n",
    "client_id\n",
    "version = \"20200101\""
   ]
  },
  {
   "cell_type": "code",
   "execution_count": 142,
   "metadata": {},
   "outputs": [
    {
     "data": {
      "text/plain": [
       "'20200101'"
      ]
     },
     "execution_count": 142,
     "metadata": {},
     "output_type": "execute_result"
    }
   ],
   "source": [
    "neighborhood_lat = toronto_df['latitde'][0]"
   ]
  },
  {
   "cell_type": "markdown",
   "metadata": {},
   "source": [
    "Categories of study:\n",
    "\n",
    "* metro_station: 4bf58dd8d48988d1fd931735\n",
    "* train_station: 4bf58dd8d48988d129951735\n",
    "* bus_station: 4bf58dd8d48988d1fe931735\n",
    "* bus_stop:  52f2ab2ebcbc57f1066b8b4f\n",
    "* shopping_mall: 4bf58dd8d48988d1fd941735\n",
    "* shopping_plaza: 5744ccdfe4b0c0459246b4dc\n",
    "* outlet_mall: 5744ccdfe4b0c0459246b4df\n",
    "* grocery_store: 4bf58dd8d48988d118951735\n",
    "\n",
    "Category list: [foursquare categories](https://developer.foursquare.com/docs/build-with-foursquare/categories/)\n",
    "\n",
    "API Reference: [foursquare API reference](https://developer.foursquare.com/docs/api-reference/venues/search/)"
   ]
  },
  {
   "cell_type": "code",
   "execution_count": null,
   "metadata": {},
   "outputs": [],
   "source": []
  },
  {
   "cell_type": "code",
   "execution_count": null,
   "metadata": {},
   "outputs": [],
   "source": []
  },
  {
   "cell_type": "code",
   "execution_count": null,
   "metadata": {},
   "outputs": [],
   "source": []
  },
  {
   "cell_type": "code",
   "execution_count": null,
   "metadata": {},
   "outputs": [],
   "source": []
  },
  {
   "cell_type": "code",
   "execution_count": null,
   "metadata": {},
   "outputs": [],
   "source": []
  },
  {
   "cell_type": "code",
   "execution_count": null,
   "metadata": {},
   "outputs": [],
   "source": []
  },
  {
   "cell_type": "code",
   "execution_count": null,
   "metadata": {},
   "outputs": [],
   "source": []
  },
  {
   "cell_type": "code",
   "execution_count": null,
   "metadata": {},
   "outputs": [],
   "source": []
  },
  {
   "cell_type": "code",
   "execution_count": null,
   "metadata": {},
   "outputs": [],
   "source": []
  },
  {
   "cell_type": "code",
   "execution_count": null,
   "metadata": {},
   "outputs": [],
   "source": []
  },
  {
   "cell_type": "code",
   "execution_count": null,
   "metadata": {},
   "outputs": [],
   "source": []
  },
  {
   "cell_type": "code",
   "execution_count": null,
   "metadata": {},
   "outputs": [],
   "source": []
  },
  {
   "cell_type": "code",
   "execution_count": null,
   "metadata": {},
   "outputs": [],
   "source": []
  },
  {
   "cell_type": "code",
   "execution_count": null,
   "metadata": {},
   "outputs": [],
   "source": []
  },
  {
   "cell_type": "code",
   "execution_count": null,
   "metadata": {},
   "outputs": [],
   "source": []
  },
  {
   "cell_type": "code",
   "execution_count": null,
   "metadata": {},
   "outputs": [],
   "source": []
  },
  {
   "cell_type": "code",
   "execution_count": null,
   "metadata": {},
   "outputs": [],
   "source": []
  },
  {
   "cell_type": "code",
   "execution_count": null,
   "metadata": {},
   "outputs": [],
   "source": []
  }
 ],
 "metadata": {
  "kernelspec": {
   "display_name": "Python 3",
   "language": "python",
   "name": "python3"
  },
  "language_info": {
   "codemirror_mode": {
    "name": "ipython",
    "version": 3
   },
   "file_extension": ".py",
   "mimetype": "text/x-python",
   "name": "python",
   "nbconvert_exporter": "python",
   "pygments_lexer": "ipython3",
   "version": "3.7.4"
  }
 },
 "nbformat": 4,
 "nbformat_minor": 4
}
