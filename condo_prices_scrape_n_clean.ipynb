{
  "nbformat": 4,
  "nbformat_minor": 0,
  "metadata": {
    "kernelspec": {
      "display_name": "Python 3",
      "language": "python",
      "name": "python3"
    },
    "language_info": {
      "codemirror_mode": {
        "name": "ipython",
        "version": 3
      },
      "file_extension": ".py",
      "mimetype": "text/x-python",
      "name": "python",
      "nbconvert_exporter": "python",
      "pygments_lexer": "ipython3",
      "version": "3.7.4"
    },
    "colab": {
      "name": "condo_prices_scrape_n_clean.ipynb",
      "provenance": [],
      "include_colab_link": true
    }
  },
  "cells": [
    {
      "cell_type": "markdown",
      "metadata": {
        "id": "view-in-github",
        "colab_type": "text"
      },
      "source": [
        "<a href=\"https://colab.research.google.com/github/daniel8691/rental-housing-toronto/blob/master/condo_prices_scrape_n_clean.ipynb\" target=\"_parent\"><img src=\"https://colab.research.google.com/assets/colab-badge.svg\" alt=\"Open In Colab\"/></a>"
      ]
    },
    {
      "cell_type": "code",
      "metadata": {
        "id": "Q07AgGFHHqzu",
        "colab_type": "code",
        "colab": {
          "base_uri": "https://localhost:8080/",
          "height": 363
        },
        "outputId": "3bf7b27f-23d4-46d9-de00-669580394696"
      },
      "source": [
        "import pandas as pd\n",
        "import numpy as np\n",
        "from splinter import Browser\n",
        "from bs4 import BeautifulSoup"
      ],
      "execution_count": 1,
      "outputs": [
        {
          "output_type": "error",
          "ename": "ModuleNotFoundError",
          "evalue": "ignored",
          "traceback": [
            "\u001b[0;31m---------------------------------------------------------------------------\u001b[0m",
            "\u001b[0;31mModuleNotFoundError\u001b[0m                       Traceback (most recent call last)",
            "\u001b[0;32m<ipython-input-1-15c3bebc4842>\u001b[0m in \u001b[0;36m<module>\u001b[0;34m()\u001b[0m\n\u001b[1;32m      1\u001b[0m \u001b[0;32mimport\u001b[0m \u001b[0mpandas\u001b[0m \u001b[0;32mas\u001b[0m \u001b[0mpd\u001b[0m\u001b[0;34m\u001b[0m\u001b[0;34m\u001b[0m\u001b[0m\n\u001b[1;32m      2\u001b[0m \u001b[0;32mimport\u001b[0m \u001b[0mnumpy\u001b[0m \u001b[0;32mas\u001b[0m \u001b[0mnp\u001b[0m\u001b[0;34m\u001b[0m\u001b[0;34m\u001b[0m\u001b[0m\n\u001b[0;32m----> 3\u001b[0;31m \u001b[0;32mfrom\u001b[0m \u001b[0msplinter\u001b[0m \u001b[0;32mimport\u001b[0m \u001b[0mBrowser\u001b[0m\u001b[0;34m\u001b[0m\u001b[0;34m\u001b[0m\u001b[0m\n\u001b[0m\u001b[1;32m      4\u001b[0m \u001b[0;32mfrom\u001b[0m \u001b[0mbs4\u001b[0m \u001b[0;32mimport\u001b[0m \u001b[0mBeautifulSoup\u001b[0m\u001b[0;34m\u001b[0m\u001b[0;34m\u001b[0m\u001b[0m\n",
            "\u001b[0;31mModuleNotFoundError\u001b[0m: No module named 'splinter'",
            "",
            "\u001b[0;31m---------------------------------------------------------------------------\u001b[0;32m\nNOTE: If your import is failing due to a missing package, you can\nmanually install dependencies using either !pip or !apt.\n\nTo view examples of installing some common dependencies, click the\n\"Open Examples\" button below.\n\u001b[0;31m---------------------------------------------------------------------------\u001b[0m\n"
          ]
        }
      ]
    },
    {
      "cell_type": "code",
      "metadata": {
        "id": "-fFnf_ewAGjW",
        "colab_type": "code",
        "colab": {}
      },
      "source": [
        "%matplotlib inline"
      ],
      "execution_count": 135,
      "outputs": []
    },
    {
      "cell_type": "code",
      "metadata": {
        "id": "qBSGIWuGHqz0",
        "colab_type": "code",
        "colab": {}
      },
      "source": [
        "url = \"https://toronto.listing.ca/condo-price-history.htm\""
      ],
      "execution_count": 2,
      "outputs": []
    },
    {
      "cell_type": "code",
      "metadata": {
        "id": "OL8jbaLPHqz4",
        "colab_type": "code",
        "colab": {}
      },
      "source": [
        "housing_data = pd.read_html(url)[1]"
      ],
      "execution_count": 3,
      "outputs": []
    },
    {
      "cell_type": "code",
      "metadata": {
        "id": "ZrJj6nlBHqz_",
        "colab_type": "code",
        "colab": {
          "base_uri": "https://localhost:8080/",
          "height": 287
        },
        "outputId": "1ebcc10b-c201-42f4-ed8c-2ff7e63e2724"
      },
      "source": [
        "housing_data"
      ],
      "execution_count": 4,
      "outputs": [
        {
          "output_type": "execute_result",
          "data": {
            "text/html": [
              "<div>\n",
              "<style scoped>\n",
              "    .dataframe tbody tr th:only-of-type {\n",
              "        vertical-align: middle;\n",
              "    }\n",
              "\n",
              "    .dataframe tbody tr th {\n",
              "        vertical-align: top;\n",
              "    }\n",
              "\n",
              "    .dataframe thead th {\n",
              "        text-align: right;\n",
              "    }\n",
              "</style>\n",
              "<table border=\"1\" class=\"dataframe\">\n",
              "  <thead>\n",
              "    <tr style=\"text-align: right;\">\n",
              "      <th></th>\n",
              "      <th>0</th>\n",
              "      <th>1</th>\n",
              "      <th>2</th>\n",
              "      <th>3</th>\n",
              "      <th>4</th>\n",
              "      <th>5</th>\n",
              "      <th>6</th>\n",
              "      <th>7</th>\n",
              "    </tr>\n",
              "  </thead>\n",
              "  <tbody>\n",
              "    <tr>\n",
              "      <th>0</th>\n",
              "      <td>Month</td>\n",
              "      <td># of Sales</td>\n",
              "      <td>Avg List Price</td>\n",
              "      <td>Avg Sold Price</td>\n",
              "      <td>Above/Below Asking</td>\n",
              "      <td>Monthly Change ($)</td>\n",
              "      <td>Monthly Change (%)</td>\n",
              "      <td>Days on Market</td>\n",
              "    </tr>\n",
              "    <tr>\n",
              "      <th>1</th>\n",
              "      <td>July</td>\n",
              "      <td>1571</td>\n",
              "      <td>$599,900</td>\n",
              "      <td>$612,000</td>\n",
              "      <td>2.01%</td>\n",
              "      <td>$2,000</td>\n",
              "      <td>0.32%</td>\n",
              "      <td>12</td>\n",
              "    </tr>\n",
              "    <tr>\n",
              "      <th>2</th>\n",
              "      <td>June</td>\n",
              "      <td>1258</td>\n",
              "      <td>$599,900</td>\n",
              "      <td>$610,000</td>\n",
              "      <td>1.68%</td>\n",
              "      <td>$14,950</td>\n",
              "      <td>2.51%</td>\n",
              "      <td>11</td>\n",
              "    </tr>\n",
              "    <tr>\n",
              "      <th>3</th>\n",
              "      <td>May</td>\n",
              "      <td>692</td>\n",
              "      <td>$599,400</td>\n",
              "      <td>$595,050</td>\n",
              "      <td>-0.72%</td>\n",
              "      <td>$15,050</td>\n",
              "      <td>2.59%</td>\n",
              "      <td>14</td>\n",
              "    </tr>\n",
              "    <tr>\n",
              "      <th>4</th>\n",
              "      <td>April</td>\n",
              "      <td>436</td>\n",
              "      <td>$579,900</td>\n",
              "      <td>$580,000</td>\n",
              "      <td>0.01%</td>\n",
              "      <td>-$55,000</td>\n",
              "      <td>-8.66%</td>\n",
              "      <td>14</td>\n",
              "    </tr>\n",
              "    <tr>\n",
              "      <th>5</th>\n",
              "      <td>March</td>\n",
              "      <td>1308</td>\n",
              "      <td>$599,000</td>\n",
              "      <td>$635,000</td>\n",
              "      <td>6.01%</td>\n",
              "      <td>-$6,500</td>\n",
              "      <td>-1.01%</td>\n",
              "      <td>7</td>\n",
              "    </tr>\n",
              "    <tr>\n",
              "      <th>6</th>\n",
              "      <td>February</td>\n",
              "      <td>1383</td>\n",
              "      <td>$599,900</td>\n",
              "      <td>$641,500</td>\n",
              "      <td>6.93%</td>\n",
              "      <td>$47,000</td>\n",
              "      <td>7.9%</td>\n",
              "      <td>8</td>\n",
              "    </tr>\n",
              "    <tr>\n",
              "      <th>7</th>\n",
              "      <td>January</td>\n",
              "      <td>892</td>\n",
              "      <td>$579,950</td>\n",
              "      <td>$594,500</td>\n",
              "      <td>2.5%</td>\n",
              "      <td>$14,500</td>\n",
              "      <td>2.5%</td>\n",
              "      <td>10</td>\n",
              "    </tr>\n",
              "  </tbody>\n",
              "</table>\n",
              "</div>"
            ],
            "text/plain": [
              "          0           1  ...                   6               7\n",
              "0     Month  # of Sales  ...  Monthly Change (%)  Days on Market\n",
              "1      July        1571  ...               0.32%              12\n",
              "2      June        1258  ...               2.51%              11\n",
              "3       May         692  ...               2.59%              14\n",
              "4     April         436  ...              -8.66%              14\n",
              "5     March        1308  ...              -1.01%               7\n",
              "6  February        1383  ...                7.9%               8\n",
              "7   January         892  ...                2.5%              10\n",
              "\n",
              "[8 rows x 8 columns]"
            ]
          },
          "metadata": {
            "tags": []
          },
          "execution_count": 4
        }
      ]
    },
    {
      "cell_type": "code",
      "metadata": {
        "id": "uyEv77qVHq0G",
        "colab_type": "code",
        "colab": {}
      },
      "source": [
        "column_names = housing_data.iloc[0].to_list()\n",
        "# housing_data.columns = housing_data.iloc[0].to_list()"
      ],
      "execution_count": 5,
      "outputs": []
    },
    {
      "cell_type": "code",
      "metadata": {
        "id": "h8D-fvFHHq0L",
        "colab_type": "code",
        "colab": {
          "base_uri": "https://localhost:8080/",
          "height": 287
        },
        "outputId": "096eac0b-b80d-4c10-8c26-9e9ce1f3a2ab"
      },
      "source": [
        "housing_data"
      ],
      "execution_count": 6,
      "outputs": [
        {
          "output_type": "execute_result",
          "data": {
            "text/html": [
              "<div>\n",
              "<style scoped>\n",
              "    .dataframe tbody tr th:only-of-type {\n",
              "        vertical-align: middle;\n",
              "    }\n",
              "\n",
              "    .dataframe tbody tr th {\n",
              "        vertical-align: top;\n",
              "    }\n",
              "\n",
              "    .dataframe thead th {\n",
              "        text-align: right;\n",
              "    }\n",
              "</style>\n",
              "<table border=\"1\" class=\"dataframe\">\n",
              "  <thead>\n",
              "    <tr style=\"text-align: right;\">\n",
              "      <th></th>\n",
              "      <th>0</th>\n",
              "      <th>1</th>\n",
              "      <th>2</th>\n",
              "      <th>3</th>\n",
              "      <th>4</th>\n",
              "      <th>5</th>\n",
              "      <th>6</th>\n",
              "      <th>7</th>\n",
              "    </tr>\n",
              "  </thead>\n",
              "  <tbody>\n",
              "    <tr>\n",
              "      <th>0</th>\n",
              "      <td>Month</td>\n",
              "      <td># of Sales</td>\n",
              "      <td>Avg List Price</td>\n",
              "      <td>Avg Sold Price</td>\n",
              "      <td>Above/Below Asking</td>\n",
              "      <td>Monthly Change ($)</td>\n",
              "      <td>Monthly Change (%)</td>\n",
              "      <td>Days on Market</td>\n",
              "    </tr>\n",
              "    <tr>\n",
              "      <th>1</th>\n",
              "      <td>July</td>\n",
              "      <td>1571</td>\n",
              "      <td>$599,900</td>\n",
              "      <td>$612,000</td>\n",
              "      <td>2.01%</td>\n",
              "      <td>$2,000</td>\n",
              "      <td>0.32%</td>\n",
              "      <td>12</td>\n",
              "    </tr>\n",
              "    <tr>\n",
              "      <th>2</th>\n",
              "      <td>June</td>\n",
              "      <td>1258</td>\n",
              "      <td>$599,900</td>\n",
              "      <td>$610,000</td>\n",
              "      <td>1.68%</td>\n",
              "      <td>$14,950</td>\n",
              "      <td>2.51%</td>\n",
              "      <td>11</td>\n",
              "    </tr>\n",
              "    <tr>\n",
              "      <th>3</th>\n",
              "      <td>May</td>\n",
              "      <td>692</td>\n",
              "      <td>$599,400</td>\n",
              "      <td>$595,050</td>\n",
              "      <td>-0.72%</td>\n",
              "      <td>$15,050</td>\n",
              "      <td>2.59%</td>\n",
              "      <td>14</td>\n",
              "    </tr>\n",
              "    <tr>\n",
              "      <th>4</th>\n",
              "      <td>April</td>\n",
              "      <td>436</td>\n",
              "      <td>$579,900</td>\n",
              "      <td>$580,000</td>\n",
              "      <td>0.01%</td>\n",
              "      <td>-$55,000</td>\n",
              "      <td>-8.66%</td>\n",
              "      <td>14</td>\n",
              "    </tr>\n",
              "    <tr>\n",
              "      <th>5</th>\n",
              "      <td>March</td>\n",
              "      <td>1308</td>\n",
              "      <td>$599,000</td>\n",
              "      <td>$635,000</td>\n",
              "      <td>6.01%</td>\n",
              "      <td>-$6,500</td>\n",
              "      <td>-1.01%</td>\n",
              "      <td>7</td>\n",
              "    </tr>\n",
              "    <tr>\n",
              "      <th>6</th>\n",
              "      <td>February</td>\n",
              "      <td>1383</td>\n",
              "      <td>$599,900</td>\n",
              "      <td>$641,500</td>\n",
              "      <td>6.93%</td>\n",
              "      <td>$47,000</td>\n",
              "      <td>7.9%</td>\n",
              "      <td>8</td>\n",
              "    </tr>\n",
              "    <tr>\n",
              "      <th>7</th>\n",
              "      <td>January</td>\n",
              "      <td>892</td>\n",
              "      <td>$579,950</td>\n",
              "      <td>$594,500</td>\n",
              "      <td>2.5%</td>\n",
              "      <td>$14,500</td>\n",
              "      <td>2.5%</td>\n",
              "      <td>10</td>\n",
              "    </tr>\n",
              "  </tbody>\n",
              "</table>\n",
              "</div>"
            ],
            "text/plain": [
              "          0           1  ...                   6               7\n",
              "0     Month  # of Sales  ...  Monthly Change (%)  Days on Market\n",
              "1      July        1571  ...               0.32%              12\n",
              "2      June        1258  ...               2.51%              11\n",
              "3       May         692  ...               2.59%              14\n",
              "4     April         436  ...              -8.66%              14\n",
              "5     March        1308  ...              -1.01%               7\n",
              "6  February        1383  ...                7.9%               8\n",
              "7   January         892  ...                2.5%              10\n",
              "\n",
              "[8 rows x 8 columns]"
            ]
          },
          "metadata": {
            "tags": []
          },
          "execution_count": 6
        }
      ]
    },
    {
      "cell_type": "code",
      "metadata": {
        "id": "BuVfmeJ4Hq0R",
        "colab_type": "code",
        "colab": {
          "base_uri": "https://localhost:8080/",
          "height": 407
        },
        "outputId": "7cfbbb8f-c852-4500-8d1c-5f9eb7bae336"
      },
      "source": [
        "pd.read_html(url)[2].drop(index=0)"
      ],
      "execution_count": 7,
      "outputs": [
        {
          "output_type": "execute_result",
          "data": {
            "text/html": [
              "<div>\n",
              "<style scoped>\n",
              "    .dataframe tbody tr th:only-of-type {\n",
              "        vertical-align: middle;\n",
              "    }\n",
              "\n",
              "    .dataframe tbody tr th {\n",
              "        vertical-align: top;\n",
              "    }\n",
              "\n",
              "    .dataframe thead th {\n",
              "        text-align: right;\n",
              "    }\n",
              "</style>\n",
              "<table border=\"1\" class=\"dataframe\">\n",
              "  <thead>\n",
              "    <tr style=\"text-align: right;\">\n",
              "      <th></th>\n",
              "      <th>0</th>\n",
              "      <th>1</th>\n",
              "      <th>2</th>\n",
              "      <th>3</th>\n",
              "      <th>4</th>\n",
              "      <th>5</th>\n",
              "      <th>6</th>\n",
              "      <th>7</th>\n",
              "    </tr>\n",
              "  </thead>\n",
              "  <tbody>\n",
              "    <tr>\n",
              "      <th>1</th>\n",
              "      <td>December</td>\n",
              "      <td>791</td>\n",
              "      <td>$579,900</td>\n",
              "      <td>$580,000</td>\n",
              "      <td>0.01%</td>\n",
              "      <td>-$12,250</td>\n",
              "      <td>-2.06%</td>\n",
              "      <td>15</td>\n",
              "    </tr>\n",
              "    <tr>\n",
              "      <th>2</th>\n",
              "      <td>November</td>\n",
              "      <td>1256</td>\n",
              "      <td>$588,800</td>\n",
              "      <td>$592,250</td>\n",
              "      <td>0.58%</td>\n",
              "      <td>$2,250</td>\n",
              "      <td>0.38%</td>\n",
              "      <td>14</td>\n",
              "    </tr>\n",
              "    <tr>\n",
              "      <th>3</th>\n",
              "      <td>October</td>\n",
              "      <td>1559</td>\n",
              "      <td>$588,800</td>\n",
              "      <td>$590,000</td>\n",
              "      <td>0.2%</td>\n",
              "      <td>$15,100</td>\n",
              "      <td>2.62%</td>\n",
              "      <td>14</td>\n",
              "    </tr>\n",
              "    <tr>\n",
              "      <th>4</th>\n",
              "      <td>September</td>\n",
              "      <td>1447</td>\n",
              "      <td>$569,000</td>\n",
              "      <td>$574,900</td>\n",
              "      <td>1.03%</td>\n",
              "      <td>$4,900</td>\n",
              "      <td>0.85%</td>\n",
              "      <td>13</td>\n",
              "    </tr>\n",
              "    <tr>\n",
              "      <th>5</th>\n",
              "      <td>August</td>\n",
              "      <td>1266</td>\n",
              "      <td>$569,000</td>\n",
              "      <td>$570,000</td>\n",
              "      <td>0.17%</td>\n",
              "      <td>$5,000</td>\n",
              "      <td>0.88%</td>\n",
              "      <td>15</td>\n",
              "    </tr>\n",
              "    <tr>\n",
              "      <th>6</th>\n",
              "      <td>July</td>\n",
              "      <td>1515</td>\n",
              "      <td>$559,000</td>\n",
              "      <td>$565,000</td>\n",
              "      <td>1.07%</td>\n",
              "      <td>-$5,000</td>\n",
              "      <td>-0.87%</td>\n",
              "      <td>14</td>\n",
              "    </tr>\n",
              "    <tr>\n",
              "      <th>7</th>\n",
              "      <td>June</td>\n",
              "      <td>1376</td>\n",
              "      <td>$569,000</td>\n",
              "      <td>$570,000</td>\n",
              "      <td>0.17%</td>\n",
              "      <td>$0</td>\n",
              "      <td>0%</td>\n",
              "      <td>13</td>\n",
              "    </tr>\n",
              "    <tr>\n",
              "      <th>8</th>\n",
              "      <td>May</td>\n",
              "      <td>1618</td>\n",
              "      <td>$569,000</td>\n",
              "      <td>$570,000</td>\n",
              "      <td>0.17%</td>\n",
              "      <td>$5,000</td>\n",
              "      <td>0.88%</td>\n",
              "      <td>12</td>\n",
              "    </tr>\n",
              "    <tr>\n",
              "      <th>9</th>\n",
              "      <td>April</td>\n",
              "      <td>1517</td>\n",
              "      <td>$555,000</td>\n",
              "      <td>$565,000</td>\n",
              "      <td>1.8%</td>\n",
              "      <td>$17,250</td>\n",
              "      <td>3.14%</td>\n",
              "      <td>11</td>\n",
              "    </tr>\n",
              "    <tr>\n",
              "      <th>10</th>\n",
              "      <td>March</td>\n",
              "      <td>1268</td>\n",
              "      <td>$544,950</td>\n",
              "      <td>$547,750</td>\n",
              "      <td>0.51%</td>\n",
              "      <td>$4,250</td>\n",
              "      <td>0.78%</td>\n",
              "      <td>11</td>\n",
              "    </tr>\n",
              "    <tr>\n",
              "      <th>11</th>\n",
              "      <td>February</td>\n",
              "      <td>1038</td>\n",
              "      <td>$539,000</td>\n",
              "      <td>$543,500</td>\n",
              "      <td>0.83%</td>\n",
              "      <td>$12,500</td>\n",
              "      <td>2.35%</td>\n",
              "      <td>14</td>\n",
              "    </tr>\n",
              "    <tr>\n",
              "      <th>12</th>\n",
              "      <td>January</td>\n",
              "      <td>831</td>\n",
              "      <td>$529,000</td>\n",
              "      <td>$531,000</td>\n",
              "      <td>0.37%</td>\n",
              "      <td>$4,500</td>\n",
              "      <td>0.85%</td>\n",
              "      <td>14</td>\n",
              "    </tr>\n",
              "  </tbody>\n",
              "</table>\n",
              "</div>"
            ],
            "text/plain": [
              "            0     1         2         3      4         5       6   7\n",
              "1    December   791  $579,900  $580,000  0.01%  -$12,250  -2.06%  15\n",
              "2    November  1256  $588,800  $592,250  0.58%    $2,250   0.38%  14\n",
              "3     October  1559  $588,800  $590,000   0.2%   $15,100   2.62%  14\n",
              "4   September  1447  $569,000  $574,900  1.03%    $4,900   0.85%  13\n",
              "5      August  1266  $569,000  $570,000  0.17%    $5,000   0.88%  15\n",
              "6        July  1515  $559,000  $565,000  1.07%   -$5,000  -0.87%  14\n",
              "7        June  1376  $569,000  $570,000  0.17%        $0      0%  13\n",
              "8         May  1618  $569,000  $570,000  0.17%    $5,000   0.88%  12\n",
              "9       April  1517  $555,000  $565,000   1.8%   $17,250   3.14%  11\n",
              "10      March  1268  $544,950  $547,750  0.51%    $4,250   0.78%  11\n",
              "11   February  1038  $539,000  $543,500  0.83%   $12,500   2.35%  14\n",
              "12    January   831  $529,000  $531,000  0.37%    $4,500   0.85%  14"
            ]
          },
          "metadata": {
            "tags": []
          },
          "execution_count": 7
        }
      ]
    },
    {
      "cell_type": "code",
      "metadata": {
        "id": "7gF-xLyGHq0V",
        "colab_type": "code",
        "colab": {}
      },
      "source": [
        "placeholder_df = pd.read_html(url)[1].drop(index=0)\n",
        "placeholder_df[0] = pd.to_datetime((placeholder_df[0] + \",2020\"))"
      ],
      "execution_count": 8,
      "outputs": []
    },
    {
      "cell_type": "code",
      "metadata": {
        "id": "oFeKFnWHHq0a",
        "colab_type": "code",
        "colab": {}
      },
      "source": [
        "# clear output during the loop to check progress\n",
        "from IPython.display import clear_output\n",
        "import timeit"
      ],
      "execution_count": 9,
      "outputs": []
    },
    {
      "cell_type": "code",
      "metadata": {
        "id": "jR46cJCsHq0g",
        "colab_type": "code",
        "colab": {
          "base_uri": "https://localhost:8080/",
          "height": 52
        },
        "outputId": "8dee63da-57c1-4f88-f01b-e069d2292f66"
      },
      "source": [
        "start = timeit.default_timer()\n",
        "\n",
        "if \"child_df\" in globals():\n",
        "    del child_df\n",
        "if \"parent_df\" in globals():\n",
        "    del parent_df\n",
        "\n",
        "year_list = [2020,2019,2018,2017,2016,2015,2014,2013,2012,2011,2010]\n",
        "# loop through all tables in the webpage\n",
        "for i in list(range(1,12)):\n",
        "    \n",
        "    clear_output(wait=True)\n",
        "    \n",
        "    if i != 1:\n",
        "        child_df = pd.read_html(url)[i].drop(index=0)\n",
        "        child_df[0] = pd.to_datetime((child_df[0]+ f\",{year_list[i-1]}\"))\n",
        "    else: \n",
        "        master_df = pd.read_html(url)[i].drop(index=0)\n",
        "        master_df[0] = pd.to_datetime((master_df[0] + f\",{year_list[i-1]}\"))\n",
        "\n",
        "    try:\n",
        "        master_df = pd.concat([master_df, child_df], axis=0)\n",
        "    except:\n",
        "        print(\"master_df stored\")\n",
        "    \n",
        "    \n",
        "    stop = timeit.default_timer()\n",
        "    print(f\"Current Progress: {np.round(((i)/ (len(range(12))-1)) * 100, 2)}%\")\n",
        "    print(f\"Current run time: {np.round((stop - start)/60, 2)} minutes\")"
      ],
      "execution_count": 10,
      "outputs": [
        {
          "output_type": "stream",
          "text": [
            "Current Progress: 100.0%\n",
            "Current run time: 0.24 minutes\n"
          ],
          "name": "stdout"
        }
      ]
    },
    {
      "cell_type": "code",
      "metadata": {
        "id": "v8hULTEBHq0m",
        "colab_type": "code",
        "colab": {
          "base_uri": "https://localhost:8080/",
          "height": 647
        },
        "outputId": "4cf147f5-3c2c-4182-b151-e90dce83a472"
      },
      "source": [
        "master_df.head(20)"
      ],
      "execution_count": 11,
      "outputs": [
        {
          "output_type": "execute_result",
          "data": {
            "text/html": [
              "<div>\n",
              "<style scoped>\n",
              "    .dataframe tbody tr th:only-of-type {\n",
              "        vertical-align: middle;\n",
              "    }\n",
              "\n",
              "    .dataframe tbody tr th {\n",
              "        vertical-align: top;\n",
              "    }\n",
              "\n",
              "    .dataframe thead th {\n",
              "        text-align: right;\n",
              "    }\n",
              "</style>\n",
              "<table border=\"1\" class=\"dataframe\">\n",
              "  <thead>\n",
              "    <tr style=\"text-align: right;\">\n",
              "      <th></th>\n",
              "      <th>0</th>\n",
              "      <th>1</th>\n",
              "      <th>2</th>\n",
              "      <th>3</th>\n",
              "      <th>4</th>\n",
              "      <th>5</th>\n",
              "      <th>6</th>\n",
              "      <th>7</th>\n",
              "    </tr>\n",
              "  </thead>\n",
              "  <tbody>\n",
              "    <tr>\n",
              "      <th>1</th>\n",
              "      <td>2020-07-01</td>\n",
              "      <td>1571</td>\n",
              "      <td>$599,900</td>\n",
              "      <td>$612,000</td>\n",
              "      <td>2.01%</td>\n",
              "      <td>$2,000</td>\n",
              "      <td>0.32%</td>\n",
              "      <td>12</td>\n",
              "    </tr>\n",
              "    <tr>\n",
              "      <th>2</th>\n",
              "      <td>2020-06-01</td>\n",
              "      <td>1258</td>\n",
              "      <td>$599,900</td>\n",
              "      <td>$610,000</td>\n",
              "      <td>1.68%</td>\n",
              "      <td>$14,950</td>\n",
              "      <td>2.51%</td>\n",
              "      <td>11</td>\n",
              "    </tr>\n",
              "    <tr>\n",
              "      <th>3</th>\n",
              "      <td>2020-05-01</td>\n",
              "      <td>692</td>\n",
              "      <td>$599,400</td>\n",
              "      <td>$595,050</td>\n",
              "      <td>-0.72%</td>\n",
              "      <td>$15,050</td>\n",
              "      <td>2.59%</td>\n",
              "      <td>14</td>\n",
              "    </tr>\n",
              "    <tr>\n",
              "      <th>4</th>\n",
              "      <td>2020-04-01</td>\n",
              "      <td>436</td>\n",
              "      <td>$579,900</td>\n",
              "      <td>$580,000</td>\n",
              "      <td>0.01%</td>\n",
              "      <td>-$55,000</td>\n",
              "      <td>-8.66%</td>\n",
              "      <td>14</td>\n",
              "    </tr>\n",
              "    <tr>\n",
              "      <th>5</th>\n",
              "      <td>2020-03-01</td>\n",
              "      <td>1308</td>\n",
              "      <td>$599,000</td>\n",
              "      <td>$635,000</td>\n",
              "      <td>6.01%</td>\n",
              "      <td>-$6,500</td>\n",
              "      <td>-1.01%</td>\n",
              "      <td>7</td>\n",
              "    </tr>\n",
              "    <tr>\n",
              "      <th>6</th>\n",
              "      <td>2020-02-01</td>\n",
              "      <td>1383</td>\n",
              "      <td>$599,900</td>\n",
              "      <td>$641,500</td>\n",
              "      <td>6.93%</td>\n",
              "      <td>$47,000</td>\n",
              "      <td>7.9%</td>\n",
              "      <td>8</td>\n",
              "    </tr>\n",
              "    <tr>\n",
              "      <th>7</th>\n",
              "      <td>2020-01-01</td>\n",
              "      <td>892</td>\n",
              "      <td>$579,950</td>\n",
              "      <td>$594,500</td>\n",
              "      <td>2.5%</td>\n",
              "      <td>$14,500</td>\n",
              "      <td>2.5%</td>\n",
              "      <td>10</td>\n",
              "    </tr>\n",
              "    <tr>\n",
              "      <th>1</th>\n",
              "      <td>2019-12-01</td>\n",
              "      <td>791</td>\n",
              "      <td>$579,900</td>\n",
              "      <td>$580,000</td>\n",
              "      <td>0.01%</td>\n",
              "      <td>-$12,250</td>\n",
              "      <td>-2.06%</td>\n",
              "      <td>15</td>\n",
              "    </tr>\n",
              "    <tr>\n",
              "      <th>2</th>\n",
              "      <td>2019-11-01</td>\n",
              "      <td>1256</td>\n",
              "      <td>$588,800</td>\n",
              "      <td>$592,250</td>\n",
              "      <td>0.58%</td>\n",
              "      <td>$2,250</td>\n",
              "      <td>0.38%</td>\n",
              "      <td>14</td>\n",
              "    </tr>\n",
              "    <tr>\n",
              "      <th>3</th>\n",
              "      <td>2019-10-01</td>\n",
              "      <td>1559</td>\n",
              "      <td>$588,800</td>\n",
              "      <td>$590,000</td>\n",
              "      <td>0.2%</td>\n",
              "      <td>$15,100</td>\n",
              "      <td>2.62%</td>\n",
              "      <td>14</td>\n",
              "    </tr>\n",
              "    <tr>\n",
              "      <th>4</th>\n",
              "      <td>2019-09-01</td>\n",
              "      <td>1447</td>\n",
              "      <td>$569,000</td>\n",
              "      <td>$574,900</td>\n",
              "      <td>1.03%</td>\n",
              "      <td>$4,900</td>\n",
              "      <td>0.85%</td>\n",
              "      <td>13</td>\n",
              "    </tr>\n",
              "    <tr>\n",
              "      <th>5</th>\n",
              "      <td>2019-08-01</td>\n",
              "      <td>1266</td>\n",
              "      <td>$569,000</td>\n",
              "      <td>$570,000</td>\n",
              "      <td>0.17%</td>\n",
              "      <td>$5,000</td>\n",
              "      <td>0.88%</td>\n",
              "      <td>15</td>\n",
              "    </tr>\n",
              "    <tr>\n",
              "      <th>6</th>\n",
              "      <td>2019-07-01</td>\n",
              "      <td>1515</td>\n",
              "      <td>$559,000</td>\n",
              "      <td>$565,000</td>\n",
              "      <td>1.07%</td>\n",
              "      <td>-$5,000</td>\n",
              "      <td>-0.87%</td>\n",
              "      <td>14</td>\n",
              "    </tr>\n",
              "    <tr>\n",
              "      <th>7</th>\n",
              "      <td>2019-06-01</td>\n",
              "      <td>1376</td>\n",
              "      <td>$569,000</td>\n",
              "      <td>$570,000</td>\n",
              "      <td>0.17%</td>\n",
              "      <td>$0</td>\n",
              "      <td>0%</td>\n",
              "      <td>13</td>\n",
              "    </tr>\n",
              "    <tr>\n",
              "      <th>8</th>\n",
              "      <td>2019-05-01</td>\n",
              "      <td>1618</td>\n",
              "      <td>$569,000</td>\n",
              "      <td>$570,000</td>\n",
              "      <td>0.17%</td>\n",
              "      <td>$5,000</td>\n",
              "      <td>0.88%</td>\n",
              "      <td>12</td>\n",
              "    </tr>\n",
              "    <tr>\n",
              "      <th>9</th>\n",
              "      <td>2019-04-01</td>\n",
              "      <td>1517</td>\n",
              "      <td>$555,000</td>\n",
              "      <td>$565,000</td>\n",
              "      <td>1.8%</td>\n",
              "      <td>$17,250</td>\n",
              "      <td>3.14%</td>\n",
              "      <td>11</td>\n",
              "    </tr>\n",
              "    <tr>\n",
              "      <th>10</th>\n",
              "      <td>2019-03-01</td>\n",
              "      <td>1268</td>\n",
              "      <td>$544,950</td>\n",
              "      <td>$547,750</td>\n",
              "      <td>0.51%</td>\n",
              "      <td>$4,250</td>\n",
              "      <td>0.78%</td>\n",
              "      <td>11</td>\n",
              "    </tr>\n",
              "    <tr>\n",
              "      <th>11</th>\n",
              "      <td>2019-02-01</td>\n",
              "      <td>1038</td>\n",
              "      <td>$539,000</td>\n",
              "      <td>$543,500</td>\n",
              "      <td>0.83%</td>\n",
              "      <td>$12,500</td>\n",
              "      <td>2.35%</td>\n",
              "      <td>14</td>\n",
              "    </tr>\n",
              "    <tr>\n",
              "      <th>12</th>\n",
              "      <td>2019-01-01</td>\n",
              "      <td>831</td>\n",
              "      <td>$529,000</td>\n",
              "      <td>$531,000</td>\n",
              "      <td>0.37%</td>\n",
              "      <td>$4,500</td>\n",
              "      <td>0.85%</td>\n",
              "      <td>14</td>\n",
              "    </tr>\n",
              "    <tr>\n",
              "      <th>1</th>\n",
              "      <td>2018-12-01</td>\n",
              "      <td>748</td>\n",
              "      <td>$530,950</td>\n",
              "      <td>$526,500</td>\n",
              "      <td>-0.83%</td>\n",
              "      <td>-$3,500</td>\n",
              "      <td>-0.66%</td>\n",
              "      <td>20</td>\n",
              "    </tr>\n",
              "  </tbody>\n",
              "</table>\n",
              "</div>"
            ],
            "text/plain": [
              "            0     1         2         3       4         5       6   7\n",
              "1  2020-07-01  1571  $599,900  $612,000   2.01%    $2,000   0.32%  12\n",
              "2  2020-06-01  1258  $599,900  $610,000   1.68%   $14,950   2.51%  11\n",
              "3  2020-05-01   692  $599,400  $595,050  -0.72%   $15,050   2.59%  14\n",
              "4  2020-04-01   436  $579,900  $580,000   0.01%  -$55,000  -8.66%  14\n",
              "5  2020-03-01  1308  $599,000  $635,000   6.01%   -$6,500  -1.01%   7\n",
              "6  2020-02-01  1383  $599,900  $641,500   6.93%   $47,000    7.9%   8\n",
              "7  2020-01-01   892  $579,950  $594,500    2.5%   $14,500    2.5%  10\n",
              "1  2019-12-01   791  $579,900  $580,000   0.01%  -$12,250  -2.06%  15\n",
              "2  2019-11-01  1256  $588,800  $592,250   0.58%    $2,250   0.38%  14\n",
              "3  2019-10-01  1559  $588,800  $590,000    0.2%   $15,100   2.62%  14\n",
              "4  2019-09-01  1447  $569,000  $574,900   1.03%    $4,900   0.85%  13\n",
              "5  2019-08-01  1266  $569,000  $570,000   0.17%    $5,000   0.88%  15\n",
              "6  2019-07-01  1515  $559,000  $565,000   1.07%   -$5,000  -0.87%  14\n",
              "7  2019-06-01  1376  $569,000  $570,000   0.17%        $0      0%  13\n",
              "8  2019-05-01  1618  $569,000  $570,000   0.17%    $5,000   0.88%  12\n",
              "9  2019-04-01  1517  $555,000  $565,000    1.8%   $17,250   3.14%  11\n",
              "10 2019-03-01  1268  $544,950  $547,750   0.51%    $4,250   0.78%  11\n",
              "11 2019-02-01  1038  $539,000  $543,500   0.83%   $12,500   2.35%  14\n",
              "12 2019-01-01   831  $529,000  $531,000   0.37%    $4,500   0.85%  14\n",
              "1  2018-12-01   748  $530,950  $526,500  -0.83%   -$3,500  -0.66%  20"
            ]
          },
          "metadata": {
            "tags": []
          },
          "execution_count": 11
        }
      ]
    },
    {
      "cell_type": "code",
      "metadata": {
        "id": "IM3PNeYqHq0q",
        "colab_type": "code",
        "colab": {
          "base_uri": "https://localhost:8080/",
          "height": 158
        },
        "outputId": "69a695ea-1806-4190-fa21-526f2f1a3c50"
      },
      "source": [
        "column_names"
      ],
      "execution_count": 12,
      "outputs": [
        {
          "output_type": "execute_result",
          "data": {
            "text/plain": [
              "['Month',\n",
              " '# of Sales',\n",
              " 'Avg List Price',\n",
              " 'Avg Sold Price',\n",
              " 'Above/Below Asking',\n",
              " 'Monthly Change ($)',\n",
              " 'Monthly Change (%)',\n",
              " 'Days on Market']"
            ]
          },
          "metadata": {
            "tags": []
          },
          "execution_count": 12
        }
      ]
    },
    {
      "cell_type": "code",
      "metadata": {
        "id": "pSCZqJFnHq0u",
        "colab_type": "code",
        "colab": {}
      },
      "source": [
        "# make column names lowercase and replace spaces with underscores\n",
        "for j in range(len(column_names)):\n",
        "    column_names[j] = column_names[j].lower()\n",
        "    column_names[j] = column_names[j].replace(\" \", \"_\")\n",
        "    "
      ],
      "execution_count": 13,
      "outputs": []
    },
    {
      "cell_type": "code",
      "metadata": {
        "id": "sPD7W9QyHq0x",
        "colab_type": "code",
        "colab": {}
      },
      "source": [
        "master_df.columns = column_names"
      ],
      "execution_count": 14,
      "outputs": []
    },
    {
      "cell_type": "code",
      "metadata": {
        "id": "fCcg77KlHq00",
        "colab_type": "code",
        "colab": {
          "base_uri": "https://localhost:8080/",
          "height": 197
        },
        "outputId": "f950cae7-736c-4271-f568-9671321a5714"
      },
      "source": [
        "master_df.head()"
      ],
      "execution_count": 15,
      "outputs": [
        {
          "output_type": "execute_result",
          "data": {
            "text/html": [
              "<div>\n",
              "<style scoped>\n",
              "    .dataframe tbody tr th:only-of-type {\n",
              "        vertical-align: middle;\n",
              "    }\n",
              "\n",
              "    .dataframe tbody tr th {\n",
              "        vertical-align: top;\n",
              "    }\n",
              "\n",
              "    .dataframe thead th {\n",
              "        text-align: right;\n",
              "    }\n",
              "</style>\n",
              "<table border=\"1\" class=\"dataframe\">\n",
              "  <thead>\n",
              "    <tr style=\"text-align: right;\">\n",
              "      <th></th>\n",
              "      <th>month</th>\n",
              "      <th>#_of_sales</th>\n",
              "      <th>avg_list_price</th>\n",
              "      <th>avg_sold_price</th>\n",
              "      <th>above/below_asking</th>\n",
              "      <th>monthly_change_($)</th>\n",
              "      <th>monthly_change_(%)</th>\n",
              "      <th>days_on_market</th>\n",
              "    </tr>\n",
              "  </thead>\n",
              "  <tbody>\n",
              "    <tr>\n",
              "      <th>1</th>\n",
              "      <td>2020-07-01</td>\n",
              "      <td>1571</td>\n",
              "      <td>$599,900</td>\n",
              "      <td>$612,000</td>\n",
              "      <td>2.01%</td>\n",
              "      <td>$2,000</td>\n",
              "      <td>0.32%</td>\n",
              "      <td>12</td>\n",
              "    </tr>\n",
              "    <tr>\n",
              "      <th>2</th>\n",
              "      <td>2020-06-01</td>\n",
              "      <td>1258</td>\n",
              "      <td>$599,900</td>\n",
              "      <td>$610,000</td>\n",
              "      <td>1.68%</td>\n",
              "      <td>$14,950</td>\n",
              "      <td>2.51%</td>\n",
              "      <td>11</td>\n",
              "    </tr>\n",
              "    <tr>\n",
              "      <th>3</th>\n",
              "      <td>2020-05-01</td>\n",
              "      <td>692</td>\n",
              "      <td>$599,400</td>\n",
              "      <td>$595,050</td>\n",
              "      <td>-0.72%</td>\n",
              "      <td>$15,050</td>\n",
              "      <td>2.59%</td>\n",
              "      <td>14</td>\n",
              "    </tr>\n",
              "    <tr>\n",
              "      <th>4</th>\n",
              "      <td>2020-04-01</td>\n",
              "      <td>436</td>\n",
              "      <td>$579,900</td>\n",
              "      <td>$580,000</td>\n",
              "      <td>0.01%</td>\n",
              "      <td>-$55,000</td>\n",
              "      <td>-8.66%</td>\n",
              "      <td>14</td>\n",
              "    </tr>\n",
              "    <tr>\n",
              "      <th>5</th>\n",
              "      <td>2020-03-01</td>\n",
              "      <td>1308</td>\n",
              "      <td>$599,000</td>\n",
              "      <td>$635,000</td>\n",
              "      <td>6.01%</td>\n",
              "      <td>-$6,500</td>\n",
              "      <td>-1.01%</td>\n",
              "      <td>7</td>\n",
              "    </tr>\n",
              "  </tbody>\n",
              "</table>\n",
              "</div>"
            ],
            "text/plain": [
              "       month #_of_sales  ... monthly_change_(%) days_on_market\n",
              "1 2020-07-01       1571  ...              0.32%             12\n",
              "2 2020-06-01       1258  ...              2.51%             11\n",
              "3 2020-05-01        692  ...              2.59%             14\n",
              "4 2020-04-01        436  ...             -8.66%             14\n",
              "5 2020-03-01       1308  ...             -1.01%              7\n",
              "\n",
              "[5 rows x 8 columns]"
            ]
          },
          "metadata": {
            "tags": []
          },
          "execution_count": 15
        }
      ]
    },
    {
      "cell_type": "code",
      "metadata": {
        "id": "aZnXhj6hHq02",
        "colab_type": "code",
        "colab": {}
      },
      "source": [
        "# replace headers that have $, % and # signs\n",
        "master_df.rename(columns = {\"#_of_sales\": \"num_sales\", \n",
        "                  \"monthly_change_($)\": \"month_change_dollars\", \n",
        "                  \"monthly_change_(%)\": \"monthly_change_percent\"}, \n",
        "                 inplace=True)"
      ],
      "execution_count": 16,
      "outputs": []
    },
    {
      "cell_type": "code",
      "metadata": {
        "id": "uwrDM1XMHq07",
        "colab_type": "code",
        "colab": {
          "base_uri": "https://localhost:8080/",
          "height": 197
        },
        "outputId": "339a4f0b-74f7-4dad-84d4-6810c25edb19"
      },
      "source": [
        "master_df.head()"
      ],
      "execution_count": 17,
      "outputs": [
        {
          "output_type": "execute_result",
          "data": {
            "text/html": [
              "<div>\n",
              "<style scoped>\n",
              "    .dataframe tbody tr th:only-of-type {\n",
              "        vertical-align: middle;\n",
              "    }\n",
              "\n",
              "    .dataframe tbody tr th {\n",
              "        vertical-align: top;\n",
              "    }\n",
              "\n",
              "    .dataframe thead th {\n",
              "        text-align: right;\n",
              "    }\n",
              "</style>\n",
              "<table border=\"1\" class=\"dataframe\">\n",
              "  <thead>\n",
              "    <tr style=\"text-align: right;\">\n",
              "      <th></th>\n",
              "      <th>month</th>\n",
              "      <th>num_sales</th>\n",
              "      <th>avg_list_price</th>\n",
              "      <th>avg_sold_price</th>\n",
              "      <th>above/below_asking</th>\n",
              "      <th>month_change_dollars</th>\n",
              "      <th>monthly_change_percent</th>\n",
              "      <th>days_on_market</th>\n",
              "    </tr>\n",
              "  </thead>\n",
              "  <tbody>\n",
              "    <tr>\n",
              "      <th>1</th>\n",
              "      <td>2020-07-01</td>\n",
              "      <td>1571</td>\n",
              "      <td>$599,900</td>\n",
              "      <td>$612,000</td>\n",
              "      <td>2.01%</td>\n",
              "      <td>$2,000</td>\n",
              "      <td>0.32%</td>\n",
              "      <td>12</td>\n",
              "    </tr>\n",
              "    <tr>\n",
              "      <th>2</th>\n",
              "      <td>2020-06-01</td>\n",
              "      <td>1258</td>\n",
              "      <td>$599,900</td>\n",
              "      <td>$610,000</td>\n",
              "      <td>1.68%</td>\n",
              "      <td>$14,950</td>\n",
              "      <td>2.51%</td>\n",
              "      <td>11</td>\n",
              "    </tr>\n",
              "    <tr>\n",
              "      <th>3</th>\n",
              "      <td>2020-05-01</td>\n",
              "      <td>692</td>\n",
              "      <td>$599,400</td>\n",
              "      <td>$595,050</td>\n",
              "      <td>-0.72%</td>\n",
              "      <td>$15,050</td>\n",
              "      <td>2.59%</td>\n",
              "      <td>14</td>\n",
              "    </tr>\n",
              "    <tr>\n",
              "      <th>4</th>\n",
              "      <td>2020-04-01</td>\n",
              "      <td>436</td>\n",
              "      <td>$579,900</td>\n",
              "      <td>$580,000</td>\n",
              "      <td>0.01%</td>\n",
              "      <td>-$55,000</td>\n",
              "      <td>-8.66%</td>\n",
              "      <td>14</td>\n",
              "    </tr>\n",
              "    <tr>\n",
              "      <th>5</th>\n",
              "      <td>2020-03-01</td>\n",
              "      <td>1308</td>\n",
              "      <td>$599,000</td>\n",
              "      <td>$635,000</td>\n",
              "      <td>6.01%</td>\n",
              "      <td>-$6,500</td>\n",
              "      <td>-1.01%</td>\n",
              "      <td>7</td>\n",
              "    </tr>\n",
              "  </tbody>\n",
              "</table>\n",
              "</div>"
            ],
            "text/plain": [
              "       month num_sales  ... monthly_change_percent days_on_market\n",
              "1 2020-07-01      1571  ...                  0.32%             12\n",
              "2 2020-06-01      1258  ...                  2.51%             11\n",
              "3 2020-05-01       692  ...                  2.59%             14\n",
              "4 2020-04-01       436  ...                 -8.66%             14\n",
              "5 2020-03-01      1308  ...                 -1.01%              7\n",
              "\n",
              "[5 rows x 8 columns]"
            ]
          },
          "metadata": {
            "tags": []
          },
          "execution_count": 17
        }
      ]
    },
    {
      "cell_type": "code",
      "metadata": {
        "id": "BrwuZdQvHq1A",
        "colab_type": "code",
        "colab": {
          "base_uri": "https://localhost:8080/",
          "height": 105
        },
        "outputId": "0d5fc68a-acf6-4612-deb5-bc94ec79244b"
      },
      "source": [
        "# remove dollar signs to change datatypesto float\n",
        "for a in range(master_df.shape[0]):\n",
        "    master_df['avg_list_price'].iloc[a] = master_df[\"avg_list_price\"].iloc[a].replace(\"$\",\"\").replace(\",\",\"\")\n",
        "    master_df['avg_sold_price'].iloc[a] = master_df['avg_sold_price'].iloc[a].replace(\"$\",\"\").replace(\",\",\"\")\n",
        "    master_df['above/below_asking'].iloc[a] = master_df[\"above/below_asking\"].iloc[a].replace(\"%\",\"\")\n",
        "    master_df['month_change_dollars'].iloc[a] = master_df[\"month_change_dollars\"].iloc[a].replace(\"$\",\"\").replace(\",\",\"\")\n",
        "    master_df['monthly_change_percent'].iloc[a] = master_df[\"monthly_change_percent\"].iloc[a].replace(\"%\",\"\")"
      ],
      "execution_count": 18,
      "outputs": [
        {
          "output_type": "stream",
          "text": [
            "/usr/local/lib/python3.6/dist-packages/pandas/core/indexing.py:671: SettingWithCopyWarning: \n",
            "A value is trying to be set on a copy of a slice from a DataFrame\n",
            "\n",
            "See the caveats in the documentation: https://pandas.pydata.org/pandas-docs/stable/user_guide/indexing.html#returning-a-view-versus-a-copy\n",
            "  self._setitem_with_indexer(indexer, value)\n"
          ],
          "name": "stderr"
        }
      ]
    },
    {
      "cell_type": "code",
      "metadata": {
        "id": "V8BYtZ9NHq1I",
        "colab_type": "code",
        "colab": {
          "base_uri": "https://localhost:8080/",
          "height": 283
        },
        "outputId": "badcaf94-bc79-4a6f-9374-8c3aac618fbc"
      },
      "source": [
        "master_df.info()"
      ],
      "execution_count": 19,
      "outputs": [
        {
          "output_type": "stream",
          "text": [
            "<class 'pandas.core.frame.DataFrame'>\n",
            "Int64Index: 127 entries, 1 to 12\n",
            "Data columns (total 8 columns):\n",
            " #   Column                  Non-Null Count  Dtype         \n",
            "---  ------                  --------------  -----         \n",
            " 0   month                   127 non-null    datetime64[ns]\n",
            " 1   num_sales               127 non-null    object        \n",
            " 2   avg_list_price          127 non-null    object        \n",
            " 3   avg_sold_price          127 non-null    object        \n",
            " 4   above/below_asking      127 non-null    object        \n",
            " 5   month_change_dollars    127 non-null    object        \n",
            " 6   monthly_change_percent  127 non-null    object        \n",
            " 7   days_on_market          127 non-null    object        \n",
            "dtypes: datetime64[ns](1), object(7)\n",
            "memory usage: 8.9+ KB\n"
          ],
          "name": "stdout"
        }
      ]
    },
    {
      "cell_type": "code",
      "metadata": {
        "id": "i367uvuvHq1O",
        "colab_type": "code",
        "colab": {
          "base_uri": "https://localhost:8080/",
          "height": 197
        },
        "outputId": "45ba36df-e308-4f1e-f42e-39fbc20e4154"
      },
      "source": [
        "master_df.head()"
      ],
      "execution_count": 20,
      "outputs": [
        {
          "output_type": "execute_result",
          "data": {
            "text/html": [
              "<div>\n",
              "<style scoped>\n",
              "    .dataframe tbody tr th:only-of-type {\n",
              "        vertical-align: middle;\n",
              "    }\n",
              "\n",
              "    .dataframe tbody tr th {\n",
              "        vertical-align: top;\n",
              "    }\n",
              "\n",
              "    .dataframe thead th {\n",
              "        text-align: right;\n",
              "    }\n",
              "</style>\n",
              "<table border=\"1\" class=\"dataframe\">\n",
              "  <thead>\n",
              "    <tr style=\"text-align: right;\">\n",
              "      <th></th>\n",
              "      <th>month</th>\n",
              "      <th>num_sales</th>\n",
              "      <th>avg_list_price</th>\n",
              "      <th>avg_sold_price</th>\n",
              "      <th>above/below_asking</th>\n",
              "      <th>month_change_dollars</th>\n",
              "      <th>monthly_change_percent</th>\n",
              "      <th>days_on_market</th>\n",
              "    </tr>\n",
              "  </thead>\n",
              "  <tbody>\n",
              "    <tr>\n",
              "      <th>1</th>\n",
              "      <td>2020-07-01</td>\n",
              "      <td>1571</td>\n",
              "      <td>599900</td>\n",
              "      <td>612000</td>\n",
              "      <td>2.01</td>\n",
              "      <td>2000</td>\n",
              "      <td>0.32</td>\n",
              "      <td>12</td>\n",
              "    </tr>\n",
              "    <tr>\n",
              "      <th>2</th>\n",
              "      <td>2020-06-01</td>\n",
              "      <td>1258</td>\n",
              "      <td>599900</td>\n",
              "      <td>610000</td>\n",
              "      <td>1.68</td>\n",
              "      <td>14950</td>\n",
              "      <td>2.51</td>\n",
              "      <td>11</td>\n",
              "    </tr>\n",
              "    <tr>\n",
              "      <th>3</th>\n",
              "      <td>2020-05-01</td>\n",
              "      <td>692</td>\n",
              "      <td>599400</td>\n",
              "      <td>595050</td>\n",
              "      <td>-0.72</td>\n",
              "      <td>15050</td>\n",
              "      <td>2.59</td>\n",
              "      <td>14</td>\n",
              "    </tr>\n",
              "    <tr>\n",
              "      <th>4</th>\n",
              "      <td>2020-04-01</td>\n",
              "      <td>436</td>\n",
              "      <td>579900</td>\n",
              "      <td>580000</td>\n",
              "      <td>0.01</td>\n",
              "      <td>-55000</td>\n",
              "      <td>-8.66</td>\n",
              "      <td>14</td>\n",
              "    </tr>\n",
              "    <tr>\n",
              "      <th>5</th>\n",
              "      <td>2020-03-01</td>\n",
              "      <td>1308</td>\n",
              "      <td>599000</td>\n",
              "      <td>635000</td>\n",
              "      <td>6.01</td>\n",
              "      <td>-6500</td>\n",
              "      <td>-1.01</td>\n",
              "      <td>7</td>\n",
              "    </tr>\n",
              "  </tbody>\n",
              "</table>\n",
              "</div>"
            ],
            "text/plain": [
              "       month num_sales  ... monthly_change_percent days_on_market\n",
              "1 2020-07-01      1571  ...                   0.32             12\n",
              "2 2020-06-01      1258  ...                   2.51             11\n",
              "3 2020-05-01       692  ...                   2.59             14\n",
              "4 2020-04-01       436  ...                  -8.66             14\n",
              "5 2020-03-01      1308  ...                  -1.01              7\n",
              "\n",
              "[5 rows x 8 columns]"
            ]
          },
          "metadata": {
            "tags": []
          },
          "execution_count": 20
        }
      ]
    },
    {
      "cell_type": "code",
      "metadata": {
        "id": "zH6ReQ7iHq1S",
        "colab_type": "code",
        "colab": {
          "base_uri": "https://localhost:8080/",
          "height": 70
        },
        "outputId": "c721be34-f445-4bde-e77b-04bf308c5fd5"
      },
      "source": [
        "master_df.columns.values"
      ],
      "execution_count": 21,
      "outputs": [
        {
          "output_type": "execute_result",
          "data": {
            "text/plain": [
              "array(['month', 'num_sales', 'avg_list_price', 'avg_sold_price',\n",
              "       'above/below_asking', 'month_change_dollars',\n",
              "       'monthly_change_percent', 'days_on_market'], dtype=object)"
            ]
          },
          "metadata": {
            "tags": []
          },
          "execution_count": 21
        }
      ]
    },
    {
      "cell_type": "code",
      "metadata": {
        "id": "MHApuaGiHq1V",
        "colab_type": "code",
        "colab": {}
      },
      "source": [
        "for b in range(1, master_df.shape[1]):\n",
        "    master_df[master_df.columns.values[b]] =master_df[master_df.columns.values[b]].astype(\"float\")\n"
      ],
      "execution_count": 22,
      "outputs": []
    },
    {
      "cell_type": "code",
      "metadata": {
        "id": "-XyWeVacHq1Y",
        "colab_type": "code",
        "colab": {
          "base_uri": "https://localhost:8080/",
          "height": 176
        },
        "outputId": "270be26c-f8ae-4909-cb42-2e01e1ad625d"
      },
      "source": [
        "master_df.dtypes"
      ],
      "execution_count": 23,
      "outputs": [
        {
          "output_type": "execute_result",
          "data": {
            "text/plain": [
              "month                     datetime64[ns]\n",
              "num_sales                        float64\n",
              "avg_list_price                   float64\n",
              "avg_sold_price                   float64\n",
              "above/below_asking               float64\n",
              "month_change_dollars             float64\n",
              "monthly_change_percent           float64\n",
              "days_on_market                   float64\n",
              "dtype: object"
            ]
          },
          "metadata": {
            "tags": []
          },
          "execution_count": 23
        }
      ]
    },
    {
      "cell_type": "code",
      "metadata": {
        "id": "u1tA6Sz7Hq1d",
        "colab_type": "code",
        "colab": {
          "base_uri": "https://localhost:8080/",
          "height": 257
        },
        "outputId": "25638af5-2895-406b-bbb3-c2a4d83f310f"
      },
      "source": [
        "master_df.corr()"
      ],
      "execution_count": 24,
      "outputs": [
        {
          "output_type": "execute_result",
          "data": {
            "text/html": [
              "<div>\n",
              "<style scoped>\n",
              "    .dataframe tbody tr th:only-of-type {\n",
              "        vertical-align: middle;\n",
              "    }\n",
              "\n",
              "    .dataframe tbody tr th {\n",
              "        vertical-align: top;\n",
              "    }\n",
              "\n",
              "    .dataframe thead th {\n",
              "        text-align: right;\n",
              "    }\n",
              "</style>\n",
              "<table border=\"1\" class=\"dataframe\">\n",
              "  <thead>\n",
              "    <tr style=\"text-align: right;\">\n",
              "      <th></th>\n",
              "      <th>num_sales</th>\n",
              "      <th>avg_list_price</th>\n",
              "      <th>avg_sold_price</th>\n",
              "      <th>above/below_asking</th>\n",
              "      <th>month_change_dollars</th>\n",
              "      <th>monthly_change_percent</th>\n",
              "      <th>days_on_market</th>\n",
              "    </tr>\n",
              "  </thead>\n",
              "  <tbody>\n",
              "    <tr>\n",
              "      <th>num_sales</th>\n",
              "      <td>1.000000</td>\n",
              "      <td>-0.093682</td>\n",
              "      <td>-0.061819</td>\n",
              "      <td>0.261938</td>\n",
              "      <td>-0.004121</td>\n",
              "      <td>0.177547</td>\n",
              "      <td>-0.343982</td>\n",
              "    </tr>\n",
              "    <tr>\n",
              "      <th>avg_list_price</th>\n",
              "      <td>-0.093682</td>\n",
              "      <td>1.000000</td>\n",
              "      <td>0.995926</td>\n",
              "      <td>0.537956</td>\n",
              "      <td>-0.044821</td>\n",
              "      <td>0.102609</td>\n",
              "      <td>-0.716589</td>\n",
              "    </tr>\n",
              "    <tr>\n",
              "      <th>avg_sold_price</th>\n",
              "      <td>-0.061819</td>\n",
              "      <td>0.995926</td>\n",
              "      <td>1.000000</td>\n",
              "      <td>0.610425</td>\n",
              "      <td>-0.026509</td>\n",
              "      <td>0.124898</td>\n",
              "      <td>-0.752329</td>\n",
              "    </tr>\n",
              "    <tr>\n",
              "      <th>above/below_asking</th>\n",
              "      <td>0.261938</td>\n",
              "      <td>0.537956</td>\n",
              "      <td>0.610425</td>\n",
              "      <td>1.000000</td>\n",
              "      <td>0.162714</td>\n",
              "      <td>0.270839</td>\n",
              "      <td>-0.786538</td>\n",
              "    </tr>\n",
              "    <tr>\n",
              "      <th>month_change_dollars</th>\n",
              "      <td>-0.004121</td>\n",
              "      <td>-0.044821</td>\n",
              "      <td>-0.026509</td>\n",
              "      <td>0.162714</td>\n",
              "      <td>1.000000</td>\n",
              "      <td>0.364107</td>\n",
              "      <td>-0.180198</td>\n",
              "    </tr>\n",
              "    <tr>\n",
              "      <th>monthly_change_percent</th>\n",
              "      <td>0.177547</td>\n",
              "      <td>0.102609</td>\n",
              "      <td>0.124898</td>\n",
              "      <td>0.270839</td>\n",
              "      <td>0.364107</td>\n",
              "      <td>1.000000</td>\n",
              "      <td>-0.274585</td>\n",
              "    </tr>\n",
              "    <tr>\n",
              "      <th>days_on_market</th>\n",
              "      <td>-0.343982</td>\n",
              "      <td>-0.716589</td>\n",
              "      <td>-0.752329</td>\n",
              "      <td>-0.786538</td>\n",
              "      <td>-0.180198</td>\n",
              "      <td>-0.274585</td>\n",
              "      <td>1.000000</td>\n",
              "    </tr>\n",
              "  </tbody>\n",
              "</table>\n",
              "</div>"
            ],
            "text/plain": [
              "                        num_sales  ...  days_on_market\n",
              "num_sales                1.000000  ...       -0.343982\n",
              "avg_list_price          -0.093682  ...       -0.716589\n",
              "avg_sold_price          -0.061819  ...       -0.752329\n",
              "above/below_asking       0.261938  ...       -0.786538\n",
              "month_change_dollars    -0.004121  ...       -0.180198\n",
              "monthly_change_percent   0.177547  ...       -0.274585\n",
              "days_on_market          -0.343982  ...        1.000000\n",
              "\n",
              "[7 rows x 7 columns]"
            ]
          },
          "metadata": {
            "tags": []
          },
          "execution_count": 24
        }
      ]
    },
    {
      "cell_type": "code",
      "metadata": {
        "id": "OedqhJHpHq1i",
        "colab_type": "code",
        "colab": {}
      },
      "source": [
        "sold_price = master_df[['month','avg_sold_price']].set_index(\"month\")"
      ],
      "execution_count": 30,
      "outputs": []
    },
    {
      "cell_type": "code",
      "metadata": {
        "id": "2Qk-FPsNQvXN",
        "colab_type": "code",
        "colab": {
          "base_uri": "https://localhost:8080/",
          "height": 436
        },
        "outputId": "ba4e062f-75d5-4b37-b8fb-1bc223629abf"
      },
      "source": [
        "sold_price"
      ],
      "execution_count": 31,
      "outputs": [
        {
          "output_type": "execute_result",
          "data": {
            "text/html": [
              "<div>\n",
              "<style scoped>\n",
              "    .dataframe tbody tr th:only-of-type {\n",
              "        vertical-align: middle;\n",
              "    }\n",
              "\n",
              "    .dataframe tbody tr th {\n",
              "        vertical-align: top;\n",
              "    }\n",
              "\n",
              "    .dataframe thead th {\n",
              "        text-align: right;\n",
              "    }\n",
              "</style>\n",
              "<table border=\"1\" class=\"dataframe\">\n",
              "  <thead>\n",
              "    <tr style=\"text-align: right;\">\n",
              "      <th></th>\n",
              "      <th>avg_sold_price</th>\n",
              "    </tr>\n",
              "    <tr>\n",
              "      <th>month</th>\n",
              "      <th></th>\n",
              "    </tr>\n",
              "  </thead>\n",
              "  <tbody>\n",
              "    <tr>\n",
              "      <th>2020-07-01</th>\n",
              "      <td>612000.0</td>\n",
              "    </tr>\n",
              "    <tr>\n",
              "      <th>2020-06-01</th>\n",
              "      <td>610000.0</td>\n",
              "    </tr>\n",
              "    <tr>\n",
              "      <th>2020-05-01</th>\n",
              "      <td>595050.0</td>\n",
              "    </tr>\n",
              "    <tr>\n",
              "      <th>2020-04-01</th>\n",
              "      <td>580000.0</td>\n",
              "    </tr>\n",
              "    <tr>\n",
              "      <th>2020-03-01</th>\n",
              "      <td>635000.0</td>\n",
              "    </tr>\n",
              "    <tr>\n",
              "      <th>...</th>\n",
              "      <td>...</td>\n",
              "    </tr>\n",
              "    <tr>\n",
              "      <th>2010-05-01</th>\n",
              "      <td>310000.0</td>\n",
              "    </tr>\n",
              "    <tr>\n",
              "      <th>2010-04-01</th>\n",
              "      <td>303000.0</td>\n",
              "    </tr>\n",
              "    <tr>\n",
              "      <th>2010-03-01</th>\n",
              "      <td>307500.0</td>\n",
              "    </tr>\n",
              "    <tr>\n",
              "      <th>2010-02-01</th>\n",
              "      <td>309000.0</td>\n",
              "    </tr>\n",
              "    <tr>\n",
              "      <th>2010-01-01</th>\n",
              "      <td>292500.0</td>\n",
              "    </tr>\n",
              "  </tbody>\n",
              "</table>\n",
              "<p>127 rows × 1 columns</p>\n",
              "</div>"
            ],
            "text/plain": [
              "            avg_sold_price\n",
              "month                     \n",
              "2020-07-01        612000.0\n",
              "2020-06-01        610000.0\n",
              "2020-05-01        595050.0\n",
              "2020-04-01        580000.0\n",
              "2020-03-01        635000.0\n",
              "...                    ...\n",
              "2010-05-01        310000.0\n",
              "2010-04-01        303000.0\n",
              "2010-03-01        307500.0\n",
              "2010-02-01        309000.0\n",
              "2010-01-01        292500.0\n",
              "\n",
              "[127 rows x 1 columns]"
            ]
          },
          "metadata": {
            "tags": []
          },
          "execution_count": 31
        }
      ]
    },
    {
      "cell_type": "code",
      "metadata": {
        "id": "sJXpZ0SjRI3Y",
        "colab_type": "code",
        "colab": {
          "base_uri": "https://localhost:8080/",
          "height": 296
        },
        "outputId": "dc6a8bfe-41ed-470f-b4ff-9c641dcae5a2"
      },
      "source": [
        "sold_price.plot()"
      ],
      "execution_count": 34,
      "outputs": [
        {
          "output_type": "execute_result",
          "data": {
            "text/plain": [
              "<matplotlib.axes._subplots.AxesSubplot at 0x7f3b7e8c6160>"
            ]
          },
          "metadata": {
            "tags": []
          },
          "execution_count": 34
        },
        {
          "output_type": "display_data",
          "data": {
            "image/png": "[encoded data removed]",
            "text/plain": [
              "<Figure size 432x288 with 1 Axes>"
            ]
          },
          "metadata": {
            "tags": [],
            "needs_background": "light"
          }
        }
      ]
    },
    {
      "cell_type": "markdown",
      "metadata": {
        "id": "Y4FzLhwiRNtv",
        "colab_type": "text"
      },
      "source": [
        "Find seasonality in the trend"
      ]
    },
    {
      "cell_type": "code",
      "metadata": {
        "id": "fcjk0CW9Qe-S",
        "colab_type": "code",
        "colab": {}
      },
      "source": [
        "from statsmodels.tsa.seasonal import seasonal_decompose"
      ],
      "execution_count": 26,
      "outputs": []
    },
    {
      "cell_type": "code",
      "metadata": {
        "id": "k1QTUs4QQmjq",
        "colab_type": "code",
        "colab": {}
      },
      "source": [
        "results = seasonal_decompose(sold_price)"
      ],
      "execution_count": 32,
      "outputs": []
    },
    {
      "cell_type": "code",
      "metadata": {
        "id": "GWe5hReCQqpS",
        "colab_type": "code",
        "colab": {
          "base_uri": "https://localhost:8080/",
          "height": 578
        },
        "outputId": "42e54b92-de13-423c-a20a-5f930a644b82"
      },
      "source": [
        "results.plot()"
      ],
      "execution_count": 33,
      "outputs": [
        {
          "output_type": "execute_result",
          "data": {
            "image/png": "[encoded data removed]",
            "text/plain": [
              "<Figure size 432x288 with 4 Axes>"
            ]
          },
          "metadata": {
            "tags": []
          },
          "execution_count": 33
        },
        {
          "output_type": "display_data",
          "data": {
            "image/png": "[encoded data removed]",
            "text/plain": [
              "<Figure size 432x288 with 4 Axes>"
            ]
          },
          "metadata": {
            "tags": [],
            "needs_background": "light"
          }
        }
      ]
    },
    {
      "cell_type": "code",
      "metadata": {
        "id": "WgbRe-0cHq1o",
        "colab_type": "code",
        "colab": {
          "base_uri": "https://localhost:8080/",
          "height": 514
        },
        "outputId": "85a1ab1b-98cd-4305-bc2f-6ab0aec371d9"
      },
      "source": [
        "# get just the seasonal component\n",
        "results.seasonal.plot(figsize=(16,8))"
      ],
      "execution_count": 36,
      "outputs": [
        {
          "output_type": "execute_result",
          "data": {
            "text/plain": [
              "<matplotlib.axes._subplots.AxesSubplot at 0x7f3b7e7f7dd8>"
            ]
          },
          "metadata": {
            "tags": []
          },
          "execution_count": 36
        },
        {
          "output_type": "display_data",
          "data": {
            "image/png": "[encoded data removed]",
            "text/plain": [
              "<Figure size 1152x576 with 1 Axes>"
            ]
          },
          "metadata": {
            "tags": [],
            "needs_background": "light"
          }
        }
      ]
    },
    {
      "cell_type": "code",
      "metadata": {
        "id": "q2GckHMBHq1u",
        "colab_type": "code",
        "colab": {
          "base_uri": "https://localhost:8080/",
          "height": 34
        },
        "outputId": "c90e63a2-1d0e-442e-9d34-c1ba1ccbcd82"
      },
      "source": [
        "len(sold_price)"
      ],
      "execution_count": 38,
      "outputs": [
        {
          "output_type": "execute_result",
          "data": {
            "text/plain": [
              "127"
            ]
          },
          "metadata": {
            "tags": []
          },
          "execution_count": 38
        }
      ]
    },
    {
      "cell_type": "markdown",
      "metadata": {
        "id": "YsO2MuBWRwV1",
        "colab_type": "text"
      },
      "source": [
        "split into training and testing data. instead of using train_test_split, i'll just \"predict\" one year into the future, which is 12 datapoints (127 - 12 = 115)"
      ]
    },
    {
      "cell_type": "code",
      "metadata": {
        "id": "Wx1xvT-mWf76",
        "colab_type": "code",
        "colab": {}
      },
      "source": [
        "# reverse the order of the dataframe so dates start from the year 2010\n",
        "sold_price = sold_price.iloc[::-1]"
      ],
      "execution_count": 48,
      "outputs": []
    },
    {
      "cell_type": "code",
      "metadata": {
        "id": "lBXpnC56SzEi",
        "colab_type": "code",
        "colab": {}
      },
      "source": [
        "train = sold_price.iloc[:115]\n",
        "test = sold_price.iloc[115:]"
      ],
      "execution_count": 49,
      "outputs": []
    },
    {
      "cell_type": "code",
      "metadata": {
        "id": "cz0cQscNWT0M",
        "colab_type": "code",
        "colab": {
          "base_uri": "https://localhost:8080/",
          "height": 437
        },
        "outputId": "c8763433-58ce-41bc-97f1-6710db39c3e9"
      },
      "source": [
        "train\n",
        "test"
      ],
      "execution_count": 53,
      "outputs": [
        {
          "output_type": "execute_result",
          "data": {
            "text/html": [
              "<div>\n",
              "<style scoped>\n",
              "    .dataframe tbody tr th:only-of-type {\n",
              "        vertical-align: middle;\n",
              "    }\n",
              "\n",
              "    .dataframe tbody tr th {\n",
              "        vertical-align: top;\n",
              "    }\n",
              "\n",
              "    .dataframe thead th {\n",
              "        text-align: right;\n",
              "    }\n",
              "</style>\n",
              "<table border=\"1\" class=\"dataframe\">\n",
              "  <thead>\n",
              "    <tr style=\"text-align: right;\">\n",
              "      <th></th>\n",
              "      <th>avg_sold_price</th>\n",
              "    </tr>\n",
              "    <tr>\n",
              "      <th>month</th>\n",
              "      <th></th>\n",
              "    </tr>\n",
              "  </thead>\n",
              "  <tbody>\n",
              "    <tr>\n",
              "      <th>2019-08-01</th>\n",
              "      <td>570000.0</td>\n",
              "    </tr>\n",
              "    <tr>\n",
              "      <th>2019-09-01</th>\n",
              "      <td>574900.0</td>\n",
              "    </tr>\n",
              "    <tr>\n",
              "      <th>2019-10-01</th>\n",
              "      <td>590000.0</td>\n",
              "    </tr>\n",
              "    <tr>\n",
              "      <th>2019-11-01</th>\n",
              "      <td>592250.0</td>\n",
              "    </tr>\n",
              "    <tr>\n",
              "      <th>2019-12-01</th>\n",
              "      <td>580000.0</td>\n",
              "    </tr>\n",
              "    <tr>\n",
              "      <th>2020-01-01</th>\n",
              "      <td>594500.0</td>\n",
              "    </tr>\n",
              "    <tr>\n",
              "      <th>2020-02-01</th>\n",
              "      <td>641500.0</td>\n",
              "    </tr>\n",
              "    <tr>\n",
              "      <th>2020-03-01</th>\n",
              "      <td>635000.0</td>\n",
              "    </tr>\n",
              "    <tr>\n",
              "      <th>2020-04-01</th>\n",
              "      <td>580000.0</td>\n",
              "    </tr>\n",
              "    <tr>\n",
              "      <th>2020-05-01</th>\n",
              "      <td>595050.0</td>\n",
              "    </tr>\n",
              "    <tr>\n",
              "      <th>2020-06-01</th>\n",
              "      <td>610000.0</td>\n",
              "    </tr>\n",
              "    <tr>\n",
              "      <th>2020-07-01</th>\n",
              "      <td>612000.0</td>\n",
              "    </tr>\n",
              "  </tbody>\n",
              "</table>\n",
              "</div>"
            ],
            "text/plain": [
              "            avg_sold_price\n",
              "month                     \n",
              "2019-08-01        570000.0\n",
              "2019-09-01        574900.0\n",
              "2019-10-01        590000.0\n",
              "2019-11-01        592250.0\n",
              "2019-12-01        580000.0\n",
              "2020-01-01        594500.0\n",
              "2020-02-01        641500.0\n",
              "2020-03-01        635000.0\n",
              "2020-04-01        580000.0\n",
              "2020-05-01        595050.0\n",
              "2020-06-01        610000.0\n",
              "2020-07-01        612000.0"
            ]
          },
          "metadata": {
            "tags": []
          },
          "execution_count": 53
        }
      ]
    },
    {
      "cell_type": "code",
      "metadata": {
        "id": "HDnm4ijdSFpi",
        "colab_type": "code",
        "colab": {}
      },
      "source": [
        "# from sklearn.model_selection import train_test_split"
      ],
      "execution_count": 41,
      "outputs": []
    },
    {
      "cell_type": "code",
      "metadata": {
        "id": "ejsg-ewBRyYR",
        "colab_type": "code",
        "colab": {}
      },
      "source": [
        "from sklearn.preprocessing import MinMaxScaler"
      ],
      "execution_count": 54,
      "outputs": []
    },
    {
      "cell_type": "code",
      "metadata": {
        "id": "FeRhepLmSMRA",
        "colab_type": "code",
        "colab": {}
      },
      "source": [
        "scaler = MinMaxScaler()"
      ],
      "execution_count": 55,
      "outputs": []
    },
    {
      "cell_type": "code",
      "metadata": {
        "id": "XgRbUaFhauo5",
        "colab_type": "code",
        "colab": {}
      },
      "source": [
        "scaled_train = scaler.fit_transform(train)\n",
        "scaled_test = scaler.transform(test)"
      ],
      "execution_count": 56,
      "outputs": []
    },
    {
      "cell_type": "code",
      "metadata": {
        "id": "tb6B2-lIbDNH",
        "colab_type": "code",
        "colab": {}
      },
      "source": [
        "from keras.preprocessing.sequence import TimeseriesGenerator"
      ],
      "execution_count": 57,
      "outputs": []
    },
    {
      "cell_type": "code",
      "metadata": {
        "id": "uChtk-I4bGwX",
        "colab_type": "code",
        "colab": {
          "base_uri": "https://localhost:8080/",
          "height": 105
        },
        "outputId": "db479c51-88f1-4828-96db-bba925262f64"
      },
      "source": [
        "scaled_train[:5]"
      ],
      "execution_count": 59,
      "outputs": [
        {
          "output_type": "execute_result",
          "data": {
            "text/plain": [
              "array([[0.        ],\n",
              "       [0.05945946],\n",
              "       [0.05405405],\n",
              "       [0.03783784],\n",
              "       [0.06306306]])"
            ]
          },
          "metadata": {
            "tags": []
          },
          "execution_count": 59
        }
      ]
    },
    {
      "cell_type": "markdown",
      "metadata": {
        "id": "RnhWRgL0cclp",
        "colab_type": "text"
      },
      "source": [
        "i will use 12 for the number of inputs because yearly seasonality seem to exist for this dataset"
      ]
    },
    {
      "cell_type": "code",
      "metadata": {
        "id": "CyIItuYfR3xw",
        "colab_type": "code",
        "colab": {}
      },
      "source": [
        "# inputs is how many points we will use to predict the point after \n",
        "# input 2 means two points to predict the third point\n",
        "\n",
        "n_input = 12\n",
        "n_features = 1\n",
        "\n",
        "# source of data and source of target are the same\n",
        "generator = TimeseriesGenerator(scaled_train, scaled_train, length = n_input, batch_size = 1)"
      ],
      "execution_count": 60,
      "outputs": []
    },
    {
      "cell_type": "code",
      "metadata": {
        "id": "q4ZItg3Ibvx0",
        "colab_type": "code",
        "colab": {
          "base_uri": "https://localhost:8080/",
          "height": 34
        },
        "outputId": "a4023b0c-99c9-4579-982e-a406adc3b053"
      },
      "source": [
        "len(scaled_train)\n"
      ],
      "execution_count": 63,
      "outputs": [
        {
          "output_type": "execute_result",
          "data": {
            "text/plain": [
              "115"
            ]
          },
          "metadata": {
            "tags": []
          },
          "execution_count": 63
        }
      ]
    },
    {
      "cell_type": "code",
      "metadata": {
        "id": "lZGub2-yb1JI",
        "colab_type": "code",
        "colab": {
          "base_uri": "https://localhost:8080/",
          "height": 34
        },
        "outputId": "030ab75d-8769-49f3-bb85-65933e25e356"
      },
      "source": [
        "len(generator)"
      ],
      "execution_count": 64,
      "outputs": [
        {
          "output_type": "execute_result",
          "data": {
            "text/plain": [
              "113"
            ]
          },
          "metadata": {
            "tags": []
          },
          "execution_count": 64
        }
      ]
    },
    {
      "cell_type": "code",
      "metadata": {
        "id": "8KHPRJiHR5LR",
        "colab_type": "code",
        "colab": {}
      },
      "source": [
        "X,y = generator[0]"
      ],
      "execution_count": 66,
      "outputs": []
    },
    {
      "cell_type": "code",
      "metadata": {
        "id": "hyNz6xUjb6AY",
        "colab_type": "code",
        "colab": {
          "base_uri": "https://localhost:8080/",
          "height": 52
        },
        "outputId": "2e1ece70-2e39-4593-a6a6-f73594a36397"
      },
      "source": [
        "X"
      ],
      "execution_count": 67,
      "outputs": [
        {
          "output_type": "execute_result",
          "data": {
            "text/plain": [
              "array([[[0.        ],\n",
              "        [0.05945946]]])"
            ]
          },
          "metadata": {
            "tags": []
          },
          "execution_count": 67
        }
      ]
    },
    {
      "cell_type": "code",
      "metadata": {
        "id": "4-qGi8plHq10",
        "colab_type": "code",
        "colab": {}
      },
      "source": [
        "from keras.models import Sequential\n",
        "from keras.layers import Dense\n",
        "from keras.layers import LSTM"
      ],
      "execution_count": 69,
      "outputs": []
    },
    {
      "cell_type": "code",
      "metadata": {
        "id": "I4UegtU0iBpc",
        "colab_type": "code",
        "colab": {}
      },
      "source": [
        "n_input = 12\n",
        "# how many columns you have\n",
        "n_features = 1\n",
        "\n",
        "# source of data and source of target are the same\n",
        "train_generator = TimeseriesGenerator(scaled_train, scaled_train, length = n_input, batch_size = 1)"
      ],
      "execution_count": 102,
      "outputs": []
    },
    {
      "cell_type": "code",
      "metadata": {
        "id": "PkbmyzLmfAJ2",
        "colab_type": "code",
        "colab": {}
      },
      "source": [
        "model = Sequential()\n",
        "\n",
        "model.add(LSTM(100, activation = 'relu', input_shape=(n_input, n_features)))\n",
        "model.add(Dense(1))\n",
        "model.compile(optimizer='adam', loss='mse')\n"
      ],
      "execution_count": 103,
      "outputs": []
    },
    {
      "cell_type": "code",
      "metadata": {
        "id": "w3JJPA-_iNf2",
        "colab_type": "code",
        "colab": {
          "base_uri": "https://localhost:8080/",
          "height": 230
        },
        "outputId": "24c915df-7949-4daa-885f-d5f1958c02fa"
      },
      "source": [
        "model.summary()"
      ],
      "execution_count": 104,
      "outputs": [
        {
          "output_type": "stream",
          "text": [
            "Model: \"sequential_3\"\n",
            "_________________________________________________________________\n",
            "Layer (type)                 Output Shape              Param #   \n",
            "=================================================================\n",
            "lstm_3 (LSTM)                (None, 100)               40800     \n",
            "_________________________________________________________________\n",
            "dense_2 (Dense)              (None, 1)                 101       \n",
            "=================================================================\n",
            "Total params: 40,901\n",
            "Trainable params: 40,901\n",
            "Non-trainable params: 0\n",
            "_________________________________________________________________\n"
          ],
          "name": "stdout"
        }
      ]
    },
    {
      "cell_type": "code",
      "metadata": {
        "id": "diSqKd9a0D32",
        "colab_type": "code",
        "colab": {}
      },
      "source": [
        "from tensorflow.keras.callbacks import EarlyStopping"
      ],
      "execution_count": 117,
      "outputs": []
    },
    {
      "cell_type": "code",
      "metadata": {
        "id": "qLc1cYRpe-x7",
        "colab_type": "code",
        "colab": {
          "base_uri": "https://localhost:8080/",
          "height": 1000
        },
        "outputId": "57bf8a30-f475-4a55-de58-e891c30ac018"
      },
      "source": [
        "# set callback \n",
        "es = EarlyStopping(monitor='loss')\n",
        "# fit to training generator\n",
        "model.fit_generator(train_generator, epochs=40)"
      ],
      "execution_count": 105,
      "outputs": [
        {
          "output_type": "stream",
          "text": [
            "Epoch 1/40\n",
            "103/103 [==============================] - 1s 7ms/step - loss: 0.0279\n",
            "Epoch 2/40\n",
            "103/103 [==============================] - 1s 7ms/step - loss: 0.0068\n",
            "Epoch 3/40\n",
            "103/103 [==============================] - 1s 6ms/step - loss: 0.0056\n",
            "Epoch 4/40\n",
            "103/103 [==============================] - 1s 6ms/step - loss: 0.0045\n",
            "Epoch 5/40\n",
            "103/103 [==============================] - 1s 7ms/step - loss: 0.0025\n",
            "Epoch 6/40\n",
            "103/103 [==============================] - 1s 6ms/step - loss: 0.0031\n",
            "Epoch 7/40\n",
            "103/103 [==============================] - 1s 7ms/step - loss: 0.0022\n",
            "Epoch 8/40\n",
            "103/103 [==============================] - 1s 7ms/step - loss: 0.0025\n",
            "Epoch 9/40\n",
            "103/103 [==============================] - 1s 7ms/step - loss: 0.0021\n",
            "Epoch 10/40\n",
            "103/103 [==============================] - 1s 7ms/step - loss: 0.0025\n",
            "Epoch 11/40\n",
            "103/103 [==============================] - 1s 7ms/step - loss: 0.0028\n",
            "Epoch 12/40\n",
            "103/103 [==============================] - 1s 7ms/step - loss: 0.0020\n",
            "Epoch 13/40\n",
            "103/103 [==============================] - 1s 7ms/step - loss: 0.0028\n",
            "Epoch 14/40\n",
            "103/103 [==============================] - 1s 7ms/step - loss: 0.0022\n",
            "Epoch 15/40\n",
            "103/103 [==============================] - 1s 6ms/step - loss: 0.0033\n",
            "Epoch 16/40\n",
            "103/103 [==============================] - 1s 7ms/step - loss: 0.0020\n",
            "Epoch 17/40\n",
            "103/103 [==============================] - 1s 7ms/step - loss: 0.0020\n",
            "Epoch 18/40\n",
            "103/103 [==============================] - 1s 7ms/step - loss: 0.0017\n",
            "Epoch 19/40\n",
            "103/103 [==============================] - 1s 7ms/step - loss: 0.0025\n",
            "Epoch 20/40\n",
            "103/103 [==============================] - 1s 6ms/step - loss: 0.0026\n",
            "Epoch 21/40\n",
            "103/103 [==============================] - 1s 6ms/step - loss: 0.0020\n",
            "Epoch 22/40\n",
            "103/103 [==============================] - 1s 6ms/step - loss: 0.0017\n",
            "Epoch 23/40\n",
            "103/103 [==============================] - 1s 7ms/step - loss: 0.0018\n",
            "Epoch 24/40\n",
            "103/103 [==============================] - 1s 6ms/step - loss: 0.0020\n",
            "Epoch 25/40\n",
            "103/103 [==============================] - 1s 7ms/step - loss: 0.0018\n",
            "Epoch 26/40\n",
            "103/103 [==============================] - 1s 6ms/step - loss: 0.0022\n",
            "Epoch 27/40\n",
            "103/103 [==============================] - 1s 6ms/step - loss: 0.0020\n",
            "Epoch 28/40\n",
            "103/103 [==============================] - 1s 6ms/step - loss: 0.0018\n",
            "Epoch 29/40\n",
            "103/103 [==============================] - 1s 7ms/step - loss: 0.0020\n",
            "Epoch 30/40\n",
            "103/103 [==============================] - 1s 6ms/step - loss: 0.0018\n",
            "Epoch 31/40\n",
            "103/103 [==============================] - 1s 6ms/step - loss: 0.0029\n",
            "Epoch 32/40\n",
            "103/103 [==============================] - 1s 6ms/step - loss: 0.0027\n",
            "Epoch 33/40\n",
            "103/103 [==============================] - 1s 6ms/step - loss: 0.0020\n",
            "Epoch 34/40\n",
            "103/103 [==============================] - 1s 7ms/step - loss: 0.0020\n",
            "Epoch 35/40\n",
            "103/103 [==============================] - 1s 7ms/step - loss: 0.0028\n",
            "Epoch 36/40\n",
            "103/103 [==============================] - 1s 6ms/step - loss: 0.0016\n",
            "Epoch 37/40\n",
            "103/103 [==============================] - 1s 6ms/step - loss: 0.0021\n",
            "Epoch 38/40\n",
            "103/103 [==============================] - 1s 6ms/step - loss: 0.0019\n",
            "Epoch 39/40\n",
            "103/103 [==============================] - 1s 6ms/step - loss: 0.0017\n",
            "Epoch 40/40\n",
            "103/103 [==============================] - 1s 6ms/step - loss: 0.0023\n"
          ],
          "name": "stdout"
        },
        {
          "output_type": "execute_result",
          "data": {
            "text/plain": [
              "<tensorflow.python.keras.callbacks.History at 0x7f3b45331ba8>"
            ]
          },
          "metadata": {
            "tags": []
          },
          "execution_count": 105
        }
      ]
    },
    {
      "cell_type": "code",
      "metadata": {
        "id": "cR_s3GM_inp4",
        "colab_type": "code",
        "colab": {
          "base_uri": "https://localhost:8080/",
          "height": 461
        },
        "outputId": "e8485d64-d44e-4134-dd83-5eb73d49e9eb"
      },
      "source": [
        "model.history.history"
      ],
      "execution_count": 78,
      "outputs": [
        {
          "output_type": "execute_result",
          "data": {
            "text/plain": [
              "{'loss': [0.01965385116636753,\n",
              "  0.009981946088373661,\n",
              "  0.0044615366496145725,\n",
              "  0.0032912995666265488,\n",
              "  0.002963805105537176,\n",
              "  0.0031716451048851013,\n",
              "  0.002362248720601201,\n",
              "  0.0024487520568072796,\n",
              "  0.0021520007867366076,\n",
              "  0.00226172455586493,\n",
              "  0.0020298068411648273,\n",
              "  0.0018912972882390022,\n",
              "  0.002233971608802676,\n",
              "  0.0028919330798089504,\n",
              "  0.002087699482217431,\n",
              "  0.0024619398172944784,\n",
              "  0.00236512185074389,\n",
              "  0.0017306135268881917,\n",
              "  0.002635101554915309,\n",
              "  0.0016701645217835903,\n",
              "  0.0018143490888178349,\n",
              "  0.0022324458695948124,\n",
              "  0.001688956981524825,\n",
              "  0.0028561577200889587,\n",
              "  0.0018705143593251705]}"
            ]
          },
          "metadata": {
            "tags": []
          },
          "execution_count": 78
        }
      ]
    },
    {
      "cell_type": "code",
      "metadata": {
        "id": "iQp2IFDajHjD",
        "colab_type": "code",
        "colab": {}
      },
      "source": [
        "import matplotlib.pyplot as plt"
      ],
      "execution_count": 80,
      "outputs": []
    },
    {
      "cell_type": "code",
      "metadata": {
        "id": "PgiWkbSse4f_",
        "colab_type": "code",
        "colab": {
          "base_uri": "https://localhost:8080/",
          "height": 282
        },
        "outputId": "932ad88a-658b-4e5a-abaf-1d5c63a3a455"
      },
      "source": [
        "losses = model.history.history['loss']\n",
        "plt.plot(range(len(losses)), losses)"
      ],
      "execution_count": 106,
      "outputs": [
        {
          "output_type": "execute_result",
          "data": {
            "text/plain": [
              "[<matplotlib.lines.Line2D at 0x7f3b44e93940>]"
            ]
          },
          "metadata": {
            "tags": []
          },
          "execution_count": 106
        },
        {
          "output_type": "display_data",
          "data": {
            "image/png": "[encoded data removed]",
            "text/plain": [
              "<Figure size 432x288 with 1 Axes>"
            ]
          },
          "metadata": {
            "tags": [],
            "needs_background": "light"
          }
        }
      ]
    },
    {
      "cell_type": "code",
      "metadata": {
        "id": "56DoIEjwjb-y",
        "colab_type": "code",
        "colab": {}
      },
      "source": [
        ""
      ],
      "execution_count": null,
      "outputs": []
    },
    {
      "cell_type": "markdown",
      "metadata": {
        "id": "YTgnOfXnjPeF",
        "colab_type": "text"
      },
      "source": [
        "we can start to see convergence at around 10 epochs"
      ]
    },
    {
      "cell_type": "markdown",
      "metadata": {
        "id": "cWiL68gOjcwn",
        "colab_type": "text"
      },
      "source": [
        "12 history steps => step 13\n",
        "\n",
        "last 12 points to train => point 1 of test data"
      ]
    },
    {
      "cell_type": "code",
      "metadata": {
        "id": "Zt2u1g9je4k9",
        "colab_type": "code",
        "colab": {
          "base_uri": "https://localhost:8080/",
          "height": 230
        },
        "outputId": "fbbfabc8-d242-4dd1-9e3f-ce330fdb6d0e"
      },
      "source": [
        "# last 12 points of the training set\n",
        "\n",
        "first_eval_batch = scaled_train[-12:]\n",
        "first_eval_batch"
      ],
      "execution_count": 107,
      "outputs": [
        {
          "output_type": "execute_result",
          "data": {
            "text/plain": [
              "array([[0.81981982],\n",
              "       [0.90990991],\n",
              "       [0.87747748],\n",
              "       [0.85585586],\n",
              "       [0.84324324],\n",
              "       [0.85945946],\n",
              "       [0.9045045 ],\n",
              "       [0.91981982],\n",
              "       [0.98198198],\n",
              "       [1.        ],\n",
              "       [1.        ],\n",
              "       [0.98198198]])"
            ]
          },
          "metadata": {
            "tags": []
          },
          "execution_count": 107
        }
      ]
    },
    {
      "cell_type": "code",
      "metadata": {
        "id": "8OlX7pjxjrGc",
        "colab_type": "code",
        "colab": {}
      },
      "source": [
        "first_eval_batch = first_eval_batch.reshape((1,n_input, n_features))"
      ],
      "execution_count": 108,
      "outputs": []
    },
    {
      "cell_type": "code",
      "metadata": {
        "id": "rWn6nQAdjZ9E",
        "colab_type": "code",
        "colab": {
          "base_uri": "https://localhost:8080/",
          "height": 34
        },
        "outputId": "e0419071-1ccd-4f72-d715-f0e98e8657b9"
      },
      "source": [
        "model.predict(first_eval_batch)"
      ],
      "execution_count": 109,
      "outputs": [
        {
          "output_type": "execute_result",
          "data": {
            "text/plain": [
              "array([[1.0195652]], dtype=float32)"
            ]
          },
          "metadata": {
            "tags": []
          },
          "execution_count": 109
        }
      ]
    },
    {
      "cell_type": "markdown",
      "metadata": {
        "id": "lFqzedJtlTZ4",
        "colab_type": "text"
      },
      "source": [
        "### Forecast using RNN Model"
      ]
    },
    {
      "cell_type": "code",
      "metadata": {
        "id": "yMENGjKOwBCX",
        "colab_type": "code",
        "colab": {
          "base_uri": "https://localhost:8080/",
          "height": 34
        },
        "outputId": "fad37418-ee36-49fe-ad79-13a50159bc56"
      },
      "source": [
        "n_input"
      ],
      "execution_count": 110,
      "outputs": [
        {
          "output_type": "execute_result",
          "data": {
            "text/plain": [
              "12"
            ]
          },
          "metadata": {
            "tags": []
          },
          "execution_count": 110
        }
      ]
    },
    {
      "cell_type": "code",
      "metadata": {
        "id": "cHh42OgZlgxO",
        "colab_type": "code",
        "colab": {}
      },
      "source": [
        "# hold the predictions\n",
        "test_predictions = []\n",
        "\n",
        "# last n_input points from the training model\n",
        "first_eval_batch = scaled_train[-n_input:]\n",
        "# reshape to the format RNN wants (same format as TimeseriesGenerator)\n",
        "current_batch = first_eval_batch.reshape((1,n_input, n_features))\n",
        "\n",
        "# how far into the future to forecast\n",
        "# len(test) should be 12(months)\n",
        "# use len(test) because i want to compare with the test data\n",
        "for i in range(len(test)):\n",
        "  # one timestep ahead of historical 12 points\n",
        "  current_prediction = model.predict(current_batch)[0] #one dimension\n",
        "  \n",
        "  # store prediction\n",
        "  test_predictions.append(current_prediction)\n",
        "\n",
        "  # update current batch to include prediction\n",
        "  current_batch = np.append(current_batch[:,1:,:],[[current_prediction]], axis=1)\n"
      ],
      "execution_count": 111,
      "outputs": []
    },
    {
      "cell_type": "code",
      "metadata": {
        "id": "6LlFh18Utmtx",
        "colab_type": "code",
        "colab": {
          "base_uri": "https://localhost:8080/",
          "height": 230
        },
        "outputId": "a512e2c9-a6b7-4275-c51f-76e561c3cbb8"
      },
      "source": [
        "test_predictions"
      ],
      "execution_count": 112,
      "outputs": [
        {
          "output_type": "execute_result",
          "data": {
            "text/plain": [
              "[array([1.0195652], dtype=float32),\n",
              " array([1.0339363], dtype=float32),\n",
              " array([1.0446492], dtype=float32),\n",
              " array([1.0553383], dtype=float32),\n",
              " array([1.0660553], dtype=float32),\n",
              " array([1.0771059], dtype=float32),\n",
              " array([1.0877271], dtype=float32),\n",
              " array([1.0977126], dtype=float32),\n",
              " array([1.10705], dtype=float32),\n",
              " array([1.1149738], dtype=float32),\n",
              " array([1.1220744], dtype=float32),\n",
              " array([1.1292354], dtype=float32)]"
            ]
          },
          "metadata": {
            "tags": []
          },
          "execution_count": 112
        }
      ]
    },
    {
      "cell_type": "code",
      "metadata": {
        "id": "nocICHtse4i9",
        "colab_type": "code",
        "colab": {}
      },
      "source": [
        "test_predictions = scaler.inverse_transform(test_predictions)"
      ],
      "execution_count": 113,
      "outputs": []
    },
    {
      "cell_type": "code",
      "metadata": {
        "id": "-7D-QN4_t69Q",
        "colab_type": "code",
        "colab": {
          "base_uri": "https://localhost:8080/",
          "height": 437
        },
        "outputId": "7325f622-a845-42e2-c4bf-bd76f2592dad"
      },
      "source": [
        "test"
      ],
      "execution_count": 114,
      "outputs": [
        {
          "output_type": "execute_result",
          "data": {
            "text/html": [
              "<div>\n",
              "<style scoped>\n",
              "    .dataframe tbody tr th:only-of-type {\n",
              "        vertical-align: middle;\n",
              "    }\n",
              "\n",
              "    .dataframe tbody tr th {\n",
              "        vertical-align: top;\n",
              "    }\n",
              "\n",
              "    .dataframe thead th {\n",
              "        text-align: right;\n",
              "    }\n",
              "</style>\n",
              "<table border=\"1\" class=\"dataframe\">\n",
              "  <thead>\n",
              "    <tr style=\"text-align: right;\">\n",
              "      <th></th>\n",
              "      <th>avg_sold_price</th>\n",
              "      <th>predictions</th>\n",
              "    </tr>\n",
              "    <tr>\n",
              "      <th>month</th>\n",
              "      <th></th>\n",
              "      <th></th>\n",
              "    </tr>\n",
              "  </thead>\n",
              "  <tbody>\n",
              "    <tr>\n",
              "      <th>2019-08-01</th>\n",
              "      <td>570000.0</td>\n",
              "      <td>539249.221087</td>\n",
              "    </tr>\n",
              "    <tr>\n",
              "      <th>2019-09-01</th>\n",
              "      <td>574900.0</td>\n",
              "      <td>536432.360262</td>\n",
              "    </tr>\n",
              "    <tr>\n",
              "      <th>2019-10-01</th>\n",
              "      <td>590000.0</td>\n",
              "      <td>533936.430663</td>\n",
              "    </tr>\n",
              "    <tr>\n",
              "      <th>2019-11-01</th>\n",
              "      <td>592250.0</td>\n",
              "      <td>531753.178686</td>\n",
              "    </tr>\n",
              "    <tr>\n",
              "      <th>2019-12-01</th>\n",
              "      <td>580000.0</td>\n",
              "      <td>529832.487255</td>\n",
              "    </tr>\n",
              "    <tr>\n",
              "      <th>2020-01-01</th>\n",
              "      <td>594500.0</td>\n",
              "      <td>528117.325455</td>\n",
              "    </tr>\n",
              "    <tr>\n",
              "      <th>2020-02-01</th>\n",
              "      <td>641500.0</td>\n",
              "      <td>526510.403305</td>\n",
              "    </tr>\n",
              "    <tr>\n",
              "      <th>2020-03-01</th>\n",
              "      <td>635000.0</td>\n",
              "      <td>524893.987030</td>\n",
              "    </tr>\n",
              "    <tr>\n",
              "      <th>2020-04-01</th>\n",
              "      <td>580000.0</td>\n",
              "      <td>523321.435601</td>\n",
              "    </tr>\n",
              "    <tr>\n",
              "      <th>2020-05-01</th>\n",
              "      <td>595050.0</td>\n",
              "      <td>521663.933247</td>\n",
              "    </tr>\n",
              "    <tr>\n",
              "      <th>2020-06-01</th>\n",
              "      <td>610000.0</td>\n",
              "      <td>520031.109005</td>\n",
              "    </tr>\n",
              "    <tr>\n",
              "      <th>2020-07-01</th>\n",
              "      <td>612000.0</td>\n",
              "      <td>518482.110947</td>\n",
              "    </tr>\n",
              "  </tbody>\n",
              "</table>\n",
              "</div>"
            ],
            "text/plain": [
              "            avg_sold_price    predictions\n",
              "month                                    \n",
              "2019-08-01        570000.0  539249.221087\n",
              "2019-09-01        574900.0  536432.360262\n",
              "2019-10-01        590000.0  533936.430663\n",
              "2019-11-01        592250.0  531753.178686\n",
              "2019-12-01        580000.0  529832.487255\n",
              "2020-01-01        594500.0  528117.325455\n",
              "2020-02-01        641500.0  526510.403305\n",
              "2020-03-01        635000.0  524893.987030\n",
              "2020-04-01        580000.0  523321.435601\n",
              "2020-05-01        595050.0  521663.933247\n",
              "2020-06-01        610000.0  520031.109005\n",
              "2020-07-01        612000.0  518482.110947"
            ]
          },
          "metadata": {
            "tags": []
          },
          "execution_count": 114
        }
      ]
    },
    {
      "cell_type": "code",
      "metadata": {
        "id": "TT_06Itve4dq",
        "colab_type": "code",
        "colab": {
          "base_uri": "https://localhost:8080/",
          "height": 123
        },
        "outputId": "1e6252fe-5da7-44ce-ee8a-084acb6dca5b"
      },
      "source": [
        "test['predictions'] = test_predictions"
      ],
      "execution_count": 115,
      "outputs": [
        {
          "output_type": "stream",
          "text": [
            "/usr/local/lib/python3.6/dist-packages/ipykernel_launcher.py:1: SettingWithCopyWarning: \n",
            "A value is trying to be set on a copy of a slice from a DataFrame.\n",
            "Try using .loc[row_indexer,col_indexer] = value instead\n",
            "\n",
            "See the caveats in the documentation: https://pandas.pydata.org/pandas-docs/stable/user_guide/indexing.html#returning-a-view-versus-a-copy\n",
            "  \"\"\"Entry point for launching an IPython kernel.\n"
          ],
          "name": "stderr"
        }
      ]
    },
    {
      "cell_type": "code",
      "metadata": {
        "id": "PwW6q54-uDBU",
        "colab_type": "code",
        "colab": {
          "base_uri": "https://localhost:8080/",
          "height": 308
        },
        "outputId": "5d9e6745-a785-422a-dd02-680cc65339b2"
      },
      "source": [
        "test.plot()"
      ],
      "execution_count": 116,
      "outputs": [
        {
          "output_type": "execute_result",
          "data": {
            "text/plain": [
              "<matplotlib.axes._subplots.AxesSubplot at 0x7f3b466aff60>"
            ]
          },
          "metadata": {
            "tags": []
          },
          "execution_count": 116
        },
        {
          "output_type": "display_data",
          "data": {
            "image/png": "[encoded data removed]",
            "text/plain": [
              "<Figure size 432x288 with 1 Axes>"
            ]
          },
          "metadata": {
            "tags": [],
            "needs_background": "light"
          }
        }
      ]
    },
    {
      "cell_type": "code",
      "metadata": {
        "id": "7SqB3KhdHq13",
        "colab_type": "code",
        "colab": {}
      },
      "source": [
        ""
      ],
      "execution_count": 23,
      "outputs": []
    },
    {
      "cell_type": "markdown",
      "metadata": {
        "id": "j02M3kYW19_v",
        "colab_type": "text"
      },
      "source": [
        "## Facebook Prophet"
      ]
    },
    {
      "cell_type": "code",
      "metadata": {
        "id": "jzzIvBcuHq15",
        "colab_type": "code",
        "colab": {}
      },
      "source": [
        "from fbprophet import Prophet"
      ],
      "execution_count": 118,
      "outputs": []
    },
    {
      "cell_type": "code",
      "metadata": {
        "id": "5BSEeb2A2cqq",
        "colab_type": "code",
        "colab": {
          "base_uri": "https://localhost:8080/",
          "height": 227
        },
        "outputId": "f22eda78-f0f5-4273-a7e4-18b4727aaff4"
      },
      "source": [
        "sold_price.head()"
      ],
      "execution_count": 120,
      "outputs": [
        {
          "output_type": "execute_result",
          "data": {
            "text/html": [
              "<div>\n",
              "<style scoped>\n",
              "    .dataframe tbody tr th:only-of-type {\n",
              "        vertical-align: middle;\n",
              "    }\n",
              "\n",
              "    .dataframe tbody tr th {\n",
              "        vertical-align: top;\n",
              "    }\n",
              "\n",
              "    .dataframe thead th {\n",
              "        text-align: right;\n",
              "    }\n",
              "</style>\n",
              "<table border=\"1\" class=\"dataframe\">\n",
              "  <thead>\n",
              "    <tr style=\"text-align: right;\">\n",
              "      <th></th>\n",
              "      <th>avg_sold_price</th>\n",
              "    </tr>\n",
              "    <tr>\n",
              "      <th>month</th>\n",
              "      <th></th>\n",
              "    </tr>\n",
              "  </thead>\n",
              "  <tbody>\n",
              "    <tr>\n",
              "      <th>2010-01-01</th>\n",
              "      <td>292500.0</td>\n",
              "    </tr>\n",
              "    <tr>\n",
              "      <th>2010-02-01</th>\n",
              "      <td>309000.0</td>\n",
              "    </tr>\n",
              "    <tr>\n",
              "      <th>2010-03-01</th>\n",
              "      <td>307500.0</td>\n",
              "    </tr>\n",
              "    <tr>\n",
              "      <th>2010-04-01</th>\n",
              "      <td>303000.0</td>\n",
              "    </tr>\n",
              "    <tr>\n",
              "      <th>2010-05-01</th>\n",
              "      <td>310000.0</td>\n",
              "    </tr>\n",
              "  </tbody>\n",
              "</table>\n",
              "</div>"
            ],
            "text/plain": [
              "            avg_sold_price\n",
              "month                     \n",
              "2010-01-01        292500.0\n",
              "2010-02-01        309000.0\n",
              "2010-03-01        307500.0\n",
              "2010-04-01        303000.0\n",
              "2010-05-01        310000.0"
            ]
          },
          "metadata": {
            "tags": []
          },
          "execution_count": 120
        }
      ]
    },
    {
      "cell_type": "code",
      "metadata": {
        "id": "-B5-JQtt3btB",
        "colab_type": "code",
        "colab": {
          "base_uri": "https://localhost:8080/",
          "height": 158
        },
        "outputId": "ba20bb6e-09fb-4f1a-f30a-2f867a33bd28"
      },
      "source": [
        "sold_price.info()"
      ],
      "execution_count": 121,
      "outputs": [
        {
          "output_type": "stream",
          "text": [
            "<class 'pandas.core.frame.DataFrame'>\n",
            "DatetimeIndex: 127 entries, 2010-01-01 to 2020-07-01\n",
            "Data columns (total 1 columns):\n",
            " #   Column          Non-Null Count  Dtype  \n",
            "---  ------          --------------  -----  \n",
            " 0   avg_sold_price  127 non-null    float64\n",
            "dtypes: float64(1)\n",
            "memory usage: 2.0 KB\n"
          ],
          "name": "stdout"
        }
      ]
    },
    {
      "cell_type": "code",
      "metadata": {
        "id": "lmuPRRwT2hKL",
        "colab_type": "code",
        "colab": {}
      },
      "source": [
        "sold_price = sold_price.reset_index()\n",
        "\n",
        "# change column names to ds, and y to fit facebook prophet\n",
        "sold_price.columns = ['ds', 'y']\n"
      ],
      "execution_count": 122,
      "outputs": []
    },
    {
      "cell_type": "code",
      "metadata": {
        "id": "fi5XliBG37dZ",
        "colab_type": "code",
        "colab": {
          "base_uri": "https://localhost:8080/",
          "height": 70
        },
        "outputId": "5cc6ee9b-09ea-483c-a660-5673a50dd0ab"
      },
      "source": [
        "sold_price.dtypes"
      ],
      "execution_count": 139,
      "outputs": [
        {
          "output_type": "execute_result",
          "data": {
            "text/plain": [
              "ds    datetime64[ns]\n",
              "y            float64\n",
              "dtype: object"
            ]
          },
          "metadata": {
            "tags": []
          },
          "execution_count": 139
        }
      ]
    },
    {
      "cell_type": "code",
      "metadata": {
        "id": "oEzgJAeh38GZ",
        "colab_type": "code",
        "colab": {
          "base_uri": "https://localhost:8080/",
          "height": 70
        },
        "outputId": "f58974fd-8ddd-42ab-9128-39cb22565308"
      },
      "source": [
        "m = Prophet()\n",
        "\n",
        "m.fit(sold_price)"
      ],
      "execution_count": 124,
      "outputs": [
        {
          "output_type": "stream",
          "text": [
            "INFO:fbprophet:Disabling weekly seasonality. Run prophet with weekly_seasonality=True to override this.\n",
            "INFO:fbprophet:Disabling daily seasonality. Run prophet with daily_seasonality=True to override this.\n"
          ],
          "name": "stderr"
        },
        {
          "output_type": "execute_result",
          "data": {
            "text/plain": [
              "<fbprophet.forecaster.Prophet at 0x7f3b429397b8>"
            ]
          },
          "metadata": {
            "tags": []
          },
          "execution_count": 124
        }
      ]
    },
    {
      "cell_type": "code",
      "metadata": {
        "id": "aZQW2Xmn-OsA",
        "colab_type": "code",
        "colab": {}
      },
      "source": [
        "# list ot hold future predictions\n",
        "# 24 (rows) periods for two years (becuase each row represents months)\n",
        "# MS as in monthly start\n",
        "future = m.make_future_dataframe(periods = 24, freq='MS')"
      ],
      "execution_count": 125,
      "outputs": []
    },
    {
      "cell_type": "code",
      "metadata": {
        "id": "BJm3vm2y--B0",
        "colab_type": "code",
        "colab": {
          "base_uri": "https://localhost:8080/",
          "height": 197
        },
        "outputId": "b81198c4-b2a1-456f-803b-50c4f86d7c72"
      },
      "source": [
        "future.tail()"
      ],
      "execution_count": 127,
      "outputs": [
        {
          "output_type": "execute_result",
          "data": {
            "text/html": [
              "<div>\n",
              "<style scoped>\n",
              "    .dataframe tbody tr th:only-of-type {\n",
              "        vertical-align: middle;\n",
              "    }\n",
              "\n",
              "    .dataframe tbody tr th {\n",
              "        vertical-align: top;\n",
              "    }\n",
              "\n",
              "    .dataframe thead th {\n",
              "        text-align: right;\n",
              "    }\n",
              "</style>\n",
              "<table border=\"1\" class=\"dataframe\">\n",
              "  <thead>\n",
              "    <tr style=\"text-align: right;\">\n",
              "      <th></th>\n",
              "      <th>ds</th>\n",
              "    </tr>\n",
              "  </thead>\n",
              "  <tbody>\n",
              "    <tr>\n",
              "      <th>146</th>\n",
              "      <td>2022-03-01</td>\n",
              "    </tr>\n",
              "    <tr>\n",
              "      <th>147</th>\n",
              "      <td>2022-04-01</td>\n",
              "    </tr>\n",
              "    <tr>\n",
              "      <th>148</th>\n",
              "      <td>2022-05-01</td>\n",
              "    </tr>\n",
              "    <tr>\n",
              "      <th>149</th>\n",
              "      <td>2022-06-01</td>\n",
              "    </tr>\n",
              "    <tr>\n",
              "      <th>150</th>\n",
              "      <td>2022-07-01</td>\n",
              "    </tr>\n",
              "  </tbody>\n",
              "</table>\n",
              "</div>"
            ],
            "text/plain": [
              "            ds\n",
              "146 2022-03-01\n",
              "147 2022-04-01\n",
              "148 2022-05-01\n",
              "149 2022-06-01\n",
              "150 2022-07-01"
            ]
          },
          "metadata": {
            "tags": []
          },
          "execution_count": 127
        }
      ]
    },
    {
      "cell_type": "code",
      "metadata": {
        "id": "5nnYNi2I_RAf",
        "colab_type": "code",
        "colab": {
          "base_uri": "https://localhost:8080/",
          "height": 52
        },
        "outputId": "f72b4d77-f23c-4191-97c3-f26af8d6e47b"
      },
      "source": [
        "print(sold_price.shape[0])\n",
        "print(future.shape[0])"
      ],
      "execution_count": 128,
      "outputs": [
        {
          "output_type": "stream",
          "text": [
            "127\n",
            "151\n"
          ],
          "name": "stdout"
        }
      ]
    },
    {
      "cell_type": "code",
      "metadata": {
        "id": "04Ns5WqF-_nn",
        "colab_type": "code",
        "colab": {}
      },
      "source": [
        "# fill in the future dataframe\n",
        "forecast = m.predict(future)"
      ],
      "execution_count": 129,
      "outputs": []
    },
    {
      "cell_type": "code",
      "metadata": {
        "id": "i81Jmrbj_apH",
        "colab_type": "code",
        "colab": {
          "base_uri": "https://localhost:8080/",
          "height": 301
        },
        "outputId": "9baa9766-5262-4fc1-991d-5ebb14b9ce07"
      },
      "source": [
        "forecast.head()"
      ],
      "execution_count": 131,
      "outputs": [
        {
          "output_type": "execute_result",
          "data": {
            "text/html": [
              "<div>\n",
              "<style scoped>\n",
              "    .dataframe tbody tr th:only-of-type {\n",
              "        vertical-align: middle;\n",
              "    }\n",
              "\n",
              "    .dataframe tbody tr th {\n",
              "        vertical-align: top;\n",
              "    }\n",
              "\n",
              "    .dataframe thead th {\n",
              "        text-align: right;\n",
              "    }\n",
              "</style>\n",
              "<table border=\"1\" class=\"dataframe\">\n",
              "  <thead>\n",
              "    <tr style=\"text-align: right;\">\n",
              "      <th></th>\n",
              "      <th>ds</th>\n",
              "      <th>trend</th>\n",
              "      <th>yhat_lower</th>\n",
              "      <th>yhat_upper</th>\n",
              "      <th>trend_lower</th>\n",
              "      <th>trend_upper</th>\n",
              "      <th>additive_terms</th>\n",
              "      <th>additive_terms_lower</th>\n",
              "      <th>additive_terms_upper</th>\n",
              "      <th>yearly</th>\n",
              "      <th>yearly_lower</th>\n",
              "      <th>yearly_upper</th>\n",
              "      <th>multiplicative_terms</th>\n",
              "      <th>multiplicative_terms_lower</th>\n",
              "      <th>multiplicative_terms_upper</th>\n",
              "      <th>yhat</th>\n",
              "    </tr>\n",
              "  </thead>\n",
              "  <tbody>\n",
              "    <tr>\n",
              "      <th>0</th>\n",
              "      <td>2010-01-01</td>\n",
              "      <td>304357.578141</td>\n",
              "      <td>284258.250350</td>\n",
              "      <td>309409.276306</td>\n",
              "      <td>304357.578141</td>\n",
              "      <td>304357.578141</td>\n",
              "      <td>-7981.561014</td>\n",
              "      <td>-7981.561014</td>\n",
              "      <td>-7981.561014</td>\n",
              "      <td>-7981.561014</td>\n",
              "      <td>-7981.561014</td>\n",
              "      <td>-7981.561014</td>\n",
              "      <td>0.0</td>\n",
              "      <td>0.0</td>\n",
              "      <td>0.0</td>\n",
              "      <td>296376.017127</td>\n",
              "    </tr>\n",
              "    <tr>\n",
              "      <th>1</th>\n",
              "      <td>2010-02-01</td>\n",
              "      <td>305287.229568</td>\n",
              "      <td>294617.298973</td>\n",
              "      <td>318906.157653</td>\n",
              "      <td>305287.229568</td>\n",
              "      <td>305287.229568</td>\n",
              "      <td>1112.546529</td>\n",
              "      <td>1112.546529</td>\n",
              "      <td>1112.546529</td>\n",
              "      <td>1112.546529</td>\n",
              "      <td>1112.546529</td>\n",
              "      <td>1112.546529</td>\n",
              "      <td>0.0</td>\n",
              "      <td>0.0</td>\n",
              "      <td>0.0</td>\n",
              "      <td>306399.776097</td>\n",
              "    </tr>\n",
              "    <tr>\n",
              "      <th>2</th>\n",
              "      <td>2010-03-01</td>\n",
              "      <td>306126.914728</td>\n",
              "      <td>298033.704625</td>\n",
              "      <td>321897.797619</td>\n",
              "      <td>306126.914728</td>\n",
              "      <td>306126.914728</td>\n",
              "      <td>4057.186671</td>\n",
              "      <td>4057.186671</td>\n",
              "      <td>4057.186671</td>\n",
              "      <td>4057.186671</td>\n",
              "      <td>4057.186671</td>\n",
              "      <td>4057.186671</td>\n",
              "      <td>0.0</td>\n",
              "      <td>0.0</td>\n",
              "      <td>0.0</td>\n",
              "      <td>310184.101399</td>\n",
              "    </tr>\n",
              "    <tr>\n",
              "      <th>3</th>\n",
              "      <td>2010-04-01</td>\n",
              "      <td>307056.566155</td>\n",
              "      <td>302801.223470</td>\n",
              "      <td>326510.258675</td>\n",
              "      <td>307056.566155</td>\n",
              "      <td>307056.566155</td>\n",
              "      <td>7255.481389</td>\n",
              "      <td>7255.481389</td>\n",
              "      <td>7255.481389</td>\n",
              "      <td>7255.481389</td>\n",
              "      <td>7255.481389</td>\n",
              "      <td>7255.481389</td>\n",
              "      <td>0.0</td>\n",
              "      <td>0.0</td>\n",
              "      <td>0.0</td>\n",
              "      <td>314312.047544</td>\n",
              "    </tr>\n",
              "    <tr>\n",
              "      <th>4</th>\n",
              "      <td>2010-05-01</td>\n",
              "      <td>307956.228827</td>\n",
              "      <td>300569.241428</td>\n",
              "      <td>325316.593100</td>\n",
              "      <td>307956.228827</td>\n",
              "      <td>307956.228827</td>\n",
              "      <td>5075.821421</td>\n",
              "      <td>5075.821421</td>\n",
              "      <td>5075.821421</td>\n",
              "      <td>5075.821421</td>\n",
              "      <td>5075.821421</td>\n",
              "      <td>5075.821421</td>\n",
              "      <td>0.0</td>\n",
              "      <td>0.0</td>\n",
              "      <td>0.0</td>\n",
              "      <td>313032.050247</td>\n",
              "    </tr>\n",
              "  </tbody>\n",
              "</table>\n",
              "</div>"
            ],
            "text/plain": [
              "          ds          trend  ...  multiplicative_terms_upper           yhat\n",
              "0 2010-01-01  304357.578141  ...                         0.0  296376.017127\n",
              "1 2010-02-01  305287.229568  ...                         0.0  306399.776097\n",
              "2 2010-03-01  306126.914728  ...                         0.0  310184.101399\n",
              "3 2010-04-01  307056.566155  ...                         0.0  314312.047544\n",
              "4 2010-05-01  307956.228827  ...                         0.0  313032.050247\n",
              "\n",
              "[5 rows x 16 columns]"
            ]
          },
          "metadata": {
            "tags": []
          },
          "execution_count": 131
        }
      ]
    },
    {
      "cell_type": "code",
      "metadata": {
        "id": "SCweQBI__cDf",
        "colab_type": "code",
        "colab": {
          "base_uri": "https://localhost:8080/",
          "height": 105
        },
        "outputId": "02c8b5a5-836a-497c-a869-ac312575a33f"
      },
      "source": [
        "forecast.columns.values"
      ],
      "execution_count": 132,
      "outputs": [
        {
          "output_type": "execute_result",
          "data": {
            "text/plain": [
              "array(['ds', 'trend', 'yhat_lower', 'yhat_upper', 'trend_lower',\n",
              "       'trend_upper', 'additive_terms', 'additive_terms_lower',\n",
              "       'additive_terms_upper', 'yearly', 'yearly_lower', 'yearly_upper',\n",
              "       'multiplicative_terms', 'multiplicative_terms_lower',\n",
              "       'multiplicative_terms_upper', 'yhat'], dtype=object)"
            ]
          },
          "metadata": {
            "tags": []
          },
          "execution_count": 132
        }
      ]
    },
    {
      "cell_type": "code",
      "metadata": {
        "id": "1RYl6cEK_rA4",
        "colab_type": "code",
        "colab": {
          "base_uri": "https://localhost:8080/",
          "height": 407
        },
        "outputId": "67e2dfbb-b6e7-4df5-edb1-7f29b3aa70fc"
      },
      "source": [
        "# take the columns i need\n",
        "forecast[['ds', 'yhat_lower', 'yhat_upper', 'yhat']].tail(12)"
      ],
      "execution_count": 133,
      "outputs": [
        {
          "output_type": "execute_result",
          "data": {
            "text/html": [
              "<div>\n",
              "<style scoped>\n",
              "    .dataframe tbody tr th:only-of-type {\n",
              "        vertical-align: middle;\n",
              "    }\n",
              "\n",
              "    .dataframe tbody tr th {\n",
              "        vertical-align: top;\n",
              "    }\n",
              "\n",
              "    .dataframe thead th {\n",
              "        text-align: right;\n",
              "    }\n",
              "</style>\n",
              "<table border=\"1\" class=\"dataframe\">\n",
              "  <thead>\n",
              "    <tr style=\"text-align: right;\">\n",
              "      <th></th>\n",
              "      <th>ds</th>\n",
              "      <th>yhat_lower</th>\n",
              "      <th>yhat_upper</th>\n",
              "      <th>yhat</th>\n",
              "    </tr>\n",
              "  </thead>\n",
              "  <tbody>\n",
              "    <tr>\n",
              "      <th>139</th>\n",
              "      <td>2021-08-01</td>\n",
              "      <td>647082.198666</td>\n",
              "      <td>673896.338342</td>\n",
              "      <td>660153.745921</td>\n",
              "    </tr>\n",
              "    <tr>\n",
              "      <th>140</th>\n",
              "      <td>2021-09-01</td>\n",
              "      <td>657352.672999</td>\n",
              "      <td>685493.307288</td>\n",
              "      <td>671718.980415</td>\n",
              "    </tr>\n",
              "    <tr>\n",
              "      <th>141</th>\n",
              "      <td>2021-10-01</td>\n",
              "      <td>658415.278564</td>\n",
              "      <td>687463.941679</td>\n",
              "      <td>672868.930458</td>\n",
              "    </tr>\n",
              "    <tr>\n",
              "      <th>142</th>\n",
              "      <td>2021-11-01</td>\n",
              "      <td>656926.427998</td>\n",
              "      <td>688011.339948</td>\n",
              "      <td>672623.593965</td>\n",
              "    </tr>\n",
              "    <tr>\n",
              "      <th>143</th>\n",
              "      <td>2021-12-01</td>\n",
              "      <td>654046.434737</td>\n",
              "      <td>684177.807968</td>\n",
              "      <td>670274.784624</td>\n",
              "    </tr>\n",
              "    <tr>\n",
              "      <th>144</th>\n",
              "      <td>2022-01-01</td>\n",
              "      <td>662885.901451</td>\n",
              "      <td>695451.669574</td>\n",
              "      <td>679169.790669</td>\n",
              "    </tr>\n",
              "    <tr>\n",
              "      <th>145</th>\n",
              "      <td>2022-02-01</td>\n",
              "      <td>675572.862555</td>\n",
              "      <td>707515.710689</td>\n",
              "      <td>692126.783127</td>\n",
              "    </tr>\n",
              "    <tr>\n",
              "      <th>146</th>\n",
              "      <td>2022-03-01</td>\n",
              "      <td>680513.761499</td>\n",
              "      <td>715439.648756</td>\n",
              "      <td>698560.480611</td>\n",
              "    </tr>\n",
              "    <tr>\n",
              "      <th>147</th>\n",
              "      <td>2022-04-01</td>\n",
              "      <td>687420.196362</td>\n",
              "      <td>724292.347578</td>\n",
              "      <td>705621.660244</td>\n",
              "    </tr>\n",
              "    <tr>\n",
              "      <th>148</th>\n",
              "      <td>2022-05-01</td>\n",
              "      <td>687878.525314</td>\n",
              "      <td>725900.619491</td>\n",
              "      <td>707180.276000</td>\n",
              "    </tr>\n",
              "    <tr>\n",
              "      <th>149</th>\n",
              "      <td>2022-06-01</td>\n",
              "      <td>689642.984056</td>\n",
              "      <td>726712.595081</td>\n",
              "      <td>708337.635709</td>\n",
              "    </tr>\n",
              "    <tr>\n",
              "      <th>150</th>\n",
              "      <td>2022-07-01</td>\n",
              "      <td>684869.995865</td>\n",
              "      <td>725035.045466</td>\n",
              "      <td>705434.804177</td>\n",
              "    </tr>\n",
              "  </tbody>\n",
              "</table>\n",
              "</div>"
            ],
            "text/plain": [
              "            ds     yhat_lower     yhat_upper           yhat\n",
              "139 2021-08-01  647082.198666  673896.338342  660153.745921\n",
              "140 2021-09-01  657352.672999  685493.307288  671718.980415\n",
              "141 2021-10-01  658415.278564  687463.941679  672868.930458\n",
              "142 2021-11-01  656926.427998  688011.339948  672623.593965\n",
              "143 2021-12-01  654046.434737  684177.807968  670274.784624\n",
              "144 2022-01-01  662885.901451  695451.669574  679169.790669\n",
              "145 2022-02-01  675572.862555  707515.710689  692126.783127\n",
              "146 2022-03-01  680513.761499  715439.648756  698560.480611\n",
              "147 2022-04-01  687420.196362  724292.347578  705621.660244\n",
              "148 2022-05-01  687878.525314  725900.619491  707180.276000\n",
              "149 2022-06-01  689642.984056  726712.595081  708337.635709\n",
              "150 2022-07-01  684869.995865  725035.045466  705434.804177"
            ]
          },
          "metadata": {
            "tags": []
          },
          "execution_count": 133
        }
      ]
    },
    {
      "cell_type": "code",
      "metadata": {
        "id": "FBP7GO0k_sGf",
        "colab_type": "code",
        "colab": {
          "base_uri": "https://localhost:8080/",
          "height": 441
        },
        "outputId": "cef1b998-7730-43da-cbc3-ccf9493c6f5c"
      },
      "source": [
        "\n",
        "# use fc prophet's built in graphing library\n",
        "m.plot(forecast);"
      ],
      "execution_count": 140,
      "outputs": [
        {
          "output_type": "display_data",
          "data": {
            "image/png": "[encoded data removed]",
            "text/plain": [
              "<Figure size 720x432 with 1 Axes>"
            ]
          },
          "metadata": {
            "tags": []
          }
        }
      ]
    },
    {
      "cell_type": "code",
      "metadata": {
        "id": "Mfl6kOcw_sDz",
        "colab_type": "code",
        "colab": {
          "base_uri": "https://localhost:8080/",
          "height": 441
        },
        "outputId": "f35158ce-7bc9-4e81-f701-dc50d43d9f7a"
      },
      "source": [
        "m.plot_components(forecast);"
      ],
      "execution_count": 138,
      "outputs": [
        {
          "output_type": "display_data",
          "data": {
            "image/png": "[encoded data removed]",
            "text/plain": [
              "<Figure size 648x432 with 2 Axes>"
            ]
          },
          "metadata": {
            "tags": []
          }
        }
      ]
    },
    {
      "cell_type": "markdown",
      "metadata": {
        "id": "S4Aq3bvrCjyB",
        "colab_type": "text"
      },
      "source": [
        "### Evaluation of the model"
      ]
    },
    {
      "cell_type": "code",
      "metadata": {
        "id": "0r-YDBxuCx4h",
        "colab_type": "code",
        "colab": {
          "base_uri": "https://localhost:8080/",
          "height": 227
        },
        "outputId": "6a73f136-c1b0-41d2-9fd4-638c6026ad97"
      },
      "source": [
        "test.head()"
      ],
      "execution_count": 141,
      "outputs": [
        {
          "output_type": "execute_result",
          "data": {
            "text/html": [
              "<div>\n",
              "<style scoped>\n",
              "    .dataframe tbody tr th:only-of-type {\n",
              "        vertical-align: middle;\n",
              "    }\n",
              "\n",
              "    .dataframe tbody tr th {\n",
              "        vertical-align: top;\n",
              "    }\n",
              "\n",
              "    .dataframe thead th {\n",
              "        text-align: right;\n",
              "    }\n",
              "</style>\n",
              "<table border=\"1\" class=\"dataframe\">\n",
              "  <thead>\n",
              "    <tr style=\"text-align: right;\">\n",
              "      <th></th>\n",
              "      <th>avg_sold_price</th>\n",
              "      <th>predictions</th>\n",
              "    </tr>\n",
              "    <tr>\n",
              "      <th>month</th>\n",
              "      <th></th>\n",
              "      <th></th>\n",
              "    </tr>\n",
              "  </thead>\n",
              "  <tbody>\n",
              "    <tr>\n",
              "      <th>2019-08-01</th>\n",
              "      <td>570000.0</td>\n",
              "      <td>575429.349840</td>\n",
              "    </tr>\n",
              "    <tr>\n",
              "      <th>2019-09-01</th>\n",
              "      <td>574900.0</td>\n",
              "      <td>579417.312741</td>\n",
              "    </tr>\n",
              "    <tr>\n",
              "      <th>2019-10-01</th>\n",
              "      <td>590000.0</td>\n",
              "      <td>582390.165031</td>\n",
              "    </tr>\n",
              "    <tr>\n",
              "      <th>2019-11-01</th>\n",
              "      <td>592250.0</td>\n",
              "      <td>585356.368124</td>\n",
              "    </tr>\n",
              "    <tr>\n",
              "      <th>2019-12-01</th>\n",
              "      <td>580000.0</td>\n",
              "      <td>588330.345154</td>\n",
              "    </tr>\n",
              "  </tbody>\n",
              "</table>\n",
              "</div>"
            ],
            "text/plain": [
              "            avg_sold_price    predictions\n",
              "month                                    \n",
              "2019-08-01        570000.0  575429.349840\n",
              "2019-09-01        574900.0  579417.312741\n",
              "2019-10-01        590000.0  582390.165031\n",
              "2019-11-01        592250.0  585356.368124\n",
              "2019-12-01        580000.0  588330.345154"
            ]
          },
          "metadata": {
            "tags": []
          },
          "execution_count": 141
        }
      ]
    },
    {
      "cell_type": "code",
      "metadata": {
        "id": "YW0qTDOFDn2d",
        "colab_type": "code",
        "colab": {}
      },
      "source": [
        "prophet_test = test.reset_index().drop(columns=['predictions'])"
      ],
      "execution_count": 142,
      "outputs": []
    },
    {
      "cell_type": "code",
      "metadata": {
        "id": "SOhUr1l2DxJW",
        "colab_type": "code",
        "colab": {
          "base_uri": "https://localhost:8080/",
          "height": 197
        },
        "outputId": "d00a2fa2-8ec0-4657-d2c7-aeace3b61678"
      },
      "source": [
        "prophet_test.tail()"
      ],
      "execution_count": 144,
      "outputs": [
        {
          "output_type": "execute_result",
          "data": {
            "text/html": [
              "<div>\n",
              "<style scoped>\n",
              "    .dataframe tbody tr th:only-of-type {\n",
              "        vertical-align: middle;\n",
              "    }\n",
              "\n",
              "    .dataframe tbody tr th {\n",
              "        vertical-align: top;\n",
              "    }\n",
              "\n",
              "    .dataframe thead th {\n",
              "        text-align: right;\n",
              "    }\n",
              "</style>\n",
              "<table border=\"1\" class=\"dataframe\">\n",
              "  <thead>\n",
              "    <tr style=\"text-align: right;\">\n",
              "      <th></th>\n",
              "      <th>month</th>\n",
              "      <th>avg_sold_price</th>\n",
              "    </tr>\n",
              "  </thead>\n",
              "  <tbody>\n",
              "    <tr>\n",
              "      <th>7</th>\n",
              "      <td>2020-03-01</td>\n",
              "      <td>635000.0</td>\n",
              "    </tr>\n",
              "    <tr>\n",
              "      <th>8</th>\n",
              "      <td>2020-04-01</td>\n",
              "      <td>580000.0</td>\n",
              "    </tr>\n",
              "    <tr>\n",
              "      <th>9</th>\n",
              "      <td>2020-05-01</td>\n",
              "      <td>595050.0</td>\n",
              "    </tr>\n",
              "    <tr>\n",
              "      <th>10</th>\n",
              "      <td>2020-06-01</td>\n",
              "      <td>610000.0</td>\n",
              "    </tr>\n",
              "    <tr>\n",
              "      <th>11</th>\n",
              "      <td>2020-07-01</td>\n",
              "      <td>612000.0</td>\n",
              "    </tr>\n",
              "  </tbody>\n",
              "</table>\n",
              "</div>"
            ],
            "text/plain": [
              "        month  avg_sold_price\n",
              "7  2020-03-01        635000.0\n",
              "8  2020-04-01        580000.0\n",
              "9  2020-05-01        595050.0\n",
              "10 2020-06-01        610000.0\n",
              "11 2020-07-01        612000.0"
            ]
          },
          "metadata": {
            "tags": []
          },
          "execution_count": 144
        }
      ]
    },
    {
      "cell_type": "code",
      "metadata": {
        "id": "8ACmqYgr_sA3",
        "colab_type": "code",
        "colab": {
          "base_uri": "https://localhost:8080/",
          "height": 525
        },
        "outputId": "bdcf504d-313f-423e-cff3-33a799f0ea84"
      },
      "source": [
        "ax = forecast.plot(x = 'ds', y='yhat', label='Predictions', legend=True, figsize = (12,8))\n",
        "prophet_test.plot(x='month',y='avg_sold_price', label='True Test Data', legend=True,ax=ax,xlim=(\"2019-08-01\",\"2020-07-01\"))"
      ],
      "execution_count": 147,
      "outputs": [
        {
          "output_type": "execute_result",
          "data": {
            "text/plain": [
              "<matplotlib.axes._subplots.AxesSubplot at 0x7f3b40469860>"
            ]
          },
          "metadata": {
            "tags": []
          },
          "execution_count": 147
        },
        {
          "output_type": "display_data",
          "data": {
            "image/png": "[encoded data removed]",
            "text/plain": [
              "<Figure size 864x576 with 1 Axes>"
            ]
          },
          "metadata": {
            "tags": [],
            "needs_background": "light"
          }
        }
      ]
    },
    {
      "cell_type": "code",
      "metadata": {
        "id": "53NeKajC_r98",
        "colab_type": "code",
        "colab": {}
      },
      "source": [
        "from statsmodels.tools.eval_measures import rmse"
      ],
      "execution_count": 167,
      "outputs": []
    },
    {
      "cell_type": "code",
      "metadata": {
        "id": "FWr60OvyE4I7",
        "colab_type": "code",
        "colab": {}
      },
      "source": [
        "predictions = forecast.iloc[-36:-24]['yhat']"
      ],
      "execution_count": 160,
      "outputs": []
    },
    {
      "cell_type": "code",
      "metadata": {
        "id": "gzVb6gA5FQeX",
        "colab_type": "code",
        "colab": {
          "base_uri": "https://localhost:8080/",
          "height": 247
        },
        "outputId": "b68b8346-1388-4bef-a1f9-c2b7531b2c58"
      },
      "source": [
        "predictions"
      ],
      "execution_count": 161,
      "outputs": [
        {
          "output_type": "execute_result",
          "data": {
            "text/plain": [
              "115    567562.450696\n",
              "116    577314.265387\n",
              "117    582847.521150\n",
              "118    582986.261473\n",
              "119    579309.738797\n",
              "120    587171.417937\n",
              "121    606734.007152\n",
              "122    616914.043142\n",
              "123    611327.753079\n",
              "124    615375.188260\n",
              "125    616438.874488\n",
              "126    612554.111768\n",
              "Name: yhat, dtype: float64"
            ]
          },
          "metadata": {
            "tags": []
          },
          "execution_count": 161
        }
      ]
    },
    {
      "cell_type": "code",
      "metadata": {
        "id": "F4NjItDuFWOA",
        "colab_type": "code",
        "colab": {
          "base_uri": "https://localhost:8080/",
          "height": 581
        },
        "outputId": "b1e660a8-e765-45ff-8b47-1706852df669"
      },
      "source": [
        "forecast.iloc[115:126]"
      ],
      "execution_count": 162,
      "outputs": [
        {
          "output_type": "execute_result",
          "data": {
            "text/html": [
              "<div>\n",
              "<style scoped>\n",
              "    .dataframe tbody tr th:only-of-type {\n",
              "        vertical-align: middle;\n",
              "    }\n",
              "\n",
              "    .dataframe tbody tr th {\n",
              "        vertical-align: top;\n",
              "    }\n",
              "\n",
              "    .dataframe thead th {\n",
              "        text-align: right;\n",
              "    }\n",
              "</style>\n",
              "<table border=\"1\" class=\"dataframe\">\n",
              "  <thead>\n",
              "    <tr style=\"text-align: right;\">\n",
              "      <th></th>\n",
              "      <th>ds</th>\n",
              "      <th>trend</th>\n",
              "      <th>yhat_lower</th>\n",
              "      <th>yhat_upper</th>\n",
              "      <th>trend_lower</th>\n",
              "      <th>trend_upper</th>\n",
              "      <th>additive_terms</th>\n",
              "      <th>additive_terms_lower</th>\n",
              "      <th>additive_terms_upper</th>\n",
              "      <th>yearly</th>\n",
              "      <th>yearly_lower</th>\n",
              "      <th>yearly_upper</th>\n",
              "      <th>multiplicative_terms</th>\n",
              "      <th>multiplicative_terms_lower</th>\n",
              "      <th>multiplicative_terms_upper</th>\n",
              "      <th>yhat</th>\n",
              "    </tr>\n",
              "  </thead>\n",
              "  <tbody>\n",
              "    <tr>\n",
              "      <th>115</th>\n",
              "      <td>2019-08-01</td>\n",
              "      <td>576996.827007</td>\n",
              "      <td>555462.014234</td>\n",
              "      <td>579425.624868</td>\n",
              "      <td>576996.827007</td>\n",
              "      <td>576996.827007</td>\n",
              "      <td>-9434.376311</td>\n",
              "      <td>-9434.376311</td>\n",
              "      <td>-9434.376311</td>\n",
              "      <td>-9434.376311</td>\n",
              "      <td>-9434.376311</td>\n",
              "      <td>-9434.376311</td>\n",
              "      <td>0.0</td>\n",
              "      <td>0.0</td>\n",
              "      <td>0.0</td>\n",
              "      <td>567562.450696</td>\n",
              "    </tr>\n",
              "    <tr>\n",
              "      <th>116</th>\n",
              "      <td>2019-09-01</td>\n",
              "      <td>580859.711922</td>\n",
              "      <td>565171.977858</td>\n",
              "      <td>589801.377167</td>\n",
              "      <td>580859.711922</td>\n",
              "      <td>580859.711922</td>\n",
              "      <td>-3545.446535</td>\n",
              "      <td>-3545.446535</td>\n",
              "      <td>-3545.446535</td>\n",
              "      <td>-3545.446535</td>\n",
              "      <td>-3545.446535</td>\n",
              "      <td>-3545.446535</td>\n",
              "      <td>0.0</td>\n",
              "      <td>0.0</td>\n",
              "      <td>0.0</td>\n",
              "      <td>577314.265387</td>\n",
              "    </tr>\n",
              "    <tr>\n",
              "      <th>117</th>\n",
              "      <td>2019-10-01</td>\n",
              "      <td>584597.987646</td>\n",
              "      <td>570063.438027</td>\n",
              "      <td>595727.394691</td>\n",
              "      <td>584597.987646</td>\n",
              "      <td>584597.987646</td>\n",
              "      <td>-1750.466497</td>\n",
              "      <td>-1750.466497</td>\n",
              "      <td>-1750.466497</td>\n",
              "      <td>-1750.466497</td>\n",
              "      <td>-1750.466497</td>\n",
              "      <td>-1750.466497</td>\n",
              "      <td>0.0</td>\n",
              "      <td>0.0</td>\n",
              "      <td>0.0</td>\n",
              "      <td>582847.521150</td>\n",
              "    </tr>\n",
              "    <tr>\n",
              "      <th>118</th>\n",
              "      <td>2019-11-01</td>\n",
              "      <td>588460.872561</td>\n",
              "      <td>570042.599232</td>\n",
              "      <td>594690.426370</td>\n",
              "      <td>588460.872561</td>\n",
              "      <td>588460.872561</td>\n",
              "      <td>-5474.611089</td>\n",
              "      <td>-5474.611089</td>\n",
              "      <td>-5474.611089</td>\n",
              "      <td>-5474.611089</td>\n",
              "      <td>-5474.611089</td>\n",
              "      <td>-5474.611089</td>\n",
              "      <td>0.0</td>\n",
              "      <td>0.0</td>\n",
              "      <td>0.0</td>\n",
              "      <td>582986.261473</td>\n",
              "    </tr>\n",
              "    <tr>\n",
              "      <th>119</th>\n",
              "      <td>2019-12-01</td>\n",
              "      <td>592199.148286</td>\n",
              "      <td>567031.752303</td>\n",
              "      <td>590835.577789</td>\n",
              "      <td>592199.148286</td>\n",
              "      <td>592199.148286</td>\n",
              "      <td>-12889.409489</td>\n",
              "      <td>-12889.409489</td>\n",
              "      <td>-12889.409489</td>\n",
              "      <td>-12889.409489</td>\n",
              "      <td>-12889.409489</td>\n",
              "      <td>-12889.409489</td>\n",
              "      <td>0.0</td>\n",
              "      <td>0.0</td>\n",
              "      <td>0.0</td>\n",
              "      <td>579309.738797</td>\n",
              "    </tr>\n",
              "    <tr>\n",
              "      <th>120</th>\n",
              "      <td>2020-01-01</td>\n",
              "      <td>596062.033201</td>\n",
              "      <td>575196.249442</td>\n",
              "      <td>599189.667027</td>\n",
              "      <td>596062.033201</td>\n",
              "      <td>596062.033201</td>\n",
              "      <td>-8890.615264</td>\n",
              "      <td>-8890.615264</td>\n",
              "      <td>-8890.615264</td>\n",
              "      <td>-8890.615264</td>\n",
              "      <td>-8890.615264</td>\n",
              "      <td>-8890.615264</td>\n",
              "      <td>0.0</td>\n",
              "      <td>0.0</td>\n",
              "      <td>0.0</td>\n",
              "      <td>587171.417937</td>\n",
              "    </tr>\n",
              "    <tr>\n",
              "      <th>121</th>\n",
              "      <td>2020-02-01</td>\n",
              "      <td>599924.918116</td>\n",
              "      <td>593763.796996</td>\n",
              "      <td>619216.200253</td>\n",
              "      <td>599924.918116</td>\n",
              "      <td>599924.918116</td>\n",
              "      <td>6809.089036</td>\n",
              "      <td>6809.089036</td>\n",
              "      <td>6809.089036</td>\n",
              "      <td>6809.089036</td>\n",
              "      <td>6809.089036</td>\n",
              "      <td>6809.089036</td>\n",
              "      <td>0.0</td>\n",
              "      <td>0.0</td>\n",
              "      <td>0.0</td>\n",
              "      <td>606734.007152</td>\n",
              "    </tr>\n",
              "    <tr>\n",
              "      <th>122</th>\n",
              "      <td>2020-03-01</td>\n",
              "      <td>603538.584649</td>\n",
              "      <td>604658.958533</td>\n",
              "      <td>628597.502803</td>\n",
              "      <td>603538.584649</td>\n",
              "      <td>603538.584649</td>\n",
              "      <td>13375.458493</td>\n",
              "      <td>13375.458493</td>\n",
              "      <td>13375.458493</td>\n",
              "      <td>13375.458493</td>\n",
              "      <td>13375.458493</td>\n",
              "      <td>13375.458493</td>\n",
              "      <td>0.0</td>\n",
              "      <td>0.0</td>\n",
              "      <td>0.0</td>\n",
              "      <td>616914.043142</td>\n",
              "    </tr>\n",
              "    <tr>\n",
              "      <th>123</th>\n",
              "      <td>2020-04-01</td>\n",
              "      <td>607401.469564</td>\n",
              "      <td>599027.348531</td>\n",
              "      <td>623139.537593</td>\n",
              "      <td>607401.469564</td>\n",
              "      <td>607401.469564</td>\n",
              "      <td>3926.283515</td>\n",
              "      <td>3926.283515</td>\n",
              "      <td>3926.283515</td>\n",
              "      <td>3926.283515</td>\n",
              "      <td>3926.283515</td>\n",
              "      <td>3926.283515</td>\n",
              "      <td>0.0</td>\n",
              "      <td>0.0</td>\n",
              "      <td>0.0</td>\n",
              "      <td>611327.753079</td>\n",
              "    </tr>\n",
              "    <tr>\n",
              "      <th>124</th>\n",
              "      <td>2020-05-01</td>\n",
              "      <td>611139.745289</td>\n",
              "      <td>603405.483614</td>\n",
              "      <td>626565.691222</td>\n",
              "      <td>611139.745289</td>\n",
              "      <td>611139.745289</td>\n",
              "      <td>4235.442971</td>\n",
              "      <td>4235.442971</td>\n",
              "      <td>4235.442971</td>\n",
              "      <td>4235.442971</td>\n",
              "      <td>4235.442971</td>\n",
              "      <td>4235.442971</td>\n",
              "      <td>0.0</td>\n",
              "      <td>0.0</td>\n",
              "      <td>0.0</td>\n",
              "      <td>615375.188260</td>\n",
              "    </tr>\n",
              "    <tr>\n",
              "      <th>125</th>\n",
              "      <td>2020-06-01</td>\n",
              "      <td>615002.630204</td>\n",
              "      <td>603611.324365</td>\n",
              "      <td>629160.272001</td>\n",
              "      <td>615002.630204</td>\n",
              "      <td>615002.630204</td>\n",
              "      <td>1436.244284</td>\n",
              "      <td>1436.244284</td>\n",
              "      <td>1436.244284</td>\n",
              "      <td>1436.244284</td>\n",
              "      <td>1436.244284</td>\n",
              "      <td>1436.244284</td>\n",
              "      <td>0.0</td>\n",
              "      <td>0.0</td>\n",
              "      <td>0.0</td>\n",
              "      <td>616438.874488</td>\n",
              "    </tr>\n",
              "  </tbody>\n",
              "</table>\n",
              "</div>"
            ],
            "text/plain": [
              "            ds          trend  ...  multiplicative_terms_upper           yhat\n",
              "115 2019-08-01  576996.827007  ...                         0.0  567562.450696\n",
              "116 2019-09-01  580859.711922  ...                         0.0  577314.265387\n",
              "117 2019-10-01  584597.987646  ...                         0.0  582847.521150\n",
              "118 2019-11-01  588460.872561  ...                         0.0  582986.261473\n",
              "119 2019-12-01  592199.148286  ...                         0.0  579309.738797\n",
              "120 2020-01-01  596062.033201  ...                         0.0  587171.417937\n",
              "121 2020-02-01  599924.918116  ...                         0.0  606734.007152\n",
              "122 2020-03-01  603538.584649  ...                         0.0  616914.043142\n",
              "123 2020-04-01  607401.469564  ...                         0.0  611327.753079\n",
              "124 2020-05-01  611139.745289  ...                         0.0  615375.188260\n",
              "125 2020-06-01  615002.630204  ...                         0.0  616438.874488\n",
              "\n",
              "[11 rows x 16 columns]"
            ]
          },
          "metadata": {
            "tags": []
          },
          "execution_count": 162
        }
      ]
    },
    {
      "cell_type": "code",
      "metadata": {
        "id": "1LxRXI1gE9au",
        "colab_type": "code",
        "colab": {
          "base_uri": "https://localhost:8080/",
          "height": 407
        },
        "outputId": "95433f15-b007-4e5a-b3bf-a7432efac938"
      },
      "source": [
        "prophet_test"
      ],
      "execution_count": 155,
      "outputs": [
        {
          "output_type": "execute_result",
          "data": {
            "text/html": [
              "<div>\n",
              "<style scoped>\n",
              "    .dataframe tbody tr th:only-of-type {\n",
              "        vertical-align: middle;\n",
              "    }\n",
              "\n",
              "    .dataframe tbody tr th {\n",
              "        vertical-align: top;\n",
              "    }\n",
              "\n",
              "    .dataframe thead th {\n",
              "        text-align: right;\n",
              "    }\n",
              "</style>\n",
              "<table border=\"1\" class=\"dataframe\">\n",
              "  <thead>\n",
              "    <tr style=\"text-align: right;\">\n",
              "      <th></th>\n",
              "      <th>month</th>\n",
              "      <th>avg_sold_price</th>\n",
              "    </tr>\n",
              "  </thead>\n",
              "  <tbody>\n",
              "    <tr>\n",
              "      <th>0</th>\n",
              "      <td>2019-08-01</td>\n",
              "      <td>570000.0</td>\n",
              "    </tr>\n",
              "    <tr>\n",
              "      <th>1</th>\n",
              "      <td>2019-09-01</td>\n",
              "      <td>574900.0</td>\n",
              "    </tr>\n",
              "    <tr>\n",
              "      <th>2</th>\n",
              "      <td>2019-10-01</td>\n",
              "      <td>590000.0</td>\n",
              "    </tr>\n",
              "    <tr>\n",
              "      <th>3</th>\n",
              "      <td>2019-11-01</td>\n",
              "      <td>592250.0</td>\n",
              "    </tr>\n",
              "    <tr>\n",
              "      <th>4</th>\n",
              "      <td>2019-12-01</td>\n",
              "      <td>580000.0</td>\n",
              "    </tr>\n",
              "    <tr>\n",
              "      <th>5</th>\n",
              "      <td>2020-01-01</td>\n",
              "      <td>594500.0</td>\n",
              "    </tr>\n",
              "    <tr>\n",
              "      <th>6</th>\n",
              "      <td>2020-02-01</td>\n",
              "      <td>641500.0</td>\n",
              "    </tr>\n",
              "    <tr>\n",
              "      <th>7</th>\n",
              "      <td>2020-03-01</td>\n",
              "      <td>635000.0</td>\n",
              "    </tr>\n",
              "    <tr>\n",
              "      <th>8</th>\n",
              "      <td>2020-04-01</td>\n",
              "      <td>580000.0</td>\n",
              "    </tr>\n",
              "    <tr>\n",
              "      <th>9</th>\n",
              "      <td>2020-05-01</td>\n",
              "      <td>595050.0</td>\n",
              "    </tr>\n",
              "    <tr>\n",
              "      <th>10</th>\n",
              "      <td>2020-06-01</td>\n",
              "      <td>610000.0</td>\n",
              "    </tr>\n",
              "    <tr>\n",
              "      <th>11</th>\n",
              "      <td>2020-07-01</td>\n",
              "      <td>612000.0</td>\n",
              "    </tr>\n",
              "  </tbody>\n",
              "</table>\n",
              "</div>"
            ],
            "text/plain": [
              "        month  avg_sold_price\n",
              "0  2019-08-01        570000.0\n",
              "1  2019-09-01        574900.0\n",
              "2  2019-10-01        590000.0\n",
              "3  2019-11-01        592250.0\n",
              "4  2019-12-01        580000.0\n",
              "5  2020-01-01        594500.0\n",
              "6  2020-02-01        641500.0\n",
              "7  2020-03-01        635000.0\n",
              "8  2020-04-01        580000.0\n",
              "9  2020-05-01        595050.0\n",
              "10 2020-06-01        610000.0\n",
              "11 2020-07-01        612000.0"
            ]
          },
          "metadata": {
            "tags": []
          },
          "execution_count": 155
        }
      ]
    },
    {
      "cell_type": "code",
      "metadata": {
        "id": "YfpR4YeH_r6o",
        "colab_type": "code",
        "colab": {
          "base_uri": "https://localhost:8080/",
          "height": 34
        },
        "outputId": "16083d4b-aa9e-4c86-d837-aa88fd31c095"
      },
      "source": [
        "root_sq_error = rmse(predictions, prophet_test['avg_sold_price'])\n",
        "root_sq_error"
      ],
      "execution_count": 168,
      "outputs": [
        {
          "output_type": "execute_result",
          "data": {
            "text/plain": [
              "16266.051903364247"
            ]
          },
          "metadata": {
            "tags": []
          },
          "execution_count": 168
        }
      ]
    },
    {
      "cell_type": "code",
      "metadata": {
        "id": "oDdIVEeWGuGN",
        "colab_type": "code",
        "colab": {
          "base_uri": "https://localhost:8080/",
          "height": 34
        },
        "outputId": "0f792c57-86a2-4da9-b752-928d09ab8163"
      },
      "source": [
        "prophet_test['avg_sold_price'].mean()"
      ],
      "execution_count": 164,
      "outputs": [
        {
          "output_type": "execute_result",
          "data": {
            "text/plain": [
              "597933.3333333334"
            ]
          },
          "metadata": {
            "tags": []
          },
          "execution_count": 164
        }
      ]
    },
    {
      "cell_type": "code",
      "metadata": {
        "id": "IlWMpBG_GyN_",
        "colab_type": "code",
        "colab": {
          "base_uri": "https://localhost:8080/",
          "height": 34
        },
        "outputId": "6dcb814d-5e60-4f67-d551-d733c9c5ae6b"
      },
      "source": [
        "root_sq_error / prophet_test['avg_sold_price'].mean() * 100"
      ],
      "execution_count": 170,
      "outputs": [
        {
          "output_type": "execute_result",
          "data": {
            "text/plain": [
              "2.7203788443579406"
            ]
          },
          "metadata": {
            "tags": []
          },
          "execution_count": 170
        }
      ]
    },
    {
      "cell_type": "code",
      "metadata": {
        "id": "znCQlTDqHHom",
        "colab_type": "code",
        "colab": {}
      },
      "source": [
        "# from fbprophet.diagnostics import cross_validation,performance_metrics\n",
        "# from fbprophet.plot import plot_cross_validation_metric"
      ],
      "execution_count": 171,
      "outputs": []
    },
    {
      "cell_type": "code",
      "metadata": {
        "id": "9SF5jx8CHX0N",
        "colab_type": "code",
        "colab": {}
      },
      "source": [
        ""
      ],
      "execution_count": null,
      "outputs": []
    }
  ]
}