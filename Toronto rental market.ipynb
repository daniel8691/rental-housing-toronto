{
 "cells": [
  {
   "cell_type": "code",
   "execution_count": 1,
   "metadata": {},
   "outputs": [],
   "source": [
    "import pandas as pd\n",
    "import numpy as np\n",
    "import matplotlib.pyplot as plt\n",
    "%matplotlib inline\n",
    "import seaborn as sns"
   ]
  },
  {
   "cell_type": "markdown",
   "metadata": {},
   "source": []
  },
  {
   "cell_type": "code",
   "execution_count": 2,
   "metadata": {},
   "outputs": [],
   "source": [
    "from geopy.geocoders import Nominatim\n",
    "import json\n",
    "import requests\n",
    "from pandas.io.json import json_normalize\n",
    "\n",
    "# import kmeans from clustering stage\n",
    "from sklearn.cluster import KMeans\n",
    "import folium"
   ]
  },
  {
   "cell_type": "code",
   "execution_count": null,
   "metadata": {},
   "outputs": [],
   "source": []
  },
  {
   "cell_type": "code",
   "execution_count": null,
   "metadata": {},
   "outputs": [],
   "source": []
  },
  {
   "cell_type": "code",
   "execution_count": 3,
   "metadata": {},
   "outputs": [],
   "source": [
    "rent_df = pd.read_csv(\"toronto_rent_data.csv\")\n",
    "geo_coords = pd.read_csv(\"Geospatial_Coordinates.csv\")"
   ]
  },
  {
   "cell_type": "code",
   "execution_count": 4,
   "metadata": {},
   "outputs": [],
   "source": [
    "# make a copy of the df for testing codes\n",
    "scraped_df = rent_df"
   ]
  },
  {
   "cell_type": "code",
   "execution_count": 5,
   "metadata": {},
   "outputs": [
    {
     "data": {
      "text/html": [
       "<div>\n",
       "<style scoped>\n",
       "    .dataframe tbody tr th:only-of-type {\n",
       "        vertical-align: middle;\n",
       "    }\n",
       "\n",
       "    .dataframe tbody tr th {\n",
       "        vertical-align: top;\n",
       "    }\n",
       "\n",
       "    .dataframe thead th {\n",
       "        text-align: right;\n",
       "    }\n",
       "</style>\n",
       "<table border=\"1\" class=\"dataframe\">\n",
       "  <thead>\n",
       "    <tr style=\"text-align: right;\">\n",
       "      <th></th>\n",
       "      <th>Rent</th>\n",
       "      <th>Address</th>\n",
       "      <th>Zip</th>\n",
       "      <th>num_bedrooms</th>\n",
       "      <th>num_bathrooms</th>\n",
       "      <th>num_sqft</th>\n",
       "    </tr>\n",
       "  </thead>\n",
       "  <tbody>\n",
       "    <tr>\n",
       "      <th>0</th>\n",
       "      <td>$3,300</td>\n",
       "      <td>85 Wood Street</td>\n",
       "      <td>M4Y</td>\n",
       "      <td>3</td>\n",
       "      <td>2</td>\n",
       "      <td>810</td>\n",
       "    </tr>\n",
       "    <tr>\n",
       "      <th>1</th>\n",
       "      <td>$2,295</td>\n",
       "      <td>300 Balliol Street</td>\n",
       "      <td>M4S</td>\n",
       "      <td>1</td>\n",
       "      <td>1</td>\n",
       "      <td>600</td>\n",
       "    </tr>\n",
       "    <tr>\n",
       "      <th>2</th>\n",
       "      <td>$2,300</td>\n",
       "      <td>8 Fieldway Road</td>\n",
       "      <td>M8Z</td>\n",
       "      <td>1</td>\n",
       "      <td>1</td>\n",
       "      <td>NaN</td>\n",
       "    </tr>\n",
       "    <tr>\n",
       "      <th>3</th>\n",
       "      <td>$1,950</td>\n",
       "      <td>160 Flemington Road</td>\n",
       "      <td>M6A</td>\n",
       "      <td>2</td>\n",
       "      <td>2</td>\n",
       "      <td>630</td>\n",
       "    </tr>\n",
       "    <tr>\n",
       "      <th>4</th>\n",
       "      <td>$2,045</td>\n",
       "      <td>117 Gerrard Street East</td>\n",
       "      <td>M5B</td>\n",
       "      <td>1</td>\n",
       "      <td>1</td>\n",
       "      <td>NaN</td>\n",
       "    </tr>\n",
       "  </tbody>\n",
       "</table>\n",
       "</div>"
      ],
      "text/plain": [
       "     Rent                  Address  Zip num_bedrooms num_bathrooms num_sqft\n",
       "0  $3,300           85 Wood Street  M4Y            3             2      810\n",
       "1  $2,295       300 Balliol Street  M4S            1             1      600\n",
       "2  $2,300          8 Fieldway Road  M8Z            1             1      NaN\n",
       "3  $1,950      160 Flemington Road  M6A            2             2      630\n",
       "4  $2,045  117 Gerrard Street East  M5B            1             1      NaN"
      ]
     },
     "execution_count": 5,
     "metadata": {},
     "output_type": "execute_result"
    }
   ],
   "source": [
    "rent_df.head()"
   ]
  },
  {
   "cell_type": "code",
   "execution_count": 6,
   "metadata": {},
   "outputs": [
    {
     "data": {
      "text/html": [
       "<div>\n",
       "<style scoped>\n",
       "    .dataframe tbody tr th:only-of-type {\n",
       "        vertical-align: middle;\n",
       "    }\n",
       "\n",
       "    .dataframe tbody tr th {\n",
       "        vertical-align: top;\n",
       "    }\n",
       "\n",
       "    .dataframe thead th {\n",
       "        text-align: right;\n",
       "    }\n",
       "</style>\n",
       "<table border=\"1\" class=\"dataframe\">\n",
       "  <thead>\n",
       "    <tr style=\"text-align: right;\">\n",
       "      <th></th>\n",
       "      <th>Postal Code</th>\n",
       "      <th>Latitude</th>\n",
       "      <th>Longitude</th>\n",
       "    </tr>\n",
       "  </thead>\n",
       "  <tbody>\n",
       "    <tr>\n",
       "      <th>0</th>\n",
       "      <td>M1B</td>\n",
       "      <td>43.806686</td>\n",
       "      <td>-79.194353</td>\n",
       "    </tr>\n",
       "    <tr>\n",
       "      <th>1</th>\n",
       "      <td>M1C</td>\n",
       "      <td>43.784535</td>\n",
       "      <td>-79.160497</td>\n",
       "    </tr>\n",
       "    <tr>\n",
       "      <th>2</th>\n",
       "      <td>M1E</td>\n",
       "      <td>43.763573</td>\n",
       "      <td>-79.188711</td>\n",
       "    </tr>\n",
       "    <tr>\n",
       "      <th>3</th>\n",
       "      <td>M1G</td>\n",
       "      <td>43.770992</td>\n",
       "      <td>-79.216917</td>\n",
       "    </tr>\n",
       "    <tr>\n",
       "      <th>4</th>\n",
       "      <td>M1H</td>\n",
       "      <td>43.773136</td>\n",
       "      <td>-79.239476</td>\n",
       "    </tr>\n",
       "  </tbody>\n",
       "</table>\n",
       "</div>"
      ],
      "text/plain": [
       "  Postal Code   Latitude  Longitude\n",
       "0         M1B  43.806686 -79.194353\n",
       "1         M1C  43.784535 -79.160497\n",
       "2         M1E  43.763573 -79.188711\n",
       "3         M1G  43.770992 -79.216917\n",
       "4         M1H  43.773136 -79.239476"
      ]
     },
     "execution_count": 6,
     "metadata": {},
     "output_type": "execute_result"
    }
   ],
   "source": [
    "geo_coords.head()"
   ]
  },
  {
   "cell_type": "code",
   "execution_count": 7,
   "metadata": {},
   "outputs": [
    {
     "data": {
      "text/plain": [
       "Rent               0\n",
       "Address            0\n",
       "Zip                5\n",
       "num_bedrooms       0\n",
       "num_bathrooms      0\n",
       "num_sqft         945\n",
       "dtype: int64"
      ]
     },
     "execution_count": 7,
     "metadata": {},
     "output_type": "execute_result"
    }
   ],
   "source": [
    "# check for null values \n",
    "rent_df.isnull().sum()\n",
    "# missing 5 zip codes and 945 sqft of units"
   ]
  },
  {
   "cell_type": "code",
   "execution_count": 8,
   "metadata": {},
   "outputs": [
    {
     "name": "stdout",
     "output_type": "stream",
     "text": [
      "<class 'pandas.core.frame.DataFrame'>\n",
      "RangeIndex: 2450 entries, 0 to 2449\n",
      "Data columns (total 6 columns):\n",
      " #   Column         Non-Null Count  Dtype \n",
      "---  ------         --------------  ----- \n",
      " 0   Rent           2450 non-null   object\n",
      " 1   Address        2450 non-null   object\n",
      " 2   Zip            2445 non-null   object\n",
      " 3   num_bedrooms   2450 non-null   object\n",
      " 4   num_bathrooms  2450 non-null   object\n",
      " 5   num_sqft       1505 non-null   object\n",
      "dtypes: object(6)\n",
      "memory usage: 115.0+ KB\n"
     ]
    }
   ],
   "source": [
    "# check data type for each features\n",
    "rent_df.info()"
   ]
  },
  {
   "cell_type": "markdown",
   "metadata": {},
   "source": [
    "### Convert Datatypes (Data Cleaning)"
   ]
  },
  {
   "cell_type": "code",
   "execution_count": 9,
   "metadata": {},
   "outputs": [
    {
     "data": {
      "text/plain": [
       "'3300'"
      ]
     },
     "execution_count": 9,
     "metadata": {},
     "output_type": "execute_result"
    }
   ],
   "source": [
    "scraped_df['Rent'][0].replace(\"$\",\"\").replace(\",\",\"\")\n",
    "# scraped_df['Rent'][0].replace(\",\",\"\")"
   ]
  },
  {
   "cell_type": "code",
   "execution_count": 10,
   "metadata": {},
   "outputs": [],
   "source": [
    "# delete the dollar sign and comma before turning to float\n",
    "for i in range(len(rent_df['Rent'])):\n",
    "    rent_df[\"Rent\"][i] = rent_df[\"Rent\"][i].replace(\"$\", \"\").replace(\",\", \"\")\n"
   ]
  },
  {
   "cell_type": "code",
   "execution_count": 11,
   "metadata": {},
   "outputs": [
    {
     "data": {
      "text/html": [
       "<div>\n",
       "<style scoped>\n",
       "    .dataframe tbody tr th:only-of-type {\n",
       "        vertical-align: middle;\n",
       "    }\n",
       "\n",
       "    .dataframe tbody tr th {\n",
       "        vertical-align: top;\n",
       "    }\n",
       "\n",
       "    .dataframe thead th {\n",
       "        text-align: right;\n",
       "    }\n",
       "</style>\n",
       "<table border=\"1\" class=\"dataframe\">\n",
       "  <thead>\n",
       "    <tr style=\"text-align: right;\">\n",
       "      <th></th>\n",
       "      <th>Rent</th>\n",
       "      <th>Address</th>\n",
       "      <th>Zip</th>\n",
       "      <th>num_bedrooms</th>\n",
       "      <th>num_bathrooms</th>\n",
       "      <th>num_sqft</th>\n",
       "    </tr>\n",
       "  </thead>\n",
       "  <tbody>\n",
       "    <tr>\n",
       "      <th>0</th>\n",
       "      <td>3300</td>\n",
       "      <td>85 Wood Street</td>\n",
       "      <td>M4Y</td>\n",
       "      <td>3</td>\n",
       "      <td>2</td>\n",
       "      <td>810</td>\n",
       "    </tr>\n",
       "    <tr>\n",
       "      <th>1</th>\n",
       "      <td>2295</td>\n",
       "      <td>300 Balliol Street</td>\n",
       "      <td>M4S</td>\n",
       "      <td>1</td>\n",
       "      <td>1</td>\n",
       "      <td>600</td>\n",
       "    </tr>\n",
       "    <tr>\n",
       "      <th>2</th>\n",
       "      <td>2300</td>\n",
       "      <td>8 Fieldway Road</td>\n",
       "      <td>M8Z</td>\n",
       "      <td>1</td>\n",
       "      <td>1</td>\n",
       "      <td>NaN</td>\n",
       "    </tr>\n",
       "    <tr>\n",
       "      <th>3</th>\n",
       "      <td>1950</td>\n",
       "      <td>160 Flemington Road</td>\n",
       "      <td>M6A</td>\n",
       "      <td>2</td>\n",
       "      <td>2</td>\n",
       "      <td>630</td>\n",
       "    </tr>\n",
       "    <tr>\n",
       "      <th>4</th>\n",
       "      <td>2045</td>\n",
       "      <td>117 Gerrard Street East</td>\n",
       "      <td>M5B</td>\n",
       "      <td>1</td>\n",
       "      <td>1</td>\n",
       "      <td>NaN</td>\n",
       "    </tr>\n",
       "  </tbody>\n",
       "</table>\n",
       "</div>"
      ],
      "text/plain": [
       "   Rent                  Address  Zip num_bedrooms num_bathrooms num_sqft\n",
       "0  3300           85 Wood Street  M4Y            3             2      810\n",
       "1  2295       300 Balliol Street  M4S            1             1      600\n",
       "2  2300          8 Fieldway Road  M8Z            1             1      NaN\n",
       "3  1950      160 Flemington Road  M6A            2             2      630\n",
       "4  2045  117 Gerrard Street East  M5B            1             1      NaN"
      ]
     },
     "execution_count": 11,
     "metadata": {},
     "output_type": "execute_result"
    }
   ],
   "source": [
    "rent_df.head()"
   ]
  },
  {
   "cell_type": "code",
   "execution_count": 12,
   "metadata": {},
   "outputs": [
    {
     "data": {
      "text/plain": [
       "Rent                       3300\n",
       "Address          85 Wood Street\n",
       "Zip                         M4Y\n",
       "num_bedrooms                  3\n",
       "num_bathrooms                 2\n",
       "num_sqft                    810\n",
       "Name: 0, dtype: object"
      ]
     },
     "execution_count": 12,
     "metadata": {},
     "output_type": "execute_result"
    }
   ],
   "source": [
    "rent_df.iloc[0,:]"
   ]
  },
  {
   "cell_type": "code",
   "execution_count": 13,
   "metadata": {},
   "outputs": [],
   "source": [
    "# create empty dataframe to store ranged data\n",
    "empty_ranged_df = pd.DataFrame(columns = rent_df.columns)\n",
    "\n",
    "# append all values in the dataset that have the \"-\" in cells\n",
    "for features in rent_df.columns:\n",
    "#     print(features)\n",
    "    empty_ranged_df = pd.concat([empty_ranged_df, (rent_df[rent_df[features].astype(str).str.contains(\"-\")])])"
   ]
  },
  {
   "cell_type": "code",
   "execution_count": 14,
   "metadata": {},
   "outputs": [],
   "source": [
    "# dislay all data\n",
    "# pd.set_option(\"display.max_rows\",None)"
   ]
  },
  {
   "cell_type": "code",
   "execution_count": 15,
   "metadata": {},
   "outputs": [
    {
     "data": {
      "text/html": [
       "<div>\n",
       "<style scoped>\n",
       "    .dataframe tbody tr th:only-of-type {\n",
       "        vertical-align: middle;\n",
       "    }\n",
       "\n",
       "    .dataframe tbody tr th {\n",
       "        vertical-align: top;\n",
       "    }\n",
       "\n",
       "    .dataframe thead th {\n",
       "        text-align: right;\n",
       "    }\n",
       "</style>\n",
       "<table border=\"1\" class=\"dataframe\">\n",
       "  <thead>\n",
       "    <tr style=\"text-align: right;\">\n",
       "      <th></th>\n",
       "      <th>Rent</th>\n",
       "      <th>Address</th>\n",
       "      <th>Zip</th>\n",
       "      <th>num_bedrooms</th>\n",
       "      <th>num_bathrooms</th>\n",
       "      <th>num_sqft</th>\n",
       "    </tr>\n",
       "  </thead>\n",
       "  <tbody>\n",
       "    <tr>\n",
       "      <th>191</th>\n",
       "      <td>1750 - 2000</td>\n",
       "      <td>7895 Jane Street</td>\n",
       "      <td>L4K</td>\n",
       "      <td>1 - 2</td>\n",
       "      <td>1 - 2</td>\n",
       "      <td>500-800</td>\n",
       "    </tr>\n",
       "    <tr>\n",
       "      <th>438</th>\n",
       "      <td>2200 - 2300</td>\n",
       "      <td>77 Shuter Street</td>\n",
       "      <td>M5B</td>\n",
       "      <td>1</td>\n",
       "      <td>1 ½</td>\n",
       "      <td>550-650</td>\n",
       "    </tr>\n",
       "    <tr>\n",
       "      <th>476</th>\n",
       "      <td>1750 - 2050</td>\n",
       "      <td>38 Cameron Street</td>\n",
       "      <td>M5T</td>\n",
       "      <td>1</td>\n",
       "      <td>1 - 1 ½</td>\n",
       "      <td>521-654</td>\n",
       "    </tr>\n",
       "    <tr>\n",
       "      <th>480</th>\n",
       "      <td>1895 - 3875</td>\n",
       "      <td>1 Edgewater Drive</td>\n",
       "      <td>M5A</td>\n",
       "      <td>1 - 2</td>\n",
       "      <td>1 - 2 ½</td>\n",
       "      <td>466-1119</td>\n",
       "    </tr>\n",
       "    <tr>\n",
       "      <th>563</th>\n",
       "      <td>1950 - 2850</td>\n",
       "      <td>16 Yonge Street</td>\n",
       "      <td>M5E</td>\n",
       "      <td>1 - 2</td>\n",
       "      <td>1 - 2</td>\n",
       "      <td>478-815</td>\n",
       "    </tr>\n",
       "    <tr>\n",
       "      <th>...</th>\n",
       "      <td>...</td>\n",
       "      <td>...</td>\n",
       "      <td>...</td>\n",
       "      <td>...</td>\n",
       "      <td>...</td>\n",
       "      <td>...</td>\n",
       "    </tr>\n",
       "    <tr>\n",
       "      <th>1535</th>\n",
       "      <td>1680 - 2000</td>\n",
       "      <td>1030 King Street West</td>\n",
       "      <td>M6K</td>\n",
       "      <td>0 - 1</td>\n",
       "      <td>1</td>\n",
       "      <td>370-450</td>\n",
       "    </tr>\n",
       "    <tr>\n",
       "      <th>1704</th>\n",
       "      <td>1700 - 4200</td>\n",
       "      <td>50 John Street</td>\n",
       "      <td>M5V</td>\n",
       "      <td>0 - 2</td>\n",
       "      <td>1 - 2</td>\n",
       "      <td>365-1230</td>\n",
       "    </tr>\n",
       "    <tr>\n",
       "      <th>2167</th>\n",
       "      <td>1850 - 2250</td>\n",
       "      <td>60 Ann OReilly Road</td>\n",
       "      <td>M2J</td>\n",
       "      <td>1 - 2</td>\n",
       "      <td>1 - 2</td>\n",
       "      <td>580-828</td>\n",
       "    </tr>\n",
       "    <tr>\n",
       "      <th>2372</th>\n",
       "      <td>1850 - 2400</td>\n",
       "      <td>7 Mabelle Avenue</td>\n",
       "      <td>M9A</td>\n",
       "      <td>1 - 2</td>\n",
       "      <td>1 - 2</td>\n",
       "      <td>488-779</td>\n",
       "    </tr>\n",
       "    <tr>\n",
       "      <th>2398</th>\n",
       "      <td>2000 - 2050</td>\n",
       "      <td>15 Viking Lane</td>\n",
       "      <td>M9B</td>\n",
       "      <td>1</td>\n",
       "      <td>1</td>\n",
       "      <td>580-641</td>\n",
       "    </tr>\n",
       "  </tbody>\n",
       "</table>\n",
       "<p>106 rows × 6 columns</p>\n",
       "</div>"
      ],
      "text/plain": [
       "             Rent                Address  Zip num_bedrooms num_bathrooms  \\\n",
       "191   1750 - 2000       7895 Jane Street  L4K        1 - 2         1 - 2   \n",
       "438   2200 - 2300       77 Shuter Street  M5B            1           1 ½   \n",
       "476   1750 - 2050      38 Cameron Street  M5T            1       1 - 1 ½   \n",
       "480   1895 - 3875      1 Edgewater Drive  M5A        1 - 2       1 - 2 ½   \n",
       "563   1950 - 2850        16 Yonge Street  M5E        1 - 2         1 - 2   \n",
       "...           ...                    ...  ...          ...           ...   \n",
       "1535  1680 - 2000  1030 King Street West  M6K        0 - 1             1   \n",
       "1704  1700 - 4200         50 John Street  M5V        0 - 2         1 - 2   \n",
       "2167  1850 - 2250    60 Ann OReilly Road  M2J        1 - 2         1 - 2   \n",
       "2372  1850 - 2400       7 Mabelle Avenue  M9A        1 - 2         1 - 2   \n",
       "2398  2000 - 2050         15 Viking Lane  M9B            1             1   \n",
       "\n",
       "      num_sqft  \n",
       "191    500-800  \n",
       "438    550-650  \n",
       "476    521-654  \n",
       "480   466-1119  \n",
       "563    478-815  \n",
       "...        ...  \n",
       "1535   370-450  \n",
       "1704  365-1230  \n",
       "2167   580-828  \n",
       "2372   488-779  \n",
       "2398   580-641  \n",
       "\n",
       "[106 rows x 6 columns]"
      ]
     },
     "execution_count": 15,
     "metadata": {},
     "output_type": "execute_result"
    }
   ],
   "source": [
    "empty_ranged_df"
   ]
  },
  {
   "cell_type": "code",
   "execution_count": 16,
   "metadata": {},
   "outputs": [
    {
     "data": {
      "text/plain": [
       "(106, 6)"
      ]
     },
     "execution_count": 16,
     "metadata": {},
     "output_type": "execute_result"
    }
   ],
   "source": [
    "empty_ranged_df.shape"
   ]
  },
  {
   "cell_type": "code",
   "execution_count": 17,
   "metadata": {},
   "outputs": [
    {
     "data": {
      "text/plain": [
       "Int64Index([ 191,  438,  476,  480,  563,  566,  589,  608,  732,  773,\n",
       "            ...\n",
       "            1105, 1138, 1196, 1418, 1480, 1535, 1704, 2167, 2372, 2398],\n",
       "           dtype='int64', length=106)"
      ]
     },
     "execution_count": 17,
     "metadata": {},
     "output_type": "execute_result"
    }
   ],
   "source": [
    "empty_ranged_df.index"
   ]
  },
  {
   "cell_type": "code",
   "execution_count": 18,
   "metadata": {},
   "outputs": [
    {
     "data": {
      "text/plain": [
       "Int64Index([ 191,  438,  476,  480,  563,  566,  589,  608,  732,  773,  825,\n",
       "             830,  836,  890,  962, 1041, 1043, 1071, 1090, 1105, 1138, 1196,\n",
       "            1418, 1480, 1535, 1635, 1642, 1704, 2167, 2321, 2365, 2372, 2398,\n",
       "             186, 1045,  692],\n",
       "           dtype='int64')"
      ]
     },
     "execution_count": 18,
     "metadata": {},
     "output_type": "execute_result"
    }
   ],
   "source": [
    "# delete duplicate indexes\n",
    "empty_ranged_df.index.drop_duplicates(keep='first')"
   ]
  },
  {
   "cell_type": "code",
   "execution_count": 19,
   "metadata": {},
   "outputs": [],
   "source": [
    "empty_ranged_df = empty_ranged_df.loc[~empty_ranged_df.index.duplicated(keep=\"first\")]"
   ]
  },
  {
   "cell_type": "code",
   "execution_count": 20,
   "metadata": {},
   "outputs": [
    {
     "data": {
      "text/plain": [
       "(36, 6)"
      ]
     },
     "execution_count": 20,
     "metadata": {},
     "output_type": "execute_result"
    }
   ],
   "source": [
    "# check if changes are made\n",
    "empty_ranged_df.shape"
   ]
  },
  {
   "cell_type": "code",
   "execution_count": 21,
   "metadata": {},
   "outputs": [
    {
     "data": {
      "text/html": [
       "<div>\n",
       "<style scoped>\n",
       "    .dataframe tbody tr th:only-of-type {\n",
       "        vertical-align: middle;\n",
       "    }\n",
       "\n",
       "    .dataframe tbody tr th {\n",
       "        vertical-align: top;\n",
       "    }\n",
       "\n",
       "    .dataframe thead th {\n",
       "        text-align: right;\n",
       "    }\n",
       "</style>\n",
       "<table border=\"1\" class=\"dataframe\">\n",
       "  <thead>\n",
       "    <tr style=\"text-align: right;\">\n",
       "      <th></th>\n",
       "      <th>Rent</th>\n",
       "      <th>Address</th>\n",
       "      <th>Zip</th>\n",
       "      <th>num_bedrooms</th>\n",
       "      <th>num_bathrooms</th>\n",
       "      <th>num_sqft</th>\n",
       "    </tr>\n",
       "  </thead>\n",
       "  <tbody>\n",
       "    <tr>\n",
       "      <th>191</th>\n",
       "      <td>1750 - 2000</td>\n",
       "      <td>7895 Jane Street</td>\n",
       "      <td>L4K</td>\n",
       "      <td>1 - 2</td>\n",
       "      <td>1 - 2</td>\n",
       "      <td>500-800</td>\n",
       "    </tr>\n",
       "    <tr>\n",
       "      <th>438</th>\n",
       "      <td>2200 - 2300</td>\n",
       "      <td>77 Shuter Street</td>\n",
       "      <td>M5B</td>\n",
       "      <td>1</td>\n",
       "      <td>1 ½</td>\n",
       "      <td>550-650</td>\n",
       "    </tr>\n",
       "    <tr>\n",
       "      <th>476</th>\n",
       "      <td>1750 - 2050</td>\n",
       "      <td>38 Cameron Street</td>\n",
       "      <td>M5T</td>\n",
       "      <td>1</td>\n",
       "      <td>1 - 1 ½</td>\n",
       "      <td>521-654</td>\n",
       "    </tr>\n",
       "    <tr>\n",
       "      <th>480</th>\n",
       "      <td>1895 - 3875</td>\n",
       "      <td>1 Edgewater Drive</td>\n",
       "      <td>M5A</td>\n",
       "      <td>1 - 2</td>\n",
       "      <td>1 - 2 ½</td>\n",
       "      <td>466-1119</td>\n",
       "    </tr>\n",
       "    <tr>\n",
       "      <th>563</th>\n",
       "      <td>1950 - 2850</td>\n",
       "      <td>16 Yonge Street</td>\n",
       "      <td>M5E</td>\n",
       "      <td>1 - 2</td>\n",
       "      <td>1 - 2</td>\n",
       "      <td>478-815</td>\n",
       "    </tr>\n",
       "  </tbody>\n",
       "</table>\n",
       "</div>"
      ],
      "text/plain": [
       "            Rent            Address  Zip num_bedrooms num_bathrooms  num_sqft\n",
       "191  1750 - 2000   7895 Jane Street  L4K        1 - 2         1 - 2   500-800\n",
       "438  2200 - 2300   77 Shuter Street  M5B            1           1 ½   550-650\n",
       "476  1750 - 2050  38 Cameron Street  M5T            1       1 - 1 ½   521-654\n",
       "480  1895 - 3875  1 Edgewater Drive  M5A        1 - 2       1 - 2 ½  466-1119\n",
       "563  1950 - 2850    16 Yonge Street  M5E        1 - 2         1 - 2   478-815"
      ]
     },
     "execution_count": 21,
     "metadata": {},
     "output_type": "execute_result"
    }
   ],
   "source": [
    "empty_ranged_df.head()"
   ]
  },
  {
   "cell_type": "code",
   "execution_count": 22,
   "metadata": {},
   "outputs": [],
   "source": [
    "# select only data that don't contain range of values\n",
    "rent_norange_df = rent_df[rent_df.index.isin(empty_ranged_df.index) == False]"
   ]
  },
  {
   "cell_type": "code",
   "execution_count": 23,
   "metadata": {},
   "outputs": [
    {
     "data": {
      "text/plain": [
       "(2414, 6)"
      ]
     },
     "execution_count": 23,
     "metadata": {},
     "output_type": "execute_result"
    }
   ],
   "source": [
    "# rent_norange_df should have 2414 rows because 2450 - 36 = 2414\n",
    "rent_norange_df.shape"
   ]
  },
  {
   "cell_type": "code",
   "execution_count": 24,
   "metadata": {},
   "outputs": [
    {
     "data": {
      "text/plain": [
       "(2450, 6)"
      ]
     },
     "execution_count": 24,
     "metadata": {},
     "output_type": "execute_result"
    }
   ],
   "source": [
    "rent_df.shape"
   ]
  },
  {
   "cell_type": "code",
   "execution_count": 25,
   "metadata": {},
   "outputs": [
    {
     "data": {
      "text/plain": [
       "array(['2', '1', '1 ½', '3', '0 ½', '0', '2 ½'], dtype=object)"
      ]
     },
     "execution_count": 25,
     "metadata": {},
     "output_type": "execute_result"
    }
   ],
   "source": [
    "rent_norange_df['num_bedrooms'].unique()\n",
    "rent_norange_df['num_bathrooms'].unique()\n"
   ]
  },
  {
   "cell_type": "code",
   "execution_count": 26,
   "metadata": {},
   "outputs": [
    {
     "data": {
      "text/plain": [
       "'2'"
      ]
     },
     "execution_count": 26,
     "metadata": {},
     "output_type": "execute_result"
    }
   ],
   "source": [
    "rent_norange_df['num_bathrooms'][0].replace(\"½\",\".5\").replace(\" \",\"\")"
   ]
  },
  {
   "cell_type": "code",
   "execution_count": 27,
   "metadata": {},
   "outputs": [
    {
     "data": {
      "text/html": [
       "<div>\n",
       "<style scoped>\n",
       "    .dataframe tbody tr th:only-of-type {\n",
       "        vertical-align: middle;\n",
       "    }\n",
       "\n",
       "    .dataframe tbody tr th {\n",
       "        vertical-align: top;\n",
       "    }\n",
       "\n",
       "    .dataframe thead th {\n",
       "        text-align: right;\n",
       "    }\n",
       "</style>\n",
       "<table border=\"1\" class=\"dataframe\">\n",
       "  <thead>\n",
       "    <tr style=\"text-align: right;\">\n",
       "      <th></th>\n",
       "      <th>Rent</th>\n",
       "      <th>Address</th>\n",
       "      <th>Zip</th>\n",
       "      <th>num_bedrooms</th>\n",
       "      <th>num_bathrooms</th>\n",
       "      <th>num_sqft</th>\n",
       "    </tr>\n",
       "  </thead>\n",
       "  <tbody>\n",
       "    <tr>\n",
       "      <th>0</th>\n",
       "      <td>3300</td>\n",
       "      <td>85 Wood Street</td>\n",
       "      <td>M4Y</td>\n",
       "      <td>3</td>\n",
       "      <td>2</td>\n",
       "      <td>810</td>\n",
       "    </tr>\n",
       "    <tr>\n",
       "      <th>1</th>\n",
       "      <td>2295</td>\n",
       "      <td>300 Balliol Street</td>\n",
       "      <td>M4S</td>\n",
       "      <td>1</td>\n",
       "      <td>1</td>\n",
       "      <td>600</td>\n",
       "    </tr>\n",
       "    <tr>\n",
       "      <th>2</th>\n",
       "      <td>2300</td>\n",
       "      <td>8 Fieldway Road</td>\n",
       "      <td>M8Z</td>\n",
       "      <td>1</td>\n",
       "      <td>1</td>\n",
       "      <td>NaN</td>\n",
       "    </tr>\n",
       "  </tbody>\n",
       "</table>\n",
       "</div>"
      ],
      "text/plain": [
       "   Rent             Address  Zip num_bedrooms num_bathrooms num_sqft\n",
       "0  3300      85 Wood Street  M4Y            3             2      810\n",
       "1  2295  300 Balliol Street  M4S            1             1      600\n",
       "2  2300     8 Fieldway Road  M8Z            1             1      NaN"
      ]
     },
     "execution_count": 27,
     "metadata": {},
     "output_type": "execute_result"
    }
   ],
   "source": [
    "rent_norange_df.head(3)"
   ]
  },
  {
   "cell_type": "code",
   "execution_count": 28,
   "metadata": {},
   "outputs": [],
   "source": [
    "# reset index before looping through the changes\n",
    "rent_norange_df = rent_norange_df.reset_index(drop=True)"
   ]
  },
  {
   "cell_type": "code",
   "execution_count": 29,
   "metadata": {},
   "outputs": [
    {
     "data": {
      "text/html": [
       "<div>\n",
       "<style scoped>\n",
       "    .dataframe tbody tr th:only-of-type {\n",
       "        vertical-align: middle;\n",
       "    }\n",
       "\n",
       "    .dataframe tbody tr th {\n",
       "        vertical-align: top;\n",
       "    }\n",
       "\n",
       "    .dataframe thead th {\n",
       "        text-align: right;\n",
       "    }\n",
       "</style>\n",
       "<table border=\"1\" class=\"dataframe\">\n",
       "  <thead>\n",
       "    <tr style=\"text-align: right;\">\n",
       "      <th></th>\n",
       "      <th>Rent</th>\n",
       "      <th>Address</th>\n",
       "      <th>Zip</th>\n",
       "      <th>num_bedrooms</th>\n",
       "      <th>num_bathrooms</th>\n",
       "      <th>num_sqft</th>\n",
       "    </tr>\n",
       "  </thead>\n",
       "  <tbody>\n",
       "    <tr>\n",
       "      <th>185</th>\n",
       "      <td>1900</td>\n",
       "      <td>2916 Highway 7</td>\n",
       "      <td>L4K</td>\n",
       "      <td>1</td>\n",
       "      <td>0 ½</td>\n",
       "      <td>550</td>\n",
       "    </tr>\n",
       "    <tr>\n",
       "      <th>186</th>\n",
       "      <td>2300</td>\n",
       "      <td>2908 Highway 7</td>\n",
       "      <td>L4K</td>\n",
       "      <td>2</td>\n",
       "      <td>2</td>\n",
       "      <td>800899</td>\n",
       "    </tr>\n",
       "    <tr>\n",
       "      <th>187</th>\n",
       "      <td>2000</td>\n",
       "      <td>2916 Highway 7</td>\n",
       "      <td>L4K</td>\n",
       "      <td>1</td>\n",
       "      <td>1 ½</td>\n",
       "      <td>630</td>\n",
       "    </tr>\n",
       "    <tr>\n",
       "      <th>188</th>\n",
       "      <td>2000</td>\n",
       "      <td>7895 Jane Street</td>\n",
       "      <td>L4K</td>\n",
       "      <td>1</td>\n",
       "      <td>2</td>\n",
       "      <td>611</td>\n",
       "    </tr>\n",
       "    <tr>\n",
       "      <th>189</th>\n",
       "      <td>2200</td>\n",
       "      <td>7895 Jane Street</td>\n",
       "      <td>L4K</td>\n",
       "      <td>2</td>\n",
       "      <td>2</td>\n",
       "      <td>750</td>\n",
       "    </tr>\n",
       "    <tr>\n",
       "      <th>190</th>\n",
       "      <td>2250</td>\n",
       "      <td>7895 Jane Street</td>\n",
       "      <td>L4K</td>\n",
       "      <td>2</td>\n",
       "      <td>2</td>\n",
       "      <td>649</td>\n",
       "    </tr>\n",
       "  </tbody>\n",
       "</table>\n",
       "</div>"
      ],
      "text/plain": [
       "     Rent           Address  Zip num_bedrooms num_bathrooms num_sqft\n",
       "185  1900    2916 Highway 7  L4K            1           0 ½      550\n",
       "186  2300    2908 Highway 7  L4K            2             2   800899\n",
       "187  2000    2916 Highway 7  L4K            1           1 ½      630\n",
       "188  2000  7895 Jane Street  L4K            1             2      611\n",
       "189  2200  7895 Jane Street  L4K            2             2      750\n",
       "190  2250  7895 Jane Street  L4K            2             2      649"
      ]
     },
     "execution_count": 29,
     "metadata": {},
     "output_type": "execute_result"
    }
   ],
   "source": [
    "rent_norange_df.loc[[185,186,187,188,189,190]]"
   ]
  },
  {
   "cell_type": "code",
   "execution_count": 30,
   "metadata": {},
   "outputs": [],
   "source": [
    "# change \"1/2\" into 0.5\n",
    "for bath in range(rent_norange_df.shape[0]):\n",
    "    rent_norange_df['num_bathrooms'][bath] = rent_norange_df['num_bathrooms'][bath].replace(\"½\",\".5\").replace(\" \",\"\")"
   ]
  },
  {
   "cell_type": "code",
   "execution_count": 31,
   "metadata": {},
   "outputs": [
    {
     "data": {
      "text/plain": [
       "array(['2', '1', '1.5', '3', '0.5', '0', '2.5'], dtype=object)"
      ]
     },
     "execution_count": 31,
     "metadata": {},
     "output_type": "execute_result"
    }
   ],
   "source": [
    "# check if changes are made\n",
    "rent_norange_df['num_bathrooms'].unique()"
   ]
  },
  {
   "cell_type": "code",
   "execution_count": 32,
   "metadata": {},
   "outputs": [
    {
     "data": {
      "text/plain": [
       "Rent             object\n",
       "Address          object\n",
       "Zip              object\n",
       "num_bedrooms     object\n",
       "num_bathrooms    object\n",
       "num_sqft         object\n",
       "dtype: object"
      ]
     },
     "execution_count": 32,
     "metadata": {},
     "output_type": "execute_result"
    }
   ],
   "source": [
    "rent_norange_df.dtypes"
   ]
  },
  {
   "cell_type": "code",
   "execution_count": 33,
   "metadata": {},
   "outputs": [],
   "source": [
    "# convert datatypes\n",
    "rent_norange_df[\"Rent\"] = rent_norange_df[\"Rent\"].astype(float)\n",
    "rent_norange_df[\"num_bedrooms\"] = rent_norange_df[\"num_bedrooms\"].astype(float)\n",
    "rent_norange_df[\"num_bathrooms\"] = rent_norange_df[\"num_bathrooms\"].astype(float)\n",
    "rent_norange_df[\"num_sqft\"] = rent_norange_df[\"num_sqft\"].astype(float)\n"
   ]
  },
  {
   "cell_type": "code",
   "execution_count": 34,
   "metadata": {},
   "outputs": [
    {
     "name": "stdout",
     "output_type": "stream",
     "text": [
      "<class 'pandas.core.frame.DataFrame'>\n",
      "RangeIndex: 2414 entries, 0 to 2413\n",
      "Data columns (total 6 columns):\n",
      " #   Column         Non-Null Count  Dtype  \n",
      "---  ------         --------------  -----  \n",
      " 0   Rent           2414 non-null   float64\n",
      " 1   Address        2414 non-null   object \n",
      " 2   Zip            2410 non-null   object \n",
      " 3   num_bedrooms   2414 non-null   float64\n",
      " 4   num_bathrooms  2414 non-null   float64\n",
      " 5   num_sqft       1472 non-null   float64\n",
      "dtypes: float64(4), object(2)\n",
      "memory usage: 113.3+ KB\n"
     ]
    }
   ],
   "source": [
    "rent_norange_df.info()"
   ]
  },
  {
   "cell_type": "code",
   "execution_count": 35,
   "metadata": {},
   "outputs": [
    {
     "data": {
      "text/plain": [
       "(2300, 6)"
      ]
     },
     "execution_count": 35,
     "metadata": {},
     "output_type": "execute_result"
    }
   ],
   "source": [
    "# match the postal codes\n",
    "# check the number of postal codes that match\n",
    "rent_df.loc[rent_df['Zip'].isin(geo_coords['Postal Code']), :].shape"
   ]
  },
  {
   "cell_type": "code",
   "execution_count": 36,
   "metadata": {},
   "outputs": [
    {
     "data": {
      "text/plain": [
       "Rent               0\n",
       "Address            0\n",
       "Zip                4\n",
       "num_bedrooms       0\n",
       "num_bathrooms      0\n",
       "num_sqft         942\n",
       "dtype: int64"
      ]
     },
     "execution_count": 36,
     "metadata": {},
     "output_type": "execute_result"
    }
   ],
   "source": [
    "# check for null values\n",
    "rent_norange_df.isnull().sum()"
   ]
  },
  {
   "cell_type": "markdown",
   "metadata": {},
   "source": [
    "Just going to drop all the null values because 942 null values is too much for this dataset (represents 1/3 of the data for num_sqft) and there's not point in keeping data that doesn't have a zip code because the whole point of this analysis is plot all the data on a map."
   ]
  },
  {
   "cell_type": "code",
   "execution_count": 37,
   "metadata": {},
   "outputs": [
    {
     "data": {
      "text/plain": [
       "(2414, 6)"
      ]
     },
     "execution_count": 37,
     "metadata": {},
     "output_type": "execute_result"
    }
   ],
   "source": [
    "rent_norange_df.shape"
   ]
  },
  {
   "cell_type": "code",
   "execution_count": 38,
   "metadata": {},
   "outputs": [
    {
     "data": {
      "text/html": [
       "<div>\n",
       "<style scoped>\n",
       "    .dataframe tbody tr th:only-of-type {\n",
       "        vertical-align: middle;\n",
       "    }\n",
       "\n",
       "    .dataframe tbody tr th {\n",
       "        vertical-align: top;\n",
       "    }\n",
       "\n",
       "    .dataframe thead th {\n",
       "        text-align: right;\n",
       "    }\n",
       "</style>\n",
       "<table border=\"1\" class=\"dataframe\">\n",
       "  <thead>\n",
       "    <tr style=\"text-align: right;\">\n",
       "      <th></th>\n",
       "      <th>Rent</th>\n",
       "      <th>Address</th>\n",
       "      <th>Zip</th>\n",
       "      <th>num_bedrooms</th>\n",
       "      <th>num_bathrooms</th>\n",
       "      <th>num_sqft</th>\n",
       "    </tr>\n",
       "  </thead>\n",
       "  <tbody>\n",
       "    <tr>\n",
       "      <th>13</th>\n",
       "      <td>2080.0</td>\n",
       "      <td>35 Balmuto Street</td>\n",
       "      <td>NaN</td>\n",
       "      <td>1.0</td>\n",
       "      <td>1.0</td>\n",
       "      <td>610.0</td>\n",
       "    </tr>\n",
       "    <tr>\n",
       "      <th>93</th>\n",
       "      <td>1900.0</td>\n",
       "      <td>3560 St Clair Ave E | Unit: 418</td>\n",
       "      <td>NaN</td>\n",
       "      <td>1.0</td>\n",
       "      <td>1.0</td>\n",
       "      <td>700.0</td>\n",
       "    </tr>\n",
       "    <tr>\n",
       "      <th>1990</th>\n",
       "      <td>2500.0</td>\n",
       "      <td>50 Ann O'Reilly Road | Unit: 2</td>\n",
       "      <td>NaN</td>\n",
       "      <td>2.0</td>\n",
       "      <td>2.0</td>\n",
       "      <td>1075.0</td>\n",
       "    </tr>\n",
       "    <tr>\n",
       "      <th>2014</th>\n",
       "      <td>2950.0</td>\n",
       "      <td>85 The Donway W</td>\n",
       "      <td>NaN</td>\n",
       "      <td>2.0</td>\n",
       "      <td>2.0</td>\n",
       "      <td>1450.0</td>\n",
       "    </tr>\n",
       "  </tbody>\n",
       "</table>\n",
       "</div>"
      ],
      "text/plain": [
       "        Rent                          Address  Zip  num_bedrooms  \\\n",
       "13    2080.0                35 Balmuto Street  NaN           1.0   \n",
       "93    1900.0  3560 St Clair Ave E | Unit: 418  NaN           1.0   \n",
       "1990  2500.0   50 Ann O'Reilly Road | Unit: 2  NaN           2.0   \n",
       "2014  2950.0                  85 The Donway W  NaN           2.0   \n",
       "\n",
       "      num_bathrooms  num_sqft  \n",
       "13              1.0     610.0  \n",
       "93              1.0     700.0  \n",
       "1990            2.0    1075.0  \n",
       "2014            2.0    1450.0  "
      ]
     },
     "execution_count": 38,
     "metadata": {},
     "output_type": "execute_result"
    }
   ],
   "source": [
    "# find the rows that contain null values for \"Zip\"\n",
    "rent_norange_df.loc[rent_norange_df['Zip'].isnull()]"
   ]
  },
  {
   "cell_type": "code",
   "execution_count": 39,
   "metadata": {},
   "outputs": [],
   "source": [
    "# remove null values\n",
    "dropped_nulls_df = rent_norange_df.dropna()\n",
    "one_bedroom_df = rent_norange_df.loc[rent_norange_df['num_bedrooms'] == 1].dropna()"
   ]
  },
  {
   "cell_type": "code",
   "execution_count": 40,
   "metadata": {},
   "outputs": [
    {
     "data": {
      "text/plain": [
       "(934, 6)"
      ]
     },
     "execution_count": 40,
     "metadata": {},
     "output_type": "execute_result"
    }
   ],
   "source": [
    "dropped_nulls_df.shape\n",
    "one_bedroom_df.shape"
   ]
  },
  {
   "cell_type": "code",
   "execution_count": 41,
   "metadata": {},
   "outputs": [
    {
     "data": {
      "text/plain": [
       "(1342, 6)"
      ]
     },
     "execution_count": 41,
     "metadata": {},
     "output_type": "execute_result"
    }
   ],
   "source": [
    "dropped_nulls_df.loc[dropped_nulls_df['Zip'].isin(geo_coords[\"Postal Code\"])].shape"
   ]
  },
  {
   "cell_type": "code",
   "execution_count": 42,
   "metadata": {},
   "outputs": [],
   "source": [
    "dropped_nulls_df = dropped_nulls_df.reset_index(drop=True)\n",
    "one_bedroom_df = one_bedroom_df.reset_index(drop=True)\n"
   ]
  },
  {
   "cell_type": "markdown",
   "metadata": {},
   "source": [
    "#### Store Data into a database"
   ]
  },
  {
   "cell_type": "code",
   "execution_count": 43,
   "metadata": {},
   "outputs": [],
   "source": [
    "from sqlalchemy import create_engine"
   ]
  },
  {
   "cell_type": "code",
   "execution_count": 44,
   "metadata": {},
   "outputs": [],
   "source": [
    "connection_string = \"postgres:postgres@localhost:5432/toronto-rental-properties\"\n",
    "engine = create_engine(f'postgresql://{connection_string}')"
   ]
  },
  {
   "cell_type": "code",
   "execution_count": 45,
   "metadata": {},
   "outputs": [],
   "source": [
    "connection = engine.connect()"
   ]
  },
  {
   "cell_type": "code",
   "execution_count": 46,
   "metadata": {},
   "outputs": [],
   "source": [
    "dropped_nulls_df.to_sql(name=\"all_data\", con = engine, if_exists=\"replace\",index = False)"
   ]
  },
  {
   "cell_type": "code",
   "execution_count": 47,
   "metadata": {},
   "outputs": [],
   "source": [
    "# change column names for geo_coords before storing in pgadmin\n",
    "geo_coords.rename(columns = ({\"Postal Code\": \"postal_code\"}), inplace = True)"
   ]
  },
  {
   "cell_type": "code",
   "execution_count": 48,
   "metadata": {},
   "outputs": [],
   "source": [
    "geo_coords_columnNames = ['postal_code', \"latitude\", \"longitude\"]"
   ]
  },
  {
   "cell_type": "code",
   "execution_count": 49,
   "metadata": {},
   "outputs": [],
   "source": [
    "geo_coords.columns = geo_coords_columnNames"
   ]
  },
  {
   "cell_type": "code",
   "execution_count": 50,
   "metadata": {},
   "outputs": [],
   "source": [
    "one_bedroom_columnNames = ['rent', 'address', 'zip', 'num_bedrooms', 'num_bathrooms', 'num_sqft']"
   ]
  },
  {
   "cell_type": "code",
   "execution_count": 51,
   "metadata": {},
   "outputs": [],
   "source": [
    "one_bedroom_df.columns = one_bedroom_columnNames"
   ]
  },
  {
   "cell_type": "code",
   "execution_count": 52,
   "metadata": {},
   "outputs": [
    {
     "data": {
      "text/html": [
       "<div>\n",
       "<style scoped>\n",
       "    .dataframe tbody tr th:only-of-type {\n",
       "        vertical-align: middle;\n",
       "    }\n",
       "\n",
       "    .dataframe tbody tr th {\n",
       "        vertical-align: top;\n",
       "    }\n",
       "\n",
       "    .dataframe thead th {\n",
       "        text-align: right;\n",
       "    }\n",
       "</style>\n",
       "<table border=\"1\" class=\"dataframe\">\n",
       "  <thead>\n",
       "    <tr style=\"text-align: right;\">\n",
       "      <th></th>\n",
       "      <th>rent</th>\n",
       "      <th>address</th>\n",
       "      <th>zip</th>\n",
       "      <th>num_bedrooms</th>\n",
       "      <th>num_bathrooms</th>\n",
       "      <th>num_sqft</th>\n",
       "    </tr>\n",
       "  </thead>\n",
       "  <tbody>\n",
       "    <tr>\n",
       "      <th>0</th>\n",
       "      <td>2295.0</td>\n",
       "      <td>300 Balliol Street</td>\n",
       "      <td>M4S</td>\n",
       "      <td>1.0</td>\n",
       "      <td>1.0</td>\n",
       "      <td>600.0</td>\n",
       "    </tr>\n",
       "    <tr>\n",
       "      <th>1</th>\n",
       "      <td>2050.0</td>\n",
       "      <td>83 Redpath Avenue</td>\n",
       "      <td>M4S</td>\n",
       "      <td>1.0</td>\n",
       "      <td>1.0</td>\n",
       "      <td>562.0</td>\n",
       "    </tr>\n",
       "    <tr>\n",
       "      <th>2</th>\n",
       "      <td>2350.0</td>\n",
       "      <td>633 Bay Street</td>\n",
       "      <td>M5G</td>\n",
       "      <td>1.0</td>\n",
       "      <td>1.5</td>\n",
       "      <td>833.0</td>\n",
       "    </tr>\n",
       "    <tr>\n",
       "      <th>3</th>\n",
       "      <td>2250.0</td>\n",
       "      <td>88 Harbour Street</td>\n",
       "      <td>M5J</td>\n",
       "      <td>1.0</td>\n",
       "      <td>1.0</td>\n",
       "      <td>581.0</td>\n",
       "    </tr>\n",
       "  </tbody>\n",
       "</table>\n",
       "</div>"
      ],
      "text/plain": [
       "     rent             address  zip  num_bedrooms  num_bathrooms  num_sqft\n",
       "0  2295.0  300 Balliol Street  M4S           1.0            1.0     600.0\n",
       "1  2050.0   83 Redpath Avenue  M4S           1.0            1.0     562.0\n",
       "2  2350.0      633 Bay Street  M5G           1.0            1.5     833.0\n",
       "3  2250.0   88 Harbour Street  M5J           1.0            1.0     581.0"
      ]
     },
     "execution_count": 52,
     "metadata": {},
     "output_type": "execute_result"
    }
   ],
   "source": [
    "one_bedroom_df.head(4)"
   ]
  },
  {
   "cell_type": "code",
   "execution_count": 53,
   "metadata": {},
   "outputs": [],
   "source": [
    "one_bedroom_df.to_sql(name=\"one_bedroom_data\", con = engine, if_exists = \"replace\", index=False)\n"
   ]
  },
  {
   "cell_type": "code",
   "execution_count": 54,
   "metadata": {},
   "outputs": [],
   "source": [
    "geo_coords.to_sql(name=\"geo_data\", con = engine, if_exists = \"replace\", index = False)"
   ]
  },
  {
   "cell_type": "code",
   "execution_count": 74,
   "metadata": {},
   "outputs": [
    {
     "data": {
      "text/html": [
       "<div>\n",
       "<style scoped>\n",
       "    .dataframe tbody tr th:only-of-type {\n",
       "        vertical-align: middle;\n",
       "    }\n",
       "\n",
       "    .dataframe tbody tr th {\n",
       "        vertical-align: top;\n",
       "    }\n",
       "\n",
       "    .dataframe thead th {\n",
       "        text-align: right;\n",
       "    }\n",
       "</style>\n",
       "<table border=\"1\" class=\"dataframe\">\n",
       "  <thead>\n",
       "    <tr style=\"text-align: right;\">\n",
       "      <th></th>\n",
       "      <th>rent</th>\n",
       "      <th>address</th>\n",
       "      <th>zip</th>\n",
       "      <th>num_bedrooms</th>\n",
       "      <th>num_bathrooms</th>\n",
       "      <th>num_sqft</th>\n",
       "    </tr>\n",
       "  </thead>\n",
       "  <tbody>\n",
       "    <tr>\n",
       "      <th>0</th>\n",
       "      <td>2295.0</td>\n",
       "      <td>300 Balliol Street</td>\n",
       "      <td>M4S</td>\n",
       "      <td>1.0</td>\n",
       "      <td>1.0</td>\n",
       "      <td>600.0</td>\n",
       "    </tr>\n",
       "    <tr>\n",
       "      <th>1</th>\n",
       "      <td>2050.0</td>\n",
       "      <td>83 Redpath Avenue</td>\n",
       "      <td>M4S</td>\n",
       "      <td>1.0</td>\n",
       "      <td>1.0</td>\n",
       "      <td>562.0</td>\n",
       "    </tr>\n",
       "    <tr>\n",
       "      <th>2</th>\n",
       "      <td>2350.0</td>\n",
       "      <td>633 Bay Street</td>\n",
       "      <td>M5G</td>\n",
       "      <td>1.0</td>\n",
       "      <td>1.5</td>\n",
       "      <td>833.0</td>\n",
       "    </tr>\n",
       "    <tr>\n",
       "      <th>3</th>\n",
       "      <td>2250.0</td>\n",
       "      <td>88 Harbour Street</td>\n",
       "      <td>M5J</td>\n",
       "      <td>1.0</td>\n",
       "      <td>1.0</td>\n",
       "      <td>581.0</td>\n",
       "    </tr>\n",
       "    <tr>\n",
       "      <th>4</th>\n",
       "      <td>1950.0</td>\n",
       "      <td>66 Portland Street</td>\n",
       "      <td>M5V</td>\n",
       "      <td>1.0</td>\n",
       "      <td>1.0</td>\n",
       "      <td>570.0</td>\n",
       "    </tr>\n",
       "  </tbody>\n",
       "</table>\n",
       "</div>"
      ],
      "text/plain": [
       "     rent             address  zip  num_bedrooms  num_bathrooms  num_sqft\n",
       "0  2295.0  300 Balliol Street  M4S           1.0            1.0     600.0\n",
       "1  2050.0   83 Redpath Avenue  M4S           1.0            1.0     562.0\n",
       "2  2350.0      633 Bay Street  M5G           1.0            1.5     833.0\n",
       "3  2250.0   88 Harbour Street  M5J           1.0            1.0     581.0\n",
       "4  1950.0  66 Portland Street  M5V           1.0            1.0     570.0"
      ]
     },
     "execution_count": 74,
     "metadata": {},
     "output_type": "execute_result"
    }
   ],
   "source": [
    "pd.read_sql_query(\"SELECT * \\\n",
    "                    FROM one_bedroom_data \\\n",
    "                    LIMIT 5\", connection)"
   ]
  },
  {
   "cell_type": "code",
   "execution_count": 79,
   "metadata": {},
   "outputs": [],
   "source": [
    "# join datasets with sql to flex my sql skills\n",
    "sql_merged = pd.read_sql_query(\"SELECT g.postal_code,\\\n",
    "                               g.latitude,\\\n",
    "                               g.longitude,\\\n",
    "                               ob.rent,\\\n",
    "                               ob.address,\\\n",
    "                               ob.num_bedrooms,\\\n",
    "                               ob.num_bathrooms,\\\n",
    "                               ob.num_sqft\\\n",
    "                               FROM geo_data g\\\n",
    "                               JOIN one_bedroom_data ob\\\n",
    "                               ON ob.zip = g.postal_code\", connection)"
   ]
  },
  {
   "cell_type": "code",
   "execution_count": 80,
   "metadata": {},
   "outputs": [
    {
     "data": {
      "text/html": [
       "<div>\n",
       "<style scoped>\n",
       "    .dataframe tbody tr th:only-of-type {\n",
       "        vertical-align: middle;\n",
       "    }\n",
       "\n",
       "    .dataframe tbody tr th {\n",
       "        vertical-align: top;\n",
       "    }\n",
       "\n",
       "    .dataframe thead th {\n",
       "        text-align: right;\n",
       "    }\n",
       "</style>\n",
       "<table border=\"1\" class=\"dataframe\">\n",
       "  <thead>\n",
       "    <tr style=\"text-align: right;\">\n",
       "      <th></th>\n",
       "      <th>postal_code</th>\n",
       "      <th>latitude</th>\n",
       "      <th>longitude</th>\n",
       "      <th>rent</th>\n",
       "      <th>address</th>\n",
       "      <th>num_bedrooms</th>\n",
       "      <th>num_bathrooms</th>\n",
       "      <th>num_sqft</th>\n",
       "    </tr>\n",
       "  </thead>\n",
       "  <tbody>\n",
       "    <tr>\n",
       "      <th>0</th>\n",
       "      <td>M1H</td>\n",
       "      <td>43.773136</td>\n",
       "      <td>-79.239476</td>\n",
       "      <td>1925.0</td>\n",
       "      <td>36 Lee Centre Drive</td>\n",
       "      <td>1.0</td>\n",
       "      <td>1.0</td>\n",
       "      <td>750.0</td>\n",
       "    </tr>\n",
       "    <tr>\n",
       "      <th>1</th>\n",
       "      <td>M1H</td>\n",
       "      <td>43.773136</td>\n",
       "      <td>-79.239476</td>\n",
       "      <td>1950.0</td>\n",
       "      <td>38 Lee Centre Drive</td>\n",
       "      <td>1.0</td>\n",
       "      <td>1.0</td>\n",
       "      <td>650.0</td>\n",
       "    </tr>\n",
       "    <tr>\n",
       "      <th>2</th>\n",
       "      <td>M1H</td>\n",
       "      <td>43.773136</td>\n",
       "      <td>-79.239476</td>\n",
       "      <td>1950.0</td>\n",
       "      <td>11 Lee Centre Drive</td>\n",
       "      <td>1.0</td>\n",
       "      <td>1.0</td>\n",
       "      <td>650.0</td>\n",
       "    </tr>\n",
       "    <tr>\n",
       "      <th>3</th>\n",
       "      <td>M1H</td>\n",
       "      <td>43.773136</td>\n",
       "      <td>-79.239476</td>\n",
       "      <td>1850.0</td>\n",
       "      <td>8 Lee Centre Drive</td>\n",
       "      <td>1.0</td>\n",
       "      <td>1.0</td>\n",
       "      <td>650.0</td>\n",
       "    </tr>\n",
       "    <tr>\n",
       "      <th>4</th>\n",
       "      <td>M1H</td>\n",
       "      <td>43.773136</td>\n",
       "      <td>-79.239476</td>\n",
       "      <td>2000.0</td>\n",
       "      <td>88 Grangeway Avenue</td>\n",
       "      <td>1.0</td>\n",
       "      <td>1.0</td>\n",
       "      <td>650.0</td>\n",
       "    </tr>\n",
       "    <tr>\n",
       "      <th>...</th>\n",
       "      <td>...</td>\n",
       "      <td>...</td>\n",
       "      <td>...</td>\n",
       "      <td>...</td>\n",
       "      <td>...</td>\n",
       "      <td>...</td>\n",
       "      <td>...</td>\n",
       "      <td>...</td>\n",
       "    </tr>\n",
       "    <tr>\n",
       "      <th>856</th>\n",
       "      <td>M9C</td>\n",
       "      <td>43.643515</td>\n",
       "      <td>-79.577201</td>\n",
       "      <td>2000.0</td>\n",
       "      <td>2 Eva Road</td>\n",
       "      <td>1.0</td>\n",
       "      <td>1.0</td>\n",
       "      <td>650.0</td>\n",
       "    </tr>\n",
       "    <tr>\n",
       "      <th>857</th>\n",
       "      <td>M9C</td>\n",
       "      <td>43.643515</td>\n",
       "      <td>-79.577201</td>\n",
       "      <td>2100.0</td>\n",
       "      <td>235 Sherway Gardens Road</td>\n",
       "      <td>1.0</td>\n",
       "      <td>1.0</td>\n",
       "      <td>650.0</td>\n",
       "    </tr>\n",
       "    <tr>\n",
       "      <th>858</th>\n",
       "      <td>M9C</td>\n",
       "      <td>43.643515</td>\n",
       "      <td>-79.577201</td>\n",
       "      <td>2000.0</td>\n",
       "      <td>6 Eva Road</td>\n",
       "      <td>1.0</td>\n",
       "      <td>1.0</td>\n",
       "      <td>688.0</td>\n",
       "    </tr>\n",
       "    <tr>\n",
       "      <th>859</th>\n",
       "      <td>M9C</td>\n",
       "      <td>43.643515</td>\n",
       "      <td>-79.577201</td>\n",
       "      <td>2280.0</td>\n",
       "      <td>215 Sherway Gardens Road</td>\n",
       "      <td>1.0</td>\n",
       "      <td>2.0</td>\n",
       "      <td>743.0</td>\n",
       "    </tr>\n",
       "    <tr>\n",
       "      <th>860</th>\n",
       "      <td>M9M</td>\n",
       "      <td>43.724766</td>\n",
       "      <td>-79.532242</td>\n",
       "      <td>1475.0</td>\n",
       "      <td>149 Isaac Devins Boulevard</td>\n",
       "      <td>1.0</td>\n",
       "      <td>1.0</td>\n",
       "      <td>685.0</td>\n",
       "    </tr>\n",
       "  </tbody>\n",
       "</table>\n",
       "<p>861 rows × 8 columns</p>\n",
       "</div>"
      ],
      "text/plain": [
       "    postal_code   latitude  longitude    rent                     address  \\\n",
       "0           M1H  43.773136 -79.239476  1925.0         36 Lee Centre Drive   \n",
       "1           M1H  43.773136 -79.239476  1950.0         38 Lee Centre Drive   \n",
       "2           M1H  43.773136 -79.239476  1950.0         11 Lee Centre Drive   \n",
       "3           M1H  43.773136 -79.239476  1850.0          8 Lee Centre Drive   \n",
       "4           M1H  43.773136 -79.239476  2000.0         88 Grangeway Avenue   \n",
       "..          ...        ...        ...     ...                         ...   \n",
       "856         M9C  43.643515 -79.577201  2000.0                  2 Eva Road   \n",
       "857         M9C  43.643515 -79.577201  2100.0    235 Sherway Gardens Road   \n",
       "858         M9C  43.643515 -79.577201  2000.0                  6 Eva Road   \n",
       "859         M9C  43.643515 -79.577201  2280.0    215 Sherway Gardens Road   \n",
       "860         M9M  43.724766 -79.532242  1475.0  149 Isaac Devins Boulevard   \n",
       "\n",
       "     num_bedrooms  num_bathrooms  num_sqft  \n",
       "0             1.0            1.0     750.0  \n",
       "1             1.0            1.0     650.0  \n",
       "2             1.0            1.0     650.0  \n",
       "3             1.0            1.0     650.0  \n",
       "4             1.0            1.0     650.0  \n",
       "..            ...            ...       ...  \n",
       "856           1.0            1.0     650.0  \n",
       "857           1.0            1.0     650.0  \n",
       "858           1.0            1.0     688.0  \n",
       "859           1.0            2.0     743.0  \n",
       "860           1.0            1.0     685.0  \n",
       "\n",
       "[861 rows x 8 columns]"
      ]
     },
     "execution_count": 80,
     "metadata": {},
     "output_type": "execute_result"
    }
   ],
   "source": [
    "sql_merged"
   ]
  },
  {
   "cell_type": "code",
   "execution_count": 83,
   "metadata": {},
   "outputs": [
    {
     "data": {
      "text/plain": [
       "(861, 6)"
      ]
     },
     "execution_count": 83,
     "metadata": {},
     "output_type": "execute_result"
    }
   ],
   "source": [
    "# the rows should match sql_merged\n",
    "one_bedroom_df.loc[one_bedroom_df['zip'].isin(geo_coords['postal_code'])].shape"
   ]
  },
  {
   "cell_type": "code",
   "execution_count": 91,
   "metadata": {},
   "outputs": [],
   "source": [
    "# group datasets with sql to flex my sql skills\n",
    "sql_group_postal_code = pd.read_sql_query(\"SELECT g.postal_code,\\\n",
    "                                                  g.latitude,\\\n",
    "                                                  g.longitude,\\\n",
    "                                                  AVG(ob.rent) as average_rent,\\\n",
    "                                                  AVG(ob.num_bathrooms) as average_bathrooms,\\\n",
    "                                                  AVG(ob.num_sqft) as average_sqft \\\n",
    "                                            FROM geo_data g \\\n",
    "                                              JOIN one_bedroom_data ob \\\n",
    "                                                  ON ob.zip = g.postal_code \\\n",
    "                                            GROUP BY g.postal_code, \\\n",
    "                                                     g.latitude, \\\n",
    "                                                     g.longitude \\\n",
    "                                            ORDER BY g.postal_code;\", connection)"
   ]
  },
  {
   "cell_type": "code",
   "execution_count": 92,
   "metadata": {},
   "outputs": [
    {
     "data": {
      "text/html": [
       "<div>\n",
       "<style scoped>\n",
       "    .dataframe tbody tr th:only-of-type {\n",
       "        vertical-align: middle;\n",
       "    }\n",
       "\n",
       "    .dataframe tbody tr th {\n",
       "        vertical-align: top;\n",
       "    }\n",
       "\n",
       "    .dataframe thead th {\n",
       "        text-align: right;\n",
       "    }\n",
       "</style>\n",
       "<table border=\"1\" class=\"dataframe\">\n",
       "  <thead>\n",
       "    <tr style=\"text-align: right;\">\n",
       "      <th></th>\n",
       "      <th>postal_code</th>\n",
       "      <th>latitude</th>\n",
       "      <th>longitude</th>\n",
       "      <th>average_rent</th>\n",
       "      <th>average_bathrooms</th>\n",
       "      <th>average_sqft</th>\n",
       "    </tr>\n",
       "  </thead>\n",
       "  <tbody>\n",
       "    <tr>\n",
       "      <th>0</th>\n",
       "      <td>M1H</td>\n",
       "      <td>43.773136</td>\n",
       "      <td>-79.239476</td>\n",
       "      <td>1902.272727</td>\n",
       "      <td>1.000000</td>\n",
       "      <td>618.727273</td>\n",
       "    </tr>\n",
       "    <tr>\n",
       "      <th>1</th>\n",
       "      <td>M1N</td>\n",
       "      <td>43.692657</td>\n",
       "      <td>-79.264848</td>\n",
       "      <td>2050.000000</td>\n",
       "      <td>1.000000</td>\n",
       "      <td>735.000000</td>\n",
       "    </tr>\n",
       "    <tr>\n",
       "      <th>2</th>\n",
       "      <td>M1P</td>\n",
       "      <td>43.757410</td>\n",
       "      <td>-79.273304</td>\n",
       "      <td>1936.580645</td>\n",
       "      <td>0.983871</td>\n",
       "      <td>624.129032</td>\n",
       "    </tr>\n",
       "    <tr>\n",
       "      <th>3</th>\n",
       "      <td>M1S</td>\n",
       "      <td>43.794200</td>\n",
       "      <td>-79.262029</td>\n",
       "      <td>1852.500000</td>\n",
       "      <td>1.100000</td>\n",
       "      <td>592.000000</td>\n",
       "    </tr>\n",
       "  </tbody>\n",
       "</table>\n",
       "</div>"
      ],
      "text/plain": [
       "  postal_code   latitude  longitude  average_rent  average_bathrooms  \\\n",
       "0         M1H  43.773136 -79.239476   1902.272727           1.000000   \n",
       "1         M1N  43.692657 -79.264848   2050.000000           1.000000   \n",
       "2         M1P  43.757410 -79.273304   1936.580645           0.983871   \n",
       "3         M1S  43.794200 -79.262029   1852.500000           1.100000   \n",
       "\n",
       "   average_sqft  \n",
       "0    618.727273  \n",
       "1    735.000000  \n",
       "2    624.129032  \n",
       "3    592.000000  "
      ]
     },
     "execution_count": 92,
     "metadata": {},
     "output_type": "execute_result"
    }
   ],
   "source": [
    "sql_group_postal_code.head(4)"
   ]
  },
  {
   "cell_type": "code",
   "execution_count": 94,
   "metadata": {},
   "outputs": [],
   "source": [
    "# graph the coordinates\n",
    "map_toronto = folium.Map(location = [sql_group_postal_code['latitude'][0], \\\n",
    "                                    sql_group_postal_code['longitude'][0]], zoom_start=10)\n",
    "\n",
    "# add markers to map\n",
    "for lat,lng,rent,bathrooms,sqft in zip(sql_group_postal_code['latitude'], sql_group_postal_code['longitude'],\\\n",
    "                                       sql_group_postal_code['average_rent'],sql_group_postal_code['average_bathrooms'],\\\n",
    "                                       sql_group_postal_code['average_sqft']):\n",
    "    label = f\"Price: {rent} \\n Bathrooms: {bath} \\n sqft: {sqft}\"\n",
    "    label = folium.Popup(label,parse_html = True)\n",
    "    folium.CircleMarker(\n",
    "    [lat,lng],\n",
    "    radius=5,\n",
    "    popup=label,\n",
    "    color='blue',\n",
    "    fill=True,\n",
    "    fill_color = \"#3186cc\",\n",
    "    fill_opacity=0.7,\n",
    "    parse_html=False).add_to(map_toronto)"
   ]
  },
  {
   "cell_type": "code",
   "execution_count": 95,
   "metadata": {},
   "outputs": [
    {
     "data": {
      "text/html": [
       "<div style=\"width:100%;\"><div style=\"position:relative;width:100%;height:0;padding-bottom:60%;\"><span style=\"color:#565656\">Make this Notebook Trusted to load map: File -> Trust Notebook</span><iframe src=\"about:blank\" style=\"position:absolute;width:100%;height:100%;left:0;top:0;border:none !important;\" data-html=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 onload=\"this.contentDocument.open();this.contentDocument.write(atob(this.getAttribute('data-html')));this.contentDocument.close();\" allowfullscreen webkitallowfullscreen mozallowfullscreen></iframe></div></div>"
      ],
      "text/plain": [
       "<folium.folium.Map at 0x12af47d8608>"
      ]
     },
     "execution_count": 95,
     "metadata": {},
     "output_type": "execute_result"
    }
   ],
   "source": [
    "map_toronto"
   ]
  },
  {
   "cell_type": "code",
   "execution_count": 65,
   "metadata": {
    "scrolled": true
   },
   "outputs": [],
   "source": [
    "zip_group = one_bedroom_df.groupby(['zip']).mean()"
   ]
  },
  {
   "cell_type": "code",
   "execution_count": 66,
   "metadata": {},
   "outputs": [
    {
     "data": {
      "text/html": [
       "<div>\n",
       "<style scoped>\n",
       "    .dataframe tbody tr th:only-of-type {\n",
       "        vertical-align: middle;\n",
       "    }\n",
       "\n",
       "    .dataframe tbody tr th {\n",
       "        vertical-align: top;\n",
       "    }\n",
       "\n",
       "    .dataframe thead th {\n",
       "        text-align: right;\n",
       "    }\n",
       "</style>\n",
       "<table border=\"1\" class=\"dataframe\">\n",
       "  <thead>\n",
       "    <tr style=\"text-align: right;\">\n",
       "      <th></th>\n",
       "      <th>rent</th>\n",
       "      <th>num_bedrooms</th>\n",
       "      <th>num_bathrooms</th>\n",
       "      <th>num_sqft</th>\n",
       "    </tr>\n",
       "    <tr>\n",
       "      <th>zip</th>\n",
       "      <th></th>\n",
       "      <th></th>\n",
       "      <th></th>\n",
       "      <th></th>\n",
       "    </tr>\n",
       "  </thead>\n",
       "  <tbody>\n",
       "    <tr>\n",
       "      <th>L3P</th>\n",
       "      <td>1675.000000</td>\n",
       "      <td>1.0</td>\n",
       "      <td>1.000000</td>\n",
       "      <td>549.000000</td>\n",
       "    </tr>\n",
       "    <tr>\n",
       "      <th>L3R</th>\n",
       "      <td>2000.000000</td>\n",
       "      <td>1.0</td>\n",
       "      <td>1.000000</td>\n",
       "      <td>750.000000</td>\n",
       "    </tr>\n",
       "    <tr>\n",
       "      <th>L3T</th>\n",
       "      <td>1990.000000</td>\n",
       "      <td>1.0</td>\n",
       "      <td>1.000000</td>\n",
       "      <td>600.000000</td>\n",
       "    </tr>\n",
       "    <tr>\n",
       "      <th>L4B</th>\n",
       "      <td>1830.000000</td>\n",
       "      <td>1.0</td>\n",
       "      <td>1.000000</td>\n",
       "      <td>580.000000</td>\n",
       "    </tr>\n",
       "    <tr>\n",
       "      <th>L4C</th>\n",
       "      <td>1897.111111</td>\n",
       "      <td>1.0</td>\n",
       "      <td>1.111111</td>\n",
       "      <td>758.555556</td>\n",
       "    </tr>\n",
       "  </tbody>\n",
       "</table>\n",
       "</div>"
      ],
      "text/plain": [
       "            rent  num_bedrooms  num_bathrooms    num_sqft\n",
       "zip                                                      \n",
       "L3P  1675.000000           1.0       1.000000  549.000000\n",
       "L3R  2000.000000           1.0       1.000000  750.000000\n",
       "L3T  1990.000000           1.0       1.000000  600.000000\n",
       "L4B  1830.000000           1.0       1.000000  580.000000\n",
       "L4C  1897.111111           1.0       1.111111  758.555556"
      ]
     },
     "execution_count": 66,
     "metadata": {},
     "output_type": "execute_result"
    }
   ],
   "source": [
    "zip_group.head()"
   ]
  },
  {
   "cell_type": "code",
   "execution_count": 67,
   "metadata": {},
   "outputs": [
    {
     "data": {
      "text/plain": [
       "(68, 4)"
      ]
     },
     "execution_count": 67,
     "metadata": {},
     "output_type": "execute_result"
    }
   ],
   "source": [
    "zip_group.shape"
   ]
  },
  {
   "cell_type": "code",
   "execution_count": 68,
   "metadata": {},
   "outputs": [],
   "source": [
    "zip_group = zip_group.reset_index().rename(columns={\"zip\": \"postal_code\"})"
   ]
  },
  {
   "cell_type": "code",
   "execution_count": 69,
   "metadata": {},
   "outputs": [
    {
     "data": {
      "text/html": [
       "<div>\n",
       "<style scoped>\n",
       "    .dataframe tbody tr th:only-of-type {\n",
       "        vertical-align: middle;\n",
       "    }\n",
       "\n",
       "    .dataframe tbody tr th {\n",
       "        vertical-align: top;\n",
       "    }\n",
       "\n",
       "    .dataframe thead th {\n",
       "        text-align: right;\n",
       "    }\n",
       "</style>\n",
       "<table border=\"1\" class=\"dataframe\">\n",
       "  <thead>\n",
       "    <tr style=\"text-align: right;\">\n",
       "      <th></th>\n",
       "      <th>postal_code</th>\n",
       "      <th>rent</th>\n",
       "      <th>num_bedrooms</th>\n",
       "      <th>num_bathrooms</th>\n",
       "      <th>num_sqft</th>\n",
       "    </tr>\n",
       "  </thead>\n",
       "  <tbody>\n",
       "    <tr>\n",
       "      <th>0</th>\n",
       "      <td>L3P</td>\n",
       "      <td>1675.0</td>\n",
       "      <td>1.0</td>\n",
       "      <td>1.0</td>\n",
       "      <td>549.0</td>\n",
       "    </tr>\n",
       "    <tr>\n",
       "      <th>1</th>\n",
       "      <td>L3R</td>\n",
       "      <td>2000.0</td>\n",
       "      <td>1.0</td>\n",
       "      <td>1.0</td>\n",
       "      <td>750.0</td>\n",
       "    </tr>\n",
       "    <tr>\n",
       "      <th>2</th>\n",
       "      <td>L3T</td>\n",
       "      <td>1990.0</td>\n",
       "      <td>1.0</td>\n",
       "      <td>1.0</td>\n",
       "      <td>600.0</td>\n",
       "    </tr>\n",
       "  </tbody>\n",
       "</table>\n",
       "</div>"
      ],
      "text/plain": [
       "  postal_code    rent  num_bedrooms  num_bathrooms  num_sqft\n",
       "0         L3P  1675.0           1.0            1.0     549.0\n",
       "1         L3R  2000.0           1.0            1.0     750.0\n",
       "2         L3T  1990.0           1.0            1.0     600.0"
      ]
     },
     "execution_count": 69,
     "metadata": {},
     "output_type": "execute_result"
    }
   ],
   "source": [
    "zip_group.head(3)"
   ]
  },
  {
   "cell_type": "code",
   "execution_count": 71,
   "metadata": {},
   "outputs": [],
   "source": [
    "# match postal codes with the two datasets\n",
    "merged_data = geo_coords.join(zip_group.set_index(\"postal_code\"), on = \"postal_code\", how = \"inner\")"
   ]
  },
  {
   "cell_type": "code",
   "execution_count": 73,
   "metadata": {},
   "outputs": [
    {
     "data": {
      "text/html": [
       "<div>\n",
       "<style scoped>\n",
       "    .dataframe tbody tr th:only-of-type {\n",
       "        vertical-align: middle;\n",
       "    }\n",
       "\n",
       "    .dataframe tbody tr th {\n",
       "        vertical-align: top;\n",
       "    }\n",
       "\n",
       "    .dataframe thead th {\n",
       "        text-align: right;\n",
       "    }\n",
       "</style>\n",
       "<table border=\"1\" class=\"dataframe\">\n",
       "  <thead>\n",
       "    <tr style=\"text-align: right;\">\n",
       "      <th></th>\n",
       "      <th>index</th>\n",
       "      <th>postal_code</th>\n",
       "      <th>latitude</th>\n",
       "      <th>longitude</th>\n",
       "      <th>rent</th>\n",
       "      <th>num_bedrooms</th>\n",
       "      <th>num_bathrooms</th>\n",
       "      <th>num_sqft</th>\n",
       "    </tr>\n",
       "  </thead>\n",
       "  <tbody>\n",
       "    <tr>\n",
       "      <th>0</th>\n",
       "      <td>4</td>\n",
       "      <td>M1H</td>\n",
       "      <td>43.773136</td>\n",
       "      <td>-79.239476</td>\n",
       "      <td>1902.272727</td>\n",
       "      <td>1.0</td>\n",
       "      <td>1.000000</td>\n",
       "      <td>618.727273</td>\n",
       "    </tr>\n",
       "    <tr>\n",
       "      <th>1</th>\n",
       "      <td>9</td>\n",
       "      <td>M1N</td>\n",
       "      <td>43.692657</td>\n",
       "      <td>-79.264848</td>\n",
       "      <td>2050.000000</td>\n",
       "      <td>1.0</td>\n",
       "      <td>1.000000</td>\n",
       "      <td>735.000000</td>\n",
       "    </tr>\n",
       "    <tr>\n",
       "      <th>2</th>\n",
       "      <td>10</td>\n",
       "      <td>M1P</td>\n",
       "      <td>43.757410</td>\n",
       "      <td>-79.273304</td>\n",
       "      <td>1936.580645</td>\n",
       "      <td>1.0</td>\n",
       "      <td>0.983871</td>\n",
       "      <td>624.129032</td>\n",
       "    </tr>\n",
       "    <tr>\n",
       "      <th>3</th>\n",
       "      <td>12</td>\n",
       "      <td>M1S</td>\n",
       "      <td>43.794200</td>\n",
       "      <td>-79.262029</td>\n",
       "      <td>1852.500000</td>\n",
       "      <td>1.0</td>\n",
       "      <td>1.100000</td>\n",
       "      <td>592.000000</td>\n",
       "    </tr>\n",
       "    <tr>\n",
       "      <th>4</th>\n",
       "      <td>13</td>\n",
       "      <td>M1T</td>\n",
       "      <td>43.781638</td>\n",
       "      <td>-79.304302</td>\n",
       "      <td>1950.000000</td>\n",
       "      <td>1.0</td>\n",
       "      <td>1.000000</td>\n",
       "      <td>649.000000</td>\n",
       "    </tr>\n",
       "    <tr>\n",
       "      <th>5</th>\n",
       "      <td>14</td>\n",
       "      <td>M1V</td>\n",
       "      <td>43.815252</td>\n",
       "      <td>-79.284577</td>\n",
       "      <td>1795.000000</td>\n",
       "      <td>1.0</td>\n",
       "      <td>1.000000</td>\n",
       "      <td>725.000000</td>\n",
       "    </tr>\n",
       "    <tr>\n",
       "      <th>6</th>\n",
       "      <td>18</td>\n",
       "      <td>M2J</td>\n",
       "      <td>43.778517</td>\n",
       "      <td>-79.346556</td>\n",
       "      <td>1966.000000</td>\n",
       "      <td>1.0</td>\n",
       "      <td>1.000000</td>\n",
       "      <td>573.000000</td>\n",
       "    </tr>\n",
       "    <tr>\n",
       "      <th>7</th>\n",
       "      <td>19</td>\n",
       "      <td>M2K</td>\n",
       "      <td>43.786947</td>\n",
       "      <td>-79.385975</td>\n",
       "      <td>2048.076923</td>\n",
       "      <td>1.0</td>\n",
       "      <td>1.173077</td>\n",
       "      <td>629.423077</td>\n",
       "    </tr>\n",
       "    <tr>\n",
       "      <th>8</th>\n",
       "      <td>21</td>\n",
       "      <td>M2M</td>\n",
       "      <td>43.789053</td>\n",
       "      <td>-79.408493</td>\n",
       "      <td>1975.000000</td>\n",
       "      <td>1.0</td>\n",
       "      <td>1.000000</td>\n",
       "      <td>675.000000</td>\n",
       "    </tr>\n",
       "    <tr>\n",
       "      <th>9</th>\n",
       "      <td>22</td>\n",
       "      <td>M2N</td>\n",
       "      <td>43.770120</td>\n",
       "      <td>-79.408493</td>\n",
       "      <td>2061.250000</td>\n",
       "      <td>1.0</td>\n",
       "      <td>1.000000</td>\n",
       "      <td>590.500000</td>\n",
       "    </tr>\n",
       "    <tr>\n",
       "      <th>10</th>\n",
       "      <td>25</td>\n",
       "      <td>M3A</td>\n",
       "      <td>43.753259</td>\n",
       "      <td>-79.329656</td>\n",
       "      <td>1850.000000</td>\n",
       "      <td>1.0</td>\n",
       "      <td>1.000000</td>\n",
       "      <td>550.000000</td>\n",
       "    </tr>\n",
       "    <tr>\n",
       "      <th>11</th>\n",
       "      <td>26</td>\n",
       "      <td>M3B</td>\n",
       "      <td>43.745906</td>\n",
       "      <td>-79.352188</td>\n",
       "      <td>1950.000000</td>\n",
       "      <td>1.0</td>\n",
       "      <td>1.000000</td>\n",
       "      <td>580.000000</td>\n",
       "    </tr>\n",
       "    <tr>\n",
       "      <th>12</th>\n",
       "      <td>27</td>\n",
       "      <td>M3C</td>\n",
       "      <td>43.725900</td>\n",
       "      <td>-79.340923</td>\n",
       "      <td>1859.750000</td>\n",
       "      <td>1.0</td>\n",
       "      <td>1.275000</td>\n",
       "      <td>601.900000</td>\n",
       "    </tr>\n",
       "    <tr>\n",
       "      <th>13</th>\n",
       "      <td>28</td>\n",
       "      <td>M3H</td>\n",
       "      <td>43.754328</td>\n",
       "      <td>-79.442259</td>\n",
       "      <td>1850.000000</td>\n",
       "      <td>1.0</td>\n",
       "      <td>1.000000</td>\n",
       "      <td>575.000000</td>\n",
       "    </tr>\n",
       "    <tr>\n",
       "      <th>14</th>\n",
       "      <td>29</td>\n",
       "      <td>M3J</td>\n",
       "      <td>43.767980</td>\n",
       "      <td>-79.487262</td>\n",
       "      <td>1950.000000</td>\n",
       "      <td>1.0</td>\n",
       "      <td>1.500000</td>\n",
       "      <td>650.000000</td>\n",
       "    </tr>\n",
       "    <tr>\n",
       "      <th>15</th>\n",
       "      <td>32</td>\n",
       "      <td>M3M</td>\n",
       "      <td>43.728496</td>\n",
       "      <td>-79.495697</td>\n",
       "      <td>1959.000000</td>\n",
       "      <td>1.0</td>\n",
       "      <td>1.000000</td>\n",
       "      <td>599.000000</td>\n",
       "    </tr>\n",
       "    <tr>\n",
       "      <th>16</th>\n",
       "      <td>34</td>\n",
       "      <td>M4A</td>\n",
       "      <td>43.725882</td>\n",
       "      <td>-79.315572</td>\n",
       "      <td>2050.000000</td>\n",
       "      <td>1.0</td>\n",
       "      <td>1.000000</td>\n",
       "      <td>650.000000</td>\n",
       "    </tr>\n",
       "    <tr>\n",
       "      <th>17</th>\n",
       "      <td>37</td>\n",
       "      <td>M4E</td>\n",
       "      <td>43.676357</td>\n",
       "      <td>-79.293031</td>\n",
       "      <td>3000.000000</td>\n",
       "      <td>1.0</td>\n",
       "      <td>1.000000</td>\n",
       "      <td>800.000000</td>\n",
       "    </tr>\n",
       "    <tr>\n",
       "      <th>18</th>\n",
       "      <td>42</td>\n",
       "      <td>M4L</td>\n",
       "      <td>43.668999</td>\n",
       "      <td>-79.315572</td>\n",
       "      <td>2300.000000</td>\n",
       "      <td>1.0</td>\n",
       "      <td>1.000000</td>\n",
       "      <td>672.000000</td>\n",
       "    </tr>\n",
       "    <tr>\n",
       "      <th>19</th>\n",
       "      <td>43</td>\n",
       "      <td>M4M</td>\n",
       "      <td>43.659526</td>\n",
       "      <td>-79.340923</td>\n",
       "      <td>2200.000000</td>\n",
       "      <td>1.0</td>\n",
       "      <td>1.000000</td>\n",
       "      <td>680.000000</td>\n",
       "    </tr>\n",
       "    <tr>\n",
       "      <th>20</th>\n",
       "      <td>45</td>\n",
       "      <td>M4P</td>\n",
       "      <td>43.712751</td>\n",
       "      <td>-79.390197</td>\n",
       "      <td>2086.521739</td>\n",
       "      <td>1.0</td>\n",
       "      <td>1.282609</td>\n",
       "      <td>576.913043</td>\n",
       "    </tr>\n",
       "    <tr>\n",
       "      <th>21</th>\n",
       "      <td>46</td>\n",
       "      <td>M4R</td>\n",
       "      <td>43.715383</td>\n",
       "      <td>-79.405678</td>\n",
       "      <td>2100.000000</td>\n",
       "      <td>1.0</td>\n",
       "      <td>1.000000</td>\n",
       "      <td>580.000000</td>\n",
       "    </tr>\n",
       "    <tr>\n",
       "      <th>22</th>\n",
       "      <td>47</td>\n",
       "      <td>M4S</td>\n",
       "      <td>43.704324</td>\n",
       "      <td>-79.388790</td>\n",
       "      <td>2011.111111</td>\n",
       "      <td>1.0</td>\n",
       "      <td>1.092593</td>\n",
       "      <td>595.666667</td>\n",
       "    </tr>\n",
       "    <tr>\n",
       "      <th>23</th>\n",
       "      <td>49</td>\n",
       "      <td>M4V</td>\n",
       "      <td>43.686412</td>\n",
       "      <td>-79.400049</td>\n",
       "      <td>2225.000000</td>\n",
       "      <td>1.0</td>\n",
       "      <td>1.000000</td>\n",
       "      <td>650.000000</td>\n",
       "    </tr>\n",
       "    <tr>\n",
       "      <th>24</th>\n",
       "      <td>50</td>\n",
       "      <td>M4W</td>\n",
       "      <td>43.679563</td>\n",
       "      <td>-79.377529</td>\n",
       "      <td>2420.000000</td>\n",
       "      <td>1.0</td>\n",
       "      <td>1.111111</td>\n",
       "      <td>642.111111</td>\n",
       "    </tr>\n",
       "    <tr>\n",
       "      <th>25</th>\n",
       "      <td>51</td>\n",
       "      <td>M4X</td>\n",
       "      <td>43.667967</td>\n",
       "      <td>-79.367675</td>\n",
       "      <td>1785.000000</td>\n",
       "      <td>1.0</td>\n",
       "      <td>1.000000</td>\n",
       "      <td>600.000000</td>\n",
       "    </tr>\n",
       "    <tr>\n",
       "      <th>26</th>\n",
       "      <td>52</td>\n",
       "      <td>M4Y</td>\n",
       "      <td>43.665860</td>\n",
       "      <td>-79.383160</td>\n",
       "      <td>2262.868421</td>\n",
       "      <td>1.0</td>\n",
       "      <td>1.092105</td>\n",
       "      <td>620.447368</td>\n",
       "    </tr>\n",
       "    <tr>\n",
       "      <th>27</th>\n",
       "      <td>53</td>\n",
       "      <td>M5A</td>\n",
       "      <td>43.654260</td>\n",
       "      <td>-79.360636</td>\n",
       "      <td>2139.281250</td>\n",
       "      <td>1.0</td>\n",
       "      <td>1.062500</td>\n",
       "      <td>590.531250</td>\n",
       "    </tr>\n",
       "    <tr>\n",
       "      <th>28</th>\n",
       "      <td>54</td>\n",
       "      <td>M5B</td>\n",
       "      <td>43.657162</td>\n",
       "      <td>-79.378937</td>\n",
       "      <td>2050.560976</td>\n",
       "      <td>1.0</td>\n",
       "      <td>1.085366</td>\n",
       "      <td>564.512195</td>\n",
       "    </tr>\n",
       "    <tr>\n",
       "      <th>29</th>\n",
       "      <td>55</td>\n",
       "      <td>M5C</td>\n",
       "      <td>43.651494</td>\n",
       "      <td>-79.375418</td>\n",
       "      <td>2400.000000</td>\n",
       "      <td>1.0</td>\n",
       "      <td>1.000000</td>\n",
       "      <td>687.500000</td>\n",
       "    </tr>\n",
       "    <tr>\n",
       "      <th>30</th>\n",
       "      <td>56</td>\n",
       "      <td>M5E</td>\n",
       "      <td>43.644771</td>\n",
       "      <td>-79.373306</td>\n",
       "      <td>2363.454545</td>\n",
       "      <td>1.0</td>\n",
       "      <td>1.151515</td>\n",
       "      <td>643.363636</td>\n",
       "    </tr>\n",
       "    <tr>\n",
       "      <th>31</th>\n",
       "      <td>57</td>\n",
       "      <td>M5G</td>\n",
       "      <td>43.657952</td>\n",
       "      <td>-79.387383</td>\n",
       "      <td>2177.454545</td>\n",
       "      <td>1.0</td>\n",
       "      <td>1.090909</td>\n",
       "      <td>650.409091</td>\n",
       "    </tr>\n",
       "    <tr>\n",
       "      <th>32</th>\n",
       "      <td>58</td>\n",
       "      <td>M5H</td>\n",
       "      <td>43.650571</td>\n",
       "      <td>-79.384568</td>\n",
       "      <td>2238.066667</td>\n",
       "      <td>1.0</td>\n",
       "      <td>0.933333</td>\n",
       "      <td>570.600000</td>\n",
       "    </tr>\n",
       "    <tr>\n",
       "      <th>33</th>\n",
       "      <td>59</td>\n",
       "      <td>M5J</td>\n",
       "      <td>43.640816</td>\n",
       "      <td>-79.381752</td>\n",
       "      <td>2314.469388</td>\n",
       "      <td>1.0</td>\n",
       "      <td>1.020408</td>\n",
       "      <td>617.510204</td>\n",
       "    </tr>\n",
       "    <tr>\n",
       "      <th>34</th>\n",
       "      <td>64</td>\n",
       "      <td>M5P</td>\n",
       "      <td>43.696948</td>\n",
       "      <td>-79.411307</td>\n",
       "      <td>2000.000000</td>\n",
       "      <td>1.0</td>\n",
       "      <td>1.000000</td>\n",
       "      <td>568.000000</td>\n",
       "    </tr>\n",
       "    <tr>\n",
       "      <th>35</th>\n",
       "      <td>65</td>\n",
       "      <td>M5R</td>\n",
       "      <td>43.672710</td>\n",
       "      <td>-79.405678</td>\n",
       "      <td>2236.538462</td>\n",
       "      <td>1.0</td>\n",
       "      <td>1.076923</td>\n",
       "      <td>566.461538</td>\n",
       "    </tr>\n",
       "    <tr>\n",
       "      <th>36</th>\n",
       "      <td>66</td>\n",
       "      <td>M5S</td>\n",
       "      <td>43.662696</td>\n",
       "      <td>-79.400049</td>\n",
       "      <td>2208.333333</td>\n",
       "      <td>1.0</td>\n",
       "      <td>1.000000</td>\n",
       "      <td>595.200000</td>\n",
       "    </tr>\n",
       "    <tr>\n",
       "      <th>37</th>\n",
       "      <td>67</td>\n",
       "      <td>M5T</td>\n",
       "      <td>43.653206</td>\n",
       "      <td>-79.400049</td>\n",
       "      <td>1954.166667</td>\n",
       "      <td>1.0</td>\n",
       "      <td>1.666667</td>\n",
       "      <td>608.000000</td>\n",
       "    </tr>\n",
       "    <tr>\n",
       "      <th>38</th>\n",
       "      <td>68</td>\n",
       "      <td>M5V</td>\n",
       "      <td>43.628947</td>\n",
       "      <td>-79.394420</td>\n",
       "      <td>2123.101523</td>\n",
       "      <td>1.0</td>\n",
       "      <td>1.007614</td>\n",
       "      <td>4147.664975</td>\n",
       "    </tr>\n",
       "    <tr>\n",
       "      <th>39</th>\n",
       "      <td>71</td>\n",
       "      <td>M6A</td>\n",
       "      <td>43.718518</td>\n",
       "      <td>-79.464763</td>\n",
       "      <td>1928.571429</td>\n",
       "      <td>1.0</td>\n",
       "      <td>1.000000</td>\n",
       "      <td>570.000000</td>\n",
       "    </tr>\n",
       "    <tr>\n",
       "      <th>40</th>\n",
       "      <td>76</td>\n",
       "      <td>M6H</td>\n",
       "      <td>43.669005</td>\n",
       "      <td>-79.442259</td>\n",
       "      <td>1785.000000</td>\n",
       "      <td>1.0</td>\n",
       "      <td>1.000000</td>\n",
       "      <td>562.200000</td>\n",
       "    </tr>\n",
       "    <tr>\n",
       "      <th>41</th>\n",
       "      <td>77</td>\n",
       "      <td>M6J</td>\n",
       "      <td>43.647927</td>\n",
       "      <td>-79.419750</td>\n",
       "      <td>2638.333333</td>\n",
       "      <td>1.0</td>\n",
       "      <td>1.083333</td>\n",
       "      <td>672.166667</td>\n",
       "    </tr>\n",
       "    <tr>\n",
       "      <th>42</th>\n",
       "      <td>78</td>\n",
       "      <td>M6K</td>\n",
       "      <td>43.636847</td>\n",
       "      <td>-79.428191</td>\n",
       "      <td>2124.953488</td>\n",
       "      <td>1.0</td>\n",
       "      <td>1.162791</td>\n",
       "      <td>599.093023</td>\n",
       "    </tr>\n",
       "    <tr>\n",
       "      <th>43</th>\n",
       "      <td>83</td>\n",
       "      <td>M6R</td>\n",
       "      <td>43.648960</td>\n",
       "      <td>-79.456325</td>\n",
       "      <td>2646.250000</td>\n",
       "      <td>1.0</td>\n",
       "      <td>1.125000</td>\n",
       "      <td>747.500000</td>\n",
       "    </tr>\n",
       "    <tr>\n",
       "      <th>44</th>\n",
       "      <td>84</td>\n",
       "      <td>M6S</td>\n",
       "      <td>43.651571</td>\n",
       "      <td>-79.484450</td>\n",
       "      <td>2041.666667</td>\n",
       "      <td>1.0</td>\n",
       "      <td>1.000000</td>\n",
       "      <td>589.333333</td>\n",
       "    </tr>\n",
       "    <tr>\n",
       "      <th>45</th>\n",
       "      <td>88</td>\n",
       "      <td>M8V</td>\n",
       "      <td>43.605647</td>\n",
       "      <td>-79.501321</td>\n",
       "      <td>2194.076923</td>\n",
       "      <td>1.0</td>\n",
       "      <td>1.076923</td>\n",
       "      <td>637.153846</td>\n",
       "    </tr>\n",
       "    <tr>\n",
       "      <th>46</th>\n",
       "      <td>90</td>\n",
       "      <td>M8X</td>\n",
       "      <td>43.653654</td>\n",
       "      <td>-79.506944</td>\n",
       "      <td>2260.000000</td>\n",
       "      <td>1.0</td>\n",
       "      <td>1.300000</td>\n",
       "      <td>694.200000</td>\n",
       "    </tr>\n",
       "    <tr>\n",
       "      <th>47</th>\n",
       "      <td>91</td>\n",
       "      <td>M8Y</td>\n",
       "      <td>43.636258</td>\n",
       "      <td>-79.498509</td>\n",
       "      <td>2050.000000</td>\n",
       "      <td>1.0</td>\n",
       "      <td>1.192308</td>\n",
       "      <td>691.461538</td>\n",
       "    </tr>\n",
       "    <tr>\n",
       "      <th>48</th>\n",
       "      <td>92</td>\n",
       "      <td>M8Z</td>\n",
       "      <td>43.628841</td>\n",
       "      <td>-79.520999</td>\n",
       "      <td>2093.750000</td>\n",
       "      <td>1.0</td>\n",
       "      <td>1.250000</td>\n",
       "      <td>710.000000</td>\n",
       "    </tr>\n",
       "    <tr>\n",
       "      <th>49</th>\n",
       "      <td>93</td>\n",
       "      <td>M9A</td>\n",
       "      <td>43.667856</td>\n",
       "      <td>-79.532242</td>\n",
       "      <td>2085.000000</td>\n",
       "      <td>1.0</td>\n",
       "      <td>1.000000</td>\n",
       "      <td>673.000000</td>\n",
       "    </tr>\n",
       "    <tr>\n",
       "      <th>50</th>\n",
       "      <td>94</td>\n",
       "      <td>M9B</td>\n",
       "      <td>43.650943</td>\n",
       "      <td>-79.554724</td>\n",
       "      <td>1975.000000</td>\n",
       "      <td>1.0</td>\n",
       "      <td>1.000000</td>\n",
       "      <td>635.000000</td>\n",
       "    </tr>\n",
       "    <tr>\n",
       "      <th>51</th>\n",
       "      <td>95</td>\n",
       "      <td>M9C</td>\n",
       "      <td>43.643515</td>\n",
       "      <td>-79.577201</td>\n",
       "      <td>2095.000000</td>\n",
       "      <td>1.0</td>\n",
       "      <td>1.250000</td>\n",
       "      <td>682.750000</td>\n",
       "    </tr>\n",
       "    <tr>\n",
       "      <th>52</th>\n",
       "      <td>97</td>\n",
       "      <td>M9M</td>\n",
       "      <td>43.724766</td>\n",
       "      <td>-79.532242</td>\n",
       "      <td>1475.000000</td>\n",
       "      <td>1.0</td>\n",
       "      <td>1.000000</td>\n",
       "      <td>685.000000</td>\n",
       "    </tr>\n",
       "  </tbody>\n",
       "</table>\n",
       "</div>"
      ],
      "text/plain": [
       "    index postal_code   latitude  longitude         rent  num_bedrooms  \\\n",
       "0       4         M1H  43.773136 -79.239476  1902.272727           1.0   \n",
       "1       9         M1N  43.692657 -79.264848  2050.000000           1.0   \n",
       "2      10         M1P  43.757410 -79.273304  1936.580645           1.0   \n",
       "3      12         M1S  43.794200 -79.262029  1852.500000           1.0   \n",
       "4      13         M1T  43.781638 -79.304302  1950.000000           1.0   \n",
       "5      14         M1V  43.815252 -79.284577  1795.000000           1.0   \n",
       "6      18         M2J  43.778517 -79.346556  1966.000000           1.0   \n",
       "7      19         M2K  43.786947 -79.385975  2048.076923           1.0   \n",
       "8      21         M2M  43.789053 -79.408493  1975.000000           1.0   \n",
       "9      22         M2N  43.770120 -79.408493  2061.250000           1.0   \n",
       "10     25         M3A  43.753259 -79.329656  1850.000000           1.0   \n",
       "11     26         M3B  43.745906 -79.352188  1950.000000           1.0   \n",
       "12     27         M3C  43.725900 -79.340923  1859.750000           1.0   \n",
       "13     28         M3H  43.754328 -79.442259  1850.000000           1.0   \n",
       "14     29         M3J  43.767980 -79.487262  1950.000000           1.0   \n",
       "15     32         M3M  43.728496 -79.495697  1959.000000           1.0   \n",
       "16     34         M4A  43.725882 -79.315572  2050.000000           1.0   \n",
       "17     37         M4E  43.676357 -79.293031  3000.000000           1.0   \n",
       "18     42         M4L  43.668999 -79.315572  2300.000000           1.0   \n",
       "19     43         M4M  43.659526 -79.340923  2200.000000           1.0   \n",
       "20     45         M4P  43.712751 -79.390197  2086.521739           1.0   \n",
       "21     46         M4R  43.715383 -79.405678  2100.000000           1.0   \n",
       "22     47         M4S  43.704324 -79.388790  2011.111111           1.0   \n",
       "23     49         M4V  43.686412 -79.400049  2225.000000           1.0   \n",
       "24     50         M4W  43.679563 -79.377529  2420.000000           1.0   \n",
       "25     51         M4X  43.667967 -79.367675  1785.000000           1.0   \n",
       "26     52         M4Y  43.665860 -79.383160  2262.868421           1.0   \n",
       "27     53         M5A  43.654260 -79.360636  2139.281250           1.0   \n",
       "28     54         M5B  43.657162 -79.378937  2050.560976           1.0   \n",
       "29     55         M5C  43.651494 -79.375418  2400.000000           1.0   \n",
       "30     56         M5E  43.644771 -79.373306  2363.454545           1.0   \n",
       "31     57         M5G  43.657952 -79.387383  2177.454545           1.0   \n",
       "32     58         M5H  43.650571 -79.384568  2238.066667           1.0   \n",
       "33     59         M5J  43.640816 -79.381752  2314.469388           1.0   \n",
       "34     64         M5P  43.696948 -79.411307  2000.000000           1.0   \n",
       "35     65         M5R  43.672710 -79.405678  2236.538462           1.0   \n",
       "36     66         M5S  43.662696 -79.400049  2208.333333           1.0   \n",
       "37     67         M5T  43.653206 -79.400049  1954.166667           1.0   \n",
       "38     68         M5V  43.628947 -79.394420  2123.101523           1.0   \n",
       "39     71         M6A  43.718518 -79.464763  1928.571429           1.0   \n",
       "40     76         M6H  43.669005 -79.442259  1785.000000           1.0   \n",
       "41     77         M6J  43.647927 -79.419750  2638.333333           1.0   \n",
       "42     78         M6K  43.636847 -79.428191  2124.953488           1.0   \n",
       "43     83         M6R  43.648960 -79.456325  2646.250000           1.0   \n",
       "44     84         M6S  43.651571 -79.484450  2041.666667           1.0   \n",
       "45     88         M8V  43.605647 -79.501321  2194.076923           1.0   \n",
       "46     90         M8X  43.653654 -79.506944  2260.000000           1.0   \n",
       "47     91         M8Y  43.636258 -79.498509  2050.000000           1.0   \n",
       "48     92         M8Z  43.628841 -79.520999  2093.750000           1.0   \n",
       "49     93         M9A  43.667856 -79.532242  2085.000000           1.0   \n",
       "50     94         M9B  43.650943 -79.554724  1975.000000           1.0   \n",
       "51     95         M9C  43.643515 -79.577201  2095.000000           1.0   \n",
       "52     97         M9M  43.724766 -79.532242  1475.000000           1.0   \n",
       "\n",
       "    num_bathrooms     num_sqft  \n",
       "0        1.000000   618.727273  \n",
       "1        1.000000   735.000000  \n",
       "2        0.983871   624.129032  \n",
       "3        1.100000   592.000000  \n",
       "4        1.000000   649.000000  \n",
       "5        1.000000   725.000000  \n",
       "6        1.000000   573.000000  \n",
       "7        1.173077   629.423077  \n",
       "8        1.000000   675.000000  \n",
       "9        1.000000   590.500000  \n",
       "10       1.000000   550.000000  \n",
       "11       1.000000   580.000000  \n",
       "12       1.275000   601.900000  \n",
       "13       1.000000   575.000000  \n",
       "14       1.500000   650.000000  \n",
       "15       1.000000   599.000000  \n",
       "16       1.000000   650.000000  \n",
       "17       1.000000   800.000000  \n",
       "18       1.000000   672.000000  \n",
       "19       1.000000   680.000000  \n",
       "20       1.282609   576.913043  \n",
       "21       1.000000   580.000000  \n",
       "22       1.092593   595.666667  \n",
       "23       1.000000   650.000000  \n",
       "24       1.111111   642.111111  \n",
       "25       1.000000   600.000000  \n",
       "26       1.092105   620.447368  \n",
       "27       1.062500   590.531250  \n",
       "28       1.085366   564.512195  \n",
       "29       1.000000   687.500000  \n",
       "30       1.151515   643.363636  \n",
       "31       1.090909   650.409091  \n",
       "32       0.933333   570.600000  \n",
       "33       1.020408   617.510204  \n",
       "34       1.000000   568.000000  \n",
       "35       1.076923   566.461538  \n",
       "36       1.000000   595.200000  \n",
       "37       1.666667   608.000000  \n",
       "38       1.007614  4147.664975  \n",
       "39       1.000000   570.000000  \n",
       "40       1.000000   562.200000  \n",
       "41       1.083333   672.166667  \n",
       "42       1.162791   599.093023  \n",
       "43       1.125000   747.500000  \n",
       "44       1.000000   589.333333  \n",
       "45       1.076923   637.153846  \n",
       "46       1.300000   694.200000  \n",
       "47       1.192308   691.461538  \n",
       "48       1.250000   710.000000  \n",
       "49       1.000000   673.000000  \n",
       "50       1.000000   635.000000  \n",
       "51       1.250000   682.750000  \n",
       "52       1.000000   685.000000  "
      ]
     },
     "execution_count": 73,
     "metadata": {},
     "output_type": "execute_result"
    }
   ],
   "source": [
    "merged_data.reset_index()"
   ]
  },
  {
   "cell_type": "code",
   "execution_count": null,
   "metadata": {},
   "outputs": [],
   "source": [
    "geo_coords.dtypes"
   ]
  },
  {
   "cell_type": "code",
   "execution_count": null,
   "metadata": {},
   "outputs": [],
   "source": []
  },
  {
   "cell_type": "code",
   "execution_count": null,
   "metadata": {},
   "outputs": [],
   "source": [
    "geo_coords.head()"
   ]
  },
  {
   "cell_type": "code",
   "execution_count": null,
   "metadata": {},
   "outputs": [],
   "source": []
  },
  {
   "cell_type": "code",
   "execution_count": null,
   "metadata": {},
   "outputs": [],
   "source": []
  },
  {
   "cell_type": "code",
   "execution_count": null,
   "metadata": {},
   "outputs": [],
   "source": []
  },
  {
   "cell_type": "code",
   "execution_count": null,
   "metadata": {},
   "outputs": [],
   "source": []
  },
  {
   "cell_type": "code",
   "execution_count": null,
   "metadata": {},
   "outputs": [],
   "source": []
  },
  {
   "cell_type": "code",
   "execution_count": null,
   "metadata": {},
   "outputs": [],
   "source": []
  },
  {
   "cell_type": "code",
   "execution_count": null,
   "metadata": {},
   "outputs": [],
   "source": []
  },
  {
   "cell_type": "code",
   "execution_count": null,
   "metadata": {},
   "outputs": [],
   "source": []
  },
  {
   "cell_type": "code",
   "execution_count": null,
   "metadata": {},
   "outputs": [],
   "source": []
  },
  {
   "cell_type": "code",
   "execution_count": null,
   "metadata": {},
   "outputs": [],
   "source": []
  },
  {
   "cell_type": "code",
   "execution_count": null,
   "metadata": {},
   "outputs": [],
   "source": []
  },
  {
   "cell_type": "code",
   "execution_count": null,
   "metadata": {},
   "outputs": [],
   "source": []
  },
  {
   "cell_type": "code",
   "execution_count": null,
   "metadata": {},
   "outputs": [],
   "source": []
  },
  {
   "cell_type": "code",
   "execution_count": null,
   "metadata": {},
   "outputs": [],
   "source": []
  },
  {
   "cell_type": "code",
   "execution_count": null,
   "metadata": {},
   "outputs": [],
   "source": []
  },
  {
   "cell_type": "code",
   "execution_count": null,
   "metadata": {},
   "outputs": [],
   "source": []
  },
  {
   "cell_type": "code",
   "execution_count": null,
   "metadata": {},
   "outputs": [],
   "source": []
  },
  {
   "cell_type": "code",
   "execution_count": null,
   "metadata": {},
   "outputs": [],
   "source": []
  },
  {
   "cell_type": "code",
   "execution_count": null,
   "metadata": {},
   "outputs": [],
   "source": []
  },
  {
   "cell_type": "code",
   "execution_count": null,
   "metadata": {},
   "outputs": [],
   "source": []
  },
  {
   "cell_type": "code",
   "execution_count": null,
   "metadata": {},
   "outputs": [],
   "source": []
  }
 ],
 "metadata": {
  "kernelspec": {
   "display_name": "Python 3",
   "language": "python",
   "name": "python3"
  },
  "language_info": {
   "codemirror_mode": {
    "name": "ipython",
    "version": 3
   },
   "file_extension": ".py",
   "mimetype": "text/x-python",
   "name": "python",
   "nbconvert_exporter": "python",
   "pygments_lexer": "ipython3",
   "version": "3.7.4"
  }
 },
 "nbformat": 4,
 "nbformat_minor": 4
}
