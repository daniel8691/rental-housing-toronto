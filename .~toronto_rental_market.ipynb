{
 "cells": [
  {
   "cell_type": "code",
   "execution_count": 1,
   "metadata": {},
   "outputs": [],
   "source": [
    "import pandas as pd\n",
    "import numpy as np\n",
    "import matplotlib.pyplot as plt\n",
    "%matplotlib inline\n",
    "import seaborn as sns"
   ]
  },
  {
   "cell_type": "code",
   "execution_count": 922,
   "metadata": {},
   "outputs": [],
   "source": [
    "from scipy import stats"
   ]
  },
  {
   "cell_type": "code",
   "execution_count": 2,
   "metadata": {},
   "outputs": [],
   "source": [
    "from geopy.geocoders import Nominatim\n",
    "import json\n",
    "import requests\n",
    "from pandas.io.json import json_normalize\n",
    "\n",
    "# import kmeans from clustering stage\n",
    "from sklearn.cluster import KMeans\n",
    "import folium"
   ]
  },
  {
   "cell_type": "code",
   "execution_count": null,
   "metadata": {},
   "outputs": [],
   "source": []
  },
  {
   "cell_type": "code",
   "execution_count": null,
   "metadata": {},
   "outputs": [],
   "source": []
  },
  {
   "cell_type": "code",
   "execution_count": 3,
   "metadata": {},
   "outputs": [],
   "source": [
    "rent_df = pd.read_csv(\"toronto_rent_data.csv\")\n",
    "geo_coords = pd.read_csv(\"Geospatial_Coordinates.csv\")"
   ]
  },
  {
   "cell_type": "code",
   "execution_count": 4,
   "metadata": {},
   "outputs": [],
   "source": [
    "# make a copy of the df for testing codes\n",
    "scraped_df = rent_df"
   ]
  },
  {
   "cell_type": "code",
   "execution_count": 5,
   "metadata": {},
   "outputs": [
    {
     "data": {
      "text/html": [
       "<div>\n",
       "<style scoped>\n",
       "    .dataframe tbody tr th:only-of-type {\n",
       "        vertical-align: middle;\n",
       "    }\n",
       "\n",
       "    .dataframe tbody tr th {\n",
       "        vertical-align: top;\n",
       "    }\n",
       "\n",
       "    .dataframe thead th {\n",
       "        text-align: right;\n",
       "    }\n",
       "</style>\n",
       "<table border=\"1\" class=\"dataframe\">\n",
       "  <thead>\n",
       "    <tr style=\"text-align: right;\">\n",
       "      <th></th>\n",
       "      <th>Rent</th>\n",
       "      <th>Address</th>\n",
       "      <th>Zip</th>\n",
       "      <th>num_bedrooms</th>\n",
       "      <th>num_bathrooms</th>\n",
       "      <th>num_sqft</th>\n",
       "    </tr>\n",
       "  </thead>\n",
       "  <tbody>\n",
       "    <tr>\n",
       "      <th>0</th>\n",
       "      <td>$3,300</td>\n",
       "      <td>85 Wood Street</td>\n",
       "      <td>M4Y</td>\n",
       "      <td>3</td>\n",
       "      <td>2</td>\n",
       "      <td>810</td>\n",
       "    </tr>\n",
       "    <tr>\n",
       "      <th>1</th>\n",
       "      <td>$2,295</td>\n",
       "      <td>300 Balliol Street</td>\n",
       "      <td>M4S</td>\n",
       "      <td>1</td>\n",
       "      <td>1</td>\n",
       "      <td>600</td>\n",
       "    </tr>\n",
       "    <tr>\n",
       "      <th>2</th>\n",
       "      <td>$2,300</td>\n",
       "      <td>8 Fieldway Road</td>\n",
       "      <td>M8Z</td>\n",
       "      <td>1</td>\n",
       "      <td>1</td>\n",
       "      <td>NaN</td>\n",
       "    </tr>\n",
       "    <tr>\n",
       "      <th>3</th>\n",
       "      <td>$1,950</td>\n",
       "      <td>160 Flemington Road</td>\n",
       "      <td>M6A</td>\n",
       "      <td>2</td>\n",
       "      <td>2</td>\n",
       "      <td>630</td>\n",
       "    </tr>\n",
       "    <tr>\n",
       "      <th>4</th>\n",
       "      <td>$2,045</td>\n",
       "      <td>117 Gerrard Street East</td>\n",
       "      <td>M5B</td>\n",
       "      <td>1</td>\n",
       "      <td>1</td>\n",
       "      <td>NaN</td>\n",
       "    </tr>\n",
       "  </tbody>\n",
       "</table>\n",
       "</div>"
      ],
      "text/plain": [
       "     Rent                  Address  Zip num_bedrooms num_bathrooms num_sqft\n",
       "0  $3,300           85 Wood Street  M4Y            3             2      810\n",
       "1  $2,295       300 Balliol Street  M4S            1             1      600\n",
       "2  $2,300          8 Fieldway Road  M8Z            1             1      NaN\n",
       "3  $1,950      160 Flemington Road  M6A            2             2      630\n",
       "4  $2,045  117 Gerrard Street East  M5B            1             1      NaN"
      ]
     },
     "execution_count": 5,
     "metadata": {},
     "output_type": "execute_result"
    }
   ],
   "source": [
    "rent_df.head()"
   ]
  },
  {
   "cell_type": "code",
   "execution_count": 6,
   "metadata": {},
   "outputs": [
    {
     "data": {
      "text/html": [
       "<div>\n",
       "<style scoped>\n",
       "    .dataframe tbody tr th:only-of-type {\n",
       "        vertical-align: middle;\n",
       "    }\n",
       "\n",
       "    .dataframe tbody tr th {\n",
       "        vertical-align: top;\n",
       "    }\n",
       "\n",
       "    .dataframe thead th {\n",
       "        text-align: right;\n",
       "    }\n",
       "</style>\n",
       "<table border=\"1\" class=\"dataframe\">\n",
       "  <thead>\n",
       "    <tr style=\"text-align: right;\">\n",
       "      <th></th>\n",
       "      <th>Postal Code</th>\n",
       "      <th>Latitude</th>\n",
       "      <th>Longitude</th>\n",
       "    </tr>\n",
       "  </thead>\n",
       "  <tbody>\n",
       "    <tr>\n",
       "      <th>0</th>\n",
       "      <td>M1B</td>\n",
       "      <td>43.806686</td>\n",
       "      <td>-79.194353</td>\n",
       "    </tr>\n",
       "    <tr>\n",
       "      <th>1</th>\n",
       "      <td>M1C</td>\n",
       "      <td>43.784535</td>\n",
       "      <td>-79.160497</td>\n",
       "    </tr>\n",
       "    <tr>\n",
       "      <th>2</th>\n",
       "      <td>M1E</td>\n",
       "      <td>43.763573</td>\n",
       "      <td>-79.188711</td>\n",
       "    </tr>\n",
       "    <tr>\n",
       "      <th>3</th>\n",
       "      <td>M1G</td>\n",
       "      <td>43.770992</td>\n",
       "      <td>-79.216917</td>\n",
       "    </tr>\n",
       "    <tr>\n",
       "      <th>4</th>\n",
       "      <td>M1H</td>\n",
       "      <td>43.773136</td>\n",
       "      <td>-79.239476</td>\n",
       "    </tr>\n",
       "  </tbody>\n",
       "</table>\n",
       "</div>"
      ],
      "text/plain": [
       "  Postal Code   Latitude  Longitude\n",
       "0         M1B  43.806686 -79.194353\n",
       "1         M1C  43.784535 -79.160497\n",
       "2         M1E  43.763573 -79.188711\n",
       "3         M1G  43.770992 -79.216917\n",
       "4         M1H  43.773136 -79.239476"
      ]
     },
     "execution_count": 6,
     "metadata": {},
     "output_type": "execute_result"
    }
   ],
   "source": [
    "geo_coords.head()"
   ]
  },
  {
   "cell_type": "code",
   "execution_count": 7,
   "metadata": {},
   "outputs": [
    {
     "data": {
      "text/plain": [
       "Rent               0\n",
       "Address            0\n",
       "Zip                5\n",
       "num_bedrooms       0\n",
       "num_bathrooms      0\n",
       "num_sqft         945\n",
       "dtype: int64"
      ]
     },
     "execution_count": 7,
     "metadata": {},
     "output_type": "execute_result"
    }
   ],
   "source": [
    "# check for null values \n",
    "rent_df.isnull().sum()\n",
    "# missing 5 zip codes and 945 sqft of units"
   ]
  },
  {
   "cell_type": "code",
   "execution_count": 8,
   "metadata": {},
   "outputs": [
    {
     "name": "stdout",
     "output_type": "stream",
     "text": [
      "<class 'pandas.core.frame.DataFrame'>\n",
      "RangeIndex: 2450 entries, 0 to 2449\n",
      "Data columns (total 6 columns):\n",
      " #   Column         Non-Null Count  Dtype \n",
      "---  ------         --------------  ----- \n",
      " 0   Rent           2450 non-null   object\n",
      " 1   Address        2450 non-null   object\n",
      " 2   Zip            2445 non-null   object\n",
      " 3   num_bedrooms   2450 non-null   object\n",
      " 4   num_bathrooms  2450 non-null   object\n",
      " 5   num_sqft       1505 non-null   object\n",
      "dtypes: object(6)\n",
      "memory usage: 115.0+ KB\n"
     ]
    }
   ],
   "source": [
    "# check data type for each features\n",
    "rent_df.info()"
   ]
  },
  {
   "cell_type": "markdown",
   "metadata": {},
   "source": [
    "### Convert Datatypes (Data Cleaning)"
   ]
  },
  {
   "cell_type": "code",
   "execution_count": 9,
   "metadata": {},
   "outputs": [
    {
     "data": {
      "text/plain": [
       "'3300'"
      ]
     },
     "execution_count": 9,
     "metadata": {},
     "output_type": "execute_result"
    }
   ],
   "source": [
    "scraped_df['Rent'][0].replace(\"$\",\"\").replace(\",\",\"\")\n",
    "# scraped_df['Rent'][0].replace(\",\",\"\")"
   ]
  },
  {
   "cell_type": "code",
   "execution_count": 10,
   "metadata": {},
   "outputs": [],
   "source": [
    "# delete the dollar sign and comma before turning to float\n",
    "for i in range(len(rent_df['Rent'])):\n",
    "    rent_df[\"Rent\"][i] = rent_df[\"Rent\"][i].replace(\"$\", \"\").replace(\",\", \"\")\n"
   ]
  },
  {
   "cell_type": "code",
   "execution_count": 11,
   "metadata": {},
   "outputs": [
    {
     "data": {
      "text/html": [
       "<div>\n",
       "<style scoped>\n",
       "    .dataframe tbody tr th:only-of-type {\n",
       "        vertical-align: middle;\n",
       "    }\n",
       "\n",
       "    .dataframe tbody tr th {\n",
       "        vertical-align: top;\n",
       "    }\n",
       "\n",
       "    .dataframe thead th {\n",
       "        text-align: right;\n",
       "    }\n",
       "</style>\n",
       "<table border=\"1\" class=\"dataframe\">\n",
       "  <thead>\n",
       "    <tr style=\"text-align: right;\">\n",
       "      <th></th>\n",
       "      <th>Rent</th>\n",
       "      <th>Address</th>\n",
       "      <th>Zip</th>\n",
       "      <th>num_bedrooms</th>\n",
       "      <th>num_bathrooms</th>\n",
       "      <th>num_sqft</th>\n",
       "    </tr>\n",
       "  </thead>\n",
       "  <tbody>\n",
       "    <tr>\n",
       "      <th>0</th>\n",
       "      <td>3300</td>\n",
       "      <td>85 Wood Street</td>\n",
       "      <td>M4Y</td>\n",
       "      <td>3</td>\n",
       "      <td>2</td>\n",
       "      <td>810</td>\n",
       "    </tr>\n",
       "    <tr>\n",
       "      <th>1</th>\n",
       "      <td>2295</td>\n",
       "      <td>300 Balliol Street</td>\n",
       "      <td>M4S</td>\n",
       "      <td>1</td>\n",
       "      <td>1</td>\n",
       "      <td>600</td>\n",
       "    </tr>\n",
       "    <tr>\n",
       "      <th>2</th>\n",
       "      <td>2300</td>\n",
       "      <td>8 Fieldway Road</td>\n",
       "      <td>M8Z</td>\n",
       "      <td>1</td>\n",
       "      <td>1</td>\n",
       "      <td>NaN</td>\n",
       "    </tr>\n",
       "    <tr>\n",
       "      <th>3</th>\n",
       "      <td>1950</td>\n",
       "      <td>160 Flemington Road</td>\n",
       "      <td>M6A</td>\n",
       "      <td>2</td>\n",
       "      <td>2</td>\n",
       "      <td>630</td>\n",
       "    </tr>\n",
       "    <tr>\n",
       "      <th>4</th>\n",
       "      <td>2045</td>\n",
       "      <td>117 Gerrard Street East</td>\n",
       "      <td>M5B</td>\n",
       "      <td>1</td>\n",
       "      <td>1</td>\n",
       "      <td>NaN</td>\n",
       "    </tr>\n",
       "  </tbody>\n",
       "</table>\n",
       "</div>"
      ],
      "text/plain": [
       "   Rent                  Address  Zip num_bedrooms num_bathrooms num_sqft\n",
       "0  3300           85 Wood Street  M4Y            3             2      810\n",
       "1  2295       300 Balliol Street  M4S            1             1      600\n",
       "2  2300          8 Fieldway Road  M8Z            1             1      NaN\n",
       "3  1950      160 Flemington Road  M6A            2             2      630\n",
       "4  2045  117 Gerrard Street East  M5B            1             1      NaN"
      ]
     },
     "execution_count": 11,
     "metadata": {},
     "output_type": "execute_result"
    }
   ],
   "source": [
    "rent_df.head()"
   ]
  },
  {
   "cell_type": "code",
   "execution_count": 12,
   "metadata": {},
   "outputs": [
    {
     "data": {
      "text/plain": [
       "Rent                       3300\n",
       "Address          85 Wood Street\n",
       "Zip                         M4Y\n",
       "num_bedrooms                  3\n",
       "num_bathrooms                 2\n",
       "num_sqft                    810\n",
       "Name: 0, dtype: object"
      ]
     },
     "execution_count": 12,
     "metadata": {},
     "output_type": "execute_result"
    }
   ],
   "source": [
    "rent_df.iloc[0,:]"
   ]
  },
  {
   "cell_type": "code",
   "execution_count": 13,
   "metadata": {},
   "outputs": [],
   "source": [
    "# create empty dataframe to store ranged data\n",
    "empty_ranged_df = pd.DataFrame(columns = rent_df.columns)\n",
    "\n",
    "# append all values in the dataset that have the \"-\" in cells\n",
    "for features in rent_df.columns:\n",
    "#     print(features)\n",
    "    empty_ranged_df = pd.concat([empty_ranged_df, (rent_df[rent_df[features].astype(str).str.contains(\"-\")])])"
   ]
  },
  {
   "cell_type": "code",
   "execution_count": 14,
   "metadata": {},
   "outputs": [],
   "source": [
    "# dislay all data\n",
    "# pd.set_option(\"display.max_rows\",None)"
   ]
  },
  {
   "cell_type": "code",
   "execution_count": 15,
   "metadata": {},
   "outputs": [
    {
     "data": {
      "text/html": [
       "<div>\n",
       "<style scoped>\n",
       "    .dataframe tbody tr th:only-of-type {\n",
       "        vertical-align: middle;\n",
       "    }\n",
       "\n",
       "    .dataframe tbody tr th {\n",
       "        vertical-align: top;\n",
       "    }\n",
       "\n",
       "    .dataframe thead th {\n",
       "        text-align: right;\n",
       "    }\n",
       "</style>\n",
       "<table border=\"1\" class=\"dataframe\">\n",
       "  <thead>\n",
       "    <tr style=\"text-align: right;\">\n",
       "      <th></th>\n",
       "      <th>Rent</th>\n",
       "      <th>Address</th>\n",
       "      <th>Zip</th>\n",
       "      <th>num_bedrooms</th>\n",
       "      <th>num_bathrooms</th>\n",
       "      <th>num_sqft</th>\n",
       "    </tr>\n",
       "  </thead>\n",
       "  <tbody>\n",
       "    <tr>\n",
       "      <th>191</th>\n",
       "      <td>1750 - 2000</td>\n",
       "      <td>7895 Jane Street</td>\n",
       "      <td>L4K</td>\n",
       "      <td>1 - 2</td>\n",
       "      <td>1 - 2</td>\n",
       "      <td>500-800</td>\n",
       "    </tr>\n",
       "    <tr>\n",
       "      <th>438</th>\n",
       "      <td>2200 - 2300</td>\n",
       "      <td>77 Shuter Street</td>\n",
       "      <td>M5B</td>\n",
       "      <td>1</td>\n",
       "      <td>1 ½</td>\n",
       "      <td>550-650</td>\n",
       "    </tr>\n",
       "    <tr>\n",
       "      <th>476</th>\n",
       "      <td>1750 - 2050</td>\n",
       "      <td>38 Cameron Street</td>\n",
       "      <td>M5T</td>\n",
       "      <td>1</td>\n",
       "      <td>1 - 1 ½</td>\n",
       "      <td>521-654</td>\n",
       "    </tr>\n",
       "    <tr>\n",
       "      <th>480</th>\n",
       "      <td>1895 - 3875</td>\n",
       "      <td>1 Edgewater Drive</td>\n",
       "      <td>M5A</td>\n",
       "      <td>1 - 2</td>\n",
       "      <td>1 - 2 ½</td>\n",
       "      <td>466-1119</td>\n",
       "    </tr>\n",
       "    <tr>\n",
       "      <th>563</th>\n",
       "      <td>1950 - 2850</td>\n",
       "      <td>16 Yonge Street</td>\n",
       "      <td>M5E</td>\n",
       "      <td>1 - 2</td>\n",
       "      <td>1 - 2</td>\n",
       "      <td>478-815</td>\n",
       "    </tr>\n",
       "    <tr>\n",
       "      <th>...</th>\n",
       "      <td>...</td>\n",
       "      <td>...</td>\n",
       "      <td>...</td>\n",
       "      <td>...</td>\n",
       "      <td>...</td>\n",
       "      <td>...</td>\n",
       "    </tr>\n",
       "    <tr>\n",
       "      <th>1535</th>\n",
       "      <td>1680 - 2000</td>\n",
       "      <td>1030 King Street West</td>\n",
       "      <td>M6K</td>\n",
       "      <td>0 - 1</td>\n",
       "      <td>1</td>\n",
       "      <td>370-450</td>\n",
       "    </tr>\n",
       "    <tr>\n",
       "      <th>1704</th>\n",
       "      <td>1700 - 4200</td>\n",
       "      <td>50 John Street</td>\n",
       "      <td>M5V</td>\n",
       "      <td>0 - 2</td>\n",
       "      <td>1 - 2</td>\n",
       "      <td>365-1230</td>\n",
       "    </tr>\n",
       "    <tr>\n",
       "      <th>2167</th>\n",
       "      <td>1850 - 2250</td>\n",
       "      <td>60 Ann OReilly Road</td>\n",
       "      <td>M2J</td>\n",
       "      <td>1 - 2</td>\n",
       "      <td>1 - 2</td>\n",
       "      <td>580-828</td>\n",
       "    </tr>\n",
       "    <tr>\n",
       "      <th>2372</th>\n",
       "      <td>1850 - 2400</td>\n",
       "      <td>7 Mabelle Avenue</td>\n",
       "      <td>M9A</td>\n",
       "      <td>1 - 2</td>\n",
       "      <td>1 - 2</td>\n",
       "      <td>488-779</td>\n",
       "    </tr>\n",
       "    <tr>\n",
       "      <th>2398</th>\n",
       "      <td>2000 - 2050</td>\n",
       "      <td>15 Viking Lane</td>\n",
       "      <td>M9B</td>\n",
       "      <td>1</td>\n",
       "      <td>1</td>\n",
       "      <td>580-641</td>\n",
       "    </tr>\n",
       "  </tbody>\n",
       "</table>\n",
       "<p>106 rows × 6 columns</p>\n",
       "</div>"
      ],
      "text/plain": [
       "             Rent                Address  Zip num_bedrooms num_bathrooms  \\\n",
       "191   1750 - 2000       7895 Jane Street  L4K        1 - 2         1 - 2   \n",
       "438   2200 - 2300       77 Shuter Street  M5B            1           1 ½   \n",
       "476   1750 - 2050      38 Cameron Street  M5T            1       1 - 1 ½   \n",
       "480   1895 - 3875      1 Edgewater Drive  M5A        1 - 2       1 - 2 ½   \n",
       "563   1950 - 2850        16 Yonge Street  M5E        1 - 2         1 - 2   \n",
       "...           ...                    ...  ...          ...           ...   \n",
       "1535  1680 - 2000  1030 King Street West  M6K        0 - 1             1   \n",
       "1704  1700 - 4200         50 John Street  M5V        0 - 2         1 - 2   \n",
       "2167  1850 - 2250    60 Ann OReilly Road  M2J        1 - 2         1 - 2   \n",
       "2372  1850 - 2400       7 Mabelle Avenue  M9A        1 - 2         1 - 2   \n",
       "2398  2000 - 2050         15 Viking Lane  M9B            1             1   \n",
       "\n",
       "      num_sqft  \n",
       "191    500-800  \n",
       "438    550-650  \n",
       "476    521-654  \n",
       "480   466-1119  \n",
       "563    478-815  \n",
       "...        ...  \n",
       "1535   370-450  \n",
       "1704  365-1230  \n",
       "2167   580-828  \n",
       "2372   488-779  \n",
       "2398   580-641  \n",
       "\n",
       "[106 rows x 6 columns]"
      ]
     },
     "execution_count": 15,
     "metadata": {},
     "output_type": "execute_result"
    }
   ],
   "source": [
    "empty_ranged_df"
   ]
  },
  {
   "cell_type": "code",
   "execution_count": 16,
   "metadata": {},
   "outputs": [
    {
     "data": {
      "text/plain": [
       "(106, 6)"
      ]
     },
     "execution_count": 16,
     "metadata": {},
     "output_type": "execute_result"
    }
   ],
   "source": [
    "empty_ranged_df.shape"
   ]
  },
  {
   "cell_type": "code",
   "execution_count": 17,
   "metadata": {},
   "outputs": [
    {
     "data": {
      "text/plain": [
       "Int64Index([ 191,  438,  476,  480,  563,  566,  589,  608,  732,  773,\n",
       "            ...\n",
       "            1105, 1138, 1196, 1418, 1480, 1535, 1704, 2167, 2372, 2398],\n",
       "           dtype='int64', length=106)"
      ]
     },
     "execution_count": 17,
     "metadata": {},
     "output_type": "execute_result"
    }
   ],
   "source": [
    "empty_ranged_df.index"
   ]
  },
  {
   "cell_type": "code",
   "execution_count": 18,
   "metadata": {},
   "outputs": [
    {
     "data": {
      "text/plain": [
       "Int64Index([ 191,  438,  476,  480,  563,  566,  589,  608,  732,  773,  825,\n",
       "             830,  836,  890,  962, 1041, 1043, 1071, 1090, 1105, 1138, 1196,\n",
       "            1418, 1480, 1535, 1635, 1642, 1704, 2167, 2321, 2365, 2372, 2398,\n",
       "             186, 1045,  692],\n",
       "           dtype='int64')"
      ]
     },
     "execution_count": 18,
     "metadata": {},
     "output_type": "execute_result"
    }
   ],
   "source": [
    "# delete duplicate indexes\n",
    "empty_ranged_df.index.drop_duplicates(keep='first')"
   ]
  },
  {
   "cell_type": "code",
   "execution_count": 19,
   "metadata": {},
   "outputs": [],
   "source": [
    "empty_ranged_df = empty_ranged_df.loc[~empty_ranged_df.index.duplicated(keep=\"first\")]"
   ]
  },
  {
   "cell_type": "code",
   "execution_count": 20,
   "metadata": {},
   "outputs": [
    {
     "data": {
      "text/plain": [
       "(36, 6)"
      ]
     },
     "execution_count": 20,
     "metadata": {},
     "output_type": "execute_result"
    }
   ],
   "source": [
    "# check if changes are made\n",
    "empty_ranged_df.shape"
   ]
  },
  {
   "cell_type": "code",
   "execution_count": 21,
   "metadata": {},
   "outputs": [
    {
     "data": {
      "text/html": [
       "<div>\n",
       "<style scoped>\n",
       "    .dataframe tbody tr th:only-of-type {\n",
       "        vertical-align: middle;\n",
       "    }\n",
       "\n",
       "    .dataframe tbody tr th {\n",
       "        vertical-align: top;\n",
       "    }\n",
       "\n",
       "    .dataframe thead th {\n",
       "        text-align: right;\n",
       "    }\n",
       "</style>\n",
       "<table border=\"1\" class=\"dataframe\">\n",
       "  <thead>\n",
       "    <tr style=\"text-align: right;\">\n",
       "      <th></th>\n",
       "      <th>Rent</th>\n",
       "      <th>Address</th>\n",
       "      <th>Zip</th>\n",
       "      <th>num_bedrooms</th>\n",
       "      <th>num_bathrooms</th>\n",
       "      <th>num_sqft</th>\n",
       "    </tr>\n",
       "  </thead>\n",
       "  <tbody>\n",
       "    <tr>\n",
       "      <th>191</th>\n",
       "      <td>1750 - 2000</td>\n",
       "      <td>7895 Jane Street</td>\n",
       "      <td>L4K</td>\n",
       "      <td>1 - 2</td>\n",
       "      <td>1 - 2</td>\n",
       "      <td>500-800</td>\n",
       "    </tr>\n",
       "    <tr>\n",
       "      <th>438</th>\n",
       "      <td>2200 - 2300</td>\n",
       "      <td>77 Shuter Street</td>\n",
       "      <td>M5B</td>\n",
       "      <td>1</td>\n",
       "      <td>1 ½</td>\n",
       "      <td>550-650</td>\n",
       "    </tr>\n",
       "    <tr>\n",
       "      <th>476</th>\n",
       "      <td>1750 - 2050</td>\n",
       "      <td>38 Cameron Street</td>\n",
       "      <td>M5T</td>\n",
       "      <td>1</td>\n",
       "      <td>1 - 1 ½</td>\n",
       "      <td>521-654</td>\n",
       "    </tr>\n",
       "    <tr>\n",
       "      <th>480</th>\n",
       "      <td>1895 - 3875</td>\n",
       "      <td>1 Edgewater Drive</td>\n",
       "      <td>M5A</td>\n",
       "      <td>1 - 2</td>\n",
       "      <td>1 - 2 ½</td>\n",
       "      <td>466-1119</td>\n",
       "    </tr>\n",
       "    <tr>\n",
       "      <th>563</th>\n",
       "      <td>1950 - 2850</td>\n",
       "      <td>16 Yonge Street</td>\n",
       "      <td>M5E</td>\n",
       "      <td>1 - 2</td>\n",
       "      <td>1 - 2</td>\n",
       "      <td>478-815</td>\n",
       "    </tr>\n",
       "  </tbody>\n",
       "</table>\n",
       "</div>"
      ],
      "text/plain": [
       "            Rent            Address  Zip num_bedrooms num_bathrooms  num_sqft\n",
       "191  1750 - 2000   7895 Jane Street  L4K        1 - 2         1 - 2   500-800\n",
       "438  2200 - 2300   77 Shuter Street  M5B            1           1 ½   550-650\n",
       "476  1750 - 2050  38 Cameron Street  M5T            1       1 - 1 ½   521-654\n",
       "480  1895 - 3875  1 Edgewater Drive  M5A        1 - 2       1 - 2 ½  466-1119\n",
       "563  1950 - 2850    16 Yonge Street  M5E        1 - 2         1 - 2   478-815"
      ]
     },
     "execution_count": 21,
     "metadata": {},
     "output_type": "execute_result"
    }
   ],
   "source": [
    "empty_ranged_df.head()"
   ]
  },
  {
   "cell_type": "code",
   "execution_count": 22,
   "metadata": {},
   "outputs": [],
   "source": [
    "# select only data that don't contain range of values\n",
    "rent_norange_df = rent_df[rent_df.index.isin(empty_ranged_df.index) == False]"
   ]
  },
  {
   "cell_type": "code",
   "execution_count": 23,
   "metadata": {},
   "outputs": [
    {
     "data": {
      "text/plain": [
       "(2414, 6)"
      ]
     },
     "execution_count": 23,
     "metadata": {},
     "output_type": "execute_result"
    }
   ],
   "source": [
    "# rent_norange_df should have 2414 rows because 2450 - 36 = 2414\n",
    "rent_norange_df.shape"
   ]
  },
  {
   "cell_type": "code",
   "execution_count": 24,
   "metadata": {},
   "outputs": [
    {
     "data": {
      "text/plain": [
       "(2450, 6)"
      ]
     },
     "execution_count": 24,
     "metadata": {},
     "output_type": "execute_result"
    }
   ],
   "source": [
    "rent_df.shape"
   ]
  },
  {
   "cell_type": "code",
   "execution_count": 25,
   "metadata": {},
   "outputs": [
    {
     "data": {
      "text/plain": [
       "array(['2', '1', '1 ½', '3', '0 ½', '0', '2 ½'], dtype=object)"
      ]
     },
     "execution_count": 25,
     "metadata": {},
     "output_type": "execute_result"
    }
   ],
   "source": [
    "rent_norange_df['num_bedrooms'].unique()\n",
    "rent_norange_df['num_bathrooms'].unique()\n"
   ]
  },
  {
   "cell_type": "code",
   "execution_count": 26,
   "metadata": {},
   "outputs": [
    {
     "data": {
      "text/plain": [
       "'2'"
      ]
     },
     "execution_count": 26,
     "metadata": {},
     "output_type": "execute_result"
    }
   ],
   "source": [
    "rent_norange_df['num_bathrooms'][0].replace(\"½\",\".5\").replace(\" \",\"\")"
   ]
  },
  {
   "cell_type": "code",
   "execution_count": 27,
   "metadata": {},
   "outputs": [
    {
     "data": {
      "text/html": [
       "<div>\n",
       "<style scoped>\n",
       "    .dataframe tbody tr th:only-of-type {\n",
       "        vertical-align: middle;\n",
       "    }\n",
       "\n",
       "    .dataframe tbody tr th {\n",
       "        vertical-align: top;\n",
       "    }\n",
       "\n",
       "    .dataframe thead th {\n",
       "        text-align: right;\n",
       "    }\n",
       "</style>\n",
       "<table border=\"1\" class=\"dataframe\">\n",
       "  <thead>\n",
       "    <tr style=\"text-align: right;\">\n",
       "      <th></th>\n",
       "      <th>Rent</th>\n",
       "      <th>Address</th>\n",
       "      <th>Zip</th>\n",
       "      <th>num_bedrooms</th>\n",
       "      <th>num_bathrooms</th>\n",
       "      <th>num_sqft</th>\n",
       "    </tr>\n",
       "  </thead>\n",
       "  <tbody>\n",
       "    <tr>\n",
       "      <th>0</th>\n",
       "      <td>3300</td>\n",
       "      <td>85 Wood Street</td>\n",
       "      <td>M4Y</td>\n",
       "      <td>3</td>\n",
       "      <td>2</td>\n",
       "      <td>810</td>\n",
       "    </tr>\n",
       "    <tr>\n",
       "      <th>1</th>\n",
       "      <td>2295</td>\n",
       "      <td>300 Balliol Street</td>\n",
       "      <td>M4S</td>\n",
       "      <td>1</td>\n",
       "      <td>1</td>\n",
       "      <td>600</td>\n",
       "    </tr>\n",
       "    <tr>\n",
       "      <th>2</th>\n",
       "      <td>2300</td>\n",
       "      <td>8 Fieldway Road</td>\n",
       "      <td>M8Z</td>\n",
       "      <td>1</td>\n",
       "      <td>1</td>\n",
       "      <td>NaN</td>\n",
       "    </tr>\n",
       "  </tbody>\n",
       "</table>\n",
       "</div>"
      ],
      "text/plain": [
       "   Rent             Address  Zip num_bedrooms num_bathrooms num_sqft\n",
       "0  3300      85 Wood Street  M4Y            3             2      810\n",
       "1  2295  300 Balliol Street  M4S            1             1      600\n",
       "2  2300     8 Fieldway Road  M8Z            1             1      NaN"
      ]
     },
     "execution_count": 27,
     "metadata": {},
     "output_type": "execute_result"
    }
   ],
   "source": [
    "rent_norange_df.head(3)"
   ]
  },
  {
   "cell_type": "code",
   "execution_count": 28,
   "metadata": {},
   "outputs": [],
   "source": [
    "# reset index before looping through the changes\n",
    "rent_norange_df = rent_norange_df.reset_index(drop=True)"
   ]
  },
  {
   "cell_type": "code",
   "execution_count": 29,
   "metadata": {},
   "outputs": [
    {
     "data": {
      "text/html": [
       "<div>\n",
       "<style scoped>\n",
       "    .dataframe tbody tr th:only-of-type {\n",
       "        vertical-align: middle;\n",
       "    }\n",
       "\n",
       "    .dataframe tbody tr th {\n",
       "        vertical-align: top;\n",
       "    }\n",
       "\n",
       "    .dataframe thead th {\n",
       "        text-align: right;\n",
       "    }\n",
       "</style>\n",
       "<table border=\"1\" class=\"dataframe\">\n",
       "  <thead>\n",
       "    <tr style=\"text-align: right;\">\n",
       "      <th></th>\n",
       "      <th>Rent</th>\n",
       "      <th>Address</th>\n",
       "      <th>Zip</th>\n",
       "      <th>num_bedrooms</th>\n",
       "      <th>num_bathrooms</th>\n",
       "      <th>num_sqft</th>\n",
       "    </tr>\n",
       "  </thead>\n",
       "  <tbody>\n",
       "    <tr>\n",
       "      <th>185</th>\n",
       "      <td>1900</td>\n",
       "      <td>2916 Highway 7</td>\n",
       "      <td>L4K</td>\n",
       "      <td>1</td>\n",
       "      <td>0 ½</td>\n",
       "      <td>550</td>\n",
       "    </tr>\n",
       "    <tr>\n",
       "      <th>186</th>\n",
       "      <td>2300</td>\n",
       "      <td>2908 Highway 7</td>\n",
       "      <td>L4K</td>\n",
       "      <td>2</td>\n",
       "      <td>2</td>\n",
       "      <td>800899</td>\n",
       "    </tr>\n",
       "    <tr>\n",
       "      <th>187</th>\n",
       "      <td>2000</td>\n",
       "      <td>2916 Highway 7</td>\n",
       "      <td>L4K</td>\n",
       "      <td>1</td>\n",
       "      <td>1 ½</td>\n",
       "      <td>630</td>\n",
       "    </tr>\n",
       "    <tr>\n",
       "      <th>188</th>\n",
       "      <td>2000</td>\n",
       "      <td>7895 Jane Street</td>\n",
       "      <td>L4K</td>\n",
       "      <td>1</td>\n",
       "      <td>2</td>\n",
       "      <td>611</td>\n",
       "    </tr>\n",
       "    <tr>\n",
       "      <th>189</th>\n",
       "      <td>2200</td>\n",
       "      <td>7895 Jane Street</td>\n",
       "      <td>L4K</td>\n",
       "      <td>2</td>\n",
       "      <td>2</td>\n",
       "      <td>750</td>\n",
       "    </tr>\n",
       "    <tr>\n",
       "      <th>190</th>\n",
       "      <td>2250</td>\n",
       "      <td>7895 Jane Street</td>\n",
       "      <td>L4K</td>\n",
       "      <td>2</td>\n",
       "      <td>2</td>\n",
       "      <td>649</td>\n",
       "    </tr>\n",
       "  </tbody>\n",
       "</table>\n",
       "</div>"
      ],
      "text/plain": [
       "     Rent           Address  Zip num_bedrooms num_bathrooms num_sqft\n",
       "185  1900    2916 Highway 7  L4K            1           0 ½      550\n",
       "186  2300    2908 Highway 7  L4K            2             2   800899\n",
       "187  2000    2916 Highway 7  L4K            1           1 ½      630\n",
       "188  2000  7895 Jane Street  L4K            1             2      611\n",
       "189  2200  7895 Jane Street  L4K            2             2      750\n",
       "190  2250  7895 Jane Street  L4K            2             2      649"
      ]
     },
     "execution_count": 29,
     "metadata": {},
     "output_type": "execute_result"
    }
   ],
   "source": [
    "rent_norange_df.loc[[185,186,187,188,189,190]]"
   ]
  },
  {
   "cell_type": "code",
   "execution_count": 30,
   "metadata": {},
   "outputs": [],
   "source": [
    "# change \"1/2\" into 0.5\n",
    "for bath in range(rent_norange_df.shape[0]):\n",
    "    rent_norange_df['num_bathrooms'][bath] = rent_norange_df['num_bathrooms'][bath].replace(\"½\",\".5\").replace(\" \",\"\")"
   ]
  },
  {
   "cell_type": "code",
   "execution_count": 31,
   "metadata": {},
   "outputs": [
    {
     "data": {
      "text/plain": [
       "array(['2', '1', '1.5', '3', '0.5', '0', '2.5'], dtype=object)"
      ]
     },
     "execution_count": 31,
     "metadata": {},
     "output_type": "execute_result"
    }
   ],
   "source": [
    "# check if changes are made\n",
    "rent_norange_df['num_bathrooms'].unique()"
   ]
  },
  {
   "cell_type": "code",
   "execution_count": 32,
   "metadata": {},
   "outputs": [
    {
     "data": {
      "text/plain": [
       "Rent             object\n",
       "Address          object\n",
       "Zip              object\n",
       "num_bedrooms     object\n",
       "num_bathrooms    object\n",
       "num_sqft         object\n",
       "dtype: object"
      ]
     },
     "execution_count": 32,
     "metadata": {},
     "output_type": "execute_result"
    }
   ],
   "source": [
    "rent_norange_df.dtypes"
   ]
  },
  {
   "cell_type": "code",
   "execution_count": 33,
   "metadata": {},
   "outputs": [],
   "source": [
    "# convert datatypes\n",
    "rent_norange_df[\"Rent\"] = rent_norange_df[\"Rent\"].astype(float)\n",
    "rent_norange_df[\"num_bedrooms\"] = rent_norange_df[\"num_bedrooms\"].astype(float)\n",
    "rent_norange_df[\"num_bathrooms\"] = rent_norange_df[\"num_bathrooms\"].astype(float)\n",
    "rent_norange_df[\"num_sqft\"] = rent_norange_df[\"num_sqft\"].astype(float)\n"
   ]
  },
  {
   "cell_type": "code",
   "execution_count": 34,
   "metadata": {},
   "outputs": [
    {
     "name": "stdout",
     "output_type": "stream",
     "text": [
      "<class 'pandas.core.frame.DataFrame'>\n",
      "RangeIndex: 2414 entries, 0 to 2413\n",
      "Data columns (total 6 columns):\n",
      " #   Column         Non-Null Count  Dtype  \n",
      "---  ------         --------------  -----  \n",
      " 0   Rent           2414 non-null   float64\n",
      " 1   Address        2414 non-null   object \n",
      " 2   Zip            2410 non-null   object \n",
      " 3   num_bedrooms   2414 non-null   float64\n",
      " 4   num_bathrooms  2414 non-null   float64\n",
      " 5   num_sqft       1472 non-null   float64\n",
      "dtypes: float64(4), object(2)\n",
      "memory usage: 113.3+ KB\n"
     ]
    }
   ],
   "source": [
    "rent_norange_df.info()"
   ]
  },
  {
   "cell_type": "code",
   "execution_count": 35,
   "metadata": {},
   "outputs": [
    {
     "data": {
      "text/plain": [
       "(2300, 6)"
      ]
     },
     "execution_count": 35,
     "metadata": {},
     "output_type": "execute_result"
    }
   ],
   "source": [
    "# match the postal codes\n",
    "# check the number of postal codes that match\n",
    "rent_df.loc[rent_df['Zip'].isin(geo_coords['Postal Code']), :].shape"
   ]
  },
  {
   "cell_type": "code",
   "execution_count": 36,
   "metadata": {},
   "outputs": [
    {
     "data": {
      "text/plain": [
       "Rent               0\n",
       "Address            0\n",
       "Zip                4\n",
       "num_bedrooms       0\n",
       "num_bathrooms      0\n",
       "num_sqft         942\n",
       "dtype: int64"
      ]
     },
     "execution_count": 36,
     "metadata": {},
     "output_type": "execute_result"
    }
   ],
   "source": [
    "# check for null values\n",
    "rent_norange_df.isnull().sum()"
   ]
  },
  {
   "cell_type": "markdown",
   "metadata": {},
   "source": [
    "Just going to drop all the null values because 942 null values is too much for this dataset (represents 1/3 of the data for num_sqft) and there's not point in keeping data that doesn't have a zip code because the whole point of this analysis is plot all the data on a map."
   ]
  },
  {
   "cell_type": "code",
   "execution_count": 37,
   "metadata": {},
   "outputs": [
    {
     "data": {
      "text/plain": [
       "(2414, 6)"
      ]
     },
     "execution_count": 37,
     "metadata": {},
     "output_type": "execute_result"
    }
   ],
   "source": [
    "rent_norange_df.shape"
   ]
  },
  {
   "cell_type": "code",
   "execution_count": 38,
   "metadata": {},
   "outputs": [
    {
     "data": {
      "text/html": [
       "<div>\n",
       "<style scoped>\n",
       "    .dataframe tbody tr th:only-of-type {\n",
       "        vertical-align: middle;\n",
       "    }\n",
       "\n",
       "    .dataframe tbody tr th {\n",
       "        vertical-align: top;\n",
       "    }\n",
       "\n",
       "    .dataframe thead th {\n",
       "        text-align: right;\n",
       "    }\n",
       "</style>\n",
       "<table border=\"1\" class=\"dataframe\">\n",
       "  <thead>\n",
       "    <tr style=\"text-align: right;\">\n",
       "      <th></th>\n",
       "      <th>Rent</th>\n",
       "      <th>Address</th>\n",
       "      <th>Zip</th>\n",
       "      <th>num_bedrooms</th>\n",
       "      <th>num_bathrooms</th>\n",
       "      <th>num_sqft</th>\n",
       "    </tr>\n",
       "  </thead>\n",
       "  <tbody>\n",
       "    <tr>\n",
       "      <th>13</th>\n",
       "      <td>2080.0</td>\n",
       "      <td>35 Balmuto Street</td>\n",
       "      <td>NaN</td>\n",
       "      <td>1.0</td>\n",
       "      <td>1.0</td>\n",
       "      <td>610.0</td>\n",
       "    </tr>\n",
       "    <tr>\n",
       "      <th>93</th>\n",
       "      <td>1900.0</td>\n",
       "      <td>3560 St Clair Ave E | Unit: 418</td>\n",
       "      <td>NaN</td>\n",
       "      <td>1.0</td>\n",
       "      <td>1.0</td>\n",
       "      <td>700.0</td>\n",
       "    </tr>\n",
       "    <tr>\n",
       "      <th>1990</th>\n",
       "      <td>2500.0</td>\n",
       "      <td>50 Ann O'Reilly Road | Unit: 2</td>\n",
       "      <td>NaN</td>\n",
       "      <td>2.0</td>\n",
       "      <td>2.0</td>\n",
       "      <td>1075.0</td>\n",
       "    </tr>\n",
       "    <tr>\n",
       "      <th>2014</th>\n",
       "      <td>2950.0</td>\n",
       "      <td>85 The Donway W</td>\n",
       "      <td>NaN</td>\n",
       "      <td>2.0</td>\n",
       "      <td>2.0</td>\n",
       "      <td>1450.0</td>\n",
       "    </tr>\n",
       "  </tbody>\n",
       "</table>\n",
       "</div>"
      ],
      "text/plain": [
       "        Rent                          Address  Zip  num_bedrooms  \\\n",
       "13    2080.0                35 Balmuto Street  NaN           1.0   \n",
       "93    1900.0  3560 St Clair Ave E | Unit: 418  NaN           1.0   \n",
       "1990  2500.0   50 Ann O'Reilly Road | Unit: 2  NaN           2.0   \n",
       "2014  2950.0                  85 The Donway W  NaN           2.0   \n",
       "\n",
       "      num_bathrooms  num_sqft  \n",
       "13              1.0     610.0  \n",
       "93              1.0     700.0  \n",
       "1990            2.0    1075.0  \n",
       "2014            2.0    1450.0  "
      ]
     },
     "execution_count": 38,
     "metadata": {},
     "output_type": "execute_result"
    }
   ],
   "source": [
    "# find the rows that contain null values for \"Zip\"\n",
    "rent_norange_df.loc[rent_norange_df['Zip'].isnull()]"
   ]
  },
  {
   "cell_type": "code",
   "execution_count": 39,
   "metadata": {},
   "outputs": [],
   "source": [
    "# remove null values\n",
    "dropped_nulls_df = rent_norange_df.dropna()\n",
    "one_bedroom_df = rent_norange_df.loc[rent_norange_df['num_bedrooms'] == 1].dropna()"
   ]
  },
  {
   "cell_type": "code",
   "execution_count": 40,
   "metadata": {},
   "outputs": [
    {
     "data": {
      "text/plain": [
       "(934, 6)"
      ]
     },
     "execution_count": 40,
     "metadata": {},
     "output_type": "execute_result"
    }
   ],
   "source": [
    "dropped_nulls_df.shape\n",
    "one_bedroom_df.shape"
   ]
  },
  {
   "cell_type": "code",
   "execution_count": 41,
   "metadata": {},
   "outputs": [
    {
     "data": {
      "text/plain": [
       "(1342, 6)"
      ]
     },
     "execution_count": 41,
     "metadata": {},
     "output_type": "execute_result"
    }
   ],
   "source": [
    "dropped_nulls_df.loc[dropped_nulls_df['Zip'].isin(geo_coords[\"Postal Code\"])].shape"
   ]
  },
  {
   "cell_type": "code",
   "execution_count": 42,
   "metadata": {},
   "outputs": [],
   "source": [
    "dropped_nulls_df = dropped_nulls_df.reset_index(drop=True)\n",
    "one_bedroom_df = one_bedroom_df.reset_index(drop=True)\n"
   ]
  },
  {
   "cell_type": "markdown",
   "metadata": {},
   "source": [
    "#### Store Data into a database"
   ]
  },
  {
   "cell_type": "code",
   "execution_count": 43,
   "metadata": {},
   "outputs": [],
   "source": [
    "from sqlalchemy import create_engine"
   ]
  },
  {
   "cell_type": "code",
   "execution_count": 44,
   "metadata": {},
   "outputs": [],
   "source": [
    "# STORE INTO LOCAL DATABASE\n",
    "connection_string = \"postgres:postgres@localhost:5432/toronto-rental-properties\"\n",
    "engine = create_engine(f'postgresql://{connection_string}')"
   ]
  },
  {
   "cell_type": "code",
   "execution_count": 45,
   "metadata": {},
   "outputs": [],
   "source": [
    "connection = engine.connect()"
   ]
  },
  {
   "cell_type": "code",
   "execution_count": 46,
   "metadata": {},
   "outputs": [],
   "source": [
    "dropped_nulls_df.to_sql(name=\"all_data\", con = engine, if_exists=\"replace\",index = False)"
   ]
  },
  {
   "cell_type": "code",
   "execution_count": 47,
   "metadata": {},
   "outputs": [],
   "source": [
    "# change column names for geo_coords before storing in pgadmin\n",
    "geo_coords.rename(columns = ({\"Postal Code\": \"postal_code\"}), inplace = True)"
   ]
  },
  {
   "cell_type": "code",
   "execution_count": 48,
   "metadata": {},
   "outputs": [],
   "source": [
    "geo_coords_columnNames = ['postal_code', \"latitude\", \"longitude\"]"
   ]
  },
  {
   "cell_type": "code",
   "execution_count": 49,
   "metadata": {},
   "outputs": [],
   "source": [
    "geo_coords.columns = geo_coords_columnNames"
   ]
  },
  {
   "cell_type": "code",
   "execution_count": 50,
   "metadata": {},
   "outputs": [],
   "source": [
    "one_bedroom_columnNames = ['rent', 'address', 'zip', 'num_bedrooms', 'num_bathrooms', 'num_sqft']"
   ]
  },
  {
   "cell_type": "code",
   "execution_count": 51,
   "metadata": {},
   "outputs": [],
   "source": [
    "one_bedroom_df.columns = one_bedroom_columnNames"
   ]
  },
  {
   "cell_type": "code",
   "execution_count": 52,
   "metadata": {},
   "outputs": [
    {
     "data": {
      "text/html": [
       "<div>\n",
       "<style scoped>\n",
       "    .dataframe tbody tr th:only-of-type {\n",
       "        vertical-align: middle;\n",
       "    }\n",
       "\n",
       "    .dataframe tbody tr th {\n",
       "        vertical-align: top;\n",
       "    }\n",
       "\n",
       "    .dataframe thead th {\n",
       "        text-align: right;\n",
       "    }\n",
       "</style>\n",
       "<table border=\"1\" class=\"dataframe\">\n",
       "  <thead>\n",
       "    <tr style=\"text-align: right;\">\n",
       "      <th></th>\n",
       "      <th>rent</th>\n",
       "      <th>address</th>\n",
       "      <th>zip</th>\n",
       "      <th>num_bedrooms</th>\n",
       "      <th>num_bathrooms</th>\n",
       "      <th>num_sqft</th>\n",
       "    </tr>\n",
       "  </thead>\n",
       "  <tbody>\n",
       "    <tr>\n",
       "      <th>0</th>\n",
       "      <td>2295.0</td>\n",
       "      <td>300 Balliol Street</td>\n",
       "      <td>M4S</td>\n",
       "      <td>1.0</td>\n",
       "      <td>1.0</td>\n",
       "      <td>600.0</td>\n",
       "    </tr>\n",
       "    <tr>\n",
       "      <th>1</th>\n",
       "      <td>2050.0</td>\n",
       "      <td>83 Redpath Avenue</td>\n",
       "      <td>M4S</td>\n",
       "      <td>1.0</td>\n",
       "      <td>1.0</td>\n",
       "      <td>562.0</td>\n",
       "    </tr>\n",
       "    <tr>\n",
       "      <th>2</th>\n",
       "      <td>2350.0</td>\n",
       "      <td>633 Bay Street</td>\n",
       "      <td>M5G</td>\n",
       "      <td>1.0</td>\n",
       "      <td>1.5</td>\n",
       "      <td>833.0</td>\n",
       "    </tr>\n",
       "    <tr>\n",
       "      <th>3</th>\n",
       "      <td>2250.0</td>\n",
       "      <td>88 Harbour Street</td>\n",
       "      <td>M5J</td>\n",
       "      <td>1.0</td>\n",
       "      <td>1.0</td>\n",
       "      <td>581.0</td>\n",
       "    </tr>\n",
       "  </tbody>\n",
       "</table>\n",
       "</div>"
      ],
      "text/plain": [
       "     rent             address  zip  num_bedrooms  num_bathrooms  num_sqft\n",
       "0  2295.0  300 Balliol Street  M4S           1.0            1.0     600.0\n",
       "1  2050.0   83 Redpath Avenue  M4S           1.0            1.0     562.0\n",
       "2  2350.0      633 Bay Street  M5G           1.0            1.5     833.0\n",
       "3  2250.0   88 Harbour Street  M5J           1.0            1.0     581.0"
      ]
     },
     "execution_count": 52,
     "metadata": {},
     "output_type": "execute_result"
    }
   ],
   "source": [
    "one_bedroom_df.head(4)"
   ]
  },
  {
   "cell_type": "code",
   "execution_count": 53,
   "metadata": {},
   "outputs": [],
   "source": [
    "one_bedroom_df.to_sql(name=\"one_bedroom_data\", con = engine, if_exists = \"replace\", index=False)\n"
   ]
  },
  {
   "cell_type": "code",
   "execution_count": 54,
   "metadata": {},
   "outputs": [],
   "source": [
    "geo_coords.to_sql(name=\"geo_data\", con = engine, if_exists = \"replace\", index = False)"
   ]
  },
  {
   "cell_type": "code",
   "execution_count": 74,
   "metadata": {},
   "outputs": [
    {
     "data": {
      "text/html": [
       "<div>\n",
       "<style scoped>\n",
       "    .dataframe tbody tr th:only-of-type {\n",
       "        vertical-align: middle;\n",
       "    }\n",
       "\n",
       "    .dataframe tbody tr th {\n",
       "        vertical-align: top;\n",
       "    }\n",
       "\n",
       "    .dataframe thead th {\n",
       "        text-align: right;\n",
       "    }\n",
       "</style>\n",
       "<table border=\"1\" class=\"dataframe\">\n",
       "  <thead>\n",
       "    <tr style=\"text-align: right;\">\n",
       "      <th></th>\n",
       "      <th>rent</th>\n",
       "      <th>address</th>\n",
       "      <th>zip</th>\n",
       "      <th>num_bedrooms</th>\n",
       "      <th>num_bathrooms</th>\n",
       "      <th>num_sqft</th>\n",
       "    </tr>\n",
       "  </thead>\n",
       "  <tbody>\n",
       "    <tr>\n",
       "      <th>0</th>\n",
       "      <td>2295.0</td>\n",
       "      <td>300 Balliol Street</td>\n",
       "      <td>M4S</td>\n",
       "      <td>1.0</td>\n",
       "      <td>1.0</td>\n",
       "      <td>600.0</td>\n",
       "    </tr>\n",
       "    <tr>\n",
       "      <th>1</th>\n",
       "      <td>2050.0</td>\n",
       "      <td>83 Redpath Avenue</td>\n",
       "      <td>M4S</td>\n",
       "      <td>1.0</td>\n",
       "      <td>1.0</td>\n",
       "      <td>562.0</td>\n",
       "    </tr>\n",
       "    <tr>\n",
       "      <th>2</th>\n",
       "      <td>2350.0</td>\n",
       "      <td>633 Bay Street</td>\n",
       "      <td>M5G</td>\n",
       "      <td>1.0</td>\n",
       "      <td>1.5</td>\n",
       "      <td>833.0</td>\n",
       "    </tr>\n",
       "    <tr>\n",
       "      <th>3</th>\n",
       "      <td>2250.0</td>\n",
       "      <td>88 Harbour Street</td>\n",
       "      <td>M5J</td>\n",
       "      <td>1.0</td>\n",
       "      <td>1.0</td>\n",
       "      <td>581.0</td>\n",
       "    </tr>\n",
       "    <tr>\n",
       "      <th>4</th>\n",
       "      <td>1950.0</td>\n",
       "      <td>66 Portland Street</td>\n",
       "      <td>M5V</td>\n",
       "      <td>1.0</td>\n",
       "      <td>1.0</td>\n",
       "      <td>570.0</td>\n",
       "    </tr>\n",
       "  </tbody>\n",
       "</table>\n",
       "</div>"
      ],
      "text/plain": [
       "     rent             address  zip  num_bedrooms  num_bathrooms  num_sqft\n",
       "0  2295.0  300 Balliol Street  M4S           1.0            1.0     600.0\n",
       "1  2050.0   83 Redpath Avenue  M4S           1.0            1.0     562.0\n",
       "2  2350.0      633 Bay Street  M5G           1.0            1.5     833.0\n",
       "3  2250.0   88 Harbour Street  M5J           1.0            1.0     581.0\n",
       "4  1950.0  66 Portland Street  M5V           1.0            1.0     570.0"
      ]
     },
     "execution_count": 74,
     "metadata": {},
     "output_type": "execute_result"
    }
   ],
   "source": [
    "pd.read_sql_query(\"SELECT * \\\n",
    "                    FROM one_bedroom_data \\\n",
    "                    LIMIT 5\", connection)"
   ]
  },
  {
   "cell_type": "code",
   "execution_count": 129,
   "metadata": {},
   "outputs": [],
   "source": [
    "# join datasets with sql \n",
    "sql_merged = pd.read_sql_query(\"SELECT g.postal_code,\\\n",
    "                               g.latitude,\\\n",
    "                               g.longitude,\\\n",
    "                               ob.rent,\\\n",
    "                               ob.address,\\\n",
    "                               ob.num_bedrooms,\\\n",
    "                               ob.num_bathrooms,\\\n",
    "                               ob.num_sqft\\\n",
    "                               FROM geo_data g\\\n",
    "                               JOIN one_bedroom_data ob\\\n",
    "                               ON ob.zip = g.postal_code\", connection)"
   ]
  },
  {
   "cell_type": "code",
   "execution_count": 607,
   "metadata": {},
   "outputs": [],
   "source": [
    "from geopy.extra.rate_limiter import RateLimiter"
   ]
  },
  {
   "cell_type": "code",
   "execution_count": 892,
   "metadata": {},
   "outputs": [],
   "source": [
    "# Nominatim(user_agent=\"myGeocoder\").geocode(\"19 Brant Street, Toronto\")\n",
    "locator = Nominatim(user_agent = \"myGeocoder\")\n",
    "geocode = RateLimiter(locator.geocode,min_delay_seconds=1)\n",
    "location = locator.geocode(sql_merged['address'][100])"
   ]
  },
  {
   "cell_type": "code",
   "execution_count": 897,
   "metadata": {},
   "outputs": [
    {
     "data": {
      "text/plain": [
       "'23-33, Sheppard Avenue East, Lansing, North York, Toronto, Golden Horseshoe, Ontario, M2N 5W9, Canada'"
      ]
     },
     "execution_count": 897,
     "metadata": {},
     "output_type": "execute_result"
    }
   ],
   "source": [
    "location.address"
   ]
  },
  {
   "cell_type": "code",
   "execution_count": 615,
   "metadata": {
    "scrolled": true
   },
   "outputs": [
    {
     "data": {
      "text/plain": [
       "postal_code      0\n",
       "latitude         0\n",
       "longitude        0\n",
       "rent             0\n",
       "address          0\n",
       "num_bedrooms     0\n",
       "num_bathrooms    0\n",
       "num_sqft         0\n",
       "dtype: int64"
      ]
     },
     "execution_count": 615,
     "metadata": {},
     "output_type": "execute_result"
    }
   ],
   "source": [
    "# check for null values\n",
    "sql_merged.isnull().sum()"
   ]
  },
  {
   "cell_type": "code",
   "execution_count": 619,
   "metadata": {},
   "outputs": [],
   "source": [
    "sql_merged['address'] = sql_merged['address'] + \", Toronto\""
   ]
  },
  {
   "cell_type": "code",
   "execution_count": 871,
   "metadata": {},
   "outputs": [
    {
     "data": {
      "text/html": [
       "<div>\n",
       "<style scoped>\n",
       "    .dataframe tbody tr th:only-of-type {\n",
       "        vertical-align: middle;\n",
       "    }\n",
       "\n",
       "    .dataframe tbody tr th {\n",
       "        vertical-align: top;\n",
       "    }\n",
       "\n",
       "    .dataframe thead th {\n",
       "        text-align: right;\n",
       "    }\n",
       "</style>\n",
       "<table border=\"1\" class=\"dataframe\">\n",
       "  <thead>\n",
       "    <tr style=\"text-align: right;\">\n",
       "      <th></th>\n",
       "      <th>postal_code</th>\n",
       "      <th>latitude</th>\n",
       "      <th>longitude</th>\n",
       "      <th>rent</th>\n",
       "      <th>address</th>\n",
       "      <th>num_bedrooms</th>\n",
       "      <th>num_bathrooms</th>\n",
       "      <th>num_sqft</th>\n",
       "    </tr>\n",
       "  </thead>\n",
       "  <tbody>\n",
       "    <tr>\n",
       "      <th>126</th>\n",
       "      <td>M3C</td>\n",
       "      <td>43.7259</td>\n",
       "      <td>-79.340923</td>\n",
       "      <td>1850.0</td>\n",
       "      <td>Sonic Way, Toronto</td>\n",
       "      <td>1.0</td>\n",
       "      <td>2.0</td>\n",
       "      <td>650.0</td>\n",
       "    </tr>\n",
       "    <tr>\n",
       "      <th>128</th>\n",
       "      <td>M3C</td>\n",
       "      <td>43.7259</td>\n",
       "      <td>-79.340923</td>\n",
       "      <td>1850.0</td>\n",
       "      <td>Sonic Way, Toronto</td>\n",
       "      <td>1.0</td>\n",
       "      <td>2.0</td>\n",
       "      <td>650.0</td>\n",
       "    </tr>\n",
       "    <tr>\n",
       "      <th>129</th>\n",
       "      <td>M3C</td>\n",
       "      <td>43.7259</td>\n",
       "      <td>-79.340923</td>\n",
       "      <td>1850.0</td>\n",
       "      <td>Sonic Way, Toronto</td>\n",
       "      <td>1.0</td>\n",
       "      <td>2.0</td>\n",
       "      <td>650.0</td>\n",
       "    </tr>\n",
       "    <tr>\n",
       "      <th>130</th>\n",
       "      <td>M3C</td>\n",
       "      <td>43.7259</td>\n",
       "      <td>-79.340923</td>\n",
       "      <td>1870.0</td>\n",
       "      <td>Sonic Way, Toronto</td>\n",
       "      <td>1.0</td>\n",
       "      <td>2.0</td>\n",
       "      <td>650.0</td>\n",
       "    </tr>\n",
       "    <tr>\n",
       "      <th>131</th>\n",
       "      <td>M3C</td>\n",
       "      <td>43.7259</td>\n",
       "      <td>-79.340923</td>\n",
       "      <td>1900.0</td>\n",
       "      <td>2 Sonic Way, Toronto</td>\n",
       "      <td>1.0</td>\n",
       "      <td>2.0</td>\n",
       "      <td>650.0</td>\n",
       "    </tr>\n",
       "  </tbody>\n",
       "</table>\n",
       "</div>"
      ],
      "text/plain": [
       "    postal_code  latitude  longitude    rent               address  \\\n",
       "126         M3C   43.7259 -79.340923  1850.0    Sonic Way, Toronto   \n",
       "128         M3C   43.7259 -79.340923  1850.0    Sonic Way, Toronto   \n",
       "129         M3C   43.7259 -79.340923  1850.0    Sonic Way, Toronto   \n",
       "130         M3C   43.7259 -79.340923  1870.0    Sonic Way, Toronto   \n",
       "131         M3C   43.7259 -79.340923  1900.0  2 Sonic Way, Toronto   \n",
       "\n",
       "     num_bedrooms  num_bathrooms  num_sqft  \n",
       "126           1.0            2.0     650.0  \n",
       "128           1.0            2.0     650.0  \n",
       "129           1.0            2.0     650.0  \n",
       "130           1.0            2.0     650.0  \n",
       "131           1.0            2.0     650.0  "
      ]
     },
     "execution_count": 871,
     "metadata": {},
     "output_type": "execute_result"
    }
   ],
   "source": [
    "sql_merged.loc[sql_merged['address'].str.contains(\"Sonic\")].head()"
   ]
  },
  {
   "cell_type": "code",
   "execution_count": 687,
   "metadata": {},
   "outputs": [
    {
     "name": "stderr",
     "output_type": "stream",
     "text": [
      "C:\\Users\\smartestpersonalive\\Anaconda3\\lib\\site-packages\\ipykernel_launcher.py:1: SettingWithCopyWarning: \n",
      "A value is trying to be set on a copy of a slice from a DataFrame\n",
      "\n",
      "See the caveats in the documentation: https://pandas.pydata.org/pandas-docs/stable/user_guide/indexing.html#returning-a-view-versus-a-copy\n",
      "  \"\"\"Entry point for launching an IPython kernel.\n",
      "C:\\Users\\smartestpersonalive\\Anaconda3\\lib\\site-packages\\ipykernel_launcher.py:2: SettingWithCopyWarning: \n",
      "A value is trying to be set on a copy of a slice from a DataFrame\n",
      "\n",
      "See the caveats in the documentation: https://pandas.pydata.org/pandas-docs/stable/user_guide/indexing.html#returning-a-view-versus-a-copy\n",
      "  \n",
      "C:\\Users\\smartestpersonalive\\Anaconda3\\lib\\site-packages\\ipykernel_launcher.py:3: SettingWithCopyWarning: \n",
      "A value is trying to be set on a copy of a slice from a DataFrame\n",
      "\n",
      "See the caveats in the documentation: https://pandas.pydata.org/pandas-docs/stable/user_guide/indexing.html#returning-a-view-versus-a-copy\n",
      "  This is separate from the ipykernel package so we can avoid doing imports until\n",
      "C:\\Users\\smartestpersonalive\\Anaconda3\\lib\\site-packages\\ipykernel_launcher.py:4: SettingWithCopyWarning: \n",
      "A value is trying to be set on a copy of a slice from a DataFrame\n",
      "\n",
      "See the caveats in the documentation: https://pandas.pydata.org/pandas-docs/stable/user_guide/indexing.html#returning-a-view-versus-a-copy\n",
      "  after removing the cwd from sys.path.\n",
      "C:\\Users\\smartestpersonalive\\Anaconda3\\lib\\site-packages\\ipykernel_launcher.py:5: SettingWithCopyWarning: \n",
      "A value is trying to be set on a copy of a slice from a DataFrame\n",
      "\n",
      "See the caveats in the documentation: https://pandas.pydata.org/pandas-docs/stable/user_guide/indexing.html#returning-a-view-versus-a-copy\n",
      "  \"\"\"\n",
      "C:\\Users\\smartestpersonalive\\Anaconda3\\lib\\site-packages\\ipykernel_launcher.py:6: SettingWithCopyWarning: \n",
      "A value is trying to be set on a copy of a slice from a DataFrame\n",
      "\n",
      "See the caveats in the documentation: https://pandas.pydata.org/pandas-docs/stable/user_guide/indexing.html#returning-a-view-versus-a-copy\n",
      "  \n",
      "C:\\Users\\smartestpersonalive\\Anaconda3\\lib\\site-packages\\ipykernel_launcher.py:7: SettingWithCopyWarning: \n",
      "A value is trying to be set on a copy of a slice from a DataFrame\n",
      "\n",
      "See the caveats in the documentation: https://pandas.pydata.org/pandas-docs/stable/user_guide/indexing.html#returning-a-view-versus-a-copy\n",
      "  import sys\n",
      "C:\\Users\\smartestpersonalive\\Anaconda3\\lib\\site-packages\\ipykernel_launcher.py:8: SettingWithCopyWarning: \n",
      "A value is trying to be set on a copy of a slice from a DataFrame\n",
      "\n",
      "See the caveats in the documentation: https://pandas.pydata.org/pandas-docs/stable/user_guide/indexing.html#returning-a-view-versus-a-copy\n",
      "  \n",
      "C:\\Users\\smartestpersonalive\\Anaconda3\\lib\\site-packages\\ipykernel_launcher.py:9: SettingWithCopyWarning: \n",
      "A value is trying to be set on a copy of a slice from a DataFrame\n",
      "\n",
      "See the caveats in the documentation: https://pandas.pydata.org/pandas-docs/stable/user_guide/indexing.html#returning-a-view-versus-a-copy\n",
      "  if __name__ == '__main__':\n",
      "C:\\Users\\smartestpersonalive\\Anaconda3\\lib\\site-packages\\ipykernel_launcher.py:10: SettingWithCopyWarning: \n",
      "A value is trying to be set on a copy of a slice from a DataFrame\n",
      "\n",
      "See the caveats in the documentation: https://pandas.pydata.org/pandas-docs/stable/user_guide/indexing.html#returning-a-view-versus-a-copy\n",
      "  # Remove the CWD from sys.path while we load stuff.\n"
     ]
    }
   ],
   "source": [
    "# change address formatting\n",
    "sql_merged['address'][96] = \"621 Sheppard Ave E, Toronto\"\n",
    "sql_merged['address'][103] = \"23 Sheppard Ave E , Toronto\"\n",
    "sql_merged['address'][109] = \"5180 Yonge St, Toronto\"\n",
    "sql_merged['address'][232] = \"942 Yonge St, Toronto\"\n",
    "sql_merged['address'][341] = \"464 Adelaide St E, Toronto\"\n",
    "sql_merged['address'][511] = \"155 Yorkville Ave, Toronto\"\n",
    "sql_merged['address'][567] = \"101 Peter St, Toronto\"\n",
    "sql_merged['address'][615] = \"88 Blue Jays Way, Toronto\"\n",
    "sql_merged['address'][679] = \"35 Mariner Terrace, Toronto\"\n",
    "sql_merged['address'][757] = \"150 Sudbury St, Toronto\""
   ]
  },
  {
   "cell_type": "code",
   "execution_count": 824,
   "metadata": {},
   "outputs": [
    {
     "data": {
      "text/plain": [
       "postal_code                       M3C\n",
       "latitude                      43.7259\n",
       "longitude                    -79.3409\n",
       "rent                             1900\n",
       "address          2 Sonic Way, Toronto\n",
       "num_bedrooms                        1\n",
       "num_bathrooms                       2\n",
       "num_sqft                          650\n",
       "Name: 131, dtype: object"
      ]
     },
     "execution_count": 824,
     "metadata": {},
     "output_type": "execute_result"
    }
   ],
   "source": [
    "sql_merged.iloc[131]"
   ]
  },
  {
   "cell_type": "code",
   "execution_count": 821,
   "metadata": {},
   "outputs": [],
   "source": [
    "geocode_latitude_list2 = []\n",
    "geocode_longitude_list2 = []"
   ]
  },
  {
   "cell_type": "code",
   "execution_count": 869,
   "metadata": {},
   "outputs": [
    {
     "data": {
      "text/plain": [
       "860"
      ]
     },
     "execution_count": 869,
     "metadata": {},
     "output_type": "execute_result"
    }
   ],
   "source": [
    "len(geocode_latitude_list2)"
   ]
  },
  {
   "cell_type": "code",
   "execution_count": 868,
   "metadata": {},
   "outputs": [
    {
     "name": "stdout",
     "output_type": "stream",
     "text": [
      "Current Progress: 100.0%\n"
     ]
    }
   ],
   "source": [
    "# sql_merged.shape[0]\n",
    "for merge in range(len(geocode_latitude_list2), sql_merged.shape[0]):\n",
    "    clear_output(wait=True)\n",
    "    try:\n",
    "        geocode = RateLimiter(locator.geocode,min_delay_seconds=0.5)\n",
    "        somewhereInToronto = locator.geocode(sql_merged['address'][merge])\n",
    "        if somewhereInToronto != None:            \n",
    "            geocode_latitude_list2.append(somewhereInToronto.latitude)\n",
    "            geocode_longitude_list2.append(somewhereInToronto.longitude)\n",
    "        elif somewhereInToronto == None:\n",
    "            geocode_latitude_list2.append(np.nan)\n",
    "            geocode_longitude_list2.append(np.nan)\n",
    "\n",
    "        print(f\"Current Progress: {np.round((merge+1)/sql_merged.shape[0] * 100,2)}%\")\n",
    "    \n",
    "    except \"GeocoderTimedOut\":\n",
    "        print(\"another time out\")\n",
    "\n",
    "    \n"
   ]
  },
  {
   "cell_type": "code",
   "execution_count": 872,
   "metadata": {},
   "outputs": [],
   "source": [
    "sql_merged['geocode_lat'] = geocode_latitude_list2\n",
    "sql_merged['geocide_lng'] = geocode_longitude_list2"
   ]
  },
  {
   "cell_type": "code",
   "execution_count": 880,
   "metadata": {},
   "outputs": [],
   "source": [
    "one_bedroom_geocoded = sql_merged.loc[:, sql_merged.columns[[0] + list(range(3,sql_merged.shape[1]))]]"
   ]
  },
  {
   "cell_type": "code",
   "execution_count": 881,
   "metadata": {},
   "outputs": [
    {
     "data": {
      "text/plain": [
       "Index(['postal_code', 'rent', 'address', 'num_bedrooms', 'num_bathrooms',\n",
       "       'num_sqft', 'geocode_lat', 'geocide_lng'],\n",
       "      dtype='object')"
      ]
     },
     "execution_count": 881,
     "metadata": {},
     "output_type": "execute_result"
    }
   ],
   "source": [
    "# reorder the columns\n",
    "[\"postal_code\", \"geocode_lat\",\"geocide_lng\", \"address\", \"num_sqft\", \"num_bedrooms\", \"num_bathrooms\", \"rent\"]"
   ]
  },
  {
   "cell_type": "code",
   "execution_count": 905,
   "metadata": {},
   "outputs": [
    {
     "data": {
      "text/html": [
       "<div>\n",
       "<style scoped>\n",
       "    .dataframe tbody tr th:only-of-type {\n",
       "        vertical-align: middle;\n",
       "    }\n",
       "\n",
       "    .dataframe tbody tr th {\n",
       "        vertical-align: top;\n",
       "    }\n",
       "\n",
       "    .dataframe thead th {\n",
       "        text-align: right;\n",
       "    }\n",
       "</style>\n",
       "<table border=\"1\" class=\"dataframe\">\n",
       "  <thead>\n",
       "    <tr style=\"text-align: right;\">\n",
       "      <th></th>\n",
       "      <th>postal_code</th>\n",
       "      <th>geocode_lat</th>\n",
       "      <th>num_sqft</th>\n",
       "      <th>rent</th>\n",
       "      <th>geocide_lng</th>\n",
       "      <th>num_bedrooms</th>\n",
       "      <th>num_bathrooms</th>\n",
       "      <th>address</th>\n",
       "    </tr>\n",
       "  </thead>\n",
       "  <tbody>\n",
       "    <tr>\n",
       "      <th>0</th>\n",
       "      <td>M1H</td>\n",
       "      <td>43.781624</td>\n",
       "      <td>750.0</td>\n",
       "      <td>1925.0</td>\n",
       "      <td>-79.247376</td>\n",
       "      <td>1.0</td>\n",
       "      <td>1.0</td>\n",
       "      <td>36 Lee Centre Drive, Toronto</td>\n",
       "    </tr>\n",
       "    <tr>\n",
       "      <th>1</th>\n",
       "      <td>M1H</td>\n",
       "      <td>43.781660</td>\n",
       "      <td>650.0</td>\n",
       "      <td>1950.0</td>\n",
       "      <td>-79.247547</td>\n",
       "      <td>1.0</td>\n",
       "      <td>1.0</td>\n",
       "      <td>38 Lee Centre Drive, Toronto</td>\n",
       "    </tr>\n",
       "  </tbody>\n",
       "</table>\n",
       "</div>"
      ],
      "text/plain": [
       "  postal_code  geocode_lat  num_sqft    rent  geocide_lng  num_bedrooms  \\\n",
       "0         M1H    43.781624     750.0  1925.0   -79.247376           1.0   \n",
       "1         M1H    43.781660     650.0  1950.0   -79.247547           1.0   \n",
       "\n",
       "   num_bathrooms                       address  \n",
       "0            1.0  36 Lee Centre Drive, Toronto  \n",
       "1            1.0  38 Lee Centre Drive, Toronto  "
      ]
     },
     "execution_count": 905,
     "metadata": {},
     "output_type": "execute_result"
    }
   ],
   "source": [
    "one_bedroom_geocoded = one_bedroom_geocoded.loc[:, one_bedroom_geocoded.columns[[0,2,-2,-1] + list(range(3,6)) + [1]]]\n",
    "one_bedroom_geocoded.head(2)"
   ]
  },
  {
   "cell_type": "markdown",
   "metadata": {},
   "source": [
    "### Segment with the Foursquare API"
   ]
  },
  {
   "cell_type": "code",
   "execution_count": null,
   "metadata": {},
   "outputs": [],
   "source": [
    "# import foursquare client_id and secret\n",
    "from config import client_id, client_secret"
   ]
  },
  {
   "cell_type": "code",
   "execution_count": 589,
   "metadata": {},
   "outputs": [],
   "source": [
    "from sklearn.cluster import KMeans\n",
    "from sklearn import metrics\n",
    "from sklearn.preprocessing import StandardScaler\n"
   ]
  },
  {
   "cell_type": "code",
   "execution_count": null,
   "metadata": {},
   "outputs": [],
   "source": [
    "# double check if the values are correct:\n",
    "client_secret\n",
    "client_id\n",
    "version = \"20200101\""
   ]
  },
  {
   "cell_type": "markdown",
   "metadata": {},
   "source": [
    "Categories of interest:\n",
    "\n",
    "Bolded bullets are the ones used\n",
    "\n",
    "* <b>metro_station</b>: 4bf58dd8d48988d1fd931735\n",
    "* <b>train_station</b>: 4bf58dd8d48988d129951735\n",
    "* <b>bus_station</b>: 4bf58dd8d48988d1fe931735\n",
    "* <b>bus_stop</b>:  52f2ab2ebcbc57f1066b8b4f\n",
    "* <b>shopping_mall</b>: 4bf58dd8d48988d1fd941735\n",
    "* <b>shopping_plaza</b>: 5744ccdfe4b0c0459246b4dc\n",
    "* outlet_mall: 5744ccdfe4b0c0459246b4df\n",
    "* <b>grocery_store</b>: 4bf58dd8d48988d118951735\n",
    "\n",
    "Category list: [foursquare categories](https://developer.foursquare.com/docs/build-with-foursquare/categories/)\n",
    "\n",
    "API Reference: [foursquare API reference](https://developer.foursquare.com/docs/api-reference/venues/search/)"
   ]
  },
  {
   "cell_type": "code",
   "execution_count": 248,
   "metadata": {},
   "outputs": [],
   "source": [
    "# put all categories of interest in a dataframe\n",
    "categories_df = pd.DataFrame({\"categories\":[\"metro_station\", \"train_station\", \"bus_station\", \"bus_stop\", \"shopping_mall\", \"shopping_plaza\", \"grocery_store\"],\n",
    "                \"categoryids\":['4bf58dd8d48988d1fd931735', \"4bf58dd8d48988d129951735\",\"4bf58dd8d48988d1fe931735\",\n",
    "                \"52f2ab2ebcbc57f1066b8b4f\",\"4bf58dd8d48988d1fd941735\",\"5744ccdfe4b0c0459246b4dc\",\n",
    "                \"4bf58dd8d48988d118951735\"]})"
   ]
  },
  {
   "cell_type": "code",
   "execution_count": null,
   "metadata": {},
   "outputs": [],
   "source": []
  },
  {
   "cell_type": "code",
   "execution_count": null,
   "metadata": {},
   "outputs": [],
   "source": []
  },
  {
   "cell_type": "code",
   "execution_count": 915,
   "metadata": {},
   "outputs": [
    {
     "data": {
      "text/html": [
       "<div>\n",
       "<style scoped>\n",
       "    .dataframe tbody tr th:only-of-type {\n",
       "        vertical-align: middle;\n",
       "    }\n",
       "\n",
       "    .dataframe tbody tr th {\n",
       "        vertical-align: top;\n",
       "    }\n",
       "\n",
       "    .dataframe thead th {\n",
       "        text-align: right;\n",
       "    }\n",
       "</style>\n",
       "<table border=\"1\" class=\"dataframe\">\n",
       "  <thead>\n",
       "    <tr style=\"text-align: right;\">\n",
       "      <th></th>\n",
       "      <th>geocode_lat</th>\n",
       "      <th>num_sqft</th>\n",
       "      <th>rent</th>\n",
       "      <th>geocide_lng</th>\n",
       "      <th>num_bedrooms</th>\n",
       "      <th>num_bathrooms</th>\n",
       "    </tr>\n",
       "  </thead>\n",
       "  <tbody>\n",
       "    <tr>\n",
       "      <th>count</th>\n",
       "      <td>836.000000</td>\n",
       "      <td>860.000000</td>\n",
       "      <td>860.000000</td>\n",
       "      <td>836.000000</td>\n",
       "      <td>860.0</td>\n",
       "      <td>860.000000</td>\n",
       "    </tr>\n",
       "    <tr>\n",
       "      <th>mean</th>\n",
       "      <td>43.674619</td>\n",
       "      <td>607.995349</td>\n",
       "      <td>2120.196512</td>\n",
       "      <td>-79.385789</td>\n",
       "      <td>1.0</td>\n",
       "      <td>1.078488</td>\n",
       "    </tr>\n",
       "    <tr>\n",
       "      <th>std</th>\n",
       "      <td>0.048027</td>\n",
       "      <td>116.763704</td>\n",
       "      <td>361.276752</td>\n",
       "      <td>0.053092</td>\n",
       "      <td>0.0</td>\n",
       "      <td>0.294403</td>\n",
       "    </tr>\n",
       "    <tr>\n",
       "      <th>min</th>\n",
       "      <td>43.597928</td>\n",
       "      <td>65.000000</td>\n",
       "      <td>1000.000000</td>\n",
       "      <td>-79.563108</td>\n",
       "      <td>1.0</td>\n",
       "      <td>0.000000</td>\n",
       "    </tr>\n",
       "    <tr>\n",
       "      <th>25%</th>\n",
       "      <td>43.641898</td>\n",
       "      <td>535.000000</td>\n",
       "      <td>1900.000000</td>\n",
       "      <td>-79.401150</td>\n",
       "      <td>1.0</td>\n",
       "      <td>1.000000</td>\n",
       "    </tr>\n",
       "    <tr>\n",
       "      <th>50%</th>\n",
       "      <td>43.652421</td>\n",
       "      <td>600.000000</td>\n",
       "      <td>2100.000000</td>\n",
       "      <td>-79.389737</td>\n",
       "      <td>1.0</td>\n",
       "      <td>1.000000</td>\n",
       "    </tr>\n",
       "    <tr>\n",
       "      <th>75%</th>\n",
       "      <td>43.701295</td>\n",
       "      <td>650.000000</td>\n",
       "      <td>2276.250000</td>\n",
       "      <td>-79.375726</td>\n",
       "      <td>1.0</td>\n",
       "      <td>1.000000</td>\n",
       "    </tr>\n",
       "    <tr>\n",
       "      <th>max</th>\n",
       "      <td>43.826271</td>\n",
       "      <td>2100.000000</td>\n",
       "      <td>8495.000000</td>\n",
       "      <td>-79.199573</td>\n",
       "      <td>1.0</td>\n",
       "      <td>3.000000</td>\n",
       "    </tr>\n",
       "  </tbody>\n",
       "</table>\n",
       "</div>"
      ],
      "text/plain": [
       "       geocode_lat     num_sqft         rent  geocide_lng  num_bedrooms  \\\n",
       "count   836.000000   860.000000   860.000000   836.000000         860.0   \n",
       "mean     43.674619   607.995349  2120.196512   -79.385789           1.0   \n",
       "std       0.048027   116.763704   361.276752     0.053092           0.0   \n",
       "min      43.597928    65.000000  1000.000000   -79.563108           1.0   \n",
       "25%      43.641898   535.000000  1900.000000   -79.401150           1.0   \n",
       "50%      43.652421   600.000000  2100.000000   -79.389737           1.0   \n",
       "75%      43.701295   650.000000  2276.250000   -79.375726           1.0   \n",
       "max      43.826271  2100.000000  8495.000000   -79.199573           1.0   \n",
       "\n",
       "       num_bathrooms  \n",
       "count     860.000000  \n",
       "mean        1.078488  \n",
       "std         0.294403  \n",
       "min         0.000000  \n",
       "25%         1.000000  \n",
       "50%         1.000000  \n",
       "75%         1.000000  \n",
       "max         3.000000  "
      ]
     },
     "execution_count": 915,
     "metadata": {},
     "output_type": "execute_result"
    }
   ],
   "source": [
    "one_bedroom_geocoded.describe()"
   ]
  },
  {
   "cell_type": "code",
   "execution_count": 914,
   "metadata": {},
   "outputs": [
    {
     "data": {
      "text/plain": [
       "postal_code       0\n",
       "geocode_lat      24\n",
       "num_sqft          0\n",
       "rent              0\n",
       "geocide_lng      24\n",
       "num_bedrooms      0\n",
       "num_bathrooms     0\n",
       "address           0\n",
       "dtype: int64"
      ]
     },
     "execution_count": 914,
     "metadata": {},
     "output_type": "execute_result"
    }
   ],
   "source": [
    "one_bedroom_geocoded.isnull().sum()"
   ]
  },
  {
   "cell_type": "code",
   "execution_count": 918,
   "metadata": {},
   "outputs": [],
   "source": [
    "# delete datapoints that don't have location data\n",
    "one_bedroom_geocoded = one_bedroom_geocoded.dropna()"
   ]
  },
  {
   "cell_type": "code",
   "execution_count": 936,
   "metadata": {},
   "outputs": [],
   "source": [
    "one_bedroom_geocoded = one_bedroom_geocoded.reset_index(drop=True)"
   ]
  },
  {
   "cell_type": "code",
   "execution_count": 920,
   "metadata": {},
   "outputs": [
    {
     "data": {
      "text/plain": [
       "postal_code      0\n",
       "geocode_lat      0\n",
       "num_sqft         0\n",
       "rent             0\n",
       "geocide_lng      0\n",
       "num_bedrooms     0\n",
       "num_bathrooms    0\n",
       "address          0\n",
       "dtype: int64"
      ]
     },
     "execution_count": 920,
     "metadata": {},
     "output_type": "execute_result"
    }
   ],
   "source": [
    "one_bedroom_geocoded.isnull().sum()"
   ]
  },
  {
   "cell_type": "code",
   "execution_count": 945,
   "metadata": {},
   "outputs": [],
   "source": [
    "# add a price/sqft feature\n",
    "one_bedroom_geocoded['price_per_sqft'] = one_bedroom_geocoded['rent'] / one_bedroom_geocoded['num_sqft']"
   ]
  },
  {
   "cell_type": "code",
   "execution_count": 946,
   "metadata": {},
   "outputs": [
    {
     "data": {
      "text/html": [
       "<div>\n",
       "<style scoped>\n",
       "    .dataframe tbody tr th:only-of-type {\n",
       "        vertical-align: middle;\n",
       "    }\n",
       "\n",
       "    .dataframe tbody tr th {\n",
       "        vertical-align: top;\n",
       "    }\n",
       "\n",
       "    .dataframe thead th {\n",
       "        text-align: right;\n",
       "    }\n",
       "</style>\n",
       "<table border=\"1\" class=\"dataframe\">\n",
       "  <thead>\n",
       "    <tr style=\"text-align: right;\">\n",
       "      <th></th>\n",
       "      <th>postal_code</th>\n",
       "      <th>geocode_lat</th>\n",
       "      <th>num_sqft</th>\n",
       "      <th>rent</th>\n",
       "      <th>geocide_lng</th>\n",
       "      <th>num_bedrooms</th>\n",
       "      <th>num_bathrooms</th>\n",
       "      <th>address</th>\n",
       "      <th>price_per_sqft</th>\n",
       "    </tr>\n",
       "  </thead>\n",
       "  <tbody>\n",
       "    <tr>\n",
       "      <th>0</th>\n",
       "      <td>M1H</td>\n",
       "      <td>43.781624</td>\n",
       "      <td>750.0</td>\n",
       "      <td>1925.0</td>\n",
       "      <td>-79.247376</td>\n",
       "      <td>1.0</td>\n",
       "      <td>1.0</td>\n",
       "      <td>36 Lee Centre Drive, Toronto</td>\n",
       "      <td>2.566667</td>\n",
       "    </tr>\n",
       "    <tr>\n",
       "      <th>1</th>\n",
       "      <td>M1H</td>\n",
       "      <td>43.781660</td>\n",
       "      <td>650.0</td>\n",
       "      <td>1950.0</td>\n",
       "      <td>-79.247547</td>\n",
       "      <td>1.0</td>\n",
       "      <td>1.0</td>\n",
       "      <td>38 Lee Centre Drive, Toronto</td>\n",
       "      <td>3.000000</td>\n",
       "    </tr>\n",
       "    <tr>\n",
       "      <th>2</th>\n",
       "      <td>M1H</td>\n",
       "      <td>43.781661</td>\n",
       "      <td>650.0</td>\n",
       "      <td>1950.0</td>\n",
       "      <td>-79.245271</td>\n",
       "      <td>1.0</td>\n",
       "      <td>1.0</td>\n",
       "      <td>11 Lee Centre Drive, Toronto</td>\n",
       "      <td>3.000000</td>\n",
       "    </tr>\n",
       "    <tr>\n",
       "      <th>3</th>\n",
       "      <td>M1H</td>\n",
       "      <td>43.780832</td>\n",
       "      <td>650.0</td>\n",
       "      <td>1850.0</td>\n",
       "      <td>-79.247346</td>\n",
       "      <td>1.0</td>\n",
       "      <td>1.0</td>\n",
       "      <td>8 Lee Centre Drive, Toronto</td>\n",
       "      <td>2.846154</td>\n",
       "    </tr>\n",
       "    <tr>\n",
       "      <th>4</th>\n",
       "      <td>M1H</td>\n",
       "      <td>43.773869</td>\n",
       "      <td>650.0</td>\n",
       "      <td>2000.0</td>\n",
       "      <td>-79.249988</td>\n",
       "      <td>1.0</td>\n",
       "      <td>1.0</td>\n",
       "      <td>88 Grangeway Avenue, Toronto</td>\n",
       "      <td>3.076923</td>\n",
       "    </tr>\n",
       "  </tbody>\n",
       "</table>\n",
       "</div>"
      ],
      "text/plain": [
       "  postal_code  geocode_lat  num_sqft    rent  geocide_lng  num_bedrooms  \\\n",
       "0         M1H    43.781624     750.0  1925.0   -79.247376           1.0   \n",
       "1         M1H    43.781660     650.0  1950.0   -79.247547           1.0   \n",
       "2         M1H    43.781661     650.0  1950.0   -79.245271           1.0   \n",
       "3         M1H    43.780832     650.0  1850.0   -79.247346           1.0   \n",
       "4         M1H    43.773869     650.0  2000.0   -79.249988           1.0   \n",
       "\n",
       "   num_bathrooms                       address  price_per_sqft  \n",
       "0            1.0  36 Lee Centre Drive, Toronto        2.566667  \n",
       "1            1.0  38 Lee Centre Drive, Toronto        3.000000  \n",
       "2            1.0  11 Lee Centre Drive, Toronto        3.000000  \n",
       "3            1.0   8 Lee Centre Drive, Toronto        2.846154  \n",
       "4            1.0  88 Grangeway Avenue, Toronto        3.076923  "
      ]
     },
     "execution_count": 946,
     "metadata": {},
     "output_type": "execute_result"
    }
   ],
   "source": [
    "one_bedroom_geocoded.head()"
   ]
  },
  {
   "cell_type": "markdown",
   "metadata": {},
   "source": [
    "Determine outliers for the pirce/sqft\n",
    "\n",
    "* z-score\n",
    "\n",
    "* IQR"
   ]
  },
  {
   "cell_type": "code",
   "execution_count": 937,
   "metadata": {},
   "outputs": [
    {
     "data": {
      "text/plain": [
       "<matplotlib.axes._subplots.AxesSubplot at 0x12afce95148>"
      ]
     },
     "execution_count": 937,
     "metadata": {},
     "output_type": "execute_result"
    },
    {
     "data": {
      "image/png": "iVBORw0KGgoAAAANSUhEUgAAAWAAAAEGCAYAAABbzE8LAAAABHNCSVQICAgIfAhkiAAAAAlwSFlzAAALEgAACxIB0t1+/AAAADh0RVh0U29mdHdhcmUAbWF0cGxvdGxpYiB2ZXJzaW9uMy4yLjIsIGh0dHA6Ly9tYXRwbG90bGliLm9yZy+WH4yJAAAOKUlEQVR4nO3dbWxd9X3A8e/PvtAGwmOgEU2qpJUr2AMThYjBOlWRG7oAo5PYXoBABG2jQZpCGl5shWoD3jBtmsIge+Bh6wZbFtQytgHKUmCBN9M2ZtOkpCOs7kpa0gKpURsCqBD834t7HG5sJ46v7/Xv2P5+JMvX555z7++e+H59fGzfRCkFSdLM68keQJLmKwMsSUkMsCQlMcCSlMQAS1KSxlRWPuOMM8ry5cu7NIokzU2Dg4M/KqWcOXb5lAK8fPlyBgYGOjeVJM0DEbFnouWegpCkJAZYkpIYYElKYoAlKYkBlqQkBliSkhhgSUpigCUpiQGWpCQGWJKSGGBJSmKAJSmJAZakJAZYkpIYYElKYoAlKYkBlqQkBliSkhhgSUoypf8Tbq7ZtGkTQ0NDE163d+9eAJYsWTLh9X19faxbt65rs0ma++Z1gIeGhtix60XeP+H0cdf1vv0TAF796fhd1Pv2G12fTdLcN68DDPD+CafzzjmXjVu+YPdWgKNeJ0nT4TlgSUpigCUpiQGWpCQGWJKSGGBJSmKAJSmJAZakJAZYkpIYYElKYoAlKYkBlqQkBliSkhhgSUpigCUpiQGWpCQGWJKSGGBJSmKAJSmJAZakJAZYkpIYYElKYoAlKYkBlqQkBliSkhhgSUpigCUpiQGWpCQGWJKSGGBJSmKAJSmJAZakJAZYkpIYYElKYoAlKYkBlqQkBliSkhhgSUpigCUpiQGWpCQGWJKSGGBJSjLrArxp0yY2bdqUPUZHzcXHJGlyjewBpmpoaCh7hI6bi49J0uRm3RGwJM0VBliSkhhgSUpigCUpiQGWpCQGWJKSGGBJSmKAJSmJAZakJAZYkpIYYElKYoAlKYkBlqQkBliSkhhgSUpigCUpiQGWpCQGWJKSGGBJSmKAJSmJAZakJAZYkpIYYElKYoAlKYkBlqQkBliSkhhgSUpigCUpiQGWpCQGWJKSGGBJSmKAJSmJAZakJAZYkpIYYElKYoAlKYkBlqQkBliSksxIgIeHh7npppsYHh4GYPPmzaxcuZKHH364re3nov3799Pf38/g4CAAAwMD9Pf3s2XLFvr7+7nnnntYuXIljz/++ITbb9++nZUrV/LYY491bF/Nh/0uTaabz4MZCfCDDz7ICy+8wEMPPQTAAw88AMC9997b1vZz0Z49exgZGeG2224D4Pbbb2dkZIT77ruPkZERHn30UQA2btw44fZ33nknAHfddVfH9tV82O/SZLr5POh6gIeHh9m2bRulFLZt23YovqMmOwoeu/17773XzXFT7N+/n5GREQAOHDjAli1bOHDgwITrllLGHQVv376dgwcPHrp+dF9N5yv22P3uUbDmo24/D6KUcswrr1ixogwMDEzpDjZu3MjWrVs5ePAgjUbjUChaPfvss8e8fW9vL41Gg76+vinNMZGhoSHefLfw1nlXjbtuwe6tALxzzmXjrjtxx8OcdHx0ZAaAnTt3Tmn9iOCZZ5459PGqVavG7ddGo8Hll1/Ohg0b2ppp7H6fzm1Js1WnngcRMVhKWTF2+aRHwBHxhYgYiIiBffv2TfmOn3766UNxmCi+U93+3XffnfJtzDVjv2hOtF8PHjzIU0891fZ9jN3v07ktabbq9vOgMdkKpZT7gfuheQQ81TtYtWrVpEfAU9n+lFNOYenSpdx9991THWWc9evXM/h/r015u5EPn0zfJxZ3ZAaA/v7+Q6cgjkVEHPbxRPu10WhwySWXtD3T2P0+nduSZqtuPw+6fg54zZo19PQ076a3t5drrrnmsOtvvPHGKW2/ePHi7gyaaNmyZYd9vHbt2qOuf/PNNx/28a233jpund7eXq677rq2Zxq736dzW9Js1e3nQdcDvGjRIlavXk1EsHr1am644YbDrr/qqvHnX4+2/XHHHdfNcVOcfPLJh/6RFy5cyNVXX83ChQsnXDciuOKKKw5b1t/fT6PROHT96L5atGhR2zON3e/TuS1ptur282BGfg1tzZo1nHvuuYe+eoxGeLKj3yNtPxctW7aMnp4e7rjjDqD5a2g9PT2sXbuWnp4errzySmD80e+o0aPgDRs2dGxfzYf9Lk2mm8+Drv8WRKetX78eoKPngCf6TYej/RbEgt1buaCD54A7+Zgk1U/bvwUhSeoOAyxJSQywJCUxwJKUxABLUhIDLElJDLAkJTHAkpTEAEtSEgMsSUkMsCQlMcCSlMQAS1ISAyxJSQywJCUxwJKUxABLUhIDLElJDLAkJTHAkpTEAEtSEgMsSUkMsCQlMcCSlMQAS1ISAyxJSQywJCUxwJKUxABLUhIDLElJDLAkJTHAkpTEAEtSEgMsSUkMsCQlMcCSlMQAS1ISAyxJSRrZA0xVX19f9ggdNxcfk6TJzboAr1u3LnuEjpuLj0nS5DwFIUlJDLAkJTHAkpTEAEtSEgMsSUkMsCQlMcCSlMQAS1ISAyxJSQywJCUxwJKUxABLUhIDLElJDLAkJTHAkpTEAEtSEgMsSUkMsCQlMcCSlMQAS1ISAyxJSQywJCUxwJKUxABLUhIDLElJDLAkJTHAkpTEAEtSEgMsSUkMsCQlMcCSlMQAS1ISAyxJSQywJCUxwJKUxABLUhIDLElJDLAkJTHAkpTEAEtSkkb2ANl6336DBbu3TrB8GOAI170BLO72aJLmuHkd4L6+viNet3fvQQCWLJkotIuPuq0kHYt5HeB169ZljyBpHvMcsCQlMcCSlMQAS1ISAyxJSQywJCUxwJKUxABLUhIDLElJDLAkJTHAkpTEAEtSEgMsSUkMsCQlMcCSlMQAS1ISAyxJSQywJCUxwJKUxABLUhIDLElJopRy7CtH7AP2tHlfZwA/anPbmVL3Ges+H9R/xrrPB87YCXWbb1kp5cyxC6cU4OmIiIFSyooZubM21X3Gus8H9Z+x7vOBM3ZC3ecb5SkISUpigCUpyUwG+P4ZvK921X3Gus8H9Z+x7vOBM3ZC3ecDZvAcsCTpcJ6CkKQkBliSkrQd4Ij4SkS8HhG7WpadHhFPRcS3q/entVx3S0QMRcRLEfErLcsviIgXquvuiYho/+GMm/FjEfFMRLwYEd+KiPV1mjMiPhwRz0XEzmq+O+o0X8tt90bENyLiiZrO93J12zsiYqCmM54aEY9ExO7q8/HiOs0YEWdX+2/0bX9EfLFmM26onie7ImJL9fypzXxtKaW09QZ8Bjgf2NWy7I+BL1WXvwT8UXX5Z4GdwIeAjwPfAXqr654DLgYC+Ffg0nZnmmDGs4Dzq8snAf9bzVKLOavbWlhdPg74L+CiuszXMufNwD8AT9T03/ll4Iwxy+o244PAb1eXjwdOrduMLbP2Aq8Cy+oyI7AE+C6woPr4q8D1dZmv7cc1zZ2ynMMD/BJwVnX5LOCl6vItwC0t63292gFnAbtbll8N3Ne1Bwv/AlxSxzmBE4DngV+s03zAUuDfgH4+CHBt5qtu72XGB7g2MwIn04xH1HXGMXN9Dvj3Os1IM8DfB04HGsAT1Zy1mK/dt06fA15cSvkhQPX+I9Xy0Z036pVq2ZLq8tjlHRcRy4FP0TzKrM2c1bf3O4DXgadKKbWaD/hT4HeBkZZldZoPoABPRsRgRHyhhjN+AtgH/E11KuevIuLEms3Y6ipgS3W5FjOWUvYCfwJ8D/gh8JNSypN1ma9dM/VDuInOsZSjLO/snUcsBP4R+GIpZf/RVj3CPF2bs5TyfinlPJpHmhdGxM/XZb6I+FXg9VLK4LFucoQ5uv3v/OlSyvnApcDvRMRnjrJuxowNmqfr/rKU8ingLZrfLh9J2vMlIo4HPg98bbJVjzBLtz4XTwN+jebphI8CJ0bEtXWZr12dDvBrEXEWQPX+9Wr5K8DHWtZbCvygWr50guUdExHH0Yzv5lLKo3Wds5TyY+BZYHWN5vs08PmIeBl4GOiPiL+v0XwAlFJ+UL1/Hfgn4MKazfgK8Er13Q3AIzSDXKcZR10KPF9Kea36uC4zrgK+W0rZV0p5D3gU+KUazdeWTgf4MWBNdXkNzXOuo8uviogPRcTHgU8Cz1XfMrwZERdVP4m8rmWbaatu86+BF0spG+s2Z0ScGRGnVpcX0Pwk212X+Uopt5RSlpZSltP8tnR7KeXauswHEBEnRsRJo5dpnhfcVacZSymvAt+PiLOrRZ8F/qdOM7a4mg9OP4zOUocZvwdcFBEnVLf7WeDFGs3XnmmcFN9C81zMezS/qvwWsIjmD2y+Xb0/vWX9L9P8SeRLtPzUEVhB8wnzHeDPGPODimmeuP9lmt9efBPYUb1dVpc5gV8AvlHNtwv4g2p5LeYbM+tKPvghXG3mo3l+dWf19i3gy3Wbsbrt84CB6t/6n4HTajjjCcAwcErLstrMCNxB8wBlF/B3NH/DoTbztfPmnyJLUhL/Ek6SkhhgSUpigCUpiQGWpCQGWJKSGGDNeRFxfUR8NHsOaSwDrFklmqb6eXs9zT9flWrFAKv2ImJ5NF9D9y9ovmLc70fEf0fEN+OD11AeXeeB6jVjn4yIBRHxGzR/8X5zNF/ndkHmY5FaGWDNFmcDDwG/R/PVqy6k+ddlF7S8+M4ngT8vpfwc8GPg10spj9D8C7RrSinnlVLemfnRpYkZYM0We0op/0nztR4+R/NPuJ8HzqEZXmi+WMuO6vIgzderlmqrkT2AdIzeqt4H8IellPtar6xe7/mnLYveBzzdoFrzCFizzdeB36xe45mIWBIRH5lkmzdp/pdUUq14BKxZpZTyZET8DPAf1f+leAC4luYR75H8LXBvRLwDXOx5YNWFr4YmSUk8BSFJSQywJCUxwJKUxABLUhIDLElJDLAkJTHAkpTk/wGyvZspKN2AgQAAAABJRU5ErkJggg==\n",
      "text/plain": [
       "<Figure size 432x288 with 1 Axes>"
      ]
     },
     "metadata": {
      "needs_background": "light"
     },
     "output_type": "display_data"
    }
   ],
   "source": [
    "# Determine Outliers\n",
    "sns.boxplot(x=one_bedroom_geocoded['rent'])"
   ]
  },
  {
   "cell_type": "code",
   "execution_count": 1454,
   "metadata": {},
   "outputs": [
    {
     "data": {
      "image/png": "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\n",
      "text/plain": [
       "<Figure size 432x288 with 1 Axes>"
      ]
     },
     "metadata": {
      "needs_background": "light"
     },
     "output_type": "display_data"
    }
   ],
   "source": [
    "sns.boxplot(x=one_bedroom_geocoded['price_per_sqft'])\n",
    "plt.savefig(\"boxplot.jpg\")"
   ]
  },
  {
   "cell_type": "code",
   "execution_count": 964,
   "metadata": {},
   "outputs": [],
   "source": [
    "z = np.abs(stats.zscore(one_bedroom_geocoded['price_per_sqft']))"
   ]
  },
  {
   "cell_type": "code",
   "execution_count": 991,
   "metadata": {},
   "outputs": [
    {
     "name": "stdout",
     "output_type": "stream",
     "text": [
      "(array([77], dtype=int64),)\n"
     ]
    }
   ],
   "source": [
    "threshold = 3\n",
    "print(np.where(z>=3))\n"
   ]
  },
  {
   "cell_type": "code",
   "execution_count": 993,
   "metadata": {},
   "outputs": [],
   "source": [
    "def zscorefunc(num):\n",
    "    if num >=3:\n",
    "        return num"
   ]
  },
  {
   "cell_type": "code",
   "execution_count": 999,
   "metadata": {},
   "outputs": [
    {
     "data": {
      "text/html": [
       "<div>\n",
       "<style scoped>\n",
       "    .dataframe tbody tr th:only-of-type {\n",
       "        vertical-align: middle;\n",
       "    }\n",
       "\n",
       "    .dataframe tbody tr th {\n",
       "        vertical-align: top;\n",
       "    }\n",
       "\n",
       "    .dataframe thead th {\n",
       "        text-align: right;\n",
       "    }\n",
       "</style>\n",
       "<table border=\"1\" class=\"dataframe\">\n",
       "  <thead>\n",
       "    <tr style=\"text-align: right;\">\n",
       "      <th></th>\n",
       "      <th>postal_code</th>\n",
       "      <th>geocode_lat</th>\n",
       "      <th>num_sqft</th>\n",
       "      <th>rent</th>\n",
       "      <th>geocide_lng</th>\n",
       "      <th>num_bedrooms</th>\n",
       "      <th>num_bathrooms</th>\n",
       "      <th>address</th>\n",
       "      <th>price_per_sqft</th>\n",
       "    </tr>\n",
       "  </thead>\n",
       "  <tbody>\n",
       "    <tr>\n",
       "      <th>77</th>\n",
       "      <td>M2K</td>\n",
       "      <td>43.766739</td>\n",
       "      <td>65.0</td>\n",
       "      <td>2150.0</td>\n",
       "      <td>-79.385882</td>\n",
       "      <td>1.0</td>\n",
       "      <td>2.0</td>\n",
       "      <td>7 Kenaston Gardens, Toronto</td>\n",
       "      <td>33.076923</td>\n",
       "    </tr>\n",
       "  </tbody>\n",
       "</table>\n",
       "</div>"
      ],
      "text/plain": [
       "   postal_code  geocode_lat  num_sqft    rent  geocide_lng  num_bedrooms  \\\n",
       "77         M2K    43.766739      65.0  2150.0   -79.385882           1.0   \n",
       "\n",
       "    num_bathrooms                      address  price_per_sqft  \n",
       "77            2.0  7 Kenaston Gardens, Toronto       33.076923  "
      ]
     },
     "execution_count": 999,
     "metadata": {},
     "output_type": "execute_result"
    }
   ],
   "source": [
    "# obtain the absolute values of all z-scores\n",
    "one_bedroom_geocoded[abs(stats.zscore(one_bedroom_geocoded['price_per_sqft']))>=3]"
   ]
  },
  {
   "cell_type": "code",
   "execution_count": 998,
   "metadata": {},
   "outputs": [],
   "source": [
    "one_bedroom_geocoded = one_bedroom_geocoded.reset_index(drop=True)"
   ]
  },
  {
   "cell_type": "code",
   "execution_count": 1005,
   "metadata": {},
   "outputs": [],
   "source": [
    "# remove outlier\n",
    "one_bedroom_geocoded.drop(one_bedroom_geocoded.index[77], inplace=True)"
   ]
  },
  {
   "cell_type": "code",
   "execution_count": 1006,
   "metadata": {},
   "outputs": [
    {
     "data": {
      "text/plain": [
       "postal_code                          M2K\n",
       "geocode_lat                      43.7677\n",
       "num_sqft                             680\n",
       "rent                                1845\n",
       "geocide_lng                     -79.3829\n",
       "num_bedrooms                           1\n",
       "num_bathrooms                          1\n",
       "address           27 Rean Drive, Toronto\n",
       "price_per_sqft                   2.71324\n",
       "Name: 78, dtype: object"
      ]
     },
     "execution_count": 1006,
     "metadata": {},
     "output_type": "execute_result"
    }
   ],
   "source": [
    "one_bedroom_geocoded.iloc[77]"
   ]
  },
  {
   "cell_type": "code",
   "execution_count": 1002,
   "metadata": {},
   "outputs": [
    {
     "name": "stdout",
     "output_type": "stream",
     "text": [
      "0.6027947579556159\n"
     ]
    }
   ],
   "source": [
    "# using IQR to determine outliers\n",
    "Q1 = one_bedroom_geocoded['price_per_sqft'].quantile(0.25)\n",
    "Q3 = one_bedroom_geocoded['price_per_sqft'].quantile(0.75)\n",
    "IQR = Q3 - Q1\n",
    "print(IQR)"
   ]
  },
  {
   "cell_type": "code",
   "execution_count": 1003,
   "metadata": {},
   "outputs": [
    {
     "data": {
      "text/html": [
       "<div>\n",
       "<style scoped>\n",
       "    .dataframe tbody tr th:only-of-type {\n",
       "        vertical-align: middle;\n",
       "    }\n",
       "\n",
       "    .dataframe tbody tr th {\n",
       "        vertical-align: top;\n",
       "    }\n",
       "\n",
       "    .dataframe thead th {\n",
       "        text-align: right;\n",
       "    }\n",
       "</style>\n",
       "<table border=\"1\" class=\"dataframe\">\n",
       "  <thead>\n",
       "    <tr style=\"text-align: right;\">\n",
       "      <th></th>\n",
       "      <th>postal_code</th>\n",
       "      <th>geocode_lat</th>\n",
       "      <th>num_sqft</th>\n",
       "      <th>rent</th>\n",
       "      <th>geocide_lng</th>\n",
       "      <th>num_bedrooms</th>\n",
       "      <th>num_bathrooms</th>\n",
       "      <th>address</th>\n",
       "      <th>price_per_sqft</th>\n",
       "    </tr>\n",
       "  </thead>\n",
       "  <tbody>\n",
       "    <tr>\n",
       "      <th>24</th>\n",
       "      <td>M1P</td>\n",
       "      <td>43.769474</td>\n",
       "      <td>899.0</td>\n",
       "      <td>1700.0</td>\n",
       "      <td>-79.283399</td>\n",
       "      <td>1.0</td>\n",
       "      <td>1.0</td>\n",
       "      <td>2 Glamorgan Avenue, Toronto</td>\n",
       "      <td>1.890990</td>\n",
       "    </tr>\n",
       "    <tr>\n",
       "      <th>77</th>\n",
       "      <td>M2K</td>\n",
       "      <td>43.766739</td>\n",
       "      <td>65.0</td>\n",
       "      <td>2150.0</td>\n",
       "      <td>-79.385882</td>\n",
       "      <td>1.0</td>\n",
       "      <td>2.0</td>\n",
       "      <td>7 Kenaston Gardens, Toronto</td>\n",
       "      <td>33.076923</td>\n",
       "    </tr>\n",
       "    <tr>\n",
       "      <th>131</th>\n",
       "      <td>M3C</td>\n",
       "      <td>43.711432</td>\n",
       "      <td>780.0</td>\n",
       "      <td>1690.0</td>\n",
       "      <td>-79.333335</td>\n",
       "      <td>1.0</td>\n",
       "      <td>1.0</td>\n",
       "      <td>725 Don Mills Road, Toronto</td>\n",
       "      <td>2.166667</td>\n",
       "    </tr>\n",
       "    <tr>\n",
       "      <th>208</th>\n",
       "      <td>M4S</td>\n",
       "      <td>43.700275</td>\n",
       "      <td>2100.0</td>\n",
       "      <td>2100.0</td>\n",
       "      <td>-79.396471</td>\n",
       "      <td>1.0</td>\n",
       "      <td>2.0</td>\n",
       "      <td>1 Belsize Drive, Toronto</td>\n",
       "      <td>1.000000</td>\n",
       "    </tr>\n",
       "    <tr>\n",
       "      <th>299</th>\n",
       "      <td>M5A</td>\n",
       "      <td>43.645093</td>\n",
       "      <td>334.0</td>\n",
       "      <td>1695.0</td>\n",
       "      <td>-79.368274</td>\n",
       "      <td>1.0</td>\n",
       "      <td>1.0</td>\n",
       "      <td>Richardson Street, Toronto</td>\n",
       "      <td>5.074850</td>\n",
       "    </tr>\n",
       "    <tr>\n",
       "      <th>357</th>\n",
       "      <td>M5B</td>\n",
       "      <td>43.655031</td>\n",
       "      <td>380.0</td>\n",
       "      <td>1800.0</td>\n",
       "      <td>-79.375478</td>\n",
       "      <td>1.0</td>\n",
       "      <td>1.0</td>\n",
       "      <td>77 Shuter Street, Toronto</td>\n",
       "      <td>4.736842</td>\n",
       "    </tr>\n",
       "    <tr>\n",
       "      <th>363</th>\n",
       "      <td>M5B</td>\n",
       "      <td>43.653252</td>\n",
       "      <td>400.0</td>\n",
       "      <td>1970.0</td>\n",
       "      <td>-79.379481</td>\n",
       "      <td>1.0</td>\n",
       "      <td>1.0</td>\n",
       "      <td>197 Yonge St, Toronto</td>\n",
       "      <td>4.925000</td>\n",
       "    </tr>\n",
       "    <tr>\n",
       "      <th>386</th>\n",
       "      <td>M5E</td>\n",
       "      <td>43.649568</td>\n",
       "      <td>475.0</td>\n",
       "      <td>2350.0</td>\n",
       "      <td>-79.375667</td>\n",
       "      <td>1.0</td>\n",
       "      <td>1.0</td>\n",
       "      <td>22 Leader Lane, Toronto</td>\n",
       "      <td>4.947368</td>\n",
       "    </tr>\n",
       "    <tr>\n",
       "      <th>404</th>\n",
       "      <td>M5G</td>\n",
       "      <td>43.659419</td>\n",
       "      <td>500.0</td>\n",
       "      <td>2400.0</td>\n",
       "      <td>-79.384967</td>\n",
       "      <td>1.0</td>\n",
       "      <td>1.0</td>\n",
       "      <td>761 Bay Street, Toronto</td>\n",
       "      <td>4.800000</td>\n",
       "    </tr>\n",
       "    <tr>\n",
       "      <th>412</th>\n",
       "      <td>M5G</td>\n",
       "      <td>43.659694</td>\n",
       "      <td>885.0</td>\n",
       "      <td>1500.0</td>\n",
       "      <td>-79.385928</td>\n",
       "      <td>1.0</td>\n",
       "      <td>1.0</td>\n",
       "      <td>750 Bay Street, Toronto</td>\n",
       "      <td>1.694915</td>\n",
       "    </tr>\n",
       "    <tr>\n",
       "      <th>437</th>\n",
       "      <td>M5H</td>\n",
       "      <td>43.650532</td>\n",
       "      <td>500.0</td>\n",
       "      <td>2400.0</td>\n",
       "      <td>-79.382105</td>\n",
       "      <td>1.0</td>\n",
       "      <td>1.0</td>\n",
       "      <td>70 Temperance Street, Toronto</td>\n",
       "      <td>4.800000</td>\n",
       "    </tr>\n",
       "    <tr>\n",
       "      <th>439</th>\n",
       "      <td>M5H</td>\n",
       "      <td>43.650532</td>\n",
       "      <td>372.0</td>\n",
       "      <td>1999.0</td>\n",
       "      <td>-79.382105</td>\n",
       "      <td>1.0</td>\n",
       "      <td>1.0</td>\n",
       "      <td>70 Temperance Street, Toronto</td>\n",
       "      <td>5.373656</td>\n",
       "    </tr>\n",
       "    <tr>\n",
       "      <th>467</th>\n",
       "      <td>M5J</td>\n",
       "      <td>43.641880</td>\n",
       "      <td>350.0</td>\n",
       "      <td>1700.0</td>\n",
       "      <td>-79.379041</td>\n",
       "      <td>1.0</td>\n",
       "      <td>1.0</td>\n",
       "      <td>88 Harbour Street, Toronto</td>\n",
       "      <td>4.857143</td>\n",
       "    </tr>\n",
       "    <tr>\n",
       "      <th>478</th>\n",
       "      <td>M5J</td>\n",
       "      <td>43.642266</td>\n",
       "      <td>600.0</td>\n",
       "      <td>2950.0</td>\n",
       "      <td>-79.380770</td>\n",
       "      <td>1.0</td>\n",
       "      <td>0.5</td>\n",
       "      <td>55 Bremner Boulevard, Toronto</td>\n",
       "      <td>4.916667</td>\n",
       "    </tr>\n",
       "    <tr>\n",
       "      <th>495</th>\n",
       "      <td>M5R</td>\n",
       "      <td>43.670302</td>\n",
       "      <td>405.0</td>\n",
       "      <td>2300.0</td>\n",
       "      <td>-79.394479</td>\n",
       "      <td>1.0</td>\n",
       "      <td>1.0</td>\n",
       "      <td>155 Yorkville Ave, Toronto</td>\n",
       "      <td>5.679012</td>\n",
       "    </tr>\n",
       "    <tr>\n",
       "      <th>505</th>\n",
       "      <td>M5S</td>\n",
       "      <td>43.664523</td>\n",
       "      <td>720.0</td>\n",
       "      <td>1500.0</td>\n",
       "      <td>-79.410785</td>\n",
       "      <td>1.0</td>\n",
       "      <td>1.0</td>\n",
       "      <td>783 Bathurst Street, Toronto</td>\n",
       "      <td>2.083333</td>\n",
       "    </tr>\n",
       "    <tr>\n",
       "      <th>514</th>\n",
       "      <td>M5S</td>\n",
       "      <td>43.664556</td>\n",
       "      <td>370.0</td>\n",
       "      <td>1850.0</td>\n",
       "      <td>-79.387125</td>\n",
       "      <td>1.0</td>\n",
       "      <td>1.0</td>\n",
       "      <td>955 Bay Street, Toronto</td>\n",
       "      <td>5.000000</td>\n",
       "    </tr>\n",
       "    <tr>\n",
       "      <th>518</th>\n",
       "      <td>M5S</td>\n",
       "      <td>43.662272</td>\n",
       "      <td>512.0</td>\n",
       "      <td>2450.0</td>\n",
       "      <td>-79.386536</td>\n",
       "      <td>1.0</td>\n",
       "      <td>1.0</td>\n",
       "      <td>832 Bay Street, Toronto</td>\n",
       "      <td>4.785156</td>\n",
       "    </tr>\n",
       "    <tr>\n",
       "      <th>532</th>\n",
       "      <td>M5V</td>\n",
       "      <td>43.647876</td>\n",
       "      <td>400.0</td>\n",
       "      <td>2200.0</td>\n",
       "      <td>-79.390598</td>\n",
       "      <td>1.0</td>\n",
       "      <td>1.0</td>\n",
       "      <td>290 Adelaide Street West, Toronto</td>\n",
       "      <td>5.500000</td>\n",
       "    </tr>\n",
       "    <tr>\n",
       "      <th>584</th>\n",
       "      <td>M5V</td>\n",
       "      <td>43.640309</td>\n",
       "      <td>600.0</td>\n",
       "      <td>3250.0</td>\n",
       "      <td>-79.397447</td>\n",
       "      <td>1.0</td>\n",
       "      <td>1.0</td>\n",
       "      <td>21 Iceboat Terrace, Toronto</td>\n",
       "      <td>5.416667</td>\n",
       "    </tr>\n",
       "    <tr>\n",
       "      <th>595</th>\n",
       "      <td>M5V</td>\n",
       "      <td>43.645594</td>\n",
       "      <td>587.0</td>\n",
       "      <td>2900.0</td>\n",
       "      <td>-79.392263</td>\n",
       "      <td>1.0</td>\n",
       "      <td>1.0</td>\n",
       "      <td>88 Blue Jays Way, Toronto</td>\n",
       "      <td>4.940375</td>\n",
       "    </tr>\n",
       "    <tr>\n",
       "      <th>597</th>\n",
       "      <td>M5V</td>\n",
       "      <td>43.641576</td>\n",
       "      <td>500.0</td>\n",
       "      <td>1100.0</td>\n",
       "      <td>-79.391525</td>\n",
       "      <td>1.0</td>\n",
       "      <td>1.0</td>\n",
       "      <td>81 Navy Wharf Court, Toronto</td>\n",
       "      <td>2.200000</td>\n",
       "    </tr>\n",
       "    <tr>\n",
       "      <th>610</th>\n",
       "      <td>M5V</td>\n",
       "      <td>43.641576</td>\n",
       "      <td>500.0</td>\n",
       "      <td>1100.0</td>\n",
       "      <td>-79.391525</td>\n",
       "      <td>1.0</td>\n",
       "      <td>1.0</td>\n",
       "      <td>81 Navy Wharf Court, Toronto</td>\n",
       "      <td>2.200000</td>\n",
       "    </tr>\n",
       "    <tr>\n",
       "      <th>612</th>\n",
       "      <td>M5V</td>\n",
       "      <td>43.641576</td>\n",
       "      <td>500.0</td>\n",
       "      <td>1100.0</td>\n",
       "      <td>-79.391525</td>\n",
       "      <td>1.0</td>\n",
       "      <td>1.0</td>\n",
       "      <td>81 Navy Wharf Court, Toronto</td>\n",
       "      <td>2.200000</td>\n",
       "    </tr>\n",
       "    <tr>\n",
       "      <th>614</th>\n",
       "      <td>M5V</td>\n",
       "      <td>43.638847</td>\n",
       "      <td>500.0</td>\n",
       "      <td>2400.0</td>\n",
       "      <td>-79.399033</td>\n",
       "      <td>1.0</td>\n",
       "      <td>1.0</td>\n",
       "      <td>85 Queens Wharf Road, Toronto</td>\n",
       "      <td>4.800000</td>\n",
       "    </tr>\n",
       "    <tr>\n",
       "      <th>633</th>\n",
       "      <td>M5V</td>\n",
       "      <td>43.641576</td>\n",
       "      <td>500.0</td>\n",
       "      <td>1100.0</td>\n",
       "      <td>-79.391525</td>\n",
       "      <td>1.0</td>\n",
       "      <td>1.0</td>\n",
       "      <td>81 Navy Wharf Court, Toronto</td>\n",
       "      <td>2.200000</td>\n",
       "    </tr>\n",
       "    <tr>\n",
       "      <th>641</th>\n",
       "      <td>M5V</td>\n",
       "      <td>43.650343</td>\n",
       "      <td>750.0</td>\n",
       "      <td>1400.0</td>\n",
       "      <td>-79.387806</td>\n",
       "      <td>1.0</td>\n",
       "      <td>1.0</td>\n",
       "      <td>215 Queen Street West, Toronto</td>\n",
       "      <td>1.866667</td>\n",
       "    </tr>\n",
       "    <tr>\n",
       "      <th>659</th>\n",
       "      <td>M5V</td>\n",
       "      <td>43.643224</td>\n",
       "      <td>420.0</td>\n",
       "      <td>2000.0</td>\n",
       "      <td>-79.402230</td>\n",
       "      <td>1.0</td>\n",
       "      <td>1.0</td>\n",
       "      <td>Stewart Street, Toronto</td>\n",
       "      <td>4.761905</td>\n",
       "    </tr>\n",
       "    <tr>\n",
       "      <th>674</th>\n",
       "      <td>M5V</td>\n",
       "      <td>43.641576</td>\n",
       "      <td>500.0</td>\n",
       "      <td>1100.0</td>\n",
       "      <td>-79.391525</td>\n",
       "      <td>1.0</td>\n",
       "      <td>1.0</td>\n",
       "      <td>81 Navy Wharf Court, Toronto</td>\n",
       "      <td>2.200000</td>\n",
       "    </tr>\n",
       "    <tr>\n",
       "      <th>675</th>\n",
       "      <td>M5V</td>\n",
       "      <td>43.650343</td>\n",
       "      <td>742.0</td>\n",
       "      <td>1500.0</td>\n",
       "      <td>-79.387806</td>\n",
       "      <td>1.0</td>\n",
       "      <td>1.0</td>\n",
       "      <td>215 Queen Street West, Toronto</td>\n",
       "      <td>2.021563</td>\n",
       "    </tr>\n",
       "    <tr>\n",
       "      <th>683</th>\n",
       "      <td>M5V</td>\n",
       "      <td>43.641576</td>\n",
       "      <td>500.0</td>\n",
       "      <td>1100.0</td>\n",
       "      <td>-79.391525</td>\n",
       "      <td>1.0</td>\n",
       "      <td>1.0</td>\n",
       "      <td>81 Navy Wharf Court, Toronto</td>\n",
       "      <td>2.200000</td>\n",
       "    </tr>\n",
       "    <tr>\n",
       "      <th>702</th>\n",
       "      <td>M5V</td>\n",
       "      <td>43.645594</td>\n",
       "      <td>450.0</td>\n",
       "      <td>2200.0</td>\n",
       "      <td>-79.392263</td>\n",
       "      <td>1.0</td>\n",
       "      <td>1.0</td>\n",
       "      <td>88 Blue Jays Way, Toronto</td>\n",
       "      <td>4.888889</td>\n",
       "    </tr>\n",
       "    <tr>\n",
       "      <th>742</th>\n",
       "      <td>M6J</td>\n",
       "      <td>43.644580</td>\n",
       "      <td>1500.0</td>\n",
       "      <td>8495.0</td>\n",
       "      <td>-79.415566</td>\n",
       "      <td>1.0</td>\n",
       "      <td>2.0</td>\n",
       "      <td>993 Queen St W, Toronto</td>\n",
       "      <td>5.663333</td>\n",
       "    </tr>\n",
       "    <tr>\n",
       "      <th>807</th>\n",
       "      <td>M8Y</td>\n",
       "      <td>43.624213</td>\n",
       "      <td>950.0</td>\n",
       "      <td>2000.0</td>\n",
       "      <td>-79.489057</td>\n",
       "      <td>1.0</td>\n",
       "      <td>1.0</td>\n",
       "      <td>300 Manitoba Street, Toronto</td>\n",
       "      <td>2.105263</td>\n",
       "    </tr>\n",
       "    <tr>\n",
       "      <th>815</th>\n",
       "      <td>M8Y</td>\n",
       "      <td>43.624213</td>\n",
       "      <td>950.0</td>\n",
       "      <td>2000.0</td>\n",
       "      <td>-79.489057</td>\n",
       "      <td>1.0</td>\n",
       "      <td>1.0</td>\n",
       "      <td>300 Manitoba Street, Toronto</td>\n",
       "      <td>2.105263</td>\n",
       "    </tr>\n",
       "    <tr>\n",
       "      <th>835</th>\n",
       "      <td>M9M</td>\n",
       "      <td>43.732650</td>\n",
       "      <td>685.0</td>\n",
       "      <td>1475.0</td>\n",
       "      <td>-79.532218</td>\n",
       "      <td>1.0</td>\n",
       "      <td>1.0</td>\n",
       "      <td>149 Isaac Devins Boulevard, Toronto</td>\n",
       "      <td>2.153285</td>\n",
       "    </tr>\n",
       "  </tbody>\n",
       "</table>\n",
       "</div>"
      ],
      "text/plain": [
       "    postal_code  geocode_lat  num_sqft    rent  geocide_lng  num_bedrooms  \\\n",
       "24          M1P    43.769474     899.0  1700.0   -79.283399           1.0   \n",
       "77          M2K    43.766739      65.0  2150.0   -79.385882           1.0   \n",
       "131         M3C    43.711432     780.0  1690.0   -79.333335           1.0   \n",
       "208         M4S    43.700275    2100.0  2100.0   -79.396471           1.0   \n",
       "299         M5A    43.645093     334.0  1695.0   -79.368274           1.0   \n",
       "357         M5B    43.655031     380.0  1800.0   -79.375478           1.0   \n",
       "363         M5B    43.653252     400.0  1970.0   -79.379481           1.0   \n",
       "386         M5E    43.649568     475.0  2350.0   -79.375667           1.0   \n",
       "404         M5G    43.659419     500.0  2400.0   -79.384967           1.0   \n",
       "412         M5G    43.659694     885.0  1500.0   -79.385928           1.0   \n",
       "437         M5H    43.650532     500.0  2400.0   -79.382105           1.0   \n",
       "439         M5H    43.650532     372.0  1999.0   -79.382105           1.0   \n",
       "467         M5J    43.641880     350.0  1700.0   -79.379041           1.0   \n",
       "478         M5J    43.642266     600.0  2950.0   -79.380770           1.0   \n",
       "495         M5R    43.670302     405.0  2300.0   -79.394479           1.0   \n",
       "505         M5S    43.664523     720.0  1500.0   -79.410785           1.0   \n",
       "514         M5S    43.664556     370.0  1850.0   -79.387125           1.0   \n",
       "518         M5S    43.662272     512.0  2450.0   -79.386536           1.0   \n",
       "532         M5V    43.647876     400.0  2200.0   -79.390598           1.0   \n",
       "584         M5V    43.640309     600.0  3250.0   -79.397447           1.0   \n",
       "595         M5V    43.645594     587.0  2900.0   -79.392263           1.0   \n",
       "597         M5V    43.641576     500.0  1100.0   -79.391525           1.0   \n",
       "610         M5V    43.641576     500.0  1100.0   -79.391525           1.0   \n",
       "612         M5V    43.641576     500.0  1100.0   -79.391525           1.0   \n",
       "614         M5V    43.638847     500.0  2400.0   -79.399033           1.0   \n",
       "633         M5V    43.641576     500.0  1100.0   -79.391525           1.0   \n",
       "641         M5V    43.650343     750.0  1400.0   -79.387806           1.0   \n",
       "659         M5V    43.643224     420.0  2000.0   -79.402230           1.0   \n",
       "674         M5V    43.641576     500.0  1100.0   -79.391525           1.0   \n",
       "675         M5V    43.650343     742.0  1500.0   -79.387806           1.0   \n",
       "683         M5V    43.641576     500.0  1100.0   -79.391525           1.0   \n",
       "702         M5V    43.645594     450.0  2200.0   -79.392263           1.0   \n",
       "742         M6J    43.644580    1500.0  8495.0   -79.415566           1.0   \n",
       "807         M8Y    43.624213     950.0  2000.0   -79.489057           1.0   \n",
       "815         M8Y    43.624213     950.0  2000.0   -79.489057           1.0   \n",
       "835         M9M    43.732650     685.0  1475.0   -79.532218           1.0   \n",
       "\n",
       "     num_bathrooms                              address  price_per_sqft  \n",
       "24             1.0          2 Glamorgan Avenue, Toronto        1.890990  \n",
       "77             2.0          7 Kenaston Gardens, Toronto       33.076923  \n",
       "131            1.0          725 Don Mills Road, Toronto        2.166667  \n",
       "208            2.0             1 Belsize Drive, Toronto        1.000000  \n",
       "299            1.0           Richardson Street, Toronto        5.074850  \n",
       "357            1.0            77 Shuter Street, Toronto        4.736842  \n",
       "363            1.0                197 Yonge St, Toronto        4.925000  \n",
       "386            1.0              22 Leader Lane, Toronto        4.947368  \n",
       "404            1.0              761 Bay Street, Toronto        4.800000  \n",
       "412            1.0              750 Bay Street, Toronto        1.694915  \n",
       "437            1.0        70 Temperance Street, Toronto        4.800000  \n",
       "439            1.0        70 Temperance Street, Toronto        5.373656  \n",
       "467            1.0           88 Harbour Street, Toronto        4.857143  \n",
       "478            0.5        55 Bremner Boulevard, Toronto        4.916667  \n",
       "495            1.0           155 Yorkville Ave, Toronto        5.679012  \n",
       "505            1.0         783 Bathurst Street, Toronto        2.083333  \n",
       "514            1.0              955 Bay Street, Toronto        5.000000  \n",
       "518            1.0              832 Bay Street, Toronto        4.785156  \n",
       "532            1.0    290 Adelaide Street West, Toronto        5.500000  \n",
       "584            1.0          21 Iceboat Terrace, Toronto        5.416667  \n",
       "595            1.0            88 Blue Jays Way, Toronto        4.940375  \n",
       "597            1.0         81 Navy Wharf Court, Toronto        2.200000  \n",
       "610            1.0         81 Navy Wharf Court, Toronto        2.200000  \n",
       "612            1.0         81 Navy Wharf Court, Toronto        2.200000  \n",
       "614            1.0        85 Queens Wharf Road, Toronto        4.800000  \n",
       "633            1.0         81 Navy Wharf Court, Toronto        2.200000  \n",
       "641            1.0       215 Queen Street West, Toronto        1.866667  \n",
       "659            1.0              Stewart Street, Toronto        4.761905  \n",
       "674            1.0         81 Navy Wharf Court, Toronto        2.200000  \n",
       "675            1.0       215 Queen Street West, Toronto        2.021563  \n",
       "683            1.0         81 Navy Wharf Court, Toronto        2.200000  \n",
       "702            1.0            88 Blue Jays Way, Toronto        4.888889  \n",
       "742            2.0              993 Queen St W, Toronto        5.663333  \n",
       "807            1.0         300 Manitoba Street, Toronto        2.105263  \n",
       "815            1.0         300 Manitoba Street, Toronto        2.105263  \n",
       "835            1.0  149 Isaac Devins Boulevard, Toronto        2.153285  "
      ]
     },
     "execution_count": 1003,
     "metadata": {},
     "output_type": "execute_result"
    }
   ],
   "source": [
    "one_bedroom_geocoded.loc[(one_bedroom_geocoded['price_per_sqft'] < (Q1 - 1.5*IQR)) |\\\n",
    "                        (one_bedroom_geocoded['price_per_sqft'] > (Q3 + 1.5*IQR))]"
   ]
  },
  {
   "cell_type": "code",
   "execution_count": 1012,
   "metadata": {},
   "outputs": [],
   "source": [
    "# reorder the columns\n",
    "one_bedroom_geocoded.columns = [\"postal_code\", \"geocode_lat\",\"num_sqft\", \"rent\", \"geocide_lng\", \"num_bedrooms\",\\\n",
    "                                \"num_bathrooms\", \"address\", \"price_per_sqft\"]"
   ]
  },
  {
   "cell_type": "code",
   "execution_count": 1041,
   "metadata": {},
   "outputs": [],
   "source": [
    "# reorder the columns\n",
    "one_bedroom_geocoded = one_bedroom_geocoded[['postal_code', 'geocode_lat', 'geocode_lng', 'address',\\\n",
    "                                             'num_sqft', 'rent', 'num_bathrooms', 'price_per_sqft']]"
   ]
  },
  {
   "cell_type": "code",
   "execution_count": null,
   "metadata": {},
   "outputs": [],
   "source": [
    "one_bedroom_geocoded = one_bedroom_geocoded.reset_index(drop=True)"
   ]
  },
  {
   "cell_type": "code",
   "execution_count": 1267,
   "metadata": {},
   "outputs": [],
   "source": [
    "# define a function for getting location data:\n",
    "def get_venues(client_id, client_secret, version, lat, lng, categoryid, radius, limit):\n",
    "    url = \"https://api.foursquare.com/v2/venues/explore?client_id={}&client_secret={}&v={}&ll={},{}&categoryId={}&radius={}&limit={}\".\\\n",
    "        format(client_id, client_secret, version, lat, lng, categoryid, radius, limit)\n",
    "#     try:\n",
    "    results = requests.get(url).json()['response']['groups'][0]['items'][0]\n",
    "\n",
    "    venues = [results['venue']['id'],\n",
    "           results['venue']['name'],\n",
    "           [(cat['name'], cat['id']) for cat in results['venue']['categories']],\n",
    "           [results['venue']['location']['lat'], results['venue']['location']['lng']],\n",
    "           [\",\".join(results['venue']['location']['formattedAddress'])], \n",
    "           results['venue']['location']['distance']] \n",
    "#     except:\n",
    "#         venues = [\"none in the specified radius\",\"none in the specified radius\",\\\n",
    "#                \"none in the specified radius\",\"none in the specified radius\",\\\n",
    "#                \"none in the specified radius\",\"none in the specified radius\"]\n",
    "    \n",
    "    return venues\n",
    "    \n",
    "    \n"
   ]
  },
  {
   "cell_type": "code",
   "execution_count": 526,
   "metadata": {},
   "outputs": [],
   "source": [
    "# clear output during the loop to check progress\n",
    "from IPython.display import clear_output\n",
    "import timeit"
   ]
  },
  {
   "cell_type": "code",
   "execution_count": 1335,
   "metadata": {},
   "outputs": [
    {
     "name": "stdout",
     "output_type": "stream",
     "text": [
      "Current Progress: 100.0%\n",
      "Current run time: 20.41 minutes\n"
     ]
    }
   ],
   "source": [
    "# loop_counter = 0\n",
    "\n",
    "start = timeit.default_timer()\n",
    "\n",
    "if \"addon_df\" in globals():\n",
    "    del addon_df\n",
    "if \"complete_df\" in globals():\n",
    "    del complete_df\n",
    "\n",
    "\n",
    "for postal, lat, lng, ind in zip(one_bedroom_geocoded['postal_code'][456:],\\\n",
    "                            one_bedroom_geocoded['geocode_lat'][456:],\\\n",
    "                            one_bedroom_geocoded['geocode_lng'][456:],\\\n",
    "                            one_bedroom_geocoded.index.values[456:]):\n",
    "    \n",
    "    clear_output(wait=True)\n",
    "    \n",
    "    venue_id = []\n",
    "    venue_name = []\n",
    "    venue_categories = []\n",
    "    venue_latlng = []\n",
    "    venue_address = []\n",
    "    venue_distance = []\n",
    "    for cat in categories_df['categoryids']:\n",
    "        venues = get_venues(client_id, client_secret, version, lat, lng, cat, 25000, 3)\n",
    "        venue_id = venue_id + [venues[0]]\n",
    "        venue_name = venue_name + [venues[1]]\n",
    "        venue_categories = venue_categories + [venues[2]]\n",
    "        venue_latlng = venue_latlng + [venues[3]]\n",
    "        venue_address = venue_address + [venues[4]]\n",
    "        venue_distance = venue_distance + [venues[5]]\n",
    "            \n",
    "#     num = one_bedroom_geocoded.index[one_bedroom_geocoded['postal_code'] == postal].values[0]\n",
    "    \n",
    "    try:\n",
    "        location_loop = one_bedroom_geocoded.iloc[[ind]].T\n",
    "    except:\n",
    "        print(\"data collection complete\")\n",
    "\n",
    "    if ind != 456:\n",
    "        addon_df = location_loop.append(pd.DataFrame([venue_distance[0],\\\n",
    "                  venue_distance[1],\\\n",
    "                  venue_distance[2],\\\n",
    "                  venue_distance[3],\\\n",
    "                  venue_distance[4],\\\n",
    "                  venue_distance[5],\\\n",
    "                  venue_distance[6]], index = [\"metro_station\",\\\n",
    "                                              \"train_station\",\\\n",
    "                                              \"bus_station\",\\\n",
    "                                              \"bus_stop\",\\\n",
    "                                              \"shopping_mall\",\\\n",
    "                                              \"shopping_plaza\",\\\n",
    "                                              \"grocery_store\"], columns=[ind]))\n",
    "    else:\n",
    "           complete_df = location_loop.append(pd.DataFrame([venue_distance[0],\\\n",
    "                  venue_distance[1],\\\n",
    "                  venue_distance[2],\\\n",
    "                  venue_distance[3],\\\n",
    "                  venue_distance[4],\\\n",
    "                  venue_distance[5],\\\n",
    "                  venue_distance[6]], index = [\"metro_station\",\\\n",
    "                                              \"train_station\",\\\n",
    "                                              \"bus_station\",\\\n",
    "                                              \"bus_stop\",\\\n",
    "                                              \"shopping_mall\",\\\n",
    "                                              \"shopping_plaza\",\\\n",
    "                                              \"grocery_store\"], columns=[ind]))\n",
    "\n",
    "    \n",
    "\n",
    "    try:\n",
    "        complete_df = pd.concat([complete_df, addon_df], axis=1)\n",
    "\n",
    "    except:\n",
    "        print(\"first one finished\")\n",
    "        \n",
    "#     loop_counter +=1\n",
    "#     if loop_counter == 2:\n",
    "#         break\n",
    "    \n",
    "    stop = timeit.default_timer()\n",
    "    print(f\"Current Progress: {np.round(((ind+1)/one_bedroom_geocoded.shape[0]) * 100, 2)}%\")\n",
    "    print(f\"Current run time: {np.round((stop - start)/60, 2)} minutes\")"
   ]
  },
  {
   "cell_type": "code",
   "execution_count": 1329,
   "metadata": {},
   "outputs": [
    {
     "data": {
      "text/html": [
       "<div>\n",
       "<style scoped>\n",
       "    .dataframe tbody tr th:only-of-type {\n",
       "        vertical-align: middle;\n",
       "    }\n",
       "\n",
       "    .dataframe tbody tr th {\n",
       "        vertical-align: top;\n",
       "    }\n",
       "\n",
       "    .dataframe thead th {\n",
       "        text-align: right;\n",
       "    }\n",
       "</style>\n",
       "<table border=\"1\" class=\"dataframe\">\n",
       "  <thead>\n",
       "    <tr style=\"text-align: right;\">\n",
       "      <th></th>\n",
       "      <th>116</th>\n",
       "      <th>117</th>\n",
       "      <th>118</th>\n",
       "      <th>119</th>\n",
       "      <th>120</th>\n",
       "      <th>121</th>\n",
       "      <th>122</th>\n",
       "      <th>123</th>\n",
       "      <th>124</th>\n",
       "      <th>125</th>\n",
       "      <th>...</th>\n",
       "      <th>446</th>\n",
       "      <th>447</th>\n",
       "      <th>448</th>\n",
       "      <th>449</th>\n",
       "      <th>450</th>\n",
       "      <th>451</th>\n",
       "      <th>452</th>\n",
       "      <th>453</th>\n",
       "      <th>454</th>\n",
       "      <th>455</th>\n",
       "    </tr>\n",
       "  </thead>\n",
       "  <tbody>\n",
       "    <tr>\n",
       "      <th>postal_code</th>\n",
       "      <td>M2N</td>\n",
       "      <td>M2N</td>\n",
       "      <td>M2N</td>\n",
       "      <td>M2N</td>\n",
       "      <td>M2N</td>\n",
       "      <td>M2N</td>\n",
       "      <td>M3A</td>\n",
       "      <td>M3B</td>\n",
       "      <td>M3C</td>\n",
       "      <td>M3C</td>\n",
       "      <td>...</td>\n",
       "      <td>M5J</td>\n",
       "      <td>M5J</td>\n",
       "      <td>M5J</td>\n",
       "      <td>M5J</td>\n",
       "      <td>M5J</td>\n",
       "      <td>M5J</td>\n",
       "      <td>M5J</td>\n",
       "      <td>M5J</td>\n",
       "      <td>M5J</td>\n",
       "      <td>M5J</td>\n",
       "    </tr>\n",
       "    <tr>\n",
       "      <th>geocode_lat</th>\n",
       "      <td>43.7607</td>\n",
       "      <td>43.7783</td>\n",
       "      <td>43.7749</td>\n",
       "      <td>43.7785</td>\n",
       "      <td>43.7607</td>\n",
       "      <td>43.7783</td>\n",
       "      <td>43.7628</td>\n",
       "      <td>43.7377</td>\n",
       "      <td>43.7299</td>\n",
       "      <td>43.6508</td>\n",
       "      <td>...</td>\n",
       "      <td>43.6426</td>\n",
       "      <td>43.6404</td>\n",
       "      <td>43.6421</td>\n",
       "      <td>43.6419</td>\n",
       "      <td>43.6415</td>\n",
       "      <td>43.6415</td>\n",
       "      <td>43.6423</td>\n",
       "      <td>43.6423</td>\n",
       "      <td>43.6426</td>\n",
       "      <td>43.6423</td>\n",
       "    </tr>\n",
       "    <tr>\n",
       "      <th>geocode_lng</th>\n",
       "      <td>-79.4087</td>\n",
       "      <td>-79.4154</td>\n",
       "      <td>-79.4139</td>\n",
       "      <td>-79.4132</td>\n",
       "      <td>-79.4087</td>\n",
       "      <td>-79.4154</td>\n",
       "      <td>-79.3454</td>\n",
       "      <td>-79.3457</td>\n",
       "      <td>-79.3273</td>\n",
       "      <td>-79.3969</td>\n",
       "      <td>...</td>\n",
       "      <td>-79.3772</td>\n",
       "      <td>-79.3807</td>\n",
       "      <td>-79.3836</td>\n",
       "      <td>-79.3757</td>\n",
       "      <td>-79.3833</td>\n",
       "      <td>-79.3833</td>\n",
       "      <td>-79.3808</td>\n",
       "      <td>-79.3808</td>\n",
       "      <td>-79.3772</td>\n",
       "      <td>-79.3808</td>\n",
       "    </tr>\n",
       "    <tr>\n",
       "      <th>address</th>\n",
       "      <td>23 Sheppard Avenue East, Toronto</td>\n",
       "      <td>5508 Yonge Street, Toronto</td>\n",
       "      <td>5 Northtown Way, Toronto</td>\n",
       "      <td>18 Holmes Avenue, Toronto</td>\n",
       "      <td>23 Sheppard Avenue East, Toronto</td>\n",
       "      <td>5508 Yonge Street, Toronto</td>\n",
       "      <td>18 Graydon Hall Drive, Toronto</td>\n",
       "      <td>205 The Donway West, Toronto</td>\n",
       "      <td>5 Concorde Place, Toronto</td>\n",
       "      <td>Sonic Way, Toronto</td>\n",
       "      <td>...</td>\n",
       "      <td>33 Bay Street, Toronto</td>\n",
       "      <td>8 York Street, Toronto</td>\n",
       "      <td>51 Lower Simcoe Street, Toronto</td>\n",
       "      <td>10 Queens Quay West, Toronto</td>\n",
       "      <td>25 Lower Simcoe Street, Toronto</td>\n",
       "      <td>25 Lower Simcoe Street, Toronto</td>\n",
       "      <td>55 Bremner Boulevard, Toronto</td>\n",
       "      <td>55 Bremner Boulevard, Toronto</td>\n",
       "      <td>33 Bay Street, Toronto</td>\n",
       "      <td>55 Bremner Boulevard, Toronto</td>\n",
       "    </tr>\n",
       "    <tr>\n",
       "      <th>num_sqft</th>\n",
       "      <td>559</td>\n",
       "      <td>570</td>\n",
       "      <td>600</td>\n",
       "      <td>643</td>\n",
       "      <td>600</td>\n",
       "      <td>500</td>\n",
       "      <td>550</td>\n",
       "      <td>580</td>\n",
       "      <td>655</td>\n",
       "      <td>650</td>\n",
       "      <td>...</td>\n",
       "      <td>530</td>\n",
       "      <td>715</td>\n",
       "      <td>650</td>\n",
       "      <td>750</td>\n",
       "      <td>650</td>\n",
       "      <td>575</td>\n",
       "      <td>650</td>\n",
       "      <td>650</td>\n",
       "      <td>600</td>\n",
       "      <td>595</td>\n",
       "    </tr>\n",
       "  </tbody>\n",
       "</table>\n",
       "<p>5 rows × 340 columns</p>\n",
       "</div>"
      ],
      "text/plain": [
       "                                          116                         117  \\\n",
       "postal_code                               M2N                         M2N   \n",
       "geocode_lat                           43.7607                     43.7783   \n",
       "geocode_lng                          -79.4087                    -79.4154   \n",
       "address      23 Sheppard Avenue East, Toronto  5508 Yonge Street, Toronto   \n",
       "num_sqft                                  559                         570   \n",
       "\n",
       "                                  118                        119  \\\n",
       "postal_code                       M2N                        M2N   \n",
       "geocode_lat                   43.7749                    43.7785   \n",
       "geocode_lng                  -79.4139                   -79.4132   \n",
       "address      5 Northtown Way, Toronto  18 Holmes Avenue, Toronto   \n",
       "num_sqft                          600                        643   \n",
       "\n",
       "                                          120                         121  \\\n",
       "postal_code                               M2N                         M2N   \n",
       "geocode_lat                           43.7607                     43.7783   \n",
       "geocode_lng                          -79.4087                    -79.4154   \n",
       "address      23 Sheppard Avenue East, Toronto  5508 Yonge Street, Toronto   \n",
       "num_sqft                                  600                         500   \n",
       "\n",
       "                                        122                           123  \\\n",
       "postal_code                             M3A                           M3B   \n",
       "geocode_lat                         43.7628                       43.7377   \n",
       "geocode_lng                        -79.3454                      -79.3457   \n",
       "address      18 Graydon Hall Drive, Toronto  205 The Donway West, Toronto   \n",
       "num_sqft                                550                           580   \n",
       "\n",
       "                                   124                 125  ...  \\\n",
       "postal_code                        M3C                 M3C  ...   \n",
       "geocode_lat                    43.7299             43.6508  ...   \n",
       "geocode_lng                   -79.3273            -79.3969  ...   \n",
       "address      5 Concorde Place, Toronto  Sonic Way, Toronto  ...   \n",
       "num_sqft                           655                 650  ...   \n",
       "\n",
       "                                446                     447  \\\n",
       "postal_code                     M5J                     M5J   \n",
       "geocode_lat                 43.6426                 43.6404   \n",
       "geocode_lng                -79.3772                -79.3807   \n",
       "address      33 Bay Street, Toronto  8 York Street, Toronto   \n",
       "num_sqft                        530                     715   \n",
       "\n",
       "                                         448                           449  \\\n",
       "postal_code                              M5J                           M5J   \n",
       "geocode_lat                          43.6421                       43.6419   \n",
       "geocode_lng                         -79.3836                      -79.3757   \n",
       "address      51 Lower Simcoe Street, Toronto  10 Queens Quay West, Toronto   \n",
       "num_sqft                                 650                           750   \n",
       "\n",
       "                                         450                              451  \\\n",
       "postal_code                              M5J                              M5J   \n",
       "geocode_lat                          43.6415                          43.6415   \n",
       "geocode_lng                         -79.3833                         -79.3833   \n",
       "address      25 Lower Simcoe Street, Toronto  25 Lower Simcoe Street, Toronto   \n",
       "num_sqft                                 650                              575   \n",
       "\n",
       "                                       452                            453  \\\n",
       "postal_code                            M5J                            M5J   \n",
       "geocode_lat                        43.6423                        43.6423   \n",
       "geocode_lng                       -79.3808                       -79.3808   \n",
       "address      55 Bremner Boulevard, Toronto  55 Bremner Boulevard, Toronto   \n",
       "num_sqft                               650                            650   \n",
       "\n",
       "                                454                            455  \n",
       "postal_code                     M5J                            M5J  \n",
       "geocode_lat                 43.6426                        43.6423  \n",
       "geocode_lng                -79.3772                       -79.3808  \n",
       "address      33 Bay Street, Toronto  55 Bremner Boulevard, Toronto  \n",
       "num_sqft                        600                            595  \n",
       "\n",
       "[5 rows x 340 columns]"
      ]
     },
     "execution_count": 1329,
     "metadata": {},
     "output_type": "execute_result"
    }
   ],
   "source": [
    "complete_df3.head()"
   ]
  },
  {
   "cell_type": "code",
   "execution_count": 1328,
   "metadata": {},
   "outputs": [
    {
     "data": {
      "text/html": [
       "<div>\n",
       "<style scoped>\n",
       "    .dataframe tbody tr th:only-of-type {\n",
       "        vertical-align: middle;\n",
       "    }\n",
       "\n",
       "    .dataframe tbody tr th {\n",
       "        vertical-align: top;\n",
       "    }\n",
       "\n",
       "    .dataframe thead th {\n",
       "        text-align: right;\n",
       "    }\n",
       "</style>\n",
       "<table border=\"1\" class=\"dataframe\">\n",
       "  <thead>\n",
       "    <tr style=\"text-align: right;\">\n",
       "      <th></th>\n",
       "      <th>0</th>\n",
       "      <th>1</th>\n",
       "      <th>2</th>\n",
       "      <th>3</th>\n",
       "      <th>4</th>\n",
       "      <th>5</th>\n",
       "      <th>6</th>\n",
       "      <th>7</th>\n",
       "      <th>8</th>\n",
       "      <th>9</th>\n",
       "      <th>...</th>\n",
       "      <th>106</th>\n",
       "      <th>107</th>\n",
       "      <th>108</th>\n",
       "      <th>109</th>\n",
       "      <th>110</th>\n",
       "      <th>111</th>\n",
       "      <th>112</th>\n",
       "      <th>113</th>\n",
       "      <th>114</th>\n",
       "      <th>115</th>\n",
       "    </tr>\n",
       "  </thead>\n",
       "  <tbody>\n",
       "    <tr>\n",
       "      <th>postal_code</th>\n",
       "      <td>M1H</td>\n",
       "      <td>M1H</td>\n",
       "      <td>M1H</td>\n",
       "      <td>M1H</td>\n",
       "      <td>M1H</td>\n",
       "      <td>M1H</td>\n",
       "      <td>M1H</td>\n",
       "      <td>M1H</td>\n",
       "      <td>M1H</td>\n",
       "      <td>M1H</td>\n",
       "      <td>...</td>\n",
       "      <td>M2N</td>\n",
       "      <td>M2N</td>\n",
       "      <td>M2N</td>\n",
       "      <td>M2N</td>\n",
       "      <td>M2N</td>\n",
       "      <td>M2N</td>\n",
       "      <td>M2N</td>\n",
       "      <td>M2N</td>\n",
       "      <td>M2N</td>\n",
       "      <td>M2N</td>\n",
       "    </tr>\n",
       "    <tr>\n",
       "      <th>geocode_lat</th>\n",
       "      <td>43.7816</td>\n",
       "      <td>43.7817</td>\n",
       "      <td>43.7817</td>\n",
       "      <td>43.7808</td>\n",
       "      <td>43.7739</td>\n",
       "      <td>43.7817</td>\n",
       "      <td>43.7816</td>\n",
       "      <td>43.781</td>\n",
       "      <td>43.7809</td>\n",
       "      <td>43.7803</td>\n",
       "      <td>...</td>\n",
       "      <td>43.7601</td>\n",
       "      <td>43.7576</td>\n",
       "      <td>43.7702</td>\n",
       "      <td>43.7785</td>\n",
       "      <td>43.758</td>\n",
       "      <td>43.7681</td>\n",
       "      <td>43.7688</td>\n",
       "      <td>43.7614</td>\n",
       "      <td>43.7688</td>\n",
       "      <td>43.7662</td>\n",
       "    </tr>\n",
       "    <tr>\n",
       "      <th>geocode_lng</th>\n",
       "      <td>-79.2474</td>\n",
       "      <td>-79.2475</td>\n",
       "      <td>-79.2453</td>\n",
       "      <td>-79.2473</td>\n",
       "      <td>-79.25</td>\n",
       "      <td>-79.2475</td>\n",
       "      <td>-79.2474</td>\n",
       "      <td>-79.2458</td>\n",
       "      <td>-79.2485</td>\n",
       "      <td>-79.2509</td>\n",
       "      <td>...</td>\n",
       "      <td>-79.4089</td>\n",
       "      <td>-79.4087</td>\n",
       "      <td>-79.4133</td>\n",
       "      <td>-79.4132</td>\n",
       "      <td>-79.4032</td>\n",
       "      <td>-79.3908</td>\n",
       "      <td>-79.3895</td>\n",
       "      <td>-79.4088</td>\n",
       "      <td>-79.3895</td>\n",
       "      <td>-79.4151</td>\n",
       "    </tr>\n",
       "    <tr>\n",
       "      <th>address</th>\n",
       "      <td>36 Lee Centre Drive, Toronto</td>\n",
       "      <td>38 Lee Centre Drive, Toronto</td>\n",
       "      <td>11 Lee Centre Drive, Toronto</td>\n",
       "      <td>8 Lee Centre Drive, Toronto</td>\n",
       "      <td>88 Grangeway Avenue, Toronto</td>\n",
       "      <td>38 Lee Centre Drive, Toronto</td>\n",
       "      <td>36 Lee Centre Drive, Toronto</td>\n",
       "      <td>1 Lee Centre Drive, Toronto</td>\n",
       "      <td>18 Lee Centre Drive, Toronto</td>\n",
       "      <td>68 Corporate Drive, Toronto</td>\n",
       "      <td>...</td>\n",
       "      <td>31 Bales Avenue, Toronto</td>\n",
       "      <td>16 Harrison Garden Boulevard, Toronto</td>\n",
       "      <td>5180 Yonge St, Toronto</td>\n",
       "      <td>18 Holmes Avenue, Toronto</td>\n",
       "      <td>120 Harrison Garden Boulevard, Toronto</td>\n",
       "      <td>21 Clairtrell Road, Toronto</td>\n",
       "      <td>399 Spring Garden Avenue, Toronto</td>\n",
       "      <td>33 Sheppard Avenue East, Toronto</td>\n",
       "      <td>399 Spring Garden Avenue, Toronto</td>\n",
       "      <td>155 Beecroft Road, Toronto</td>\n",
       "    </tr>\n",
       "    <tr>\n",
       "      <th>num_sqft</th>\n",
       "      <td>750</td>\n",
       "      <td>650</td>\n",
       "      <td>650</td>\n",
       "      <td>650</td>\n",
       "      <td>650</td>\n",
       "      <td>500</td>\n",
       "      <td>500</td>\n",
       "      <td>650</td>\n",
       "      <td>650</td>\n",
       "      <td>650</td>\n",
       "      <td>...</td>\n",
       "      <td>520</td>\n",
       "      <td>750</td>\n",
       "      <td>496</td>\n",
       "      <td>514</td>\n",
       "      <td>700</td>\n",
       "      <td>601</td>\n",
       "      <td>650</td>\n",
       "      <td>550</td>\n",
       "      <td>620</td>\n",
       "      <td>530</td>\n",
       "    </tr>\n",
       "  </tbody>\n",
       "</table>\n",
       "<p>5 rows × 116 columns</p>\n",
       "</div>"
      ],
      "text/plain": [
       "                                      0                             1    \\\n",
       "postal_code                           M1H                           M1H   \n",
       "geocode_lat                       43.7816                       43.7817   \n",
       "geocode_lng                      -79.2474                      -79.2475   \n",
       "address      36 Lee Centre Drive, Toronto  38 Lee Centre Drive, Toronto   \n",
       "num_sqft                              750                           650   \n",
       "\n",
       "                                      2                            3    \\\n",
       "postal_code                           M1H                          M1H   \n",
       "geocode_lat                       43.7817                      43.7808   \n",
       "geocode_lng                      -79.2453                     -79.2473   \n",
       "address      11 Lee Centre Drive, Toronto  8 Lee Centre Drive, Toronto   \n",
       "num_sqft                              650                          650   \n",
       "\n",
       "                                      4                             5    \\\n",
       "postal_code                           M1H                           M1H   \n",
       "geocode_lat                       43.7739                       43.7817   \n",
       "geocode_lng                        -79.25                      -79.2475   \n",
       "address      88 Grangeway Avenue, Toronto  38 Lee Centre Drive, Toronto   \n",
       "num_sqft                              650                           500   \n",
       "\n",
       "                                      6                            7    \\\n",
       "postal_code                           M1H                          M1H   \n",
       "geocode_lat                       43.7816                       43.781   \n",
       "geocode_lng                      -79.2474                     -79.2458   \n",
       "address      36 Lee Centre Drive, Toronto  1 Lee Centre Drive, Toronto   \n",
       "num_sqft                              500                          650   \n",
       "\n",
       "                                      8                            9    ...  \\\n",
       "postal_code                           M1H                          M1H  ...   \n",
       "geocode_lat                       43.7809                      43.7803  ...   \n",
       "geocode_lng                      -79.2485                     -79.2509  ...   \n",
       "address      18 Lee Centre Drive, Toronto  68 Corporate Drive, Toronto  ...   \n",
       "num_sqft                              650                          650  ...   \n",
       "\n",
       "                                  106                                    107  \\\n",
       "postal_code                       M2N                                    M2N   \n",
       "geocode_lat                   43.7601                                43.7576   \n",
       "geocode_lng                  -79.4089                               -79.4087   \n",
       "address      31 Bales Avenue, Toronto  16 Harrison Garden Boulevard, Toronto   \n",
       "num_sqft                          520                                    750   \n",
       "\n",
       "                                108                        109  \\\n",
       "postal_code                     M2N                        M2N   \n",
       "geocode_lat                 43.7702                    43.7785   \n",
       "geocode_lng                -79.4133                   -79.4132   \n",
       "address      5180 Yonge St, Toronto  18 Holmes Avenue, Toronto   \n",
       "num_sqft                        496                        514   \n",
       "\n",
       "                                                110  \\\n",
       "postal_code                                     M2N   \n",
       "geocode_lat                                  43.758   \n",
       "geocode_lng                                -79.4032   \n",
       "address      120 Harrison Garden Boulevard, Toronto   \n",
       "num_sqft                                        700   \n",
       "\n",
       "                                     111                                112  \\\n",
       "postal_code                          M2N                                M2N   \n",
       "geocode_lat                      43.7681                            43.7688   \n",
       "geocode_lng                     -79.3908                           -79.3895   \n",
       "address      21 Clairtrell Road, Toronto  399 Spring Garden Avenue, Toronto   \n",
       "num_sqft                             601                                650   \n",
       "\n",
       "                                          113  \\\n",
       "postal_code                               M2N   \n",
       "geocode_lat                           43.7614   \n",
       "geocode_lng                          -79.4088   \n",
       "address      33 Sheppard Avenue East, Toronto   \n",
       "num_sqft                                  550   \n",
       "\n",
       "                                           114                         115  \n",
       "postal_code                                M2N                         M2N  \n",
       "geocode_lat                            43.7688                     43.7662  \n",
       "geocode_lng                           -79.3895                    -79.4151  \n",
       "address      399 Spring Garden Avenue, Toronto  155 Beecroft Road, Toronto  \n",
       "num_sqft                                   620                         530  \n",
       "\n",
       "[5 rows x 116 columns]"
      ]
     },
     "execution_count": 1328,
     "metadata": {},
     "output_type": "execute_result"
    }
   ],
   "source": [
    "complete_df2.head()"
   ]
  },
  {
   "cell_type": "code",
   "execution_count": 1340,
   "metadata": {},
   "outputs": [],
   "source": [
    "geocoded_df = pd.concat([complete_df2, complete_df3], axis=1)"
   ]
  },
  {
   "cell_type": "code",
   "execution_count": 1347,
   "metadata": {},
   "outputs": [],
   "source": [
    "complete_geocoded_df = pd.concat([geocoded_df, complete_df], axis=1)"
   ]
  },
  {
   "cell_type": "code",
   "execution_count": 1351,
   "metadata": {
    "scrolled": false
   },
   "outputs": [
    {
     "data": {
      "text/html": [
       "<div>\n",
       "<style scoped>\n",
       "    .dataframe tbody tr th:only-of-type {\n",
       "        vertical-align: middle;\n",
       "    }\n",
       "\n",
       "    .dataframe tbody tr th {\n",
       "        vertical-align: top;\n",
       "    }\n",
       "\n",
       "    .dataframe thead th {\n",
       "        text-align: right;\n",
       "    }\n",
       "</style>\n",
       "<table border=\"1\" class=\"dataframe\">\n",
       "  <thead>\n",
       "    <tr style=\"text-align: right;\">\n",
       "      <th></th>\n",
       "      <th>postal_code</th>\n",
       "      <th>geocode_lat</th>\n",
       "      <th>geocode_lng</th>\n",
       "      <th>address</th>\n",
       "      <th>num_sqft</th>\n",
       "      <th>rent</th>\n",
       "      <th>num_bathrooms</th>\n",
       "      <th>price_per_sqft</th>\n",
       "      <th>metro_station</th>\n",
       "      <th>train_station</th>\n",
       "      <th>bus_station</th>\n",
       "      <th>bus_stop</th>\n",
       "      <th>shopping_mall</th>\n",
       "      <th>shopping_plaza</th>\n",
       "      <th>grocery_store</th>\n",
       "    </tr>\n",
       "  </thead>\n",
       "  <tbody>\n",
       "    <tr>\n",
       "      <th>0</th>\n",
       "      <td>M1H</td>\n",
       "      <td>43.7816</td>\n",
       "      <td>-79.2474</td>\n",
       "      <td>36 Lee Centre Drive, Toronto</td>\n",
       "      <td>750</td>\n",
       "      <td>1925</td>\n",
       "      <td>1</td>\n",
       "      <td>2.56667</td>\n",
       "      <td>5609</td>\n",
       "      <td>4931</td>\n",
       "      <td>3924</td>\n",
       "      <td>2912</td>\n",
       "      <td>17655</td>\n",
       "      <td>8666</td>\n",
       "      <td>3345</td>\n",
       "    </tr>\n",
       "    <tr>\n",
       "      <th>1</th>\n",
       "      <td>M1H</td>\n",
       "      <td>43.7817</td>\n",
       "      <td>-79.2475</td>\n",
       "      <td>38 Lee Centre Drive, Toronto</td>\n",
       "      <td>650</td>\n",
       "      <td>1950</td>\n",
       "      <td>1</td>\n",
       "      <td>3</td>\n",
       "      <td>5610</td>\n",
       "      <td>4944</td>\n",
       "      <td>3921</td>\n",
       "      <td>2916</td>\n",
       "      <td>17644</td>\n",
       "      <td>8651</td>\n",
       "      <td>3335</td>\n",
       "    </tr>\n",
       "    <tr>\n",
       "      <th>2</th>\n",
       "      <td>M1H</td>\n",
       "      <td>43.7817</td>\n",
       "      <td>-79.2453</td>\n",
       "      <td>11 Lee Centre Drive, Toronto</td>\n",
       "      <td>650</td>\n",
       "      <td>1950</td>\n",
       "      <td>1</td>\n",
       "      <td>3</td>\n",
       "      <td>5655</td>\n",
       "      <td>4799</td>\n",
       "      <td>4011</td>\n",
       "      <td>2915</td>\n",
       "      <td>17815</td>\n",
       "      <td>8816</td>\n",
       "      <td>3493</td>\n",
       "    </tr>\n",
       "    <tr>\n",
       "      <th>3</th>\n",
       "      <td>M1H</td>\n",
       "      <td>43.7808</td>\n",
       "      <td>-79.2473</td>\n",
       "      <td>8 Lee Centre Drive, Toronto</td>\n",
       "      <td>650</td>\n",
       "      <td>1850</td>\n",
       "      <td>1</td>\n",
       "      <td>2.84615</td>\n",
       "      <td>5524</td>\n",
       "      <td>4876</td>\n",
       "      <td>3848</td>\n",
       "      <td>2823</td>\n",
       "      <td>17627</td>\n",
       "      <td>8707</td>\n",
       "      <td>3303</td>\n",
       "    </tr>\n",
       "    <tr>\n",
       "      <th>4</th>\n",
       "      <td>M1H</td>\n",
       "      <td>43.7739</td>\n",
       "      <td>-79.25</td>\n",
       "      <td>88 Grangeway Avenue, Toronto</td>\n",
       "      <td>650</td>\n",
       "      <td>2000</td>\n",
       "      <td>1</td>\n",
       "      <td>3.07692</td>\n",
       "      <td>4721</td>\n",
       "      <td>4652</td>\n",
       "      <td>3074</td>\n",
       "      <td>2070</td>\n",
       "      <td>17170</td>\n",
       "      <td>8896</td>\n",
       "      <td>2796</td>\n",
       "    </tr>\n",
       "  </tbody>\n",
       "</table>\n",
       "</div>"
      ],
      "text/plain": [
       "  postal_code geocode_lat geocode_lng                       address num_sqft  \\\n",
       "0         M1H     43.7816    -79.2474  36 Lee Centre Drive, Toronto      750   \n",
       "1         M1H     43.7817    -79.2475  38 Lee Centre Drive, Toronto      650   \n",
       "2         M1H     43.7817    -79.2453  11 Lee Centre Drive, Toronto      650   \n",
       "3         M1H     43.7808    -79.2473   8 Lee Centre Drive, Toronto      650   \n",
       "4         M1H     43.7739      -79.25  88 Grangeway Avenue, Toronto      650   \n",
       "\n",
       "   rent num_bathrooms price_per_sqft metro_station train_station bus_station  \\\n",
       "0  1925             1        2.56667          5609          4931        3924   \n",
       "1  1950             1              3          5610          4944        3921   \n",
       "2  1950             1              3          5655          4799        4011   \n",
       "3  1850             1        2.84615          5524          4876        3848   \n",
       "4  2000             1        3.07692          4721          4652        3074   \n",
       "\n",
       "  bus_stop shopping_mall shopping_plaza grocery_store  \n",
       "0     2912         17655           8666          3345  \n",
       "1     2916         17644           8651          3335  \n",
       "2     2915         17815           8816          3493  \n",
       "3     2823         17627           8707          3303  \n",
       "4     2070         17170           8896          2796  "
      ]
     },
     "execution_count": 1351,
     "metadata": {},
     "output_type": "execute_result"
    }
   ],
   "source": [
    "complete_geocoded_df.T.head()"
   ]
  },
  {
   "cell_type": "code",
   "execution_count": 1353,
   "metadata": {},
   "outputs": [],
   "source": [
    "transposed_complete_df = complete_geocoded_df.T"
   ]
  },
  {
   "cell_type": "code",
   "execution_count": 1365,
   "metadata": {},
   "outputs": [
    {
     "data": {
      "text/plain": [
       "'postal_code'"
      ]
     },
     "execution_count": 1365,
     "metadata": {},
     "output_type": "execute_result"
    }
   ],
   "source": [
    "transposed_complete_df.columns.values"
   ]
  },
  {
   "cell_type": "code",
   "execution_count": 1373,
   "metadata": {},
   "outputs": [
    {
     "data": {
      "text/plain": [
       "['postal_code',\n",
       " 'geocode_lat',\n",
       " 'geocode_lng',\n",
       " 'num_sqft',\n",
       " 'rent',\n",
       " 'num_bathrooms',\n",
       " 'price_per_sqft',\n",
       " 'metro_station',\n",
       " 'train_station',\n",
       " 'bus_station',\n",
       " 'bus_stop',\n",
       " 'shopping_mall',\n",
       " 'shopping_plaza',\n",
       " 'grocery_store']"
      ]
     },
     "execution_count": 1373,
     "metadata": {},
     "output_type": "execute_result"
    }
   ],
   "source": [
    "# remove the \"address\" column\n",
    "new_columns = np.delete(transposed_complete_df.columns.values, 3)\n",
    "# transposed_complete_df[]\n",
    "new_columns.tolist()"
   ]
  },
  {
   "cell_type": "code",
   "execution_count": 1383,
   "metadata": {},
   "outputs": [],
   "source": [
    "float_transposed_complete_df = transposed_complete_df[new_columns.tolist()[1:]].astype(\"float\")"
   ]
  },
  {
   "cell_type": "code",
   "execution_count": 1352,
   "metadata": {},
   "outputs": [],
   "source": [
    "scaler = StandardScaler()"
   ]
  },
  {
   "cell_type": "code",
   "execution_count": 1384,
   "metadata": {},
   "outputs": [],
   "source": [
    "complete_df_scaled = scaler.fit_transform(float_transposed_complete_df)"
   ]
  },
  {
   "cell_type": "code",
   "execution_count": 1385,
   "metadata": {},
   "outputs": [
    {
     "data": {
      "text/plain": [
       "array([[ 2.23525687,  2.60704397,  1.20795872, -0.5504696 , -0.26094152,\n",
       "        -1.81160345,  1.11038173,  0.24048616,  1.41464463,  1.0063769 ,\n",
       "         3.08607713, -1.69082086,  0.42348788],\n",
       "       [ 2.23599768,  2.60382523,  0.34752321, -0.48166378, -0.26094152,\n",
       "        -1.00687658,  1.11077217,  0.24370575,  1.41252891,  1.00924685,\n",
       "         3.08359016, -1.6939777 ,  0.41760503],\n",
       "       [ 2.23602794,  2.64669321,  0.34752321, -0.48166378, -0.26094152,\n",
       "        -1.00687658,  1.12834218,  0.207795  ,  1.47600036,  1.00852936,\n",
       "         3.12225126, -1.65925252,  0.5105541 ],\n",
       "       [ 2.21872335,  2.60761785,  0.34752321, -0.75688705, -0.26094152,\n",
       "        -1.29257843,  1.07719393,  0.22686485,  1.36104652,  0.94252047,\n",
       "         3.07974666, -1.68219218,  0.3987799 ]])"
      ]
     },
     "execution_count": 1385,
     "metadata": {},
     "output_type": "execute_result"
    }
   ],
   "source": [
    "complete_df_scaled[:4]"
   ]
  },
  {
   "cell_type": "code",
   "execution_count": 1386,
   "metadata": {},
   "outputs": [],
   "source": [
    "kmeans_list = []\n",
    "for j in range(1,20):\n",
    "    kmeans = KMeans(n_clusters = j).fit(float_transposed_complete_df)\n",
    "    kmeans_list.append(kmeans.inertia_)"
   ]
  },
  {
   "cell_type": "code",
   "execution_count": 1409,
   "metadata": {},
   "outputs": [
    {
     "data": {
      "image/png": "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\n",
      "text/plain": [
       "<Figure size 1440x720 with 1 Axes>"
      ]
     },
     "metadata": {
      "needs_background": "light"
     },
     "output_type": "display_data"
    }
   ],
   "source": [
    "plt.figure(figsize=(20,10))\n",
    "plt.plot(kmeans_list)\n",
    "plt.xticks(ticks=(np.arange(20)))\n",
    "plt.grid()\n",
    "plt.savefig(\"elbow_test.jpg\")"
   ]
  },
  {
   "cell_type": "markdown",
   "metadata": {},
   "source": [
    "##### Pick k=4 as the optimal k"
   ]
  },
  {
   "cell_type": "code",
   "execution_count": 1389,
   "metadata": {},
   "outputs": [
    {
     "data": {
      "text/html": [
       "<div>\n",
       "<style scoped>\n",
       "    .dataframe tbody tr th:only-of-type {\n",
       "        vertical-align: middle;\n",
       "    }\n",
       "\n",
       "    .dataframe tbody tr th {\n",
       "        vertical-align: top;\n",
       "    }\n",
       "\n",
       "    .dataframe thead th {\n",
       "        text-align: right;\n",
       "    }\n",
       "</style>\n",
       "<table border=\"1\" class=\"dataframe\">\n",
       "  <thead>\n",
       "    <tr style=\"text-align: right;\">\n",
       "      <th></th>\n",
       "      <th>postal_code</th>\n",
       "      <th>geocode_lat</th>\n",
       "      <th>geocode_lng</th>\n",
       "      <th>address</th>\n",
       "      <th>num_sqft</th>\n",
       "      <th>rent</th>\n",
       "      <th>num_bathrooms</th>\n",
       "      <th>price_per_sqft</th>\n",
       "      <th>metro_station</th>\n",
       "      <th>train_station</th>\n",
       "      <th>bus_station</th>\n",
       "      <th>bus_stop</th>\n",
       "      <th>shopping_mall</th>\n",
       "      <th>shopping_plaza</th>\n",
       "      <th>grocery_store</th>\n",
       "    </tr>\n",
       "  </thead>\n",
       "  <tbody>\n",
       "    <tr>\n",
       "      <th>0</th>\n",
       "      <td>M1H</td>\n",
       "      <td>43.7816</td>\n",
       "      <td>-79.2474</td>\n",
       "      <td>36 Lee Centre Drive, Toronto</td>\n",
       "      <td>750</td>\n",
       "      <td>1925</td>\n",
       "      <td>1</td>\n",
       "      <td>2.56667</td>\n",
       "      <td>5609</td>\n",
       "      <td>4931</td>\n",
       "      <td>3924</td>\n",
       "      <td>2912</td>\n",
       "      <td>17655</td>\n",
       "      <td>8666</td>\n",
       "      <td>3345</td>\n",
       "    </tr>\n",
       "    <tr>\n",
       "      <th>1</th>\n",
       "      <td>M1H</td>\n",
       "      <td>43.7817</td>\n",
       "      <td>-79.2475</td>\n",
       "      <td>38 Lee Centre Drive, Toronto</td>\n",
       "      <td>650</td>\n",
       "      <td>1950</td>\n",
       "      <td>1</td>\n",
       "      <td>3</td>\n",
       "      <td>5610</td>\n",
       "      <td>4944</td>\n",
       "      <td>3921</td>\n",
       "      <td>2916</td>\n",
       "      <td>17644</td>\n",
       "      <td>8651</td>\n",
       "      <td>3335</td>\n",
       "    </tr>\n",
       "    <tr>\n",
       "      <th>2</th>\n",
       "      <td>M1H</td>\n",
       "      <td>43.7817</td>\n",
       "      <td>-79.2453</td>\n",
       "      <td>11 Lee Centre Drive, Toronto</td>\n",
       "      <td>650</td>\n",
       "      <td>1950</td>\n",
       "      <td>1</td>\n",
       "      <td>3</td>\n",
       "      <td>5655</td>\n",
       "      <td>4799</td>\n",
       "      <td>4011</td>\n",
       "      <td>2915</td>\n",
       "      <td>17815</td>\n",
       "      <td>8816</td>\n",
       "      <td>3493</td>\n",
       "    </tr>\n",
       "    <tr>\n",
       "      <th>3</th>\n",
       "      <td>M1H</td>\n",
       "      <td>43.7808</td>\n",
       "      <td>-79.2473</td>\n",
       "      <td>8 Lee Centre Drive, Toronto</td>\n",
       "      <td>650</td>\n",
       "      <td>1850</td>\n",
       "      <td>1</td>\n",
       "      <td>2.84615</td>\n",
       "      <td>5524</td>\n",
       "      <td>4876</td>\n",
       "      <td>3848</td>\n",
       "      <td>2823</td>\n",
       "      <td>17627</td>\n",
       "      <td>8707</td>\n",
       "      <td>3303</td>\n",
       "    </tr>\n",
       "    <tr>\n",
       "      <th>4</th>\n",
       "      <td>M1H</td>\n",
       "      <td>43.7739</td>\n",
       "      <td>-79.25</td>\n",
       "      <td>88 Grangeway Avenue, Toronto</td>\n",
       "      <td>650</td>\n",
       "      <td>2000</td>\n",
       "      <td>1</td>\n",
       "      <td>3.07692</td>\n",
       "      <td>4721</td>\n",
       "      <td>4652</td>\n",
       "      <td>3074</td>\n",
       "      <td>2070</td>\n",
       "      <td>17170</td>\n",
       "      <td>8896</td>\n",
       "      <td>2796</td>\n",
       "    </tr>\n",
       "  </tbody>\n",
       "</table>\n",
       "</div>"
      ],
      "text/plain": [
       "  postal_code geocode_lat geocode_lng                       address num_sqft  \\\n",
       "0         M1H     43.7816    -79.2474  36 Lee Centre Drive, Toronto      750   \n",
       "1         M1H     43.7817    -79.2475  38 Lee Centre Drive, Toronto      650   \n",
       "2         M1H     43.7817    -79.2453  11 Lee Centre Drive, Toronto      650   \n",
       "3         M1H     43.7808    -79.2473   8 Lee Centre Drive, Toronto      650   \n",
       "4         M1H     43.7739      -79.25  88 Grangeway Avenue, Toronto      650   \n",
       "\n",
       "   rent num_bathrooms price_per_sqft metro_station train_station bus_station  \\\n",
       "0  1925             1        2.56667          5609          4931        3924   \n",
       "1  1950             1              3          5610          4944        3921   \n",
       "2  1950             1              3          5655          4799        4011   \n",
       "3  1850             1        2.84615          5524          4876        3848   \n",
       "4  2000             1        3.07692          4721          4652        3074   \n",
       "\n",
       "  bus_stop shopping_mall shopping_plaza grocery_store  \n",
       "0     2912         17655           8666          3345  \n",
       "1     2916         17644           8651          3335  \n",
       "2     2915         17815           8816          3493  \n",
       "3     2823         17627           8707          3303  \n",
       "4     2070         17170           8896          2796  "
      ]
     },
     "execution_count": 1389,
     "metadata": {},
     "output_type": "execute_result"
    }
   ],
   "source": [
    "transposed_complete_df.head()"
   ]
  },
  {
   "cell_type": "code",
   "execution_count": 1391,
   "metadata": {},
   "outputs": [
    {
     "data": {
      "text/plain": [
       "array([2, 2, 2, 2, 2, 2, 2, 2, 2, 2])"
      ]
     },
     "execution_count": 1391,
     "metadata": {},
     "output_type": "execute_result"
    }
   ],
   "source": [
    "# set number of clusters\n",
    "k_clusters = 4\n",
    "complete_df_clustering = transposed_complete_df.drop(columns=[\"postal_code\",\"geocode_lat\",\"geocode_lng\",\"address\"],axis=1)\n",
    "kmeans = KMeans(n_clusters = k_clusters, random_state=0)\n",
    "\n",
    "# fit the kmeans model\n",
    "kmeans.fit(complete_df_clustering)\n",
    "\n",
    "# get the labels for each point in the model\n",
    "k_means_labels = kmeans.labels_\n",
    "\n",
    "# check cluster labels generated\n",
    "k_means_labels[:10]"
   ]
  },
  {
   "cell_type": "markdown",
   "metadata": {},
   "source": [
    "Create a dataframe that includes the cluster labels"
   ]
  },
  {
   "cell_type": "code",
   "execution_count": 1393,
   "metadata": {},
   "outputs": [],
   "source": [
    "# insert the cluster labels to the second column\n",
    "transposed_complete_df.insert(1, \"cluster_labels\", k_means_labels)"
   ]
  },
  {
   "cell_type": "code",
   "execution_count": 1397,
   "metadata": {},
   "outputs": [
    {
     "data": {
      "text/html": [
       "<div>\n",
       "<style scoped>\n",
       "    .dataframe tbody tr th:only-of-type {\n",
       "        vertical-align: middle;\n",
       "    }\n",
       "\n",
       "    .dataframe tbody tr th {\n",
       "        vertical-align: top;\n",
       "    }\n",
       "\n",
       "    .dataframe thead th {\n",
       "        text-align: right;\n",
       "    }\n",
       "</style>\n",
       "<table border=\"1\" class=\"dataframe\">\n",
       "  <thead>\n",
       "    <tr style=\"text-align: right;\">\n",
       "      <th></th>\n",
       "      <th>postal_code</th>\n",
       "      <th>cluster_labels</th>\n",
       "      <th>geocode_lat</th>\n",
       "      <th>geocode_lng</th>\n",
       "      <th>address</th>\n",
       "      <th>num_sqft</th>\n",
       "      <th>rent</th>\n",
       "      <th>num_bathrooms</th>\n",
       "      <th>price_per_sqft</th>\n",
       "      <th>metro_station</th>\n",
       "      <th>train_station</th>\n",
       "      <th>bus_station</th>\n",
       "      <th>bus_stop</th>\n",
       "      <th>shopping_mall</th>\n",
       "      <th>shopping_plaza</th>\n",
       "      <th>grocery_store</th>\n",
       "    </tr>\n",
       "  </thead>\n",
       "  <tbody>\n",
       "    <tr>\n",
       "      <th>0</th>\n",
       "      <td>M1H</td>\n",
       "      <td>2</td>\n",
       "      <td>43.7816</td>\n",
       "      <td>-79.2474</td>\n",
       "      <td>36 Lee Centre Drive, Toronto</td>\n",
       "      <td>750</td>\n",
       "      <td>1925</td>\n",
       "      <td>1</td>\n",
       "      <td>2.56667</td>\n",
       "      <td>5609</td>\n",
       "      <td>4931</td>\n",
       "      <td>3924</td>\n",
       "      <td>2912</td>\n",
       "      <td>17655</td>\n",
       "      <td>8666</td>\n",
       "      <td>3345</td>\n",
       "    </tr>\n",
       "    <tr>\n",
       "      <th>1</th>\n",
       "      <td>M1H</td>\n",
       "      <td>2</td>\n",
       "      <td>43.7817</td>\n",
       "      <td>-79.2475</td>\n",
       "      <td>38 Lee Centre Drive, Toronto</td>\n",
       "      <td>650</td>\n",
       "      <td>1950</td>\n",
       "      <td>1</td>\n",
       "      <td>3</td>\n",
       "      <td>5610</td>\n",
       "      <td>4944</td>\n",
       "      <td>3921</td>\n",
       "      <td>2916</td>\n",
       "      <td>17644</td>\n",
       "      <td>8651</td>\n",
       "      <td>3335</td>\n",
       "    </tr>\n",
       "    <tr>\n",
       "      <th>2</th>\n",
       "      <td>M1H</td>\n",
       "      <td>2</td>\n",
       "      <td>43.7817</td>\n",
       "      <td>-79.2453</td>\n",
       "      <td>11 Lee Centre Drive, Toronto</td>\n",
       "      <td>650</td>\n",
       "      <td>1950</td>\n",
       "      <td>1</td>\n",
       "      <td>3</td>\n",
       "      <td>5655</td>\n",
       "      <td>4799</td>\n",
       "      <td>4011</td>\n",
       "      <td>2915</td>\n",
       "      <td>17815</td>\n",
       "      <td>8816</td>\n",
       "      <td>3493</td>\n",
       "    </tr>\n",
       "    <tr>\n",
       "      <th>3</th>\n",
       "      <td>M1H</td>\n",
       "      <td>2</td>\n",
       "      <td>43.7808</td>\n",
       "      <td>-79.2473</td>\n",
       "      <td>8 Lee Centre Drive, Toronto</td>\n",
       "      <td>650</td>\n",
       "      <td>1850</td>\n",
       "      <td>1</td>\n",
       "      <td>2.84615</td>\n",
       "      <td>5524</td>\n",
       "      <td>4876</td>\n",
       "      <td>3848</td>\n",
       "      <td>2823</td>\n",
       "      <td>17627</td>\n",
       "      <td>8707</td>\n",
       "      <td>3303</td>\n",
       "    </tr>\n",
       "    <tr>\n",
       "      <th>4</th>\n",
       "      <td>M1H</td>\n",
       "      <td>2</td>\n",
       "      <td>43.7739</td>\n",
       "      <td>-79.25</td>\n",
       "      <td>88 Grangeway Avenue, Toronto</td>\n",
       "      <td>650</td>\n",
       "      <td>2000</td>\n",
       "      <td>1</td>\n",
       "      <td>3.07692</td>\n",
       "      <td>4721</td>\n",
       "      <td>4652</td>\n",
       "      <td>3074</td>\n",
       "      <td>2070</td>\n",
       "      <td>17170</td>\n",
       "      <td>8896</td>\n",
       "      <td>2796</td>\n",
       "    </tr>\n",
       "  </tbody>\n",
       "</table>\n",
       "</div>"
      ],
      "text/plain": [
       "  postal_code  cluster_labels geocode_lat geocode_lng  \\\n",
       "0         M1H               2     43.7816    -79.2474   \n",
       "1         M1H               2     43.7817    -79.2475   \n",
       "2         M1H               2     43.7817    -79.2453   \n",
       "3         M1H               2     43.7808    -79.2473   \n",
       "4         M1H               2     43.7739      -79.25   \n",
       "\n",
       "                        address num_sqft  rent num_bathrooms price_per_sqft  \\\n",
       "0  36 Lee Centre Drive, Toronto      750  1925             1        2.56667   \n",
       "1  38 Lee Centre Drive, Toronto      650  1950             1              3   \n",
       "2  11 Lee Centre Drive, Toronto      650  1950             1              3   \n",
       "3   8 Lee Centre Drive, Toronto      650  1850             1        2.84615   \n",
       "4  88 Grangeway Avenue, Toronto      650  2000             1        3.07692   \n",
       "\n",
       "  metro_station train_station bus_station bus_stop shopping_mall  \\\n",
       "0          5609          4931        3924     2912         17655   \n",
       "1          5610          4944        3921     2916         17644   \n",
       "2          5655          4799        4011     2915         17815   \n",
       "3          5524          4876        3848     2823         17627   \n",
       "4          4721          4652        3074     2070         17170   \n",
       "\n",
       "  shopping_plaza grocery_store  \n",
       "0           8666          3345  \n",
       "1           8651          3335  \n",
       "2           8816          3493  \n",
       "3           8707          3303  \n",
       "4           8896          2796  "
      ]
     },
     "execution_count": 1397,
     "metadata": {},
     "output_type": "execute_result"
    }
   ],
   "source": [
    "transposed_complete_df.head()"
   ]
  },
  {
   "cell_type": "code",
   "execution_count": 1398,
   "metadata": {},
   "outputs": [
    {
     "data": {
      "text/html": [
       "<div>\n",
       "<style scoped>\n",
       "    .dataframe tbody tr th:only-of-type {\n",
       "        vertical-align: middle;\n",
       "    }\n",
       "\n",
       "    .dataframe tbody tr th {\n",
       "        vertical-align: top;\n",
       "    }\n",
       "\n",
       "    .dataframe thead th {\n",
       "        text-align: right;\n",
       "    }\n",
       "</style>\n",
       "<table border=\"1\" class=\"dataframe\">\n",
       "  <thead>\n",
       "    <tr style=\"text-align: right;\">\n",
       "      <th></th>\n",
       "      <th>postal_code</th>\n",
       "      <th>cluster_labels</th>\n",
       "      <th>geocode_lat</th>\n",
       "      <th>geocode_lng</th>\n",
       "      <th>address</th>\n",
       "      <th>num_sqft</th>\n",
       "      <th>rent</th>\n",
       "      <th>num_bathrooms</th>\n",
       "      <th>price_per_sqft</th>\n",
       "      <th>metro_station</th>\n",
       "      <th>train_station</th>\n",
       "      <th>bus_station</th>\n",
       "      <th>bus_stop</th>\n",
       "      <th>shopping_mall</th>\n",
       "      <th>shopping_plaza</th>\n",
       "      <th>grocery_store</th>\n",
       "    </tr>\n",
       "  </thead>\n",
       "  <tbody>\n",
       "    <tr>\n",
       "      <th>830</th>\n",
       "      <td>M9C</td>\n",
       "      <td>0</td>\n",
       "      <td>43.6398</td>\n",
       "      <td>-79.5631</td>\n",
       "      <td>2 Eva Road, Toronto</td>\n",
       "      <td>650</td>\n",
       "      <td>2000</td>\n",
       "      <td>1</td>\n",
       "      <td>3.07692</td>\n",
       "      <td>2227</td>\n",
       "      <td>6244</td>\n",
       "      <td>3441</td>\n",
       "      <td>3023</td>\n",
       "      <td>3069</td>\n",
       "      <td>23844</td>\n",
       "      <td>510</td>\n",
       "    </tr>\n",
       "    <tr>\n",
       "      <th>831</th>\n",
       "      <td>M9C</td>\n",
       "      <td>1</td>\n",
       "      <td>43.6093</td>\n",
       "      <td>-79.559</td>\n",
       "      <td>235 Sherway Gardens Road, Toronto</td>\n",
       "      <td>650</td>\n",
       "      <td>2100</td>\n",
       "      <td>1</td>\n",
       "      <td>3.23077</td>\n",
       "      <td>3686</td>\n",
       "      <td>9260</td>\n",
       "      <td>5031</td>\n",
       "      <td>4711</td>\n",
       "      <td>400</td>\n",
       "      <td>1274</td>\n",
       "      <td>927</td>\n",
       "    </tr>\n",
       "    <tr>\n",
       "      <th>832</th>\n",
       "      <td>M9C</td>\n",
       "      <td>0</td>\n",
       "      <td>43.6406</td>\n",
       "      <td>-79.5623</td>\n",
       "      <td>6 Eva Road, Toronto</td>\n",
       "      <td>688</td>\n",
       "      <td>2000</td>\n",
       "      <td>1</td>\n",
       "      <td>2.90698</td>\n",
       "      <td>2175</td>\n",
       "      <td>6219</td>\n",
       "      <td>3417</td>\n",
       "      <td>2947</td>\n",
       "      <td>3147</td>\n",
       "      <td>23750</td>\n",
       "      <td>402</td>\n",
       "    </tr>\n",
       "    <tr>\n",
       "      <th>833</th>\n",
       "      <td>M9C</td>\n",
       "      <td>0</td>\n",
       "      <td>43.6092</td>\n",
       "      <td>-79.5576</td>\n",
       "      <td>215 Sherway Gardens Road, Toronto</td>\n",
       "      <td>743</td>\n",
       "      <td>2280</td>\n",
       "      <td>2</td>\n",
       "      <td>3.06864</td>\n",
       "      <td>3640</td>\n",
       "      <td>9327</td>\n",
       "      <td>5139</td>\n",
       "      <td>4659</td>\n",
       "      <td>383</td>\n",
       "      <td>25042</td>\n",
       "      <td>814</td>\n",
       "    </tr>\n",
       "    <tr>\n",
       "      <th>834</th>\n",
       "      <td>M9M</td>\n",
       "      <td>3</td>\n",
       "      <td>43.7327</td>\n",
       "      <td>-79.5322</td>\n",
       "      <td>149 Isaac Devins Boulevard, Toronto</td>\n",
       "      <td>685</td>\n",
       "      <td>1475</td>\n",
       "      <td>1</td>\n",
       "      <td>2.15328</td>\n",
       "      <td>4893</td>\n",
       "      <td>3903</td>\n",
       "      <td>5562</td>\n",
       "      <td>4001</td>\n",
       "      <td>6443</td>\n",
       "      <td>17689</td>\n",
       "      <td>5303</td>\n",
       "    </tr>\n",
       "  </tbody>\n",
       "</table>\n",
       "</div>"
      ],
      "text/plain": [
       "    postal_code  cluster_labels geocode_lat geocode_lng  \\\n",
       "830         M9C               0     43.6398    -79.5631   \n",
       "831         M9C               1     43.6093     -79.559   \n",
       "832         M9C               0     43.6406    -79.5623   \n",
       "833         M9C               0     43.6092    -79.5576   \n",
       "834         M9M               3     43.7327    -79.5322   \n",
       "\n",
       "                                 address num_sqft  rent num_bathrooms  \\\n",
       "830                  2 Eva Road, Toronto      650  2000             1   \n",
       "831    235 Sherway Gardens Road, Toronto      650  2100             1   \n",
       "832                  6 Eva Road, Toronto      688  2000             1   \n",
       "833    215 Sherway Gardens Road, Toronto      743  2280             2   \n",
       "834  149 Isaac Devins Boulevard, Toronto      685  1475             1   \n",
       "\n",
       "    price_per_sqft metro_station train_station bus_station bus_stop  \\\n",
       "830        3.07692          2227          6244        3441     3023   \n",
       "831        3.23077          3686          9260        5031     4711   \n",
       "832        2.90698          2175          6219        3417     2947   \n",
       "833        3.06864          3640          9327        5139     4659   \n",
       "834        2.15328          4893          3903        5562     4001   \n",
       "\n",
       "    shopping_mall shopping_plaza grocery_store  \n",
       "830          3069          23844           510  \n",
       "831           400           1274           927  \n",
       "832          3147          23750           402  \n",
       "833           383          25042           814  \n",
       "834          6443          17689          5303  "
      ]
     },
     "execution_count": 1398,
     "metadata": {},
     "output_type": "execute_result"
    }
   ],
   "source": [
    "transposed_complete_df.tail()"
   ]
  },
  {
   "cell_type": "code",
   "execution_count": 1452,
   "metadata": {},
   "outputs": [],
   "source": [
    "# graph the coordinates\n",
    "map_toronto = folium.Map(location = [transposed_complete_df['geocode_lat'][0], \\\n",
    "                                    transposed_complete_df['geocode_lng'][0]], zoom_start=10)\n",
    "\n",
    "# set colors for each clusters\n",
    "cluster_colors = [\"#242582\",\"#553D67\", \"#F64C72\",\"#99738E\"]\n",
    "\n",
    "# add markers to map\n",
    "for lat,lng,rent,price_sqft, cluster in zip(transposed_complete_df['geocode_lat'], transposed_complete_df['geocode_lng'],\\\n",
    "                                       transposed_complete_df['rent'],transposed_complete_df['price_per_sqft'],\\\n",
    "                                       transposed_complete_df['cluster_labels']):\n",
    "    label = f\"Price: {round(rent,2)} \\n Price/sqft: {round(price_sqft,2)} \\n cluster_num: {cluster}\"\n",
    "    label = folium.Popup(label,parse_html = True)\n",
    "    folium.CircleMarker(\n",
    "    [lat,lng],\n",
    "    radius=5,\n",
    "    popup=label,\n",
    "    color=cluster_colors[cluster],\n",
    "    fill=True,\n",
    "    fill_color = cluster_colors[cluster],\n",
    "    fill_opacity=0.7,\n",
    "    parse_html=False).add_to(map_toronto)"
   ]
  },
  {
   "cell_type": "code",
   "execution_count": 1453,
   "metadata": {},
   "outputs": [
    {
     "data": {
      "text/html": [
       "<div style=\"width:100%;\"><div style=\"position:relative;width:100%;height:0;padding-bottom:60%;\"><span style=\"color:#565656\">Make this Notebook Trusted to load map: File -> Trust Notebook</span><iframe src=\"about:blank\" style=\"position:absolute;width:100%;height:100%;left:0;top:0;border:none !important;\" data-html=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